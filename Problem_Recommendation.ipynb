{
  "nbformat": 4,
  "nbformat_minor": 0,
  "metadata": {
    "colab": {
      "name": "Problem_Recommendation.ipynb",
      "provenance": [],
      "collapsed_sections": []
    },
    "kernelspec": {
      "name": "python3",
      "display_name": "Python 3"
    },
    "language_info": {
      "name": "python"
    }
  },
  "cells": [
    {
      "cell_type": "markdown",
      "metadata": {
        "id": "TRWVIzkYhze5"
      },
      "source": [
        "# **Problem Recommendation for Online Coding Platforms**"
      ]
    },
    {
      "cell_type": "code",
      "metadata": {
        "id": "nrU0vdNwitdb"
      },
      "source": [
        "import pandas as pd\n",
        "import numpy as np\n",
        "import matplotlib.pyplot as plt\n",
        "import seaborn as sns\n",
        "%matplotlib inline\n",
        "from sklearn import preprocessing\n",
        "from sklearn.model_selection import train_test_split\n",
        "import scipy.stats as st\n",
        "import warnings\n",
        "warnings.filterwarnings('ignore')"
      ],
      "execution_count": 1,
      "outputs": []
    },
    {
      "cell_type": "code",
      "metadata": {
        "colab": {
          "base_uri": "https://localhost:8080/",
          "height": 206
        },
        "id": "BWB1gv_HjLwE",
        "outputId": "e0811704-f234-4719-91c0-ab0015a6b2ff"
      },
      "source": [
        "problem_df = pd.read_csv('/content/drive/MyDrive/FoDS/Project/problem_data.csv')\n",
        "problem_df.head()"
      ],
      "execution_count": 2,
      "outputs": [
        {
          "output_type": "execute_result",
          "data": {
            "text/html": [
              "<div>\n",
              "<style scoped>\n",
              "    .dataframe tbody tr th:only-of-type {\n",
              "        vertical-align: middle;\n",
              "    }\n",
              "\n",
              "    .dataframe tbody tr th {\n",
              "        vertical-align: top;\n",
              "    }\n",
              "\n",
              "    .dataframe thead th {\n",
              "        text-align: right;\n",
              "    }\n",
              "</style>\n",
              "<table border=\"1\" class=\"dataframe\">\n",
              "  <thead>\n",
              "    <tr style=\"text-align: right;\">\n",
              "      <th></th>\n",
              "      <th>problem_id</th>\n",
              "      <th>level_type</th>\n",
              "      <th>points</th>\n",
              "      <th>tags</th>\n",
              "    </tr>\n",
              "  </thead>\n",
              "  <tbody>\n",
              "    <tr>\n",
              "      <th>0</th>\n",
              "      <td>prob_3649</td>\n",
              "      <td>H</td>\n",
              "      <td>NaN</td>\n",
              "      <td>NaN</td>\n",
              "    </tr>\n",
              "    <tr>\n",
              "      <th>1</th>\n",
              "      <td>prob_6191</td>\n",
              "      <td>A</td>\n",
              "      <td>NaN</td>\n",
              "      <td>NaN</td>\n",
              "    </tr>\n",
              "    <tr>\n",
              "      <th>2</th>\n",
              "      <td>prob_2020</td>\n",
              "      <td>F</td>\n",
              "      <td>NaN</td>\n",
              "      <td>NaN</td>\n",
              "    </tr>\n",
              "    <tr>\n",
              "      <th>3</th>\n",
              "      <td>prob_313</td>\n",
              "      <td>A</td>\n",
              "      <td>500.0</td>\n",
              "      <td>greedy,implementation</td>\n",
              "    </tr>\n",
              "    <tr>\n",
              "      <th>4</th>\n",
              "      <td>prob_101</td>\n",
              "      <td>A</td>\n",
              "      <td>500.0</td>\n",
              "      <td>constructive algorithms,greedy,math</td>\n",
              "    </tr>\n",
              "  </tbody>\n",
              "</table>\n",
              "</div>"
            ],
            "text/plain": [
              "  problem_id level_type  points                                 tags\n",
              "0  prob_3649          H     NaN                                  NaN\n",
              "1  prob_6191          A     NaN                                  NaN\n",
              "2  prob_2020          F     NaN                                  NaN\n",
              "3   prob_313          A   500.0                greedy,implementation\n",
              "4   prob_101          A   500.0  constructive algorithms,greedy,math"
            ]
          },
          "metadata": {},
          "execution_count": 2
        }
      ]
    },
    {
      "cell_type": "code",
      "metadata": {
        "id": "7sQU132pENq0",
        "colab": {
          "base_uri": "https://localhost:8080/"
        },
        "outputId": "9fafae3a-51ae-4e11-c515-12452892f5c5"
      },
      "source": [
        "problem_df.shape"
      ],
      "execution_count": 3,
      "outputs": [
        {
          "output_type": "execute_result",
          "data": {
            "text/plain": [
              "(6544, 4)"
            ]
          },
          "metadata": {},
          "execution_count": 3
        }
      ]
    },
    {
      "cell_type": "code",
      "metadata": {
        "id": "g60Ji3qwGAEd",
        "colab": {
          "base_uri": "https://localhost:8080/"
        },
        "outputId": "9c4ef042-edde-4ceb-806b-cc208f305112"
      },
      "source": [
        "problem_df.columns"
      ],
      "execution_count": 4,
      "outputs": [
        {
          "output_type": "execute_result",
          "data": {
            "text/plain": [
              "Index(['problem_id', 'level_type', 'points', 'tags'], dtype='object')"
            ]
          },
          "metadata": {},
          "execution_count": 4
        }
      ]
    },
    {
      "cell_type": "code",
      "metadata": {
        "id": "Y0E5zrcSiyXS",
        "colab": {
          "base_uri": "https://localhost:8080/",
          "height": 206
        },
        "outputId": "42fb87fe-10c4-487c-ef00-2d3954691978"
      },
      "source": [
        "user_df = pd.read_csv('/content/drive/MyDrive/FoDS/Project/user_data.csv')\n",
        "user_df.head()"
      ],
      "execution_count": 5,
      "outputs": [
        {
          "output_type": "execute_result",
          "data": {
            "text/html": [
              "<div>\n",
              "<style scoped>\n",
              "    .dataframe tbody tr th:only-of-type {\n",
              "        vertical-align: middle;\n",
              "    }\n",
              "\n",
              "    .dataframe tbody tr th {\n",
              "        vertical-align: top;\n",
              "    }\n",
              "\n",
              "    .dataframe thead th {\n",
              "        text-align: right;\n",
              "    }\n",
              "</style>\n",
              "<table border=\"1\" class=\"dataframe\">\n",
              "  <thead>\n",
              "    <tr style=\"text-align: right;\">\n",
              "      <th></th>\n",
              "      <th>user_id</th>\n",
              "      <th>submission_count</th>\n",
              "      <th>problem_solved</th>\n",
              "      <th>contribution</th>\n",
              "      <th>country</th>\n",
              "      <th>follower_count</th>\n",
              "      <th>last_online_time_seconds</th>\n",
              "      <th>max_rating</th>\n",
              "      <th>rating</th>\n",
              "      <th>rank</th>\n",
              "      <th>registration_time_seconds</th>\n",
              "    </tr>\n",
              "  </thead>\n",
              "  <tbody>\n",
              "    <tr>\n",
              "      <th>0</th>\n",
              "      <td>user_3311</td>\n",
              "      <td>47</td>\n",
              "      <td>40</td>\n",
              "      <td>0</td>\n",
              "      <td>NaN</td>\n",
              "      <td>4</td>\n",
              "      <td>1504111645</td>\n",
              "      <td>348.337</td>\n",
              "      <td>330.849</td>\n",
              "      <td>intermediate</td>\n",
              "      <td>1466686436</td>\n",
              "    </tr>\n",
              "    <tr>\n",
              "      <th>1</th>\n",
              "      <td>user_3028</td>\n",
              "      <td>63</td>\n",
              "      <td>52</td>\n",
              "      <td>0</td>\n",
              "      <td>India</td>\n",
              "      <td>17</td>\n",
              "      <td>1498998165</td>\n",
              "      <td>405.677</td>\n",
              "      <td>339.450</td>\n",
              "      <td>intermediate</td>\n",
              "      <td>1441893325</td>\n",
              "    </tr>\n",
              "    <tr>\n",
              "      <th>2</th>\n",
              "      <td>user_2268</td>\n",
              "      <td>226</td>\n",
              "      <td>203</td>\n",
              "      <td>-8</td>\n",
              "      <td>Egypt</td>\n",
              "      <td>24</td>\n",
              "      <td>1505566052</td>\n",
              "      <td>307.339</td>\n",
              "      <td>284.404</td>\n",
              "      <td>beginner</td>\n",
              "      <td>1454267603</td>\n",
              "    </tr>\n",
              "    <tr>\n",
              "      <th>3</th>\n",
              "      <td>user_480</td>\n",
              "      <td>611</td>\n",
              "      <td>490</td>\n",
              "      <td>1</td>\n",
              "      <td>Ukraine</td>\n",
              "      <td>94</td>\n",
              "      <td>1505257499</td>\n",
              "      <td>525.803</td>\n",
              "      <td>471.330</td>\n",
              "      <td>advanced</td>\n",
              "      <td>1350720417</td>\n",
              "    </tr>\n",
              "    <tr>\n",
              "      <th>4</th>\n",
              "      <td>user_650</td>\n",
              "      <td>504</td>\n",
              "      <td>479</td>\n",
              "      <td>12</td>\n",
              "      <td>Russia</td>\n",
              "      <td>4</td>\n",
              "      <td>1496613433</td>\n",
              "      <td>548.739</td>\n",
              "      <td>486.525</td>\n",
              "      <td>advanced</td>\n",
              "      <td>1395560498</td>\n",
              "    </tr>\n",
              "  </tbody>\n",
              "</table>\n",
              "</div>"
            ],
            "text/plain": [
              "     user_id  submission_count  ...          rank  registration_time_seconds\n",
              "0  user_3311                47  ...  intermediate                 1466686436\n",
              "1  user_3028                63  ...  intermediate                 1441893325\n",
              "2  user_2268               226  ...      beginner                 1454267603\n",
              "3   user_480               611  ...      advanced                 1350720417\n",
              "4   user_650               504  ...      advanced                 1395560498\n",
              "\n",
              "[5 rows x 11 columns]"
            ]
          },
          "metadata": {},
          "execution_count": 5
        }
      ]
    },
    {
      "cell_type": "code",
      "metadata": {
        "id": "6oRbjsicHPKZ",
        "colab": {
          "base_uri": "https://localhost:8080/",
          "height": 206
        },
        "outputId": "4c2af6af-a69a-42a0-8bc8-8e64fd807949"
      },
      "source": [
        "sub_df = pd.read_csv('/content/drive/MyDrive/FoDS/Project/submissions.csv')\n",
        "sub_df.head()"
      ],
      "execution_count": 6,
      "outputs": [
        {
          "output_type": "execute_result",
          "data": {
            "text/html": [
              "<div>\n",
              "<style scoped>\n",
              "    .dataframe tbody tr th:only-of-type {\n",
              "        vertical-align: middle;\n",
              "    }\n",
              "\n",
              "    .dataframe tbody tr th {\n",
              "        vertical-align: top;\n",
              "    }\n",
              "\n",
              "    .dataframe thead th {\n",
              "        text-align: right;\n",
              "    }\n",
              "</style>\n",
              "<table border=\"1\" class=\"dataframe\">\n",
              "  <thead>\n",
              "    <tr style=\"text-align: right;\">\n",
              "      <th></th>\n",
              "      <th>user_id</th>\n",
              "      <th>problem_id</th>\n",
              "      <th>attempts_range</th>\n",
              "    </tr>\n",
              "  </thead>\n",
              "  <tbody>\n",
              "    <tr>\n",
              "      <th>0</th>\n",
              "      <td>user_232</td>\n",
              "      <td>prob_6507</td>\n",
              "      <td>1</td>\n",
              "    </tr>\n",
              "    <tr>\n",
              "      <th>1</th>\n",
              "      <td>user_3568</td>\n",
              "      <td>prob_2994</td>\n",
              "      <td>3</td>\n",
              "    </tr>\n",
              "    <tr>\n",
              "      <th>2</th>\n",
              "      <td>user_1600</td>\n",
              "      <td>prob_5071</td>\n",
              "      <td>1</td>\n",
              "    </tr>\n",
              "    <tr>\n",
              "      <th>3</th>\n",
              "      <td>user_2256</td>\n",
              "      <td>prob_703</td>\n",
              "      <td>1</td>\n",
              "    </tr>\n",
              "    <tr>\n",
              "      <th>4</th>\n",
              "      <td>user_2321</td>\n",
              "      <td>prob_356</td>\n",
              "      <td>1</td>\n",
              "    </tr>\n",
              "  </tbody>\n",
              "</table>\n",
              "</div>"
            ],
            "text/plain": [
              "     user_id problem_id  attempts_range\n",
              "0   user_232  prob_6507               1\n",
              "1  user_3568  prob_2994               3\n",
              "2  user_1600  prob_5071               1\n",
              "3  user_2256   prob_703               1\n",
              "4  user_2321   prob_356               1"
            ]
          },
          "metadata": {},
          "execution_count": 6
        }
      ]
    },
    {
      "cell_type": "code",
      "metadata": {
        "id": "j_mCb4LbHshI",
        "colab": {
          "base_uri": "https://localhost:8080/"
        },
        "outputId": "b09e85e1-1428-4167-95e3-dabbe62848d3"
      },
      "source": [
        "sub_df.isnull().sum()"
      ],
      "execution_count": 7,
      "outputs": [
        {
          "output_type": "execute_result",
          "data": {
            "text/plain": [
              "user_id           0\n",
              "problem_id        0\n",
              "attempts_range    0\n",
              "dtype: int64"
            ]
          },
          "metadata": {},
          "execution_count": 7
        }
      ]
    },
    {
      "cell_type": "code",
      "metadata": {
        "id": "NqyAlKe_jVDl",
        "colab": {
          "base_uri": "https://localhost:8080/"
        },
        "outputId": "ef24c9b2-ff3c-4f45-de71-f4c049e6d621"
      },
      "source": [
        "problem_df.isnull().sum()"
      ],
      "execution_count": 8,
      "outputs": [
        {
          "output_type": "execute_result",
          "data": {
            "text/plain": [
              "problem_id       0\n",
              "level_type     133\n",
              "points        3917\n",
              "tags          3484\n",
              "dtype: int64"
            ]
          },
          "metadata": {},
          "execution_count": 8
        }
      ]
    },
    {
      "cell_type": "code",
      "metadata": {
        "id": "GBcun63rEJpa",
        "colab": {
          "base_uri": "https://localhost:8080/",
          "height": 206
        },
        "outputId": "25462d85-4d06-4593-df9f-65be363d5dca"
      },
      "source": [
        "temp_df = sub_df.merge(problem_df, on='problem_id')\n",
        "temp_df.head()"
      ],
      "execution_count": 9,
      "outputs": [
        {
          "output_type": "execute_result",
          "data": {
            "text/html": [
              "<div>\n",
              "<style scoped>\n",
              "    .dataframe tbody tr th:only-of-type {\n",
              "        vertical-align: middle;\n",
              "    }\n",
              "\n",
              "    .dataframe tbody tr th {\n",
              "        vertical-align: top;\n",
              "    }\n",
              "\n",
              "    .dataframe thead th {\n",
              "        text-align: right;\n",
              "    }\n",
              "</style>\n",
              "<table border=\"1\" class=\"dataframe\">\n",
              "  <thead>\n",
              "    <tr style=\"text-align: right;\">\n",
              "      <th></th>\n",
              "      <th>user_id</th>\n",
              "      <th>problem_id</th>\n",
              "      <th>attempts_range</th>\n",
              "      <th>level_type</th>\n",
              "      <th>points</th>\n",
              "      <th>tags</th>\n",
              "    </tr>\n",
              "  </thead>\n",
              "  <tbody>\n",
              "    <tr>\n",
              "      <th>0</th>\n",
              "      <td>user_232</td>\n",
              "      <td>prob_6507</td>\n",
              "      <td>1</td>\n",
              "      <td>B</td>\n",
              "      <td>1000.0</td>\n",
              "      <td>strings</td>\n",
              "    </tr>\n",
              "    <tr>\n",
              "      <th>1</th>\n",
              "      <td>user_2490</td>\n",
              "      <td>prob_6507</td>\n",
              "      <td>3</td>\n",
              "      <td>B</td>\n",
              "      <td>1000.0</td>\n",
              "      <td>strings</td>\n",
              "    </tr>\n",
              "    <tr>\n",
              "      <th>2</th>\n",
              "      <td>user_684</td>\n",
              "      <td>prob_6507</td>\n",
              "      <td>3</td>\n",
              "      <td>B</td>\n",
              "      <td>1000.0</td>\n",
              "      <td>strings</td>\n",
              "    </tr>\n",
              "    <tr>\n",
              "      <th>3</th>\n",
              "      <td>user_316</td>\n",
              "      <td>prob_6507</td>\n",
              "      <td>1</td>\n",
              "      <td>B</td>\n",
              "      <td>1000.0</td>\n",
              "      <td>strings</td>\n",
              "    </tr>\n",
              "    <tr>\n",
              "      <th>4</th>\n",
              "      <td>user_779</td>\n",
              "      <td>prob_6507</td>\n",
              "      <td>1</td>\n",
              "      <td>B</td>\n",
              "      <td>1000.0</td>\n",
              "      <td>strings</td>\n",
              "    </tr>\n",
              "  </tbody>\n",
              "</table>\n",
              "</div>"
            ],
            "text/plain": [
              "     user_id problem_id  attempts_range level_type  points     tags\n",
              "0   user_232  prob_6507               1          B  1000.0  strings\n",
              "1  user_2490  prob_6507               3          B  1000.0  strings\n",
              "2   user_684  prob_6507               3          B  1000.0  strings\n",
              "3   user_316  prob_6507               1          B  1000.0  strings\n",
              "4   user_779  prob_6507               1          B  1000.0  strings"
            ]
          },
          "metadata": {},
          "execution_count": 9
        }
      ]
    },
    {
      "cell_type": "code",
      "metadata": {
        "id": "1aTtp9i0IRgq",
        "colab": {
          "base_uri": "https://localhost:8080/",
          "height": 278
        },
        "outputId": "96fcd788-bd55-4a65-d9e1-60bb94b09e01"
      },
      "source": [
        "temp_df = temp_df.merge(user_df, on='user_id')\n",
        "temp_df.head()"
      ],
      "execution_count": 10,
      "outputs": [
        {
          "output_type": "execute_result",
          "data": {
            "text/html": [
              "<div>\n",
              "<style scoped>\n",
              "    .dataframe tbody tr th:only-of-type {\n",
              "        vertical-align: middle;\n",
              "    }\n",
              "\n",
              "    .dataframe tbody tr th {\n",
              "        vertical-align: top;\n",
              "    }\n",
              "\n",
              "    .dataframe thead th {\n",
              "        text-align: right;\n",
              "    }\n",
              "</style>\n",
              "<table border=\"1\" class=\"dataframe\">\n",
              "  <thead>\n",
              "    <tr style=\"text-align: right;\">\n",
              "      <th></th>\n",
              "      <th>user_id</th>\n",
              "      <th>problem_id</th>\n",
              "      <th>attempts_range</th>\n",
              "      <th>level_type</th>\n",
              "      <th>points</th>\n",
              "      <th>tags</th>\n",
              "      <th>submission_count</th>\n",
              "      <th>problem_solved</th>\n",
              "      <th>contribution</th>\n",
              "      <th>country</th>\n",
              "      <th>follower_count</th>\n",
              "      <th>last_online_time_seconds</th>\n",
              "      <th>max_rating</th>\n",
              "      <th>rating</th>\n",
              "      <th>rank</th>\n",
              "      <th>registration_time_seconds</th>\n",
              "    </tr>\n",
              "  </thead>\n",
              "  <tbody>\n",
              "    <tr>\n",
              "      <th>0</th>\n",
              "      <td>user_232</td>\n",
              "      <td>prob_6507</td>\n",
              "      <td>1</td>\n",
              "      <td>B</td>\n",
              "      <td>1000.0</td>\n",
              "      <td>strings</td>\n",
              "      <td>53</td>\n",
              "      <td>47</td>\n",
              "      <td>0</td>\n",
              "      <td>Bangladesh</td>\n",
              "      <td>1</td>\n",
              "      <td>1503633778</td>\n",
              "      <td>307.913</td>\n",
              "      <td>206.709</td>\n",
              "      <td>beginner</td>\n",
              "      <td>1432110935</td>\n",
              "    </tr>\n",
              "    <tr>\n",
              "      <th>1</th>\n",
              "      <td>user_232</td>\n",
              "      <td>prob_5071</td>\n",
              "      <td>4</td>\n",
              "      <td>A</td>\n",
              "      <td>500.0</td>\n",
              "      <td>implementation</td>\n",
              "      <td>53</td>\n",
              "      <td>47</td>\n",
              "      <td>0</td>\n",
              "      <td>Bangladesh</td>\n",
              "      <td>1</td>\n",
              "      <td>1503633778</td>\n",
              "      <td>307.913</td>\n",
              "      <td>206.709</td>\n",
              "      <td>beginner</td>\n",
              "      <td>1432110935</td>\n",
              "    </tr>\n",
              "    <tr>\n",
              "      <th>2</th>\n",
              "      <td>user_232</td>\n",
              "      <td>prob_703</td>\n",
              "      <td>2</td>\n",
              "      <td>A</td>\n",
              "      <td>500.0</td>\n",
              "      <td>brute force,implementation</td>\n",
              "      <td>53</td>\n",
              "      <td>47</td>\n",
              "      <td>0</td>\n",
              "      <td>Bangladesh</td>\n",
              "      <td>1</td>\n",
              "      <td>1503633778</td>\n",
              "      <td>307.913</td>\n",
              "      <td>206.709</td>\n",
              "      <td>beginner</td>\n",
              "      <td>1432110935</td>\n",
              "    </tr>\n",
              "    <tr>\n",
              "      <th>3</th>\n",
              "      <td>user_232</td>\n",
              "      <td>prob_3935</td>\n",
              "      <td>1</td>\n",
              "      <td>C</td>\n",
              "      <td>1000.0</td>\n",
              "      <td>greedy,sortings</td>\n",
              "      <td>53</td>\n",
              "      <td>47</td>\n",
              "      <td>0</td>\n",
              "      <td>Bangladesh</td>\n",
              "      <td>1</td>\n",
              "      <td>1503633778</td>\n",
              "      <td>307.913</td>\n",
              "      <td>206.709</td>\n",
              "      <td>beginner</td>\n",
              "      <td>1432110935</td>\n",
              "    </tr>\n",
              "    <tr>\n",
              "      <th>4</th>\n",
              "      <td>user_232</td>\n",
              "      <td>prob_164</td>\n",
              "      <td>2</td>\n",
              "      <td>A</td>\n",
              "      <td>500.0</td>\n",
              "      <td>brute force,constructive algorithms,math</td>\n",
              "      <td>53</td>\n",
              "      <td>47</td>\n",
              "      <td>0</td>\n",
              "      <td>Bangladesh</td>\n",
              "      <td>1</td>\n",
              "      <td>1503633778</td>\n",
              "      <td>307.913</td>\n",
              "      <td>206.709</td>\n",
              "      <td>beginner</td>\n",
              "      <td>1432110935</td>\n",
              "    </tr>\n",
              "  </tbody>\n",
              "</table>\n",
              "</div>"
            ],
            "text/plain": [
              "    user_id problem_id  ...      rank registration_time_seconds\n",
              "0  user_232  prob_6507  ...  beginner                1432110935\n",
              "1  user_232  prob_5071  ...  beginner                1432110935\n",
              "2  user_232   prob_703  ...  beginner                1432110935\n",
              "3  user_232  prob_3935  ...  beginner                1432110935\n",
              "4  user_232   prob_164  ...  beginner                1432110935\n",
              "\n",
              "[5 rows x 16 columns]"
            ]
          },
          "metadata": {},
          "execution_count": 10
        }
      ]
    },
    {
      "cell_type": "markdown",
      "metadata": {
        "id": "3lS4S3cgKKIS"
      },
      "source": [
        "# Pre-processing"
      ]
    },
    {
      "cell_type": "code",
      "metadata": {
        "id": "WKwny2ojJevq"
      },
      "source": [
        "df = temp_df.copy()"
      ],
      "execution_count": 11,
      "outputs": []
    },
    {
      "cell_type": "code",
      "metadata": {
        "id": "dNdjn3maKr41",
        "colab": {
          "base_uri": "https://localhost:8080/"
        },
        "outputId": "6df20de4-e0e5-47b8-dced-5889528ae69f"
      },
      "source": [
        "df.columns"
      ],
      "execution_count": 12,
      "outputs": [
        {
          "output_type": "execute_result",
          "data": {
            "text/plain": [
              "Index(['user_id', 'problem_id', 'attempts_range', 'level_type', 'points',\n",
              "       'tags', 'submission_count', 'problem_solved', 'contribution', 'country',\n",
              "       'follower_count', 'last_online_time_seconds', 'max_rating', 'rating',\n",
              "       'rank', 'registration_time_seconds'],\n",
              "      dtype='object')"
            ]
          },
          "metadata": {},
          "execution_count": 12
        }
      ]
    },
    {
      "cell_type": "code",
      "metadata": {
        "id": "UDCRDiZUKx0i",
        "colab": {
          "base_uri": "https://localhost:8080/"
        },
        "outputId": "58869484-0bd6-4c0f-8abf-469875d52d19"
      },
      "source": [
        "df.shape"
      ],
      "execution_count": 13,
      "outputs": [
        {
          "output_type": "execute_result",
          "data": {
            "text/plain": [
              "(155295, 16)"
            ]
          },
          "metadata": {},
          "execution_count": 13
        }
      ]
    },
    {
      "cell_type": "code",
      "metadata": {
        "id": "ZM6o7uJCM-RS",
        "colab": {
          "base_uri": "https://localhost:8080/"
        },
        "outputId": "8cba601e-a91f-48b5-b7c2-9f13705e1964"
      },
      "source": [
        "df.dtypes"
      ],
      "execution_count": 14,
      "outputs": [
        {
          "output_type": "execute_result",
          "data": {
            "text/plain": [
              "user_id                       object\n",
              "problem_id                    object\n",
              "attempts_range                 int64\n",
              "level_type                    object\n",
              "points                       float64\n",
              "tags                          object\n",
              "submission_count               int64\n",
              "problem_solved                 int64\n",
              "contribution                   int64\n",
              "country                       object\n",
              "follower_count                 int64\n",
              "last_online_time_seconds       int64\n",
              "max_rating                   float64\n",
              "rating                       float64\n",
              "rank                          object\n",
              "registration_time_seconds      int64\n",
              "dtype: object"
            ]
          },
          "metadata": {},
          "execution_count": 14
        }
      ]
    },
    {
      "cell_type": "code",
      "metadata": {
        "id": "VQ8wkPL3Ksxt",
        "colab": {
          "base_uri": "https://localhost:8080/"
        },
        "outputId": "81636268-9525-4c57-c1e4-b5a20abeaedd"
      },
      "source": [
        "df.isnull().sum()"
      ],
      "execution_count": 15,
      "outputs": [
        {
          "output_type": "execute_result",
          "data": {
            "text/plain": [
              "user_id                          0\n",
              "problem_id                       0\n",
              "attempts_range                   0\n",
              "level_type                     620\n",
              "points                       29075\n",
              "tags                         15427\n",
              "submission_count                 0\n",
              "problem_solved                   0\n",
              "contribution                     0\n",
              "country                      37853\n",
              "follower_count                   0\n",
              "last_online_time_seconds         0\n",
              "max_rating                       0\n",
              "rating                           0\n",
              "rank                             0\n",
              "registration_time_seconds        0\n",
              "dtype: int64"
            ]
          },
          "metadata": {},
          "execution_count": 15
        }
      ]
    },
    {
      "cell_type": "code",
      "metadata": {
        "id": "S84-D0TpK6Bj",
        "colab": {
          "base_uri": "https://localhost:8080/"
        },
        "outputId": "5ac17d69-e1a6-4871-c09b-178d866df5ba"
      },
      "source": [
        "df['country'].mode()[0], df['level_type'].mode()[0], df['tags'].mode()[0], df['points'].mode()[0]"
      ],
      "execution_count": 16,
      "outputs": [
        {
          "output_type": "execute_result",
          "data": {
            "text/plain": [
              "('India', 'A', 'implementation', 500.0)"
            ]
          },
          "metadata": {},
          "execution_count": 16
        }
      ]
    },
    {
      "cell_type": "code",
      "metadata": {
        "colab": {
          "base_uri": "https://localhost:8080/"
        },
        "id": "1H1bBFx3nMra",
        "outputId": "50fc67db-6605-4a2e-aec8-8c9e83701d0f"
      },
      "source": [
        "df['points'].mean(), df['points'].min()"
      ],
      "execution_count": 17,
      "outputs": [
        {
          "output_type": "execute_result",
          "data": {
            "text/plain": [
              "(993.3023688797338, -1.0)"
            ]
          },
          "metadata": {},
          "execution_count": 17
        }
      ]
    },
    {
      "cell_type": "code",
      "metadata": {
        "colab": {
          "base_uri": "https://localhost:8080/",
          "height": 101
        },
        "id": "S8GBwCF2jJzR",
        "outputId": "ba77de03-6f32-4240-dace-e442576cc7d3"
      },
      "source": [
        "df[df['points']<0]"
      ],
      "execution_count": 18,
      "outputs": [
        {
          "output_type": "execute_result",
          "data": {
            "text/html": [
              "<div>\n",
              "<style scoped>\n",
              "    .dataframe tbody tr th:only-of-type {\n",
              "        vertical-align: middle;\n",
              "    }\n",
              "\n",
              "    .dataframe tbody tr th {\n",
              "        vertical-align: top;\n",
              "    }\n",
              "\n",
              "    .dataframe thead th {\n",
              "        text-align: right;\n",
              "    }\n",
              "</style>\n",
              "<table border=\"1\" class=\"dataframe\">\n",
              "  <thead>\n",
              "    <tr style=\"text-align: right;\">\n",
              "      <th></th>\n",
              "      <th>user_id</th>\n",
              "      <th>problem_id</th>\n",
              "      <th>attempts_range</th>\n",
              "      <th>level_type</th>\n",
              "      <th>points</th>\n",
              "      <th>tags</th>\n",
              "      <th>submission_count</th>\n",
              "      <th>problem_solved</th>\n",
              "      <th>contribution</th>\n",
              "      <th>country</th>\n",
              "      <th>follower_count</th>\n",
              "      <th>last_online_time_seconds</th>\n",
              "      <th>max_rating</th>\n",
              "      <th>rating</th>\n",
              "      <th>rank</th>\n",
              "      <th>registration_time_seconds</th>\n",
              "    </tr>\n",
              "  </thead>\n",
              "  <tbody>\n",
              "    <tr>\n",
              "      <th>136378</th>\n",
              "      <td>user_1038</td>\n",
              "      <td>prob_5031</td>\n",
              "      <td>3</td>\n",
              "      <td>B</td>\n",
              "      <td>-1.0</td>\n",
              "      <td>NaN</td>\n",
              "      <td>928</td>\n",
              "      <td>888</td>\n",
              "      <td>45</td>\n",
              "      <td>Romania</td>\n",
              "      <td>229</td>\n",
              "      <td>1505579842</td>\n",
              "      <td>654.243</td>\n",
              "      <td>610.952</td>\n",
              "      <td>expert</td>\n",
              "      <td>1371299266</td>\n",
              "    </tr>\n",
              "  </tbody>\n",
              "</table>\n",
              "</div>"
            ],
            "text/plain": [
              "          user_id problem_id  ...    rank registration_time_seconds\n",
              "136378  user_1038  prob_5031  ...  expert                1371299266\n",
              "\n",
              "[1 rows x 16 columns]"
            ]
          },
          "metadata": {},
          "execution_count": 18
        }
      ]
    },
    {
      "cell_type": "code",
      "metadata": {
        "id": "-KTXLELcmzZQ"
      },
      "source": [
        "negative_points = df[df['points'] < 0].index\n",
        "df.drop(negative_points, inplace = True)"
      ],
      "execution_count": 19,
      "outputs": []
    },
    {
      "cell_type": "code",
      "metadata": {
        "colab": {
          "base_uri": "https://localhost:8080/",
          "height": 70
        },
        "id": "KjAVXkgxnFcB",
        "outputId": "5dbb80b6-1e53-4d14-ad90-733d99add3d4"
      },
      "source": [
        "df[df['points']<0]"
      ],
      "execution_count": 20,
      "outputs": [
        {
          "output_type": "execute_result",
          "data": {
            "text/html": [
              "<div>\n",
              "<style scoped>\n",
              "    .dataframe tbody tr th:only-of-type {\n",
              "        vertical-align: middle;\n",
              "    }\n",
              "\n",
              "    .dataframe tbody tr th {\n",
              "        vertical-align: top;\n",
              "    }\n",
              "\n",
              "    .dataframe thead th {\n",
              "        text-align: right;\n",
              "    }\n",
              "</style>\n",
              "<table border=\"1\" class=\"dataframe\">\n",
              "  <thead>\n",
              "    <tr style=\"text-align: right;\">\n",
              "      <th></th>\n",
              "      <th>user_id</th>\n",
              "      <th>problem_id</th>\n",
              "      <th>attempts_range</th>\n",
              "      <th>level_type</th>\n",
              "      <th>points</th>\n",
              "      <th>tags</th>\n",
              "      <th>submission_count</th>\n",
              "      <th>problem_solved</th>\n",
              "      <th>contribution</th>\n",
              "      <th>country</th>\n",
              "      <th>follower_count</th>\n",
              "      <th>last_online_time_seconds</th>\n",
              "      <th>max_rating</th>\n",
              "      <th>rating</th>\n",
              "      <th>rank</th>\n",
              "      <th>registration_time_seconds</th>\n",
              "    </tr>\n",
              "  </thead>\n",
              "  <tbody>\n",
              "  </tbody>\n",
              "</table>\n",
              "</div>"
            ],
            "text/plain": [
              "Empty DataFrame\n",
              "Columns: [user_id, problem_id, attempts_range, level_type, points, tags, submission_count, problem_solved, contribution, country, follower_count, last_online_time_seconds, max_rating, rating, rank, registration_time_seconds]\n",
              "Index: []"
            ]
          },
          "metadata": {},
          "execution_count": 20
        }
      ]
    },
    {
      "cell_type": "code",
      "metadata": {
        "id": "SEUbfCC_RJsN",
        "colab": {
          "base_uri": "https://localhost:8080/"
        },
        "outputId": "dba45128-684e-4819-bd81-be584531c004"
      },
      "source": [
        "df['points'].mean(), df['points'].min()"
      ],
      "execution_count": 21,
      "outputs": [
        {
          "output_type": "execute_result",
          "data": {
            "text/plain": [
              "(993.3102464763625, 3.0)"
            ]
          },
          "metadata": {},
          "execution_count": 21
        }
      ]
    },
    {
      "cell_type": "code",
      "metadata": {
        "id": "qBM7kv-kR-qi"
      },
      "source": [
        "df['country'].fillna('India', inplace=True)"
      ],
      "execution_count": 22,
      "outputs": []
    },
    {
      "cell_type": "code",
      "metadata": {
        "id": "2EbFfHtPSMsM"
      },
      "source": [
        "df['level_type'].fillna('A', inplace=True)"
      ],
      "execution_count": 23,
      "outputs": []
    },
    {
      "cell_type": "code",
      "metadata": {
        "id": "02Gdk8KTST0P"
      },
      "source": [
        "df['points'].fillna(500.0, inplace=True)"
      ],
      "execution_count": 24,
      "outputs": []
    },
    {
      "cell_type": "code",
      "metadata": {
        "id": "fXzjU6b6S9HS"
      },
      "source": [
        "df['tags'].fillna(df['tags'].mode()[0], inplace=True)"
      ],
      "execution_count": 25,
      "outputs": []
    },
    {
      "cell_type": "code",
      "metadata": {
        "id": "S_KcoNLjTEj5",
        "colab": {
          "base_uri": "https://localhost:8080/"
        },
        "outputId": "d2eb06a9-2630-48c6-fc3e-8cb233d07df1"
      },
      "source": [
        "df.isnull().sum()"
      ],
      "execution_count": 26,
      "outputs": [
        {
          "output_type": "execute_result",
          "data": {
            "text/plain": [
              "user_id                      0\n",
              "problem_id                   0\n",
              "attempts_range               0\n",
              "level_type                   0\n",
              "points                       0\n",
              "tags                         0\n",
              "submission_count             0\n",
              "problem_solved               0\n",
              "contribution                 0\n",
              "country                      0\n",
              "follower_count               0\n",
              "last_online_time_seconds     0\n",
              "max_rating                   0\n",
              "rating                       0\n",
              "rank                         0\n",
              "registration_time_seconds    0\n",
              "dtype: int64"
            ]
          },
          "metadata": {},
          "execution_count": 26
        }
      ]
    },
    {
      "cell_type": "markdown",
      "metadata": {
        "id": "u7L-XPqmw7Rl"
      },
      "source": [
        "**Checking for Outliers**"
      ]
    },
    {
      "cell_type": "code",
      "metadata": {
        "id": "dJxaX4fBMeHE",
        "colab": {
          "base_uri": "https://localhost:8080/",
          "height": 279
        },
        "outputId": "da293c32-7297-46f0-f057-3205f9cf8f51"
      },
      "source": [
        "sns.boxplot(x=df['points']);"
      ],
      "execution_count": 27,
      "outputs": [
        {
          "output_type": "display_data",
          "data": {
            "image/png": "[encoded data removed]",
            "text/plain": [
              "<Figure size 432x288 with 1 Axes>"
            ]
          },
          "metadata": {
            "needs_background": "light"
          }
        }
      ]
    },
    {
      "cell_type": "markdown",
      "metadata": {
        "id": "WlpcOh4rzkMZ"
      },
      "source": [
        "**Using IQR method**"
      ]
    },
    {
      "cell_type": "code",
      "metadata": {
        "colab": {
          "base_uri": "https://localhost:8080/"
        },
        "id": "EDF54P_PxLOq",
        "outputId": "a2c676cf-f97c-4004-f6a3-89f328731150"
      },
      "source": [
        "q1 = np.percentile(df['points'], 25)\n",
        "q1"
      ],
      "execution_count": 28,
      "outputs": [
        {
          "output_type": "execute_result",
          "data": {
            "text/plain": [
              "500.0"
            ]
          },
          "metadata": {},
          "execution_count": 28
        }
      ]
    },
    {
      "cell_type": "code",
      "metadata": {
        "colab": {
          "base_uri": "https://localhost:8080/"
        },
        "id": "22nllRZvx3DL",
        "outputId": "ddf66e3a-ccbf-42e6-b199-c488692beb1f"
      },
      "source": [
        "q3 = np.percentile(df['points'], 75)\n",
        "q3"
      ],
      "execution_count": 29,
      "outputs": [
        {
          "output_type": "execute_result",
          "data": {
            "text/plain": [
              "1000.0"
            ]
          },
          "metadata": {},
          "execution_count": 29
        }
      ]
    },
    {
      "cell_type": "code",
      "metadata": {
        "colab": {
          "base_uri": "https://localhost:8080/"
        },
        "id": "LlbE7Hlrx3AR",
        "outputId": "c6842412-56a3-435b-8751-5df31cad22e9"
      },
      "source": [
        "iqr = q3 - q1\n",
        "iqr"
      ],
      "execution_count": 30,
      "outputs": [
        {
          "output_type": "execute_result",
          "data": {
            "text/plain": [
              "500.0"
            ]
          },
          "metadata": {},
          "execution_count": 30
        }
      ]
    },
    {
      "cell_type": "code",
      "metadata": {
        "colab": {
          "base_uri": "https://localhost:8080/"
        },
        "id": "PuemOWHxx29w",
        "outputId": "6edfc4bf-69a6-464e-e575-db80161e16dc"
      },
      "source": [
        "cut_off = iqr*1.5\n",
        "lower, upper = q1 - cut_off, q3 + cut_off\n",
        "print(lower)\n",
        "print(upper)"
      ],
      "execution_count": 31,
      "outputs": [
        {
          "output_type": "stream",
          "name": "stdout",
          "text": [
            "-250.0\n",
            "1750.0\n"
          ]
        }
      ]
    },
    {
      "cell_type": "code",
      "metadata": {
        "colab": {
          "base_uri": "https://localhost:8080/"
        },
        "id": "TBLU-1Cxx24p",
        "outputId": "a98acfd3-d4a4-4ab8-83a4-03695e733dff"
      },
      "source": [
        "outliers = [x for x in df['points'] if (x<lower) or (x>upper)]\n",
        "len(outliers)"
      ],
      "execution_count": 32,
      "outputs": [
        {
          "output_type": "execute_result",
          "data": {
            "text/plain": [
              "13124"
            ]
          },
          "metadata": {},
          "execution_count": 32
        }
      ]
    },
    {
      "cell_type": "markdown",
      "metadata": {
        "id": "MKKLw7gHzBDe"
      },
      "source": [
        "**Using 3 standard deviation method**"
      ]
    },
    {
      "cell_type": "code",
      "metadata": {
        "colab": {
          "base_uri": "https://localhost:8080/"
        },
        "id": "sTcxCPVux22d",
        "outputId": "f228dce5-378b-4b6a-c775-9642f60c4e3f"
      },
      "source": [
        "mean = df['points'].mean()\n",
        "mean"
      ],
      "execution_count": 33,
      "outputs": [
        {
          "output_type": "execute_result",
          "data": {
            "text/plain": [
              "900.9499787499839"
            ]
          },
          "metadata": {},
          "execution_count": 33
        }
      ]
    },
    {
      "cell_type": "code",
      "metadata": {
        "colab": {
          "base_uri": "https://localhost:8080/"
        },
        "id": "gRbbNrVEzQVg",
        "outputId": "c4f6712e-383f-46e1-b064-48fa8696f71b"
      },
      "source": [
        "std = df['points'].std()\n",
        "std"
      ],
      "execution_count": 34,
      "outputs": [
        {
          "output_type": "execute_result",
          "data": {
            "text/plain": [
              "547.1329251780865"
            ]
          },
          "metadata": {},
          "execution_count": 34
        }
      ]
    },
    {
      "cell_type": "code",
      "metadata": {
        "colab": {
          "base_uri": "https://localhost:8080/"
        },
        "id": "S0PiHKvOzQSe",
        "outputId": "72b8c1ca-dcc6-43c5-8547-50046fda3832"
      },
      "source": [
        "cut_off = std*3\n",
        "lower, upper = mean - cut_off, mean + cut_off\n",
        "print(lower)\n",
        "print(upper)"
      ],
      "execution_count": 35,
      "outputs": [
        {
          "output_type": "stream",
          "name": "stdout",
          "text": [
            "-740.4487967842755\n",
            "2542.348754284243\n"
          ]
        }
      ]
    },
    {
      "cell_type": "code",
      "metadata": {
        "colab": {
          "base_uri": "https://localhost:8080/"
        },
        "id": "ureYwXqgzQFg",
        "outputId": "41e8cd62-7675-45aa-f22d-97979b889ff5"
      },
      "source": [
        "outliers = [x for x in df['points'] if (x<lower) or (x>upper)]\n",
        "len(outliers)"
      ],
      "execution_count": 36,
      "outputs": [
        {
          "output_type": "execute_result",
          "data": {
            "text/plain": [
              "1045"
            ]
          },
          "metadata": {},
          "execution_count": 36
        }
      ]
    },
    {
      "cell_type": "code",
      "metadata": {
        "colab": {
          "base_uri": "https://localhost:8080/"
        },
        "id": "aJak6UWe6yLS",
        "outputId": "78a270b2-6123-43f8-be7a-cf04ed2b8dac"
      },
      "source": [
        "df_no_outlier = df.loc[(df['points'] > lower) & (df['points'] < upper)]\n",
        "df_no_outlier.shape"
      ],
      "execution_count": 37,
      "outputs": [
        {
          "output_type": "execute_result",
          "data": {
            "text/plain": [
              "(154249, 16)"
            ]
          },
          "metadata": {},
          "execution_count": 37
        }
      ]
    },
    {
      "cell_type": "code",
      "metadata": {
        "colab": {
          "base_uri": "https://localhost:8080/"
        },
        "id": "PRcXW8ML7bmc",
        "outputId": "d1d5fe43-6a5a-42df-8329-ba6ff5c5d5f9"
      },
      "source": [
        "df = df_no_outlier.copy()\n",
        "df.shape"
      ],
      "execution_count": 38,
      "outputs": [
        {
          "output_type": "execute_result",
          "data": {
            "text/plain": [
              "(154249, 16)"
            ]
          },
          "metadata": {},
          "execution_count": 38
        }
      ]
    },
    {
      "cell_type": "markdown",
      "metadata": {
        "id": "6QKONOnNzdwM"
      },
      "source": [
        "# Visualization"
      ]
    },
    {
      "cell_type": "code",
      "metadata": {
        "id": "w0m11rrmTNw5",
        "colab": {
          "base_uri": "https://localhost:8080/",
          "height": 423
        },
        "outputId": "f639f9b2-5dcb-46fc-baff-d530835a2dbd"
      },
      "source": [
        "plt.figure(figsize=(10, 6))\n",
        "sns.countplot(df['level_type'])\n",
        "plt.yscale(\"log\")\n",
        "plt.title('Most problem levels')"
      ],
      "execution_count": 39,
      "outputs": [
        {
          "output_type": "execute_result",
          "data": {
            "text/plain": [
              "Text(0.5, 1.0, 'Most problem levels')"
            ]
          },
          "metadata": {},
          "execution_count": 39
        },
        {
          "output_type": "display_data",
          "data": {
            "image/png": "[encoded data removed]",
            "text/plain": [
              "<Figure size 720x432 with 1 Axes>"
            ]
          },
          "metadata": {
            "needs_background": "light"
          }
        }
      ]
    },
    {
      "cell_type": "code",
      "metadata": {
        "id": "JZ8uWkIXMHyo",
        "colab": {
          "base_uri": "https://localhost:8080/",
          "height": 226
        },
        "outputId": "162e7b08-08a5-4ee5-bfee-845e0ae5d472"
      },
      "source": [
        "level_type_df = df.groupby('level_type').sum().reset_index().sort_values(by='problem_solved', ascending=False)\n",
        "level_type_df.head()"
      ],
      "execution_count": 40,
      "outputs": [
        {
          "output_type": "execute_result",
          "data": {
            "text/html": [
              "<div>\n",
              "<style scoped>\n",
              "    .dataframe tbody tr th:only-of-type {\n",
              "        vertical-align: middle;\n",
              "    }\n",
              "\n",
              "    .dataframe tbody tr th {\n",
              "        vertical-align: top;\n",
              "    }\n",
              "\n",
              "    .dataframe thead th {\n",
              "        text-align: right;\n",
              "    }\n",
              "</style>\n",
              "<table border=\"1\" class=\"dataframe\">\n",
              "  <thead>\n",
              "    <tr style=\"text-align: right;\">\n",
              "      <th></th>\n",
              "      <th>level_type</th>\n",
              "      <th>attempts_range</th>\n",
              "      <th>points</th>\n",
              "      <th>submission_count</th>\n",
              "      <th>problem_solved</th>\n",
              "      <th>contribution</th>\n",
              "      <th>follower_count</th>\n",
              "      <th>last_online_time_seconds</th>\n",
              "      <th>max_rating</th>\n",
              "      <th>rating</th>\n",
              "      <th>registration_time_seconds</th>\n",
              "    </tr>\n",
              "  </thead>\n",
              "  <tbody>\n",
              "    <tr>\n",
              "      <th>0</th>\n",
              "      <td>A</td>\n",
              "      <td>92715</td>\n",
              "      <td>30220542.0</td>\n",
              "      <td>17040281</td>\n",
              "      <td>15147962</td>\n",
              "      <td>176244</td>\n",
              "      <td>2251119</td>\n",
              "      <td>90703216117036</td>\n",
              "      <td>2.263337e+07</td>\n",
              "      <td>1.982560e+07</td>\n",
              "      <td>86611971566494</td>\n",
              "    </tr>\n",
              "    <tr>\n",
              "      <th>1</th>\n",
              "      <td>B</td>\n",
              "      <td>71220</td>\n",
              "      <td>36621270.0</td>\n",
              "      <td>13510774</td>\n",
              "      <td>12118301</td>\n",
              "      <td>160676</td>\n",
              "      <td>1928531</td>\n",
              "      <td>60753125503284</td>\n",
              "      <td>1.592847e+07</td>\n",
              "      <td>1.439180e+07</td>\n",
              "      <td>57809257844686</td>\n",
              "    </tr>\n",
              "    <tr>\n",
              "      <th>2</th>\n",
              "      <td>C</td>\n",
              "      <td>50681</td>\n",
              "      <td>33646314.0</td>\n",
              "      <td>11112697</td>\n",
              "      <td>10098747</td>\n",
              "      <td>180666</td>\n",
              "      <td>1893861</td>\n",
              "      <td>38907498947141</td>\n",
              "      <td>1.111700e+07</td>\n",
              "      <td>1.030078e+07</td>\n",
              "      <td>36807821074263</td>\n",
              "    </tr>\n",
              "    <tr>\n",
              "      <th>3</th>\n",
              "      <td>D</td>\n",
              "      <td>27990</td>\n",
              "      <td>22458750.0</td>\n",
              "      <td>6995314</td>\n",
              "      <td>6416324</td>\n",
              "      <td>137839</td>\n",
              "      <td>1372379</td>\n",
              "      <td>20837921818744</td>\n",
              "      <td>6.406958e+06</td>\n",
              "      <td>5.988749e+06</td>\n",
              "      <td>19600078508795</td>\n",
              "    </tr>\n",
              "    <tr>\n",
              "      <th>4</th>\n",
              "      <td>E</td>\n",
              "      <td>12361</td>\n",
              "      <td>9441500.0</td>\n",
              "      <td>3387765</td>\n",
              "      <td>3125850</td>\n",
              "      <td>78801</td>\n",
              "      <td>786478</td>\n",
              "      <td>8660531144755</td>\n",
              "      <td>2.814973e+06</td>\n",
              "      <td>2.642168e+06</td>\n",
              "      <td>8108209437696</td>\n",
              "    </tr>\n",
              "  </tbody>\n",
              "</table>\n",
              "</div>"
            ],
            "text/plain": [
              "  level_type  attempts_range  ...        rating  registration_time_seconds\n",
              "0          A           92715  ...  1.982560e+07             86611971566494\n",
              "1          B           71220  ...  1.439180e+07             57809257844686\n",
              "2          C           50681  ...  1.030078e+07             36807821074263\n",
              "3          D           27990  ...  5.988749e+06             19600078508795\n",
              "4          E           12361  ...  2.642168e+06              8108209437696\n",
              "\n",
              "[5 rows x 11 columns]"
            ]
          },
          "metadata": {},
          "execution_count": 40
        }
      ]
    },
    {
      "cell_type": "code",
      "metadata": {
        "id": "g6sNIc-gQBbM",
        "colab": {
          "base_uri": "https://localhost:8080/",
          "height": 423
        },
        "outputId": "daa27ebc-ee1b-4401-8244-7a1ec7d76fc1"
      },
      "source": [
        "plt.figure(figsize=(10, 6))\n",
        "sns.barplot(x=level_type_df['level_type'], y=level_type_df['problem_solved'])\n",
        "plt.yscale(\"log\")\n",
        "plt.title('Most solved problems')"
      ],
      "execution_count": 41,
      "outputs": [
        {
          "output_type": "execute_result",
          "data": {
            "text/plain": [
              "Text(0.5, 1.0, 'Most solved problems')"
            ]
          },
          "metadata": {},
          "execution_count": 41
        },
        {
          "output_type": "display_data",
          "data": {
            "image/png": "[encoded data removed]",
            "text/plain": [
              "<Figure size 720x432 with 1 Axes>"
            ]
          },
          "metadata": {
            "needs_background": "light"
          }
        }
      ]
    },
    {
      "cell_type": "code",
      "metadata": {
        "id": "k3JovxjOQNHL"
      },
      "source": [
        "tags = df.tags.str.split(',')"
      ],
      "execution_count": 42,
      "outputs": []
    },
    {
      "cell_type": "code",
      "metadata": {
        "id": "AbW1ErsnoLqi"
      },
      "source": [
        "tags.dropna(inplace=True)"
      ],
      "execution_count": 43,
      "outputs": []
    },
    {
      "cell_type": "code",
      "metadata": {
        "id": "VhKHe1ezoXVm"
      },
      "source": [
        "tag_list = tags.explode().to_list()"
      ],
      "execution_count": 44,
      "outputs": []
    },
    {
      "cell_type": "code",
      "metadata": {
        "id": "Jki6I7kssf4T",
        "colab": {
          "base_uri": "https://localhost:8080/"
        },
        "outputId": "19b4392e-d489-4a66-8b25-7307fbdf49ae"
      },
      "source": [
        "len(set(tag_list))"
      ],
      "execution_count": 45,
      "outputs": [
        {
          "output_type": "execute_result",
          "data": {
            "text/plain": [
              "36"
            ]
          },
          "metadata": {},
          "execution_count": 45
        }
      ]
    },
    {
      "cell_type": "code",
      "metadata": {
        "id": "yPlCrU0iodSa"
      },
      "source": [
        "def find_frequency(my_list):\n",
        "  d = {}\n",
        "  for item in my_list:\n",
        "    if item not in d:\n",
        "      d[item] = 1\n",
        "    else:\n",
        "      d[item] += 1\n",
        "  return d"
      ],
      "execution_count": 46,
      "outputs": []
    },
    {
      "cell_type": "code",
      "metadata": {
        "id": "G7hW8h_PseXj"
      },
      "source": [
        "tag_dict = find_frequency(tag_list)"
      ],
      "execution_count": 47,
      "outputs": []
    },
    {
      "cell_type": "code",
      "metadata": {
        "id": "--ooFuI1tb4s",
        "colab": {
          "base_uri": "https://localhost:8080/"
        },
        "outputId": "e81b927e-e833-482b-bff8-6741bda44a8c"
      },
      "source": [
        "tag_dict"
      ],
      "execution_count": 48,
      "outputs": [
        {
          "output_type": "execute_result",
          "data": {
            "text/plain": [
              "{'*special': 875,\n",
              " '2-sat': 397,\n",
              " 'binary search': 11985,\n",
              " 'bitmasks': 2402,\n",
              " 'brute force': 26814,\n",
              " 'chinese remainder theorem': 65,\n",
              " 'combinatorics': 2820,\n",
              " 'constructive algorithms': 17912,\n",
              " 'data structures': 13024,\n",
              " 'dfs and similar': 10869,\n",
              " 'divide and conquer': 1301,\n",
              " 'dp': 16264,\n",
              " 'dsu': 3079,\n",
              " 'expression parsing': 484,\n",
              " 'fft': 110,\n",
              " 'flows': 334,\n",
              " 'games': 2597,\n",
              " 'geometry': 4013,\n",
              " 'graph matchings': 774,\n",
              " 'graphs': 5943,\n",
              " 'greedy': 27458,\n",
              " 'hashing': 1639,\n",
              " 'implementation': 76759,\n",
              " 'math': 32230,\n",
              " 'matrices': 488,\n",
              " 'meet-in-the-middle': 235,\n",
              " 'number theory': 7739,\n",
              " 'probabilities': 1417,\n",
              " 'schedules': 80,\n",
              " 'shortest paths': 1798,\n",
              " 'sortings': 14826,\n",
              " 'string suffix structures': 378,\n",
              " 'strings': 10424,\n",
              " 'ternary search': 443,\n",
              " 'trees': 5013,\n",
              " 'two pointers': 4385}"
            ]
          },
          "metadata": {},
          "execution_count": 48
        }
      ]
    },
    {
      "cell_type": "code",
      "metadata": {
        "id": "U3vjJ1dutlcs",
        "colab": {
          "base_uri": "https://localhost:8080/",
          "height": 206
        },
        "outputId": "429932b4-91b2-40d5-a8c8-da3ce118e82b"
      },
      "source": [
        "tag_df = pd.DataFrame(tag_dict.items(), columns=['tag', 'count'])\n",
        "tag_df.head()"
      ],
      "execution_count": 49,
      "outputs": [
        {
          "output_type": "execute_result",
          "data": {
            "text/html": [
              "<div>\n",
              "<style scoped>\n",
              "    .dataframe tbody tr th:only-of-type {\n",
              "        vertical-align: middle;\n",
              "    }\n",
              "\n",
              "    .dataframe tbody tr th {\n",
              "        vertical-align: top;\n",
              "    }\n",
              "\n",
              "    .dataframe thead th {\n",
              "        text-align: right;\n",
              "    }\n",
              "</style>\n",
              "<table border=\"1\" class=\"dataframe\">\n",
              "  <thead>\n",
              "    <tr style=\"text-align: right;\">\n",
              "      <th></th>\n",
              "      <th>tag</th>\n",
              "      <th>count</th>\n",
              "    </tr>\n",
              "  </thead>\n",
              "  <tbody>\n",
              "    <tr>\n",
              "      <th>0</th>\n",
              "      <td>strings</td>\n",
              "      <td>10424</td>\n",
              "    </tr>\n",
              "    <tr>\n",
              "      <th>1</th>\n",
              "      <td>implementation</td>\n",
              "      <td>76759</td>\n",
              "    </tr>\n",
              "    <tr>\n",
              "      <th>2</th>\n",
              "      <td>brute force</td>\n",
              "      <td>26814</td>\n",
              "    </tr>\n",
              "    <tr>\n",
              "      <th>3</th>\n",
              "      <td>greedy</td>\n",
              "      <td>27458</td>\n",
              "    </tr>\n",
              "    <tr>\n",
              "      <th>4</th>\n",
              "      <td>sortings</td>\n",
              "      <td>14826</td>\n",
              "    </tr>\n",
              "  </tbody>\n",
              "</table>\n",
              "</div>"
            ],
            "text/plain": [
              "              tag  count\n",
              "0         strings  10424\n",
              "1  implementation  76759\n",
              "2     brute force  26814\n",
              "3          greedy  27458\n",
              "4        sortings  14826"
            ]
          },
          "metadata": {},
          "execution_count": 49
        }
      ]
    },
    {
      "cell_type": "code",
      "metadata": {
        "id": "t46po2OStxDz",
        "colab": {
          "base_uri": "https://localhost:8080/",
          "height": 363
        },
        "outputId": "12e1a555-a67e-4f60-8546-c4bf8f9923d7"
      },
      "source": [
        "tag_df.sort_values(by='count', ascending=False, inplace=True)\n",
        "tag_df.head(10)"
      ],
      "execution_count": 50,
      "outputs": [
        {
          "output_type": "execute_result",
          "data": {
            "text/html": [
              "<div>\n",
              "<style scoped>\n",
              "    .dataframe tbody tr th:only-of-type {\n",
              "        vertical-align: middle;\n",
              "    }\n",
              "\n",
              "    .dataframe tbody tr th {\n",
              "        vertical-align: top;\n",
              "    }\n",
              "\n",
              "    .dataframe thead th {\n",
              "        text-align: right;\n",
              "    }\n",
              "</style>\n",
              "<table border=\"1\" class=\"dataframe\">\n",
              "  <thead>\n",
              "    <tr style=\"text-align: right;\">\n",
              "      <th></th>\n",
              "      <th>tag</th>\n",
              "      <th>count</th>\n",
              "    </tr>\n",
              "  </thead>\n",
              "  <tbody>\n",
              "    <tr>\n",
              "      <th>1</th>\n",
              "      <td>implementation</td>\n",
              "      <td>76759</td>\n",
              "    </tr>\n",
              "    <tr>\n",
              "      <th>6</th>\n",
              "      <td>math</td>\n",
              "      <td>32230</td>\n",
              "    </tr>\n",
              "    <tr>\n",
              "      <th>3</th>\n",
              "      <td>greedy</td>\n",
              "      <td>27458</td>\n",
              "    </tr>\n",
              "    <tr>\n",
              "      <th>2</th>\n",
              "      <td>brute force</td>\n",
              "      <td>26814</td>\n",
              "    </tr>\n",
              "    <tr>\n",
              "      <th>5</th>\n",
              "      <td>constructive algorithms</td>\n",
              "      <td>17912</td>\n",
              "    </tr>\n",
              "    <tr>\n",
              "      <th>8</th>\n",
              "      <td>dp</td>\n",
              "      <td>16264</td>\n",
              "    </tr>\n",
              "    <tr>\n",
              "      <th>4</th>\n",
              "      <td>sortings</td>\n",
              "      <td>14826</td>\n",
              "    </tr>\n",
              "    <tr>\n",
              "      <th>10</th>\n",
              "      <td>data structures</td>\n",
              "      <td>13024</td>\n",
              "    </tr>\n",
              "    <tr>\n",
              "      <th>16</th>\n",
              "      <td>binary search</td>\n",
              "      <td>11985</td>\n",
              "    </tr>\n",
              "    <tr>\n",
              "      <th>7</th>\n",
              "      <td>dfs and similar</td>\n",
              "      <td>10869</td>\n",
              "    </tr>\n",
              "  </tbody>\n",
              "</table>\n",
              "</div>"
            ],
            "text/plain": [
              "                        tag  count\n",
              "1            implementation  76759\n",
              "6                      math  32230\n",
              "3                    greedy  27458\n",
              "2               brute force  26814\n",
              "5   constructive algorithms  17912\n",
              "8                        dp  16264\n",
              "4                  sortings  14826\n",
              "10          data structures  13024\n",
              "16            binary search  11985\n",
              "7           dfs and similar  10869"
            ]
          },
          "metadata": {},
          "execution_count": 50
        }
      ]
    },
    {
      "cell_type": "code",
      "metadata": {
        "id": "YX9ao9W-utY_",
        "colab": {
          "base_uri": "https://localhost:8080/",
          "height": 470
        },
        "outputId": "e93ee6d1-db02-450a-b548-f200dd2937c4"
      },
      "source": [
        "plt.figure(figsize=(13, 6))\n",
        "sns.barplot(x=tag_df['tag'].head(12), y=tag_df['count'].head(12))\n",
        "plt.xticks(rotation=45)\n",
        "plt.show()"
      ],
      "execution_count": 51,
      "outputs": [
        {
          "output_type": "display_data",
          "data": {
            "image/png": "[encoded data removed]",
            "text/plain": [
              "<Figure size 936x432 with 1 Axes>"
            ]
          },
          "metadata": {
            "needs_background": "light"
          }
        }
      ]
    },
    {
      "cell_type": "code",
      "metadata": {
        "id": "qFA-IrgZvNdK",
        "colab": {
          "base_uri": "https://localhost:8080/",
          "height": 389
        },
        "outputId": "f6f0e78a-3c8d-4019-fe72-43d6e36e2da0"
      },
      "source": [
        "plt.figure(figsize=(10, 6))\n",
        "sns.scatterplot(x=df['problem_solved'], y=df['max_rating'], hue=df['rank'], style=df['rank'], s=80)\n",
        "plt.show()"
      ],
      "execution_count": 52,
      "outputs": [
        {
          "output_type": "display_data",
          "data": {
            "image/png": "[encoded data removed]",
            "text/plain": [
              "<Figure size 720x432 with 1 Axes>"
            ]
          },
          "metadata": {
            "needs_background": "light"
          }
        }
      ]
    },
    {
      "cell_type": "code",
      "metadata": {
        "id": "7KzLQZb2z5G4",
        "colab": {
          "base_uri": "https://localhost:8080/"
        },
        "outputId": "282f9b7b-602c-412c-bdfc-fbea00ec64ac"
      },
      "source": [
        "df['rank'].unique()"
      ],
      "execution_count": 53,
      "outputs": [
        {
          "output_type": "execute_result",
          "data": {
            "text/plain": [
              "array(['beginner', 'intermediate', 'advanced', 'expert'], dtype=object)"
            ]
          },
          "metadata": {},
          "execution_count": 53
        }
      ]
    },
    {
      "cell_type": "code",
      "metadata": {
        "id": "LBFk3ftUxvmA",
        "colab": {
          "base_uri": "https://localhost:8080/",
          "height": 226
        },
        "outputId": "041af3d7-b75b-4d08-93f4-c92db56bfc50"
      },
      "source": [
        "user_df = df[df['user_id'] == 'user_233']\n",
        "user_df.head()"
      ],
      "execution_count": 54,
      "outputs": [
        {
          "output_type": "execute_result",
          "data": {
            "text/html": [
              "<div>\n",
              "<style scoped>\n",
              "    .dataframe tbody tr th:only-of-type {\n",
              "        vertical-align: middle;\n",
              "    }\n",
              "\n",
              "    .dataframe tbody tr th {\n",
              "        vertical-align: top;\n",
              "    }\n",
              "\n",
              "    .dataframe thead th {\n",
              "        text-align: right;\n",
              "    }\n",
              "</style>\n",
              "<table border=\"1\" class=\"dataframe\">\n",
              "  <thead>\n",
              "    <tr style=\"text-align: right;\">\n",
              "      <th></th>\n",
              "      <th>user_id</th>\n",
              "      <th>problem_id</th>\n",
              "      <th>attempts_range</th>\n",
              "      <th>level_type</th>\n",
              "      <th>points</th>\n",
              "      <th>tags</th>\n",
              "      <th>submission_count</th>\n",
              "      <th>problem_solved</th>\n",
              "      <th>contribution</th>\n",
              "      <th>country</th>\n",
              "      <th>follower_count</th>\n",
              "      <th>last_online_time_seconds</th>\n",
              "      <th>max_rating</th>\n",
              "      <th>rating</th>\n",
              "      <th>rank</th>\n",
              "      <th>registration_time_seconds</th>\n",
              "    </tr>\n",
              "  </thead>\n",
              "  <tbody>\n",
              "    <tr>\n",
              "      <th>43846</th>\n",
              "      <td>user_233</td>\n",
              "      <td>prob_5071</td>\n",
              "      <td>1</td>\n",
              "      <td>A</td>\n",
              "      <td>500.0</td>\n",
              "      <td>implementation</td>\n",
              "      <td>87</td>\n",
              "      <td>64</td>\n",
              "      <td>0</td>\n",
              "      <td>India</td>\n",
              "      <td>3</td>\n",
              "      <td>1505190272</td>\n",
              "      <td>321.101</td>\n",
              "      <td>255.734</td>\n",
              "      <td>beginner</td>\n",
              "      <td>1300288967</td>\n",
              "    </tr>\n",
              "    <tr>\n",
              "      <th>43847</th>\n",
              "      <td>user_233</td>\n",
              "      <td>prob_2605</td>\n",
              "      <td>1</td>\n",
              "      <td>A</td>\n",
              "      <td>500.0</td>\n",
              "      <td>brute force,graphs,math</td>\n",
              "      <td>87</td>\n",
              "      <td>64</td>\n",
              "      <td>0</td>\n",
              "      <td>India</td>\n",
              "      <td>3</td>\n",
              "      <td>1505190272</td>\n",
              "      <td>321.101</td>\n",
              "      <td>255.734</td>\n",
              "      <td>beginner</td>\n",
              "      <td>1300288967</td>\n",
              "    </tr>\n",
              "    <tr>\n",
              "      <th>43848</th>\n",
              "      <td>user_233</td>\n",
              "      <td>prob_2624</td>\n",
              "      <td>1</td>\n",
              "      <td>A</td>\n",
              "      <td>500.0</td>\n",
              "      <td>implementation</td>\n",
              "      <td>87</td>\n",
              "      <td>64</td>\n",
              "      <td>0</td>\n",
              "      <td>India</td>\n",
              "      <td>3</td>\n",
              "      <td>1505190272</td>\n",
              "      <td>321.101</td>\n",
              "      <td>255.734</td>\n",
              "      <td>beginner</td>\n",
              "      <td>1300288967</td>\n",
              "    </tr>\n",
              "    <tr>\n",
              "      <th>43849</th>\n",
              "      <td>user_233</td>\n",
              "      <td>prob_3465</td>\n",
              "      <td>2</td>\n",
              "      <td>A</td>\n",
              "      <td>500.0</td>\n",
              "      <td>implementation,sortings,strings</td>\n",
              "      <td>87</td>\n",
              "      <td>64</td>\n",
              "      <td>0</td>\n",
              "      <td>India</td>\n",
              "      <td>3</td>\n",
              "      <td>1505190272</td>\n",
              "      <td>321.101</td>\n",
              "      <td>255.734</td>\n",
              "      <td>beginner</td>\n",
              "      <td>1300288967</td>\n",
              "    </tr>\n",
              "    <tr>\n",
              "      <th>43850</th>\n",
              "      <td>user_233</td>\n",
              "      <td>prob_5781</td>\n",
              "      <td>1</td>\n",
              "      <td>A</td>\n",
              "      <td>500.0</td>\n",
              "      <td>implementation,math</td>\n",
              "      <td>87</td>\n",
              "      <td>64</td>\n",
              "      <td>0</td>\n",
              "      <td>India</td>\n",
              "      <td>3</td>\n",
              "      <td>1505190272</td>\n",
              "      <td>321.101</td>\n",
              "      <td>255.734</td>\n",
              "      <td>beginner</td>\n",
              "      <td>1300288967</td>\n",
              "    </tr>\n",
              "  </tbody>\n",
              "</table>\n",
              "</div>"
            ],
            "text/plain": [
              "        user_id problem_id  ...      rank registration_time_seconds\n",
              "43846  user_233  prob_5071  ...  beginner                1300288967\n",
              "43847  user_233  prob_2605  ...  beginner                1300288967\n",
              "43848  user_233  prob_2624  ...  beginner                1300288967\n",
              "43849  user_233  prob_3465  ...  beginner                1300288967\n",
              "43850  user_233  prob_5781  ...  beginner                1300288967\n",
              "\n",
              "[5 rows x 16 columns]"
            ]
          },
          "metadata": {},
          "execution_count": 54
        }
      ]
    },
    {
      "cell_type": "code",
      "metadata": {
        "id": "3Lyce0gQ14Gn"
      },
      "source": [
        "x_values = np.arange(0, user_df.shape[0])"
      ],
      "execution_count": 55,
      "outputs": []
    },
    {
      "cell_type": "code",
      "metadata": {
        "id": "2z7XjG6HzTtg",
        "colab": {
          "base_uri": "https://localhost:8080/",
          "height": 392
        },
        "outputId": "48af4226-839a-43cb-8923-eb68b42f575e"
      },
      "source": [
        "plt.figure(figsize=(10, 6))\n",
        "sns.lineplot(x=x_values, y=user_df['points'], style=user_df['rating'])"
      ],
      "execution_count": 56,
      "outputs": [
        {
          "output_type": "execute_result",
          "data": {
            "text/plain": [
              "<matplotlib.axes._subplots.AxesSubplot at 0x7fa69bd81550>"
            ]
          },
          "metadata": {},
          "execution_count": 56
        },
        {
          "output_type": "display_data",
          "data": {
            "image/png": "[encoded data removed]",
            "text/plain": [
              "<Figure size 720x432 with 1 Axes>"
            ]
          },
          "metadata": {
            "needs_background": "light"
          }
        }
      ]
    },
    {
      "cell_type": "code",
      "metadata": {
        "id": "99u_Vfl59ma7"
      },
      "source": [
        "users_df = df['country'].value_counts().head(10)"
      ],
      "execution_count": 57,
      "outputs": []
    },
    {
      "cell_type": "code",
      "metadata": {
        "id": "w0V9rODO72KI",
        "colab": {
          "base_uri": "https://localhost:8080/",
          "height": 591
        },
        "outputId": "856d9345-0b19-4e61-c850-ca5c3ef2e647"
      },
      "source": [
        "plt.figure(figsize=(10, 10))\n",
        "plt.title('Country with most users')\n",
        "users_df.plot.pie(y=df.values, autopct='%1.1f%%', textprops={'fontsize': 12})\n",
        "plt.show()"
      ],
      "execution_count": 58,
      "outputs": [
        {
          "output_type": "display_data",
          "data": {
            "image/png": "[encoded data removed]",
            "text/plain": [
              "<Figure size 720x720 with 1 Axes>"
            ]
          },
          "metadata": {}
        }
      ]
    },
    {
      "cell_type": "code",
      "metadata": {
        "id": "celY6TXR4VS3"
      },
      "source": [
        "expert_df = df[df['rank']=='expert']"
      ],
      "execution_count": 59,
      "outputs": []
    },
    {
      "cell_type": "code",
      "metadata": {
        "id": "ON8ReU266zUM",
        "colab": {
          "base_uri": "https://localhost:8080/"
        },
        "outputId": "980c139e-5132-40bf-a2d8-9ea859fc6e28"
      },
      "source": [
        "expert_df['country'].value_counts()"
      ],
      "execution_count": 60,
      "outputs": [
        {
          "output_type": "execute_result",
          "data": {
            "text/plain": [
              "Russia         2156\n",
              "China           467\n",
              "Ukraine         345\n",
              "India           343\n",
              "Taiwan          329\n",
              "Poland          314\n",
              "Japan           211\n",
              "South Korea     128\n",
              "Belarus         108\n",
              "Lithuania       100\n",
              "Iran             93\n",
              "Philippines      78\n",
              "Romania          68\n",
              "Kazakhstan       62\n",
              "Croatia          52\n",
              "Finland          49\n",
              "Vietnam          48\n",
              "Canada           44\n",
              "Malaysia         44\n",
              "Name: country, dtype: int64"
            ]
          },
          "metadata": {},
          "execution_count": 60
        }
      ]
    },
    {
      "cell_type": "code",
      "metadata": {
        "id": "zS-HuodF7TZ9"
      },
      "source": [
        "exp_values = expert_df['country'].value_counts().head(10)"
      ],
      "execution_count": 61,
      "outputs": []
    },
    {
      "cell_type": "code",
      "metadata": {
        "id": "fIaXY8Or61kw",
        "colab": {
          "base_uri": "https://localhost:8080/",
          "height": 591
        },
        "outputId": "041b95ec-be7b-4fe7-baba-25e0f6992ce7"
      },
      "source": [
        "plt.figure(figsize=(10,10))\n",
        "plt.title('Country with most experts')\n",
        "exp_values.plot.pie(y=exp_values.values, autopct='%1.1f%%', textprops={'fontsize': 14})\n",
        "plt.show()"
      ],
      "execution_count": 62,
      "outputs": [
        {
          "output_type": "display_data",
          "data": {
            "image/png": "[encoded data removed]",
            "text/plain": [
              "<Figure size 720x720 with 1 Axes>"
            ]
          },
          "metadata": {}
        }
      ]
    },
    {
      "cell_type": "markdown",
      "metadata": {
        "id": "rZupUafqHW60"
      },
      "source": [
        "**Label Encoding**"
      ]
    },
    {
      "cell_type": "code",
      "metadata": {
        "colab": {
          "base_uri": "https://localhost:8080/"
        },
        "id": "aY8B2_bqJxGn",
        "outputId": "cd936356-26ed-415b-c8e6-06e1bdeee944"
      },
      "source": [
        "df['level_type'].value_counts()"
      ],
      "execution_count": 63,
      "outputs": [
        {
          "output_type": "execute_result",
          "data": {
            "text/plain": [
              "A    60336\n",
              "B    40406\n",
              "C    25869\n",
              "D    13854\n",
              "E     5757\n",
              "F     1896\n",
              "G     1454\n",
              "H     1183\n",
              "J     1015\n",
              "I      955\n",
              "K      759\n",
              "L      480\n",
              "M      227\n",
              "N       58\n",
              "Name: level_type, dtype: int64"
            ]
          },
          "metadata": {},
          "execution_count": 63
        }
      ]
    },
    {
      "cell_type": "code",
      "metadata": {
        "colab": {
          "base_uri": "https://localhost:8080/",
          "height": 206
        },
        "id": "s34Qm9wAHhb1",
        "outputId": "706036bc-043b-413d-d361-fd439c2b06a4"
      },
      "source": [
        "label_encoder = preprocessing.LabelEncoder()\n",
        "df['level_type']= label_encoder.fit_transform(df['level_type'])\n",
        "df[['level_type']].head()"
      ],
      "execution_count": 64,
      "outputs": [
        {
          "output_type": "execute_result",
          "data": {
            "text/html": [
              "<div>\n",
              "<style scoped>\n",
              "    .dataframe tbody tr th:only-of-type {\n",
              "        vertical-align: middle;\n",
              "    }\n",
              "\n",
              "    .dataframe tbody tr th {\n",
              "        vertical-align: top;\n",
              "    }\n",
              "\n",
              "    .dataframe thead th {\n",
              "        text-align: right;\n",
              "    }\n",
              "</style>\n",
              "<table border=\"1\" class=\"dataframe\">\n",
              "  <thead>\n",
              "    <tr style=\"text-align: right;\">\n",
              "      <th></th>\n",
              "      <th>level_type</th>\n",
              "    </tr>\n",
              "  </thead>\n",
              "  <tbody>\n",
              "    <tr>\n",
              "      <th>0</th>\n",
              "      <td>1</td>\n",
              "    </tr>\n",
              "    <tr>\n",
              "      <th>1</th>\n",
              "      <td>0</td>\n",
              "    </tr>\n",
              "    <tr>\n",
              "      <th>2</th>\n",
              "      <td>0</td>\n",
              "    </tr>\n",
              "    <tr>\n",
              "      <th>3</th>\n",
              "      <td>2</td>\n",
              "    </tr>\n",
              "    <tr>\n",
              "      <th>4</th>\n",
              "      <td>0</td>\n",
              "    </tr>\n",
              "  </tbody>\n",
              "</table>\n",
              "</div>"
            ],
            "text/plain": [
              "   level_type\n",
              "0           1\n",
              "1           0\n",
              "2           0\n",
              "3           2\n",
              "4           0"
            ]
          },
          "metadata": {},
          "execution_count": 64
        }
      ]
    },
    {
      "cell_type": "code",
      "metadata": {
        "colab": {
          "base_uri": "https://localhost:8080/",
          "height": 206
        },
        "id": "PH12JkcCJWVz",
        "outputId": "283d35f8-8c93-4add-e7e1-9ed496a1b5bf"
      },
      "source": [
        "df[['level_type']].tail()"
      ],
      "execution_count": 65,
      "outputs": [
        {
          "output_type": "execute_result",
          "data": {
            "text/html": [
              "<div>\n",
              "<style scoped>\n",
              "    .dataframe tbody tr th:only-of-type {\n",
              "        vertical-align: middle;\n",
              "    }\n",
              "\n",
              "    .dataframe tbody tr th {\n",
              "        vertical-align: top;\n",
              "    }\n",
              "\n",
              "    .dataframe thead th {\n",
              "        text-align: right;\n",
              "    }\n",
              "</style>\n",
              "<table border=\"1\" class=\"dataframe\">\n",
              "  <thead>\n",
              "    <tr style=\"text-align: right;\">\n",
              "      <th></th>\n",
              "      <th>level_type</th>\n",
              "    </tr>\n",
              "  </thead>\n",
              "  <tbody>\n",
              "    <tr>\n",
              "      <th>155290</th>\n",
              "      <td>1</td>\n",
              "    </tr>\n",
              "    <tr>\n",
              "      <th>155291</th>\n",
              "      <td>8</td>\n",
              "    </tr>\n",
              "    <tr>\n",
              "      <th>155292</th>\n",
              "      <td>4</td>\n",
              "    </tr>\n",
              "    <tr>\n",
              "      <th>155293</th>\n",
              "      <td>2</td>\n",
              "    </tr>\n",
              "    <tr>\n",
              "      <th>155294</th>\n",
              "      <td>0</td>\n",
              "    </tr>\n",
              "  </tbody>\n",
              "</table>\n",
              "</div>"
            ],
            "text/plain": [
              "        level_type\n",
              "155290           1\n",
              "155291           8\n",
              "155292           4\n",
              "155293           2\n",
              "155294           0"
            ]
          },
          "metadata": {},
          "execution_count": 65
        }
      ]
    },
    {
      "cell_type": "code",
      "metadata": {
        "colab": {
          "base_uri": "https://localhost:8080/",
          "height": 206
        },
        "id": "_TIP1ia6P_FV",
        "outputId": "9261ee25-ca43-491f-a45d-b4d6bdfb4904"
      },
      "source": [
        "df['rank']= label_encoder.fit_transform(df['rank'])\n",
        "df[['rank']].head()"
      ],
      "execution_count": 66,
      "outputs": [
        {
          "output_type": "execute_result",
          "data": {
            "text/html": [
              "<div>\n",
              "<style scoped>\n",
              "    .dataframe tbody tr th:only-of-type {\n",
              "        vertical-align: middle;\n",
              "    }\n",
              "\n",
              "    .dataframe tbody tr th {\n",
              "        vertical-align: top;\n",
              "    }\n",
              "\n",
              "    .dataframe thead th {\n",
              "        text-align: right;\n",
              "    }\n",
              "</style>\n",
              "<table border=\"1\" class=\"dataframe\">\n",
              "  <thead>\n",
              "    <tr style=\"text-align: right;\">\n",
              "      <th></th>\n",
              "      <th>rank</th>\n",
              "    </tr>\n",
              "  </thead>\n",
              "  <tbody>\n",
              "    <tr>\n",
              "      <th>0</th>\n",
              "      <td>1</td>\n",
              "    </tr>\n",
              "    <tr>\n",
              "      <th>1</th>\n",
              "      <td>1</td>\n",
              "    </tr>\n",
              "    <tr>\n",
              "      <th>2</th>\n",
              "      <td>1</td>\n",
              "    </tr>\n",
              "    <tr>\n",
              "      <th>3</th>\n",
              "      <td>1</td>\n",
              "    </tr>\n",
              "    <tr>\n",
              "      <th>4</th>\n",
              "      <td>1</td>\n",
              "    </tr>\n",
              "  </tbody>\n",
              "</table>\n",
              "</div>"
            ],
            "text/plain": [
              "   rank\n",
              "0     1\n",
              "1     1\n",
              "2     1\n",
              "3     1\n",
              "4     1"
            ]
          },
          "metadata": {},
          "execution_count": 66
        }
      ]
    },
    {
      "cell_type": "code",
      "metadata": {
        "colab": {
          "base_uri": "https://localhost:8080/",
          "height": 206
        },
        "id": "bioY8rK-ZL2A",
        "outputId": "2e39d743-935e-41f5-8d63-46a0e57cf858"
      },
      "source": [
        "df['country']= label_encoder.fit_transform(df['country'])\n",
        "df[['country']].head()"
      ],
      "execution_count": 67,
      "outputs": [
        {
          "output_type": "execute_result",
          "data": {
            "text/html": [
              "<div>\n",
              "<style scoped>\n",
              "    .dataframe tbody tr th:only-of-type {\n",
              "        vertical-align: middle;\n",
              "    }\n",
              "\n",
              "    .dataframe tbody tr th {\n",
              "        vertical-align: top;\n",
              "    }\n",
              "\n",
              "    .dataframe thead th {\n",
              "        text-align: right;\n",
              "    }\n",
              "</style>\n",
              "<table border=\"1\" class=\"dataframe\">\n",
              "  <thead>\n",
              "    <tr style=\"text-align: right;\">\n",
              "      <th></th>\n",
              "      <th>country</th>\n",
              "    </tr>\n",
              "  </thead>\n",
              "  <tbody>\n",
              "    <tr>\n",
              "      <th>0</th>\n",
              "      <td>5</td>\n",
              "    </tr>\n",
              "    <tr>\n",
              "      <th>1</th>\n",
              "      <td>5</td>\n",
              "    </tr>\n",
              "    <tr>\n",
              "      <th>2</th>\n",
              "      <td>5</td>\n",
              "    </tr>\n",
              "    <tr>\n",
              "      <th>3</th>\n",
              "      <td>5</td>\n",
              "    </tr>\n",
              "    <tr>\n",
              "      <th>4</th>\n",
              "      <td>5</td>\n",
              "    </tr>\n",
              "  </tbody>\n",
              "</table>\n",
              "</div>"
            ],
            "text/plain": [
              "   country\n",
              "0        5\n",
              "1        5\n",
              "2        5\n",
              "3        5\n",
              "4        5"
            ]
          },
          "metadata": {},
          "execution_count": 67
        }
      ]
    },
    {
      "cell_type": "markdown",
      "metadata": {
        "id": "wrvprh1pJaQx"
      },
      "source": [
        "**One-Hot Encoding**"
      ]
    },
    {
      "cell_type": "code",
      "metadata": {
        "id": "dXKeqb_zYdo4"
      },
      "source": [
        "df = pd.concat([df.drop('tags', axis=1), df.tags.str.get_dummies(sep=',').add_prefix('tag_')],1)"
      ],
      "execution_count": 68,
      "outputs": []
    },
    {
      "cell_type": "code",
      "metadata": {
        "colab": {
          "base_uri": "https://localhost:8080/",
          "height": 261
        },
        "id": "1PbBBGNtYj-P",
        "outputId": "f0274ffc-177a-47d0-ea7b-6fac6b2ad107"
      },
      "source": [
        "df.head()"
      ],
      "execution_count": 69,
      "outputs": [
        {
          "output_type": "execute_result",
          "data": {
            "text/html": [
              "<div>\n",
              "<style scoped>\n",
              "    .dataframe tbody tr th:only-of-type {\n",
              "        vertical-align: middle;\n",
              "    }\n",
              "\n",
              "    .dataframe tbody tr th {\n",
              "        vertical-align: top;\n",
              "    }\n",
              "\n",
              "    .dataframe thead th {\n",
              "        text-align: right;\n",
              "    }\n",
              "</style>\n",
              "<table border=\"1\" class=\"dataframe\">\n",
              "  <thead>\n",
              "    <tr style=\"text-align: right;\">\n",
              "      <th></th>\n",
              "      <th>user_id</th>\n",
              "      <th>problem_id</th>\n",
              "      <th>attempts_range</th>\n",
              "      <th>level_type</th>\n",
              "      <th>points</th>\n",
              "      <th>submission_count</th>\n",
              "      <th>problem_solved</th>\n",
              "      <th>contribution</th>\n",
              "      <th>country</th>\n",
              "      <th>follower_count</th>\n",
              "      <th>last_online_time_seconds</th>\n",
              "      <th>max_rating</th>\n",
              "      <th>rating</th>\n",
              "      <th>rank</th>\n",
              "      <th>registration_time_seconds</th>\n",
              "      <th>tag_*special</th>\n",
              "      <th>tag_2-sat</th>\n",
              "      <th>tag_binary search</th>\n",
              "      <th>tag_bitmasks</th>\n",
              "      <th>tag_brute force</th>\n",
              "      <th>tag_chinese remainder theorem</th>\n",
              "      <th>tag_combinatorics</th>\n",
              "      <th>tag_constructive algorithms</th>\n",
              "      <th>tag_data structures</th>\n",
              "      <th>tag_dfs and similar</th>\n",
              "      <th>tag_divide and conquer</th>\n",
              "      <th>tag_dp</th>\n",
              "      <th>tag_dsu</th>\n",
              "      <th>tag_expression parsing</th>\n",
              "      <th>tag_fft</th>\n",
              "      <th>tag_flows</th>\n",
              "      <th>tag_games</th>\n",
              "      <th>tag_geometry</th>\n",
              "      <th>tag_graph matchings</th>\n",
              "      <th>tag_graphs</th>\n",
              "      <th>tag_greedy</th>\n",
              "      <th>tag_hashing</th>\n",
              "      <th>tag_implementation</th>\n",
              "      <th>tag_math</th>\n",
              "      <th>tag_matrices</th>\n",
              "      <th>tag_meet-in-the-middle</th>\n",
              "      <th>tag_number theory</th>\n",
              "      <th>tag_probabilities</th>\n",
              "      <th>tag_schedules</th>\n",
              "      <th>tag_shortest paths</th>\n",
              "      <th>tag_sortings</th>\n",
              "      <th>tag_string suffix structures</th>\n",
              "      <th>tag_strings</th>\n",
              "      <th>tag_ternary search</th>\n",
              "      <th>tag_trees</th>\n",
              "      <th>tag_two pointers</th>\n",
              "    </tr>\n",
              "  </thead>\n",
              "  <tbody>\n",
              "    <tr>\n",
              "      <th>0</th>\n",
              "      <td>user_232</td>\n",
              "      <td>prob_6507</td>\n",
              "      <td>1</td>\n",
              "      <td>1</td>\n",
              "      <td>1000.0</td>\n",
              "      <td>53</td>\n",
              "      <td>47</td>\n",
              "      <td>0</td>\n",
              "      <td>5</td>\n",
              "      <td>1</td>\n",
              "      <td>1503633778</td>\n",
              "      <td>307.913</td>\n",
              "      <td>206.709</td>\n",
              "      <td>1</td>\n",
              "      <td>1432110935</td>\n",
              "      <td>0</td>\n",
              "      <td>0</td>\n",
              "      <td>0</td>\n",
              "      <td>0</td>\n",
              "      <td>0</td>\n",
              "      <td>0</td>\n",
              "      <td>0</td>\n",
              "      <td>0</td>\n",
              "      <td>0</td>\n",
              "      <td>0</td>\n",
              "      <td>0</td>\n",
              "      <td>0</td>\n",
              "      <td>0</td>\n",
              "      <td>0</td>\n",
              "      <td>0</td>\n",
              "      <td>0</td>\n",
              "      <td>0</td>\n",
              "      <td>0</td>\n",
              "      <td>0</td>\n",
              "      <td>0</td>\n",
              "      <td>0</td>\n",
              "      <td>0</td>\n",
              "      <td>0</td>\n",
              "      <td>0</td>\n",
              "      <td>0</td>\n",
              "      <td>0</td>\n",
              "      <td>0</td>\n",
              "      <td>0</td>\n",
              "      <td>0</td>\n",
              "      <td>0</td>\n",
              "      <td>0</td>\n",
              "      <td>0</td>\n",
              "      <td>1</td>\n",
              "      <td>0</td>\n",
              "      <td>0</td>\n",
              "      <td>0</td>\n",
              "    </tr>\n",
              "    <tr>\n",
              "      <th>1</th>\n",
              "      <td>user_232</td>\n",
              "      <td>prob_5071</td>\n",
              "      <td>4</td>\n",
              "      <td>0</td>\n",
              "      <td>500.0</td>\n",
              "      <td>53</td>\n",
              "      <td>47</td>\n",
              "      <td>0</td>\n",
              "      <td>5</td>\n",
              "      <td>1</td>\n",
              "      <td>1503633778</td>\n",
              "      <td>307.913</td>\n",
              "      <td>206.709</td>\n",
              "      <td>1</td>\n",
              "      <td>1432110935</td>\n",
              "      <td>0</td>\n",
              "      <td>0</td>\n",
              "      <td>0</td>\n",
              "      <td>0</td>\n",
              "      <td>0</td>\n",
              "      <td>0</td>\n",
              "      <td>0</td>\n",
              "      <td>0</td>\n",
              "      <td>0</td>\n",
              "      <td>0</td>\n",
              "      <td>0</td>\n",
              "      <td>0</td>\n",
              "      <td>0</td>\n",
              "      <td>0</td>\n",
              "      <td>0</td>\n",
              "      <td>0</td>\n",
              "      <td>0</td>\n",
              "      <td>0</td>\n",
              "      <td>0</td>\n",
              "      <td>0</td>\n",
              "      <td>0</td>\n",
              "      <td>0</td>\n",
              "      <td>1</td>\n",
              "      <td>0</td>\n",
              "      <td>0</td>\n",
              "      <td>0</td>\n",
              "      <td>0</td>\n",
              "      <td>0</td>\n",
              "      <td>0</td>\n",
              "      <td>0</td>\n",
              "      <td>0</td>\n",
              "      <td>0</td>\n",
              "      <td>0</td>\n",
              "      <td>0</td>\n",
              "      <td>0</td>\n",
              "      <td>0</td>\n",
              "    </tr>\n",
              "    <tr>\n",
              "      <th>2</th>\n",
              "      <td>user_232</td>\n",
              "      <td>prob_703</td>\n",
              "      <td>2</td>\n",
              "      <td>0</td>\n",
              "      <td>500.0</td>\n",
              "      <td>53</td>\n",
              "      <td>47</td>\n",
              "      <td>0</td>\n",
              "      <td>5</td>\n",
              "      <td>1</td>\n",
              "      <td>1503633778</td>\n",
              "      <td>307.913</td>\n",
              "      <td>206.709</td>\n",
              "      <td>1</td>\n",
              "      <td>1432110935</td>\n",
              "      <td>0</td>\n",
              "      <td>0</td>\n",
              "      <td>0</td>\n",
              "      <td>0</td>\n",
              "      <td>1</td>\n",
              "      <td>0</td>\n",
              "      <td>0</td>\n",
              "      <td>0</td>\n",
              "      <td>0</td>\n",
              "      <td>0</td>\n",
              "      <td>0</td>\n",
              "      <td>0</td>\n",
              "      <td>0</td>\n",
              "      <td>0</td>\n",
              "      <td>0</td>\n",
              "      <td>0</td>\n",
              "      <td>0</td>\n",
              "      <td>0</td>\n",
              "      <td>0</td>\n",
              "      <td>0</td>\n",
              "      <td>0</td>\n",
              "      <td>0</td>\n",
              "      <td>1</td>\n",
              "      <td>0</td>\n",
              "      <td>0</td>\n",
              "      <td>0</td>\n",
              "      <td>0</td>\n",
              "      <td>0</td>\n",
              "      <td>0</td>\n",
              "      <td>0</td>\n",
              "      <td>0</td>\n",
              "      <td>0</td>\n",
              "      <td>0</td>\n",
              "      <td>0</td>\n",
              "      <td>0</td>\n",
              "      <td>0</td>\n",
              "    </tr>\n",
              "    <tr>\n",
              "      <th>3</th>\n",
              "      <td>user_232</td>\n",
              "      <td>prob_3935</td>\n",
              "      <td>1</td>\n",
              "      <td>2</td>\n",
              "      <td>1000.0</td>\n",
              "      <td>53</td>\n",
              "      <td>47</td>\n",
              "      <td>0</td>\n",
              "      <td>5</td>\n",
              "      <td>1</td>\n",
              "      <td>1503633778</td>\n",
              "      <td>307.913</td>\n",
              "      <td>206.709</td>\n",
              "      <td>1</td>\n",
              "      <td>1432110935</td>\n",
              "      <td>0</td>\n",
              "      <td>0</td>\n",
              "      <td>0</td>\n",
              "      <td>0</td>\n",
              "      <td>0</td>\n",
              "      <td>0</td>\n",
              "      <td>0</td>\n",
              "      <td>0</td>\n",
              "      <td>0</td>\n",
              "      <td>0</td>\n",
              "      <td>0</td>\n",
              "      <td>0</td>\n",
              "      <td>0</td>\n",
              "      <td>0</td>\n",
              "      <td>0</td>\n",
              "      <td>0</td>\n",
              "      <td>0</td>\n",
              "      <td>0</td>\n",
              "      <td>0</td>\n",
              "      <td>0</td>\n",
              "      <td>1</td>\n",
              "      <td>0</td>\n",
              "      <td>0</td>\n",
              "      <td>0</td>\n",
              "      <td>0</td>\n",
              "      <td>0</td>\n",
              "      <td>0</td>\n",
              "      <td>0</td>\n",
              "      <td>0</td>\n",
              "      <td>0</td>\n",
              "      <td>1</td>\n",
              "      <td>0</td>\n",
              "      <td>0</td>\n",
              "      <td>0</td>\n",
              "      <td>0</td>\n",
              "      <td>0</td>\n",
              "    </tr>\n",
              "    <tr>\n",
              "      <th>4</th>\n",
              "      <td>user_232</td>\n",
              "      <td>prob_164</td>\n",
              "      <td>2</td>\n",
              "      <td>0</td>\n",
              "      <td>500.0</td>\n",
              "      <td>53</td>\n",
              "      <td>47</td>\n",
              "      <td>0</td>\n",
              "      <td>5</td>\n",
              "      <td>1</td>\n",
              "      <td>1503633778</td>\n",
              "      <td>307.913</td>\n",
              "      <td>206.709</td>\n",
              "      <td>1</td>\n",
              "      <td>1432110935</td>\n",
              "      <td>0</td>\n",
              "      <td>0</td>\n",
              "      <td>0</td>\n",
              "      <td>0</td>\n",
              "      <td>1</td>\n",
              "      <td>0</td>\n",
              "      <td>0</td>\n",
              "      <td>1</td>\n",
              "      <td>0</td>\n",
              "      <td>0</td>\n",
              "      <td>0</td>\n",
              "      <td>0</td>\n",
              "      <td>0</td>\n",
              "      <td>0</td>\n",
              "      <td>0</td>\n",
              "      <td>0</td>\n",
              "      <td>0</td>\n",
              "      <td>0</td>\n",
              "      <td>0</td>\n",
              "      <td>0</td>\n",
              "      <td>0</td>\n",
              "      <td>0</td>\n",
              "      <td>0</td>\n",
              "      <td>1</td>\n",
              "      <td>0</td>\n",
              "      <td>0</td>\n",
              "      <td>0</td>\n",
              "      <td>0</td>\n",
              "      <td>0</td>\n",
              "      <td>0</td>\n",
              "      <td>0</td>\n",
              "      <td>0</td>\n",
              "      <td>0</td>\n",
              "      <td>0</td>\n",
              "      <td>0</td>\n",
              "      <td>0</td>\n",
              "    </tr>\n",
              "  </tbody>\n",
              "</table>\n",
              "</div>"
            ],
            "text/plain": [
              "    user_id problem_id  ...  tag_trees  tag_two pointers\n",
              "0  user_232  prob_6507  ...          0                 0\n",
              "1  user_232  prob_5071  ...          0                 0\n",
              "2  user_232   prob_703  ...          0                 0\n",
              "3  user_232  prob_3935  ...          0                 0\n",
              "4  user_232   prob_164  ...          0                 0\n",
              "\n",
              "[5 rows x 51 columns]"
            ]
          },
          "metadata": {},
          "execution_count": 69
        }
      ]
    },
    {
      "cell_type": "code",
      "metadata": {
        "colab": {
          "base_uri": "https://localhost:8080/"
        },
        "id": "-c-mvt5WYs1_",
        "outputId": "9f40a683-d36a-4735-ac4e-53bd14bc42a6"
      },
      "source": [
        "df.shape"
      ],
      "execution_count": 70,
      "outputs": [
        {
          "output_type": "execute_result",
          "data": {
            "text/plain": [
              "(154249, 51)"
            ]
          },
          "metadata": {},
          "execution_count": 70
        }
      ]
    },
    {
      "cell_type": "code",
      "metadata": {
        "colab": {
          "base_uri": "https://localhost:8080/",
          "height": 206
        },
        "id": "r_6wj3M5ooDQ",
        "outputId": "7e763392-846b-4e78-c800-1e2b3f218118"
      },
      "source": [
        "df['registration_time'] = pd.to_datetime(df['registration_time_seconds'], unit='s')\n",
        "df[['registration_time']].tail()"
      ],
      "execution_count": 71,
      "outputs": [
        {
          "output_type": "execute_result",
          "data": {
            "text/html": [
              "<div>\n",
              "<style scoped>\n",
              "    .dataframe tbody tr th:only-of-type {\n",
              "        vertical-align: middle;\n",
              "    }\n",
              "\n",
              "    .dataframe tbody tr th {\n",
              "        vertical-align: top;\n",
              "    }\n",
              "\n",
              "    .dataframe thead th {\n",
              "        text-align: right;\n",
              "    }\n",
              "</style>\n",
              "<table border=\"1\" class=\"dataframe\">\n",
              "  <thead>\n",
              "    <tr style=\"text-align: right;\">\n",
              "      <th></th>\n",
              "      <th>registration_time</th>\n",
              "    </tr>\n",
              "  </thead>\n",
              "  <tbody>\n",
              "    <tr>\n",
              "      <th>155290</th>\n",
              "      <td>2015-03-20 00:29:29</td>\n",
              "    </tr>\n",
              "    <tr>\n",
              "      <th>155291</th>\n",
              "      <td>2010-02-01 18:05:37</td>\n",
              "    </tr>\n",
              "    <tr>\n",
              "      <th>155292</th>\n",
              "      <td>2010-02-01 18:05:37</td>\n",
              "    </tr>\n",
              "    <tr>\n",
              "      <th>155293</th>\n",
              "      <td>2010-02-01 18:05:37</td>\n",
              "    </tr>\n",
              "    <tr>\n",
              "      <th>155294</th>\n",
              "      <td>2017-01-12 15:08:06</td>\n",
              "    </tr>\n",
              "  </tbody>\n",
              "</table>\n",
              "</div>"
            ],
            "text/plain": [
              "         registration_time\n",
              "155290 2015-03-20 00:29:29\n",
              "155291 2010-02-01 18:05:37\n",
              "155292 2010-02-01 18:05:37\n",
              "155293 2010-02-01 18:05:37\n",
              "155294 2017-01-12 15:08:06"
            ]
          },
          "metadata": {},
          "execution_count": 71
        }
      ]
    },
    {
      "cell_type": "code",
      "metadata": {
        "id": "xENdE8XGM3OY",
        "colab": {
          "base_uri": "https://localhost:8080/",
          "height": 206
        },
        "outputId": "cf9932ea-2040-4513-9187-3ff6f50faf13"
      },
      "source": [
        "df['last_online'] = pd.to_datetime(df['last_online_time_seconds'], unit='s')\n",
        "df[['last_online']].tail()"
      ],
      "execution_count": 72,
      "outputs": [
        {
          "output_type": "execute_result",
          "data": {
            "text/html": [
              "<div>\n",
              "<style scoped>\n",
              "    .dataframe tbody tr th:only-of-type {\n",
              "        vertical-align: middle;\n",
              "    }\n",
              "\n",
              "    .dataframe tbody tr th {\n",
              "        vertical-align: top;\n",
              "    }\n",
              "\n",
              "    .dataframe thead th {\n",
              "        text-align: right;\n",
              "    }\n",
              "</style>\n",
              "<table border=\"1\" class=\"dataframe\">\n",
              "  <thead>\n",
              "    <tr style=\"text-align: right;\">\n",
              "      <th></th>\n",
              "      <th>last_online</th>\n",
              "    </tr>\n",
              "  </thead>\n",
              "  <tbody>\n",
              "    <tr>\n",
              "      <th>155290</th>\n",
              "      <td>2017-08-15 13:56:29</td>\n",
              "    </tr>\n",
              "    <tr>\n",
              "      <th>155291</th>\n",
              "      <td>2017-01-12 19:45:34</td>\n",
              "    </tr>\n",
              "    <tr>\n",
              "      <th>155292</th>\n",
              "      <td>2017-01-12 19:45:34</td>\n",
              "    </tr>\n",
              "    <tr>\n",
              "      <th>155293</th>\n",
              "      <td>2017-01-12 19:45:34</td>\n",
              "    </tr>\n",
              "    <tr>\n",
              "      <th>155294</th>\n",
              "      <td>2017-09-10 18:57:24</td>\n",
              "    </tr>\n",
              "  </tbody>\n",
              "</table>\n",
              "</div>"
            ],
            "text/plain": [
              "               last_online\n",
              "155290 2017-08-15 13:56:29\n",
              "155291 2017-01-12 19:45:34\n",
              "155292 2017-01-12 19:45:34\n",
              "155293 2017-01-12 19:45:34\n",
              "155294 2017-09-10 18:57:24"
            ]
          },
          "metadata": {},
          "execution_count": 72
        }
      ]
    },
    {
      "cell_type": "code",
      "metadata": {
        "colab": {
          "base_uri": "https://localhost:8080/",
          "height": 347
        },
        "id": "G_1dSZsDpdmn",
        "outputId": "c98e8294-e4ce-40cd-8745-de2363927ee3"
      },
      "source": [
        "df.drop(columns=['last_online_time_seconds', 'registration_time_seconds'], axis=1, inplace=True)\n",
        "df.head()"
      ],
      "execution_count": 73,
      "outputs": [
        {
          "output_type": "execute_result",
          "data": {
            "text/html": [
              "<div>\n",
              "<style scoped>\n",
              "    .dataframe tbody tr th:only-of-type {\n",
              "        vertical-align: middle;\n",
              "    }\n",
              "\n",
              "    .dataframe tbody tr th {\n",
              "        vertical-align: top;\n",
              "    }\n",
              "\n",
              "    .dataframe thead th {\n",
              "        text-align: right;\n",
              "    }\n",
              "</style>\n",
              "<table border=\"1\" class=\"dataframe\">\n",
              "  <thead>\n",
              "    <tr style=\"text-align: right;\">\n",
              "      <th></th>\n",
              "      <th>user_id</th>\n",
              "      <th>problem_id</th>\n",
              "      <th>attempts_range</th>\n",
              "      <th>level_type</th>\n",
              "      <th>points</th>\n",
              "      <th>submission_count</th>\n",
              "      <th>problem_solved</th>\n",
              "      <th>contribution</th>\n",
              "      <th>country</th>\n",
              "      <th>follower_count</th>\n",
              "      <th>max_rating</th>\n",
              "      <th>rating</th>\n",
              "      <th>rank</th>\n",
              "      <th>tag_*special</th>\n",
              "      <th>tag_2-sat</th>\n",
              "      <th>tag_binary search</th>\n",
              "      <th>tag_bitmasks</th>\n",
              "      <th>tag_brute force</th>\n",
              "      <th>tag_chinese remainder theorem</th>\n",
              "      <th>tag_combinatorics</th>\n",
              "      <th>tag_constructive algorithms</th>\n",
              "      <th>tag_data structures</th>\n",
              "      <th>tag_dfs and similar</th>\n",
              "      <th>tag_divide and conquer</th>\n",
              "      <th>tag_dp</th>\n",
              "      <th>tag_dsu</th>\n",
              "      <th>tag_expression parsing</th>\n",
              "      <th>tag_fft</th>\n",
              "      <th>tag_flows</th>\n",
              "      <th>tag_games</th>\n",
              "      <th>tag_geometry</th>\n",
              "      <th>tag_graph matchings</th>\n",
              "      <th>tag_graphs</th>\n",
              "      <th>tag_greedy</th>\n",
              "      <th>tag_hashing</th>\n",
              "      <th>tag_implementation</th>\n",
              "      <th>tag_math</th>\n",
              "      <th>tag_matrices</th>\n",
              "      <th>tag_meet-in-the-middle</th>\n",
              "      <th>tag_number theory</th>\n",
              "      <th>tag_probabilities</th>\n",
              "      <th>tag_schedules</th>\n",
              "      <th>tag_shortest paths</th>\n",
              "      <th>tag_sortings</th>\n",
              "      <th>tag_string suffix structures</th>\n",
              "      <th>tag_strings</th>\n",
              "      <th>tag_ternary search</th>\n",
              "      <th>tag_trees</th>\n",
              "      <th>tag_two pointers</th>\n",
              "      <th>registration_time</th>\n",
              "      <th>last_online</th>\n",
              "    </tr>\n",
              "  </thead>\n",
              "  <tbody>\n",
              "    <tr>\n",
              "      <th>0</th>\n",
              "      <td>user_232</td>\n",
              "      <td>prob_6507</td>\n",
              "      <td>1</td>\n",
              "      <td>1</td>\n",
              "      <td>1000.0</td>\n",
              "      <td>53</td>\n",
              "      <td>47</td>\n",
              "      <td>0</td>\n",
              "      <td>5</td>\n",
              "      <td>1</td>\n",
              "      <td>307.913</td>\n",
              "      <td>206.709</td>\n",
              "      <td>1</td>\n",
              "      <td>0</td>\n",
              "      <td>0</td>\n",
              "      <td>0</td>\n",
              "      <td>0</td>\n",
              "      <td>0</td>\n",
              "      <td>0</td>\n",
              "      <td>0</td>\n",
              "      <td>0</td>\n",
              "      <td>0</td>\n",
              "      <td>0</td>\n",
              "      <td>0</td>\n",
              "      <td>0</td>\n",
              "      <td>0</td>\n",
              "      <td>0</td>\n",
              "      <td>0</td>\n",
              "      <td>0</td>\n",
              "      <td>0</td>\n",
              "      <td>0</td>\n",
              "      <td>0</td>\n",
              "      <td>0</td>\n",
              "      <td>0</td>\n",
              "      <td>0</td>\n",
              "      <td>0</td>\n",
              "      <td>0</td>\n",
              "      <td>0</td>\n",
              "      <td>0</td>\n",
              "      <td>0</td>\n",
              "      <td>0</td>\n",
              "      <td>0</td>\n",
              "      <td>0</td>\n",
              "      <td>0</td>\n",
              "      <td>0</td>\n",
              "      <td>1</td>\n",
              "      <td>0</td>\n",
              "      <td>0</td>\n",
              "      <td>0</td>\n",
              "      <td>2015-05-20 08:35:35</td>\n",
              "      <td>2017-08-25 04:02:58</td>\n",
              "    </tr>\n",
              "    <tr>\n",
              "      <th>1</th>\n",
              "      <td>user_232</td>\n",
              "      <td>prob_5071</td>\n",
              "      <td>4</td>\n",
              "      <td>0</td>\n",
              "      <td>500.0</td>\n",
              "      <td>53</td>\n",
              "      <td>47</td>\n",
              "      <td>0</td>\n",
              "      <td>5</td>\n",
              "      <td>1</td>\n",
              "      <td>307.913</td>\n",
              "      <td>206.709</td>\n",
              "      <td>1</td>\n",
              "      <td>0</td>\n",
              "      <td>0</td>\n",
              "      <td>0</td>\n",
              "      <td>0</td>\n",
              "      <td>0</td>\n",
              "      <td>0</td>\n",
              "      <td>0</td>\n",
              "      <td>0</td>\n",
              "      <td>0</td>\n",
              "      <td>0</td>\n",
              "      <td>0</td>\n",
              "      <td>0</td>\n",
              "      <td>0</td>\n",
              "      <td>0</td>\n",
              "      <td>0</td>\n",
              "      <td>0</td>\n",
              "      <td>0</td>\n",
              "      <td>0</td>\n",
              "      <td>0</td>\n",
              "      <td>0</td>\n",
              "      <td>0</td>\n",
              "      <td>0</td>\n",
              "      <td>1</td>\n",
              "      <td>0</td>\n",
              "      <td>0</td>\n",
              "      <td>0</td>\n",
              "      <td>0</td>\n",
              "      <td>0</td>\n",
              "      <td>0</td>\n",
              "      <td>0</td>\n",
              "      <td>0</td>\n",
              "      <td>0</td>\n",
              "      <td>0</td>\n",
              "      <td>0</td>\n",
              "      <td>0</td>\n",
              "      <td>0</td>\n",
              "      <td>2015-05-20 08:35:35</td>\n",
              "      <td>2017-08-25 04:02:58</td>\n",
              "    </tr>\n",
              "    <tr>\n",
              "      <th>2</th>\n",
              "      <td>user_232</td>\n",
              "      <td>prob_703</td>\n",
              "      <td>2</td>\n",
              "      <td>0</td>\n",
              "      <td>500.0</td>\n",
              "      <td>53</td>\n",
              "      <td>47</td>\n",
              "      <td>0</td>\n",
              "      <td>5</td>\n",
              "      <td>1</td>\n",
              "      <td>307.913</td>\n",
              "      <td>206.709</td>\n",
              "      <td>1</td>\n",
              "      <td>0</td>\n",
              "      <td>0</td>\n",
              "      <td>0</td>\n",
              "      <td>0</td>\n",
              "      <td>1</td>\n",
              "      <td>0</td>\n",
              "      <td>0</td>\n",
              "      <td>0</td>\n",
              "      <td>0</td>\n",
              "      <td>0</td>\n",
              "      <td>0</td>\n",
              "      <td>0</td>\n",
              "      <td>0</td>\n",
              "      <td>0</td>\n",
              "      <td>0</td>\n",
              "      <td>0</td>\n",
              "      <td>0</td>\n",
              "      <td>0</td>\n",
              "      <td>0</td>\n",
              "      <td>0</td>\n",
              "      <td>0</td>\n",
              "      <td>0</td>\n",
              "      <td>1</td>\n",
              "      <td>0</td>\n",
              "      <td>0</td>\n",
              "      <td>0</td>\n",
              "      <td>0</td>\n",
              "      <td>0</td>\n",
              "      <td>0</td>\n",
              "      <td>0</td>\n",
              "      <td>0</td>\n",
              "      <td>0</td>\n",
              "      <td>0</td>\n",
              "      <td>0</td>\n",
              "      <td>0</td>\n",
              "      <td>0</td>\n",
              "      <td>2015-05-20 08:35:35</td>\n",
              "      <td>2017-08-25 04:02:58</td>\n",
              "    </tr>\n",
              "    <tr>\n",
              "      <th>3</th>\n",
              "      <td>user_232</td>\n",
              "      <td>prob_3935</td>\n",
              "      <td>1</td>\n",
              "      <td>2</td>\n",
              "      <td>1000.0</td>\n",
              "      <td>53</td>\n",
              "      <td>47</td>\n",
              "      <td>0</td>\n",
              "      <td>5</td>\n",
              "      <td>1</td>\n",
              "      <td>307.913</td>\n",
              "      <td>206.709</td>\n",
              "      <td>1</td>\n",
              "      <td>0</td>\n",
              "      <td>0</td>\n",
              "      <td>0</td>\n",
              "      <td>0</td>\n",
              "      <td>0</td>\n",
              "      <td>0</td>\n",
              "      <td>0</td>\n",
              "      <td>0</td>\n",
              "      <td>0</td>\n",
              "      <td>0</td>\n",
              "      <td>0</td>\n",
              "      <td>0</td>\n",
              "      <td>0</td>\n",
              "      <td>0</td>\n",
              "      <td>0</td>\n",
              "      <td>0</td>\n",
              "      <td>0</td>\n",
              "      <td>0</td>\n",
              "      <td>0</td>\n",
              "      <td>0</td>\n",
              "      <td>1</td>\n",
              "      <td>0</td>\n",
              "      <td>0</td>\n",
              "      <td>0</td>\n",
              "      <td>0</td>\n",
              "      <td>0</td>\n",
              "      <td>0</td>\n",
              "      <td>0</td>\n",
              "      <td>0</td>\n",
              "      <td>0</td>\n",
              "      <td>1</td>\n",
              "      <td>0</td>\n",
              "      <td>0</td>\n",
              "      <td>0</td>\n",
              "      <td>0</td>\n",
              "      <td>0</td>\n",
              "      <td>2015-05-20 08:35:35</td>\n",
              "      <td>2017-08-25 04:02:58</td>\n",
              "    </tr>\n",
              "    <tr>\n",
              "      <th>4</th>\n",
              "      <td>user_232</td>\n",
              "      <td>prob_164</td>\n",
              "      <td>2</td>\n",
              "      <td>0</td>\n",
              "      <td>500.0</td>\n",
              "      <td>53</td>\n",
              "      <td>47</td>\n",
              "      <td>0</td>\n",
              "      <td>5</td>\n",
              "      <td>1</td>\n",
              "      <td>307.913</td>\n",
              "      <td>206.709</td>\n",
              "      <td>1</td>\n",
              "      <td>0</td>\n",
              "      <td>0</td>\n",
              "      <td>0</td>\n",
              "      <td>0</td>\n",
              "      <td>1</td>\n",
              "      <td>0</td>\n",
              "      <td>0</td>\n",
              "      <td>1</td>\n",
              "      <td>0</td>\n",
              "      <td>0</td>\n",
              "      <td>0</td>\n",
              "      <td>0</td>\n",
              "      <td>0</td>\n",
              "      <td>0</td>\n",
              "      <td>0</td>\n",
              "      <td>0</td>\n",
              "      <td>0</td>\n",
              "      <td>0</td>\n",
              "      <td>0</td>\n",
              "      <td>0</td>\n",
              "      <td>0</td>\n",
              "      <td>0</td>\n",
              "      <td>0</td>\n",
              "      <td>1</td>\n",
              "      <td>0</td>\n",
              "      <td>0</td>\n",
              "      <td>0</td>\n",
              "      <td>0</td>\n",
              "      <td>0</td>\n",
              "      <td>0</td>\n",
              "      <td>0</td>\n",
              "      <td>0</td>\n",
              "      <td>0</td>\n",
              "      <td>0</td>\n",
              "      <td>0</td>\n",
              "      <td>0</td>\n",
              "      <td>2015-05-20 08:35:35</td>\n",
              "      <td>2017-08-25 04:02:58</td>\n",
              "    </tr>\n",
              "  </tbody>\n",
              "</table>\n",
              "</div>"
            ],
            "text/plain": [
              "    user_id problem_id  ...   registration_time         last_online\n",
              "0  user_232  prob_6507  ... 2015-05-20 08:35:35 2017-08-25 04:02:58\n",
              "1  user_232  prob_5071  ... 2015-05-20 08:35:35 2017-08-25 04:02:58\n",
              "2  user_232   prob_703  ... 2015-05-20 08:35:35 2017-08-25 04:02:58\n",
              "3  user_232  prob_3935  ... 2015-05-20 08:35:35 2017-08-25 04:02:58\n",
              "4  user_232   prob_164  ... 2015-05-20 08:35:35 2017-08-25 04:02:58\n",
              "\n",
              "[5 rows x 51 columns]"
            ]
          },
          "metadata": {},
          "execution_count": 73
        }
      ]
    },
    {
      "cell_type": "code",
      "metadata": {
        "colab": {
          "base_uri": "https://localhost:8080/"
        },
        "id": "VMUxZgWzpKlj",
        "outputId": "9ee385e4-cb8b-414d-958b-84a7858d3e0d"
      },
      "source": [
        "df.dtypes"
      ],
      "execution_count": 74,
      "outputs": [
        {
          "output_type": "execute_result",
          "data": {
            "text/plain": [
              "user_id                                  object\n",
              "problem_id                               object\n",
              "attempts_range                            int64\n",
              "level_type                                int64\n",
              "points                                  float64\n",
              "submission_count                          int64\n",
              "problem_solved                            int64\n",
              "contribution                              int64\n",
              "country                                   int64\n",
              "follower_count                            int64\n",
              "max_rating                              float64\n",
              "rating                                  float64\n",
              "rank                                      int64\n",
              "tag_*special                              int64\n",
              "tag_2-sat                                 int64\n",
              "tag_binary search                         int64\n",
              "tag_bitmasks                              int64\n",
              "tag_brute force                           int64\n",
              "tag_chinese remainder theorem             int64\n",
              "tag_combinatorics                         int64\n",
              "tag_constructive algorithms               int64\n",
              "tag_data structures                       int64\n",
              "tag_dfs and similar                       int64\n",
              "tag_divide and conquer                    int64\n",
              "tag_dp                                    int64\n",
              "tag_dsu                                   int64\n",
              "tag_expression parsing                    int64\n",
              "tag_fft                                   int64\n",
              "tag_flows                                 int64\n",
              "tag_games                                 int64\n",
              "tag_geometry                              int64\n",
              "tag_graph matchings                       int64\n",
              "tag_graphs                                int64\n",
              "tag_greedy                                int64\n",
              "tag_hashing                               int64\n",
              "tag_implementation                        int64\n",
              "tag_math                                  int64\n",
              "tag_matrices                              int64\n",
              "tag_meet-in-the-middle                    int64\n",
              "tag_number theory                         int64\n",
              "tag_probabilities                         int64\n",
              "tag_schedules                             int64\n",
              "tag_shortest paths                        int64\n",
              "tag_sortings                              int64\n",
              "tag_string suffix structures              int64\n",
              "tag_strings                               int64\n",
              "tag_ternary search                        int64\n",
              "tag_trees                                 int64\n",
              "tag_two pointers                          int64\n",
              "registration_time                datetime64[ns]\n",
              "last_online                      datetime64[ns]\n",
              "dtype: object"
            ]
          },
          "metadata": {},
          "execution_count": 74
        }
      ]
    },
    {
      "cell_type": "markdown",
      "metadata": {
        "id": "vMUpG1E9JQc6"
      },
      "source": [
        "# Descriptive Analysis"
      ]
    },
    {
      "cell_type": "code",
      "metadata": {
        "id": "-Pz6CwvP23K9",
        "colab": {
          "base_uri": "https://localhost:8080/"
        },
        "outputId": "7b0dc06a-12ec-4ee4-b6f0-c34f1c511fd5"
      },
      "source": [
        "df.mean()"
      ],
      "execution_count": 75,
      "outputs": [
        {
          "output_type": "execute_result",
          "data": {
            "text/plain": [
              "attempts_range                     1.750501\n",
              "level_type                         1.402550\n",
              "points                           887.097330\n",
              "submission_count                 370.607168\n",
              "problem_solved                   334.494959\n",
              "contribution                       5.403400\n",
              "country                           33.275846\n",
              "follower_count                    59.866119\n",
              "max_rating                       406.687068\n",
              "rating                           367.743888\n",
              "rank                               1.697645\n",
              "tag_*special                       0.005673\n",
              "tag_2-sat                          0.002574\n",
              "tag_binary search                  0.077699\n",
              "tag_bitmasks                       0.015572\n",
              "tag_brute force                    0.173836\n",
              "tag_chinese remainder theorem      0.000421\n",
              "tag_combinatorics                  0.018282\n",
              "tag_constructive algorithms        0.116124\n",
              "tag_data structures                0.084435\n",
              "tag_dfs and similar                0.070464\n",
              "tag_divide and conquer             0.008434\n",
              "tag_dp                             0.105440\n",
              "tag_dsu                            0.019961\n",
              "tag_expression parsing             0.003138\n",
              "tag_fft                            0.000713\n",
              "tag_flows                          0.002165\n",
              "tag_games                          0.016836\n",
              "tag_geometry                       0.026016\n",
              "tag_graph matchings                0.005018\n",
              "tag_graphs                         0.038529\n",
              "tag_greedy                         0.178011\n",
              "tag_hashing                        0.010626\n",
              "tag_implementation                 0.497630\n",
              "tag_math                           0.208948\n",
              "tag_matrices                       0.003164\n",
              "tag_meet-in-the-middle             0.001524\n",
              "tag_number theory                  0.050172\n",
              "tag_probabilities                  0.009186\n",
              "tag_schedules                      0.000519\n",
              "tag_shortest paths                 0.011656\n",
              "tag_sortings                       0.096117\n",
              "tag_string suffix structures       0.002451\n",
              "tag_strings                        0.067579\n",
              "tag_ternary search                 0.002872\n",
              "tag_trees                          0.032499\n",
              "tag_two pointers                   0.028428\n",
              "dtype: float64"
            ]
          },
          "metadata": {},
          "execution_count": 75
        }
      ]
    },
    {
      "cell_type": "code",
      "metadata": {
        "colab": {
          "base_uri": "https://localhost:8080/"
        },
        "id": "XcY3cjKXEFw_",
        "outputId": "4401170b-cd28-48b4-a414-a5add8508061"
      },
      "source": [
        "df.median()"
      ],
      "execution_count": 76,
      "outputs": [
        {
          "output_type": "execute_result",
          "data": {
            "text/plain": [
              "attempts_range                     1.000\n",
              "level_type                         1.000\n",
              "points                           500.000\n",
              "submission_count                 236.000\n",
              "problem_solved                   208.000\n",
              "contribution                       0.000\n",
              "country                           31.000\n",
              "follower_count                    20.000\n",
              "max_rating                       382.454\n",
              "rating                           355.218\n",
              "rank                               1.000\n",
              "tag_*special                       0.000\n",
              "tag_2-sat                          0.000\n",
              "tag_binary search                  0.000\n",
              "tag_bitmasks                       0.000\n",
              "tag_brute force                    0.000\n",
              "tag_chinese remainder theorem      0.000\n",
              "tag_combinatorics                  0.000\n",
              "tag_constructive algorithms        0.000\n",
              "tag_data structures                0.000\n",
              "tag_dfs and similar                0.000\n",
              "tag_divide and conquer             0.000\n",
              "tag_dp                             0.000\n",
              "tag_dsu                            0.000\n",
              "tag_expression parsing             0.000\n",
              "tag_fft                            0.000\n",
              "tag_flows                          0.000\n",
              "tag_games                          0.000\n",
              "tag_geometry                       0.000\n",
              "tag_graph matchings                0.000\n",
              "tag_graphs                         0.000\n",
              "tag_greedy                         0.000\n",
              "tag_hashing                        0.000\n",
              "tag_implementation                 0.000\n",
              "tag_math                           0.000\n",
              "tag_matrices                       0.000\n",
              "tag_meet-in-the-middle             0.000\n",
              "tag_number theory                  0.000\n",
              "tag_probabilities                  0.000\n",
              "tag_schedules                      0.000\n",
              "tag_shortest paths                 0.000\n",
              "tag_sortings                       0.000\n",
              "tag_string suffix structures       0.000\n",
              "tag_strings                        0.000\n",
              "tag_ternary search                 0.000\n",
              "tag_trees                          0.000\n",
              "tag_two pointers                   0.000\n",
              "dtype: float64"
            ]
          },
          "metadata": {},
          "execution_count": 76
        }
      ]
    },
    {
      "cell_type": "code",
      "metadata": {
        "colab": {
          "base_uri": "https://localhost:8080/"
        },
        "id": "JNrj_KC3EHEw",
        "outputId": "c74badc7-a969-498e-bd95-b57203b3a2d5"
      },
      "source": [
        "df.var()"
      ],
      "execution_count": 77,
      "outputs": [
        {
          "output_type": "execute_result",
          "data": {
            "text/plain": [
              "attempts_range                        1.153422\n",
              "level_type                            3.466920\n",
              "points                           272636.903907\n",
              "submission_count                 157441.416451\n",
              "problem_solved                   141333.249808\n",
              "contribution                        356.595981\n",
              "country                             359.734480\n",
              "follower_count                    60469.410094\n",
              "max_rating                         9782.603908\n",
              "rating                            12418.312242\n",
              "rank                                  1.456672\n",
              "tag_*special                          0.005641\n",
              "tag_2-sat                             0.002567\n",
              "tag_binary search                     0.071662\n",
              "tag_bitmasks                          0.015330\n",
              "tag_brute force                       0.143618\n",
              "tag_chinese remainder theorem         0.000421\n",
              "tag_combinatorics                     0.017948\n",
              "tag_constructive algorithms           0.102640\n",
              "tag_data structures                   0.077306\n",
              "tag_dfs and similar                   0.065499\n",
              "tag_divide and conquer                0.008363\n",
              "tag_dp                                0.094323\n",
              "tag_dsu                               0.019563\n",
              "tag_expression parsing                0.003128\n",
              "tag_fft                               0.000713\n",
              "tag_flows                             0.002161\n",
              "tag_games                             0.016553\n",
              "tag_geometry                          0.025340\n",
              "tag_graph matchings                   0.004993\n",
              "tag_graphs                            0.037044\n",
              "tag_greedy                            0.146324\n",
              "tag_hashing                           0.010513\n",
              "tag_implementation                    0.249996\n",
              "tag_math                              0.165290\n",
              "tag_matrices                          0.003154\n",
              "tag_meet-in-the-middle                0.001521\n",
              "tag_number theory                     0.047655\n",
              "tag_probabilities                     0.009102\n",
              "tag_schedules                         0.000518\n",
              "tag_shortest paths                    0.011521\n",
              "tag_sortings                          0.086879\n",
              "tag_string suffix structures          0.002445\n",
              "tag_strings                           0.063013\n",
              "tag_ternary search                    0.002864\n",
              "tag_trees                             0.031443\n",
              "tag_two pointers                      0.027620\n",
              "dtype: float64"
            ]
          },
          "metadata": {},
          "execution_count": 77
        }
      ]
    },
    {
      "cell_type": "code",
      "metadata": {
        "colab": {
          "base_uri": "https://localhost:8080/",
          "height": 1000
        },
        "id": "rJVKiQZHEPTK",
        "outputId": "198b75b9-e726-456c-9a5f-8703fa6eeeaf"
      },
      "source": [
        "df.corr()"
      ],
      "execution_count": 78,
      "outputs": [
        {
          "output_type": "execute_result",
          "data": {
            "text/html": [
              "<div>\n",
              "<style scoped>\n",
              "    .dataframe tbody tr th:only-of-type {\n",
              "        vertical-align: middle;\n",
              "    }\n",
              "\n",
              "    .dataframe tbody tr th {\n",
              "        vertical-align: top;\n",
              "    }\n",
              "\n",
              "    .dataframe thead th {\n",
              "        text-align: right;\n",
              "    }\n",
              "</style>\n",
              "<table border=\"1\" class=\"dataframe\">\n",
              "  <thead>\n",
              "    <tr style=\"text-align: right;\">\n",
              "      <th></th>\n",
              "      <th>attempts_range</th>\n",
              "      <th>level_type</th>\n",
              "      <th>points</th>\n",
              "      <th>submission_count</th>\n",
              "      <th>problem_solved</th>\n",
              "      <th>contribution</th>\n",
              "      <th>country</th>\n",
              "      <th>follower_count</th>\n",
              "      <th>max_rating</th>\n",
              "      <th>rating</th>\n",
              "      <th>rank</th>\n",
              "      <th>tag_*special</th>\n",
              "      <th>tag_2-sat</th>\n",
              "      <th>tag_binary search</th>\n",
              "      <th>tag_bitmasks</th>\n",
              "      <th>tag_brute force</th>\n",
              "      <th>tag_chinese remainder theorem</th>\n",
              "      <th>tag_combinatorics</th>\n",
              "      <th>tag_constructive algorithms</th>\n",
              "      <th>tag_data structures</th>\n",
              "      <th>tag_dfs and similar</th>\n",
              "      <th>tag_divide and conquer</th>\n",
              "      <th>tag_dp</th>\n",
              "      <th>tag_dsu</th>\n",
              "      <th>tag_expression parsing</th>\n",
              "      <th>tag_fft</th>\n",
              "      <th>tag_flows</th>\n",
              "      <th>tag_games</th>\n",
              "      <th>tag_geometry</th>\n",
              "      <th>tag_graph matchings</th>\n",
              "      <th>tag_graphs</th>\n",
              "      <th>tag_greedy</th>\n",
              "      <th>tag_hashing</th>\n",
              "      <th>tag_implementation</th>\n",
              "      <th>tag_math</th>\n",
              "      <th>tag_matrices</th>\n",
              "      <th>tag_meet-in-the-middle</th>\n",
              "      <th>tag_number theory</th>\n",
              "      <th>tag_probabilities</th>\n",
              "      <th>tag_schedules</th>\n",
              "      <th>tag_shortest paths</th>\n",
              "      <th>tag_sortings</th>\n",
              "      <th>tag_string suffix structures</th>\n",
              "      <th>tag_strings</th>\n",
              "      <th>tag_ternary search</th>\n",
              "      <th>tag_trees</th>\n",
              "      <th>tag_two pointers</th>\n",
              "    </tr>\n",
              "  </thead>\n",
              "  <tbody>\n",
              "    <tr>\n",
              "      <th>attempts_range</th>\n",
              "      <td>1.000000</td>\n",
              "      <td>0.121232</td>\n",
              "      <td>0.155311</td>\n",
              "      <td>-0.008324</td>\n",
              "      <td>-0.008210</td>\n",
              "      <td>-0.026407</td>\n",
              "      <td>-0.009926</td>\n",
              "      <td>-0.018074</td>\n",
              "      <td>-0.048669</td>\n",
              "      <td>-0.044667</td>\n",
              "      <td>-0.002071</td>\n",
              "      <td>0.030005</td>\n",
              "      <td>0.009180</td>\n",
              "      <td>0.059875</td>\n",
              "      <td>0.008205</td>\n",
              "      <td>0.005369</td>\n",
              "      <td>0.004770</td>\n",
              "      <td>0.018861</td>\n",
              "      <td>-0.014904</td>\n",
              "      <td>0.078148</td>\n",
              "      <td>0.051132</td>\n",
              "      <td>0.019512</td>\n",
              "      <td>0.076299</td>\n",
              "      <td>0.015632</td>\n",
              "      <td>0.000082</td>\n",
              "      <td>0.015251</td>\n",
              "      <td>0.012510</td>\n",
              "      <td>-0.011591</td>\n",
              "      <td>-0.007803</td>\n",
              "      <td>0.003683</td>\n",
              "      <td>0.027154</td>\n",
              "      <td>0.025687</td>\n",
              "      <td>0.046919</td>\n",
              "      <td>-0.097583</td>\n",
              "      <td>-0.011131</td>\n",
              "      <td>0.024374</td>\n",
              "      <td>0.017897</td>\n",
              "      <td>0.034258</td>\n",
              "      <td>0.070773</td>\n",
              "      <td>-0.005844</td>\n",
              "      <td>0.017974</td>\n",
              "      <td>0.004691</td>\n",
              "      <td>0.035200</td>\n",
              "      <td>-0.024534</td>\n",
              "      <td>0.020138</td>\n",
              "      <td>0.073863</td>\n",
              "      <td>0.039230</td>\n",
              "    </tr>\n",
              "    <tr>\n",
              "      <th>level_type</th>\n",
              "      <td>0.121232</td>\n",
              "      <td>1.000000</td>\n",
              "      <td>0.327886</td>\n",
              "      <td>0.245495</td>\n",
              "      <td>0.244357</td>\n",
              "      <td>0.149116</td>\n",
              "      <td>0.078974</td>\n",
              "      <td>0.104047</td>\n",
              "      <td>0.316724</td>\n",
              "      <td>0.325128</td>\n",
              "      <td>-0.038066</td>\n",
              "      <td>0.073425</td>\n",
              "      <td>0.019942</td>\n",
              "      <td>0.049210</td>\n",
              "      <td>0.042213</td>\n",
              "      <td>-0.123757</td>\n",
              "      <td>0.018803</td>\n",
              "      <td>0.052494</td>\n",
              "      <td>-0.065376</td>\n",
              "      <td>0.128261</td>\n",
              "      <td>0.101133</td>\n",
              "      <td>0.031840</td>\n",
              "      <td>0.124627</td>\n",
              "      <td>0.039246</td>\n",
              "      <td>0.003061</td>\n",
              "      <td>0.035049</td>\n",
              "      <td>0.067756</td>\n",
              "      <td>-0.009483</td>\n",
              "      <td>-0.022889</td>\n",
              "      <td>-0.008898</td>\n",
              "      <td>0.047535</td>\n",
              "      <td>-0.008886</td>\n",
              "      <td>0.052439</td>\n",
              "      <td>-0.062432</td>\n",
              "      <td>-0.151956</td>\n",
              "      <td>0.041947</td>\n",
              "      <td>0.026103</td>\n",
              "      <td>-0.024058</td>\n",
              "      <td>0.047465</td>\n",
              "      <td>0.004862</td>\n",
              "      <td>0.027548</td>\n",
              "      <td>-0.025116</td>\n",
              "      <td>0.042875</td>\n",
              "      <td>-0.071519</td>\n",
              "      <td>0.013056</td>\n",
              "      <td>0.129144</td>\n",
              "      <td>0.021806</td>\n",
              "    </tr>\n",
              "    <tr>\n",
              "      <th>points</th>\n",
              "      <td>0.155311</td>\n",
              "      <td>0.327886</td>\n",
              "      <td>1.000000</td>\n",
              "      <td>0.106636</td>\n",
              "      <td>0.108894</td>\n",
              "      <td>0.097911</td>\n",
              "      <td>0.041679</td>\n",
              "      <td>0.063850</td>\n",
              "      <td>0.229908</td>\n",
              "      <td>0.245043</td>\n",
              "      <td>0.005056</td>\n",
              "      <td>-0.055996</td>\n",
              "      <td>0.066121</td>\n",
              "      <td>0.159071</td>\n",
              "      <td>0.111678</td>\n",
              "      <td>-0.021246</td>\n",
              "      <td>0.043460</td>\n",
              "      <td>0.113335</td>\n",
              "      <td>0.045403</td>\n",
              "      <td>0.267656</td>\n",
              "      <td>0.251939</td>\n",
              "      <td>0.094498</td>\n",
              "      <td>0.295258</td>\n",
              "      <td>0.094242</td>\n",
              "      <td>0.028337</td>\n",
              "      <td>0.054497</td>\n",
              "      <td>0.033196</td>\n",
              "      <td>0.048634</td>\n",
              "      <td>0.043042</td>\n",
              "      <td>0.002572</td>\n",
              "      <td>0.153258</td>\n",
              "      <td>0.116518</td>\n",
              "      <td>0.090737</td>\n",
              "      <td>-0.372230</td>\n",
              "      <td>-0.066739</td>\n",
              "      <td>0.057285</td>\n",
              "      <td>0.068621</td>\n",
              "      <td>0.039227</td>\n",
              "      <td>0.127090</td>\n",
              "      <td>0.022104</td>\n",
              "      <td>0.088464</td>\n",
              "      <td>0.058740</td>\n",
              "      <td>0.061821</td>\n",
              "      <td>-0.025973</td>\n",
              "      <td>0.013635</td>\n",
              "      <td>0.221700</td>\n",
              "      <td>0.083887</td>\n",
              "    </tr>\n",
              "    <tr>\n",
              "      <th>submission_count</th>\n",
              "      <td>-0.008324</td>\n",
              "      <td>0.245495</td>\n",
              "      <td>0.106636</td>\n",
              "      <td>1.000000</td>\n",
              "      <td>0.997868</td>\n",
              "      <td>0.438748</td>\n",
              "      <td>0.158971</td>\n",
              "      <td>0.331228</td>\n",
              "      <td>0.596070</td>\n",
              "      <td>0.545409</td>\n",
              "      <td>-0.097511</td>\n",
              "      <td>0.015703</td>\n",
              "      <td>0.019609</td>\n",
              "      <td>0.025488</td>\n",
              "      <td>0.024737</td>\n",
              "      <td>-0.019493</td>\n",
              "      <td>0.001460</td>\n",
              "      <td>0.039568</td>\n",
              "      <td>-0.043886</td>\n",
              "      <td>0.072668</td>\n",
              "      <td>0.051997</td>\n",
              "      <td>0.039375</td>\n",
              "      <td>0.061799</td>\n",
              "      <td>0.014982</td>\n",
              "      <td>-0.003912</td>\n",
              "      <td>0.027346</td>\n",
              "      <td>0.031418</td>\n",
              "      <td>0.010499</td>\n",
              "      <td>0.003555</td>\n",
              "      <td>-0.004900</td>\n",
              "      <td>0.030411</td>\n",
              "      <td>-0.028186</td>\n",
              "      <td>0.020836</td>\n",
              "      <td>-0.053548</td>\n",
              "      <td>-0.067544</td>\n",
              "      <td>0.033605</td>\n",
              "      <td>0.029306</td>\n",
              "      <td>-0.024095</td>\n",
              "      <td>0.040032</td>\n",
              "      <td>0.002434</td>\n",
              "      <td>0.022202</td>\n",
              "      <td>-0.013503</td>\n",
              "      <td>0.030620</td>\n",
              "      <td>-0.060349</td>\n",
              "      <td>0.010636</td>\n",
              "      <td>0.059413</td>\n",
              "      <td>0.019196</td>\n",
              "    </tr>\n",
              "    <tr>\n",
              "      <th>problem_solved</th>\n",
              "      <td>-0.008210</td>\n",
              "      <td>0.244357</td>\n",
              "      <td>0.108894</td>\n",
              "      <td>0.997868</td>\n",
              "      <td>1.000000</td>\n",
              "      <td>0.437159</td>\n",
              "      <td>0.156429</td>\n",
              "      <td>0.332613</td>\n",
              "      <td>0.595866</td>\n",
              "      <td>0.547593</td>\n",
              "      <td>-0.099197</td>\n",
              "      <td>0.015523</td>\n",
              "      <td>0.019928</td>\n",
              "      <td>0.026193</td>\n",
              "      <td>0.025349</td>\n",
              "      <td>-0.018753</td>\n",
              "      <td>0.001371</td>\n",
              "      <td>0.040443</td>\n",
              "      <td>-0.043880</td>\n",
              "      <td>0.073458</td>\n",
              "      <td>0.052577</td>\n",
              "      <td>0.039622</td>\n",
              "      <td>0.063495</td>\n",
              "      <td>0.015092</td>\n",
              "      <td>-0.003740</td>\n",
              "      <td>0.027841</td>\n",
              "      <td>0.032268</td>\n",
              "      <td>0.010194</td>\n",
              "      <td>0.003503</td>\n",
              "      <td>-0.004464</td>\n",
              "      <td>0.031046</td>\n",
              "      <td>-0.027446</td>\n",
              "      <td>0.021739</td>\n",
              "      <td>-0.055293</td>\n",
              "      <td>-0.067069</td>\n",
              "      <td>0.033602</td>\n",
              "      <td>0.030160</td>\n",
              "      <td>-0.023605</td>\n",
              "      <td>0.040332</td>\n",
              "      <td>0.002554</td>\n",
              "      <td>0.022401</td>\n",
              "      <td>-0.013273</td>\n",
              "      <td>0.031203</td>\n",
              "      <td>-0.059579</td>\n",
              "      <td>0.010761</td>\n",
              "      <td>0.060195</td>\n",
              "      <td>0.019136</td>\n",
              "    </tr>\n",
              "    <tr>\n",
              "      <th>contribution</th>\n",
              "      <td>-0.026407</td>\n",
              "      <td>0.149116</td>\n",
              "      <td>0.097911</td>\n",
              "      <td>0.438748</td>\n",
              "      <td>0.437159</td>\n",
              "      <td>1.000000</td>\n",
              "      <td>0.149839</td>\n",
              "      <td>0.479894</td>\n",
              "      <td>0.546372</td>\n",
              "      <td>0.483560</td>\n",
              "      <td>-0.081153</td>\n",
              "      <td>0.036035</td>\n",
              "      <td>0.016512</td>\n",
              "      <td>0.020737</td>\n",
              "      <td>0.023442</td>\n",
              "      <td>-0.014178</td>\n",
              "      <td>0.009146</td>\n",
              "      <td>0.030189</td>\n",
              "      <td>-0.023126</td>\n",
              "      <td>0.052863</td>\n",
              "      <td>0.042602</td>\n",
              "      <td>0.031415</td>\n",
              "      <td>0.046673</td>\n",
              "      <td>0.017278</td>\n",
              "      <td>-0.003494</td>\n",
              "      <td>0.036571</td>\n",
              "      <td>0.034826</td>\n",
              "      <td>0.009282</td>\n",
              "      <td>0.003826</td>\n",
              "      <td>0.006850</td>\n",
              "      <td>0.033885</td>\n",
              "      <td>-0.017204</td>\n",
              "      <td>0.011739</td>\n",
              "      <td>-0.054253</td>\n",
              "      <td>-0.032076</td>\n",
              "      <td>0.030317</td>\n",
              "      <td>0.023715</td>\n",
              "      <td>-0.005267</td>\n",
              "      <td>0.025374</td>\n",
              "      <td>-0.000230</td>\n",
              "      <td>0.031015</td>\n",
              "      <td>-0.008746</td>\n",
              "      <td>0.018592</td>\n",
              "      <td>-0.037473</td>\n",
              "      <td>0.005538</td>\n",
              "      <td>0.040410</td>\n",
              "      <td>0.005729</td>\n",
              "    </tr>\n",
              "    <tr>\n",
              "      <th>country</th>\n",
              "      <td>-0.009926</td>\n",
              "      <td>0.078974</td>\n",
              "      <td>0.041679</td>\n",
              "      <td>0.158971</td>\n",
              "      <td>0.156429</td>\n",
              "      <td>0.149839</td>\n",
              "      <td>1.000000</td>\n",
              "      <td>0.002582</td>\n",
              "      <td>0.272475</td>\n",
              "      <td>0.265407</td>\n",
              "      <td>-0.026381</td>\n",
              "      <td>0.018672</td>\n",
              "      <td>0.010022</td>\n",
              "      <td>0.018383</td>\n",
              "      <td>0.009509</td>\n",
              "      <td>-0.009772</td>\n",
              "      <td>0.005964</td>\n",
              "      <td>0.005218</td>\n",
              "      <td>-0.005863</td>\n",
              "      <td>0.020942</td>\n",
              "      <td>0.027733</td>\n",
              "      <td>0.015572</td>\n",
              "      <td>0.020854</td>\n",
              "      <td>0.013010</td>\n",
              "      <td>-0.001941</td>\n",
              "      <td>0.005322</td>\n",
              "      <td>0.011184</td>\n",
              "      <td>-0.000910</td>\n",
              "      <td>0.000200</td>\n",
              "      <td>0.001400</td>\n",
              "      <td>0.019712</td>\n",
              "      <td>0.002860</td>\n",
              "      <td>0.006780</td>\n",
              "      <td>-0.024117</td>\n",
              "      <td>-0.019569</td>\n",
              "      <td>0.011342</td>\n",
              "      <td>0.008187</td>\n",
              "      <td>-0.006089</td>\n",
              "      <td>0.002465</td>\n",
              "      <td>-0.001968</td>\n",
              "      <td>0.010984</td>\n",
              "      <td>-0.005005</td>\n",
              "      <td>0.002701</td>\n",
              "      <td>-0.017555</td>\n",
              "      <td>0.004508</td>\n",
              "      <td>0.011950</td>\n",
              "      <td>0.006006</td>\n",
              "    </tr>\n",
              "    <tr>\n",
              "      <th>follower_count</th>\n",
              "      <td>-0.018074</td>\n",
              "      <td>0.104047</td>\n",
              "      <td>0.063850</td>\n",
              "      <td>0.331228</td>\n",
              "      <td>0.332613</td>\n",
              "      <td>0.479894</td>\n",
              "      <td>0.002582</td>\n",
              "      <td>1.000000</td>\n",
              "      <td>0.396125</td>\n",
              "      <td>0.346171</td>\n",
              "      <td>-0.039510</td>\n",
              "      <td>0.012403</td>\n",
              "      <td>0.013070</td>\n",
              "      <td>0.011596</td>\n",
              "      <td>0.013104</td>\n",
              "      <td>-0.010294</td>\n",
              "      <td>0.015787</td>\n",
              "      <td>0.021608</td>\n",
              "      <td>-0.017604</td>\n",
              "      <td>0.032899</td>\n",
              "      <td>0.029879</td>\n",
              "      <td>0.018046</td>\n",
              "      <td>0.028587</td>\n",
              "      <td>0.012296</td>\n",
              "      <td>-0.003029</td>\n",
              "      <td>0.030326</td>\n",
              "      <td>0.032319</td>\n",
              "      <td>0.006164</td>\n",
              "      <td>0.005056</td>\n",
              "      <td>0.006395</td>\n",
              "      <td>0.024031</td>\n",
              "      <td>-0.015413</td>\n",
              "      <td>0.005939</td>\n",
              "      <td>-0.034403</td>\n",
              "      <td>-0.022702</td>\n",
              "      <td>0.026359</td>\n",
              "      <td>0.018881</td>\n",
              "      <td>-0.000250</td>\n",
              "      <td>0.024597</td>\n",
              "      <td>-0.002207</td>\n",
              "      <td>0.018127</td>\n",
              "      <td>-0.007752</td>\n",
              "      <td>0.012039</td>\n",
              "      <td>-0.026157</td>\n",
              "      <td>0.001616</td>\n",
              "      <td>0.022498</td>\n",
              "      <td>0.005065</td>\n",
              "    </tr>\n",
              "    <tr>\n",
              "      <th>max_rating</th>\n",
              "      <td>-0.048669</td>\n",
              "      <td>0.316724</td>\n",
              "      <td>0.229908</td>\n",
              "      <td>0.596070</td>\n",
              "      <td>0.595866</td>\n",
              "      <td>0.546372</td>\n",
              "      <td>0.272475</td>\n",
              "      <td>0.396125</td>\n",
              "      <td>1.000000</td>\n",
              "      <td>0.940582</td>\n",
              "      <td>-0.159148</td>\n",
              "      <td>0.040564</td>\n",
              "      <td>0.047976</td>\n",
              "      <td>0.061281</td>\n",
              "      <td>0.050443</td>\n",
              "      <td>-0.031664</td>\n",
              "      <td>0.017191</td>\n",
              "      <td>0.051316</td>\n",
              "      <td>-0.027606</td>\n",
              "      <td>0.113328</td>\n",
              "      <td>0.110526</td>\n",
              "      <td>0.070466</td>\n",
              "      <td>0.107187</td>\n",
              "      <td>0.052705</td>\n",
              "      <td>0.005342</td>\n",
              "      <td>0.048396</td>\n",
              "      <td>0.060110</td>\n",
              "      <td>0.016629</td>\n",
              "      <td>0.006671</td>\n",
              "      <td>0.009530</td>\n",
              "      <td>0.068522</td>\n",
              "      <td>-0.016028</td>\n",
              "      <td>0.044268</td>\n",
              "      <td>-0.119003</td>\n",
              "      <td>-0.073729</td>\n",
              "      <td>0.048981</td>\n",
              "      <td>0.036023</td>\n",
              "      <td>-0.006449</td>\n",
              "      <td>0.049262</td>\n",
              "      <td>-0.001601</td>\n",
              "      <td>0.046626</td>\n",
              "      <td>-0.018063</td>\n",
              "      <td>0.040600</td>\n",
              "      <td>-0.066508</td>\n",
              "      <td>0.014872</td>\n",
              "      <td>0.087393</td>\n",
              "      <td>0.020119</td>\n",
              "    </tr>\n",
              "    <tr>\n",
              "      <th>rating</th>\n",
              "      <td>-0.044667</td>\n",
              "      <td>0.325128</td>\n",
              "      <td>0.245043</td>\n",
              "      <td>0.545409</td>\n",
              "      <td>0.547593</td>\n",
              "      <td>0.483560</td>\n",
              "      <td>0.265407</td>\n",
              "      <td>0.346171</td>\n",
              "      <td>0.940582</td>\n",
              "      <td>1.000000</td>\n",
              "      <td>-0.072054</td>\n",
              "      <td>0.036242</td>\n",
              "      <td>0.047026</td>\n",
              "      <td>0.069086</td>\n",
              "      <td>0.048986</td>\n",
              "      <td>-0.030993</td>\n",
              "      <td>0.016838</td>\n",
              "      <td>0.052139</td>\n",
              "      <td>-0.025522</td>\n",
              "      <td>0.122449</td>\n",
              "      <td>0.116523</td>\n",
              "      <td>0.070317</td>\n",
              "      <td>0.115051</td>\n",
              "      <td>0.056493</td>\n",
              "      <td>0.002840</td>\n",
              "      <td>0.044788</td>\n",
              "      <td>0.056864</td>\n",
              "      <td>0.018545</td>\n",
              "      <td>0.009998</td>\n",
              "      <td>0.005538</td>\n",
              "      <td>0.069162</td>\n",
              "      <td>-0.007691</td>\n",
              "      <td>0.046697</td>\n",
              "      <td>-0.129273</td>\n",
              "      <td>-0.075872</td>\n",
              "      <td>0.047856</td>\n",
              "      <td>0.035329</td>\n",
              "      <td>-0.005594</td>\n",
              "      <td>0.050213</td>\n",
              "      <td>-0.001019</td>\n",
              "      <td>0.043860</td>\n",
              "      <td>-0.014731</td>\n",
              "      <td>0.039526</td>\n",
              "      <td>-0.071982</td>\n",
              "      <td>0.016567</td>\n",
              "      <td>0.093886</td>\n",
              "      <td>0.026652</td>\n",
              "    </tr>\n",
              "    <tr>\n",
              "      <th>rank</th>\n",
              "      <td>-0.002071</td>\n",
              "      <td>-0.038066</td>\n",
              "      <td>0.005056</td>\n",
              "      <td>-0.097511</td>\n",
              "      <td>-0.099197</td>\n",
              "      <td>-0.081153</td>\n",
              "      <td>-0.026381</td>\n",
              "      <td>-0.039510</td>\n",
              "      <td>-0.159148</td>\n",
              "      <td>-0.072054</td>\n",
              "      <td>1.000000</td>\n",
              "      <td>-0.018341</td>\n",
              "      <td>-0.018867</td>\n",
              "      <td>0.011332</td>\n",
              "      <td>-0.010922</td>\n",
              "      <td>0.015611</td>\n",
              "      <td>-0.003493</td>\n",
              "      <td>-0.001738</td>\n",
              "      <td>0.013678</td>\n",
              "      <td>-0.002842</td>\n",
              "      <td>-0.006542</td>\n",
              "      <td>-0.021006</td>\n",
              "      <td>-0.000393</td>\n",
              "      <td>-0.001807</td>\n",
              "      <td>-0.009188</td>\n",
              "      <td>-0.009003</td>\n",
              "      <td>-0.017104</td>\n",
              "      <td>0.000218</td>\n",
              "      <td>0.006457</td>\n",
              "      <td>-0.020372</td>\n",
              "      <td>-0.011976</td>\n",
              "      <td>0.020194</td>\n",
              "      <td>-0.009348</td>\n",
              "      <td>-0.012844</td>\n",
              "      <td>0.011639</td>\n",
              "      <td>-0.013434</td>\n",
              "      <td>-0.014454</td>\n",
              "      <td>0.002139</td>\n",
              "      <td>-0.001439</td>\n",
              "      <td>0.007594</td>\n",
              "      <td>-0.012279</td>\n",
              "      <td>0.004423</td>\n",
              "      <td>-0.013331</td>\n",
              "      <td>-0.004478</td>\n",
              "      <td>0.001801</td>\n",
              "      <td>0.005383</td>\n",
              "      <td>0.016446</td>\n",
              "    </tr>\n",
              "    <tr>\n",
              "      <th>tag_*special</th>\n",
              "      <td>0.030005</td>\n",
              "      <td>0.073425</td>\n",
              "      <td>-0.055996</td>\n",
              "      <td>0.015703</td>\n",
              "      <td>0.015523</td>\n",
              "      <td>0.036035</td>\n",
              "      <td>0.018672</td>\n",
              "      <td>0.012403</td>\n",
              "      <td>0.040564</td>\n",
              "      <td>0.036242</td>\n",
              "      <td>-0.018341</td>\n",
              "      <td>1.000000</td>\n",
              "      <td>-0.003837</td>\n",
              "      <td>-0.013539</td>\n",
              "      <td>-0.009500</td>\n",
              "      <td>-0.009591</td>\n",
              "      <td>-0.001551</td>\n",
              "      <td>-0.006441</td>\n",
              "      <td>0.033247</td>\n",
              "      <td>-0.022937</td>\n",
              "      <td>-0.020796</td>\n",
              "      <td>-0.006966</td>\n",
              "      <td>-0.022277</td>\n",
              "      <td>0.001564</td>\n",
              "      <td>-0.002694</td>\n",
              "      <td>-0.002018</td>\n",
              "      <td>-0.003519</td>\n",
              "      <td>-0.009884</td>\n",
              "      <td>-0.012345</td>\n",
              "      <td>-0.002921</td>\n",
              "      <td>-0.015120</td>\n",
              "      <td>-0.011680</td>\n",
              "      <td>-0.007828</td>\n",
              "      <td>-0.030805</td>\n",
              "      <td>-0.038607</td>\n",
              "      <td>-0.004255</td>\n",
              "      <td>-0.002950</td>\n",
              "      <td>-0.011824</td>\n",
              "      <td>-0.007273</td>\n",
              "      <td>-0.001721</td>\n",
              "      <td>-0.008203</td>\n",
              "      <td>0.003191</td>\n",
              "      <td>-0.003744</td>\n",
              "      <td>0.001674</td>\n",
              "      <td>0.033047</td>\n",
              "      <td>-0.012870</td>\n",
              "      <td>-0.005648</td>\n",
              "    </tr>\n",
              "    <tr>\n",
              "      <th>tag_2-sat</th>\n",
              "      <td>0.009180</td>\n",
              "      <td>0.019942</td>\n",
              "      <td>0.066121</td>\n",
              "      <td>0.019609</td>\n",
              "      <td>0.019928</td>\n",
              "      <td>0.016512</td>\n",
              "      <td>0.010022</td>\n",
              "      <td>0.013070</td>\n",
              "      <td>0.047976</td>\n",
              "      <td>0.047026</td>\n",
              "      <td>-0.018867</td>\n",
              "      <td>-0.003837</td>\n",
              "      <td>1.000000</td>\n",
              "      <td>-0.012832</td>\n",
              "      <td>-0.006389</td>\n",
              "      <td>0.029708</td>\n",
              "      <td>-0.001043</td>\n",
              "      <td>-0.006932</td>\n",
              "      <td>-0.018412</td>\n",
              "      <td>-0.015426</td>\n",
              "      <td>0.103005</td>\n",
              "      <td>-0.004685</td>\n",
              "      <td>-0.017440</td>\n",
              "      <td>0.206819</td>\n",
              "      <td>-0.002850</td>\n",
              "      <td>-0.001357</td>\n",
              "      <td>-0.002366</td>\n",
              "      <td>-0.006647</td>\n",
              "      <td>-0.008302</td>\n",
              "      <td>0.318727</td>\n",
              "      <td>0.131434</td>\n",
              "      <td>0.036571</td>\n",
              "      <td>-0.005264</td>\n",
              "      <td>-0.010380</td>\n",
              "      <td>-0.026107</td>\n",
              "      <td>-0.002862</td>\n",
              "      <td>-0.001984</td>\n",
              "      <td>-0.011675</td>\n",
              "      <td>-0.004891</td>\n",
              "      <td>-0.001157</td>\n",
              "      <td>-0.005517</td>\n",
              "      <td>-0.016565</td>\n",
              "      <td>-0.002518</td>\n",
              "      <td>-0.013676</td>\n",
              "      <td>-0.002726</td>\n",
              "      <td>-0.009310</td>\n",
              "      <td>-0.008689</td>\n",
              "    </tr>\n",
              "    <tr>\n",
              "      <th>tag_binary search</th>\n",
              "      <td>0.059875</td>\n",
              "      <td>0.049210</td>\n",
              "      <td>0.159071</td>\n",
              "      <td>0.025488</td>\n",
              "      <td>0.026193</td>\n",
              "      <td>0.020737</td>\n",
              "      <td>0.018383</td>\n",
              "      <td>0.011596</td>\n",
              "      <td>0.061281</td>\n",
              "      <td>0.069086</td>\n",
              "      <td>0.011332</td>\n",
              "      <td>-0.013539</td>\n",
              "      <td>-0.012832</td>\n",
              "      <td>1.000000</td>\n",
              "      <td>0.052492</td>\n",
              "      <td>0.015246</td>\n",
              "      <td>-0.005959</td>\n",
              "      <td>-0.013578</td>\n",
              "      <td>-0.052895</td>\n",
              "      <td>0.194329</td>\n",
              "      <td>-0.052756</td>\n",
              "      <td>-0.025445</td>\n",
              "      <td>0.048835</td>\n",
              "      <td>-0.034324</td>\n",
              "      <td>-0.015851</td>\n",
              "      <td>-0.007754</td>\n",
              "      <td>0.041706</td>\n",
              "      <td>0.060275</td>\n",
              "      <td>-0.037396</td>\n",
              "      <td>0.021202</td>\n",
              "      <td>-0.035831</td>\n",
              "      <td>0.092594</td>\n",
              "      <td>0.008893</td>\n",
              "      <td>-0.161781</td>\n",
              "      <td>0.049963</td>\n",
              "      <td>0.003486</td>\n",
              "      <td>-0.011338</td>\n",
              "      <td>-0.040638</td>\n",
              "      <td>-0.026171</td>\n",
              "      <td>-0.006612</td>\n",
              "      <td>-0.013019</td>\n",
              "      <td>0.095887</td>\n",
              "      <td>0.034595</td>\n",
              "      <td>-0.022955</td>\n",
              "      <td>0.112947</td>\n",
              "      <td>-0.020555</td>\n",
              "      <td>0.192977</td>\n",
              "    </tr>\n",
              "    <tr>\n",
              "      <th>tag_bitmasks</th>\n",
              "      <td>0.008205</td>\n",
              "      <td>0.042213</td>\n",
              "      <td>0.111678</td>\n",
              "      <td>0.024737</td>\n",
              "      <td>0.025349</td>\n",
              "      <td>0.023442</td>\n",
              "      <td>0.009509</td>\n",
              "      <td>0.013104</td>\n",
              "      <td>0.050443</td>\n",
              "      <td>0.048986</td>\n",
              "      <td>-0.010922</td>\n",
              "      <td>-0.009500</td>\n",
              "      <td>-0.006389</td>\n",
              "      <td>0.052492</td>\n",
              "      <td>1.000000</td>\n",
              "      <td>0.082410</td>\n",
              "      <td>-0.002582</td>\n",
              "      <td>0.045763</td>\n",
              "      <td>0.037275</td>\n",
              "      <td>-0.008439</td>\n",
              "      <td>0.005677</td>\n",
              "      <td>0.068559</td>\n",
              "      <td>0.108046</td>\n",
              "      <td>-0.016827</td>\n",
              "      <td>0.096865</td>\n",
              "      <td>0.108444</td>\n",
              "      <td>-0.005859</td>\n",
              "      <td>0.021390</td>\n",
              "      <td>-0.019898</td>\n",
              "      <td>-0.008191</td>\n",
              "      <td>-0.020008</td>\n",
              "      <td>-0.045936</td>\n",
              "      <td>-0.013034</td>\n",
              "      <td>-0.052080</td>\n",
              "      <td>-0.032699</td>\n",
              "      <td>0.043264</td>\n",
              "      <td>0.000457</td>\n",
              "      <td>-0.013795</td>\n",
              "      <td>0.051005</td>\n",
              "      <td>-0.002865</td>\n",
              "      <td>-0.013171</td>\n",
              "      <td>-0.034796</td>\n",
              "      <td>-0.006234</td>\n",
              "      <td>-0.030522</td>\n",
              "      <td>-0.006750</td>\n",
              "      <td>0.041026</td>\n",
              "      <td>-0.021514</td>\n",
              "    </tr>\n",
              "    <tr>\n",
              "      <th>tag_brute force</th>\n",
              "      <td>0.005369</td>\n",
              "      <td>-0.123757</td>\n",
              "      <td>-0.021246</td>\n",
              "      <td>-0.019493</td>\n",
              "      <td>-0.018753</td>\n",
              "      <td>-0.014178</td>\n",
              "      <td>-0.009772</td>\n",
              "      <td>-0.010294</td>\n",
              "      <td>-0.031664</td>\n",
              "      <td>-0.030993</td>\n",
              "      <td>0.015611</td>\n",
              "      <td>-0.009591</td>\n",
              "      <td>0.029708</td>\n",
              "      <td>0.015246</td>\n",
              "      <td>0.082410</td>\n",
              "      <td>1.000000</td>\n",
              "      <td>-0.009418</td>\n",
              "      <td>-0.009349</td>\n",
              "      <td>0.037445</td>\n",
              "      <td>-0.086079</td>\n",
              "      <td>-0.056043</td>\n",
              "      <td>-0.042119</td>\n",
              "      <td>0.091781</td>\n",
              "      <td>-0.047241</td>\n",
              "      <td>0.010358</td>\n",
              "      <td>0.024273</td>\n",
              "      <td>-0.015112</td>\n",
              "      <td>-0.057368</td>\n",
              "      <td>0.023900</td>\n",
              "      <td>0.005436</td>\n",
              "      <td>0.001857</td>\n",
              "      <td>-0.063558</td>\n",
              "      <td>0.005687</td>\n",
              "      <td>-0.071216</td>\n",
              "      <td>0.094813</td>\n",
              "      <td>-0.001472</td>\n",
              "      <td>0.082086</td>\n",
              "      <td>-0.015071</td>\n",
              "      <td>0.016976</td>\n",
              "      <td>-0.001433</td>\n",
              "      <td>-0.046787</td>\n",
              "      <td>-0.075641</td>\n",
              "      <td>0.000100</td>\n",
              "      <td>-0.012817</td>\n",
              "      <td>-0.006396</td>\n",
              "      <td>-0.057734</td>\n",
              "      <td>0.033014</td>\n",
              "    </tr>\n",
              "    <tr>\n",
              "      <th>tag_chinese remainder theorem</th>\n",
              "      <td>0.004770</td>\n",
              "      <td>0.018803</td>\n",
              "      <td>0.043460</td>\n",
              "      <td>0.001460</td>\n",
              "      <td>0.001371</td>\n",
              "      <td>0.009146</td>\n",
              "      <td>0.005964</td>\n",
              "      <td>0.015787</td>\n",
              "      <td>0.017191</td>\n",
              "      <td>0.016838</td>\n",
              "      <td>-0.003493</td>\n",
              "      <td>-0.001551</td>\n",
              "      <td>-0.001043</td>\n",
              "      <td>-0.005959</td>\n",
              "      <td>-0.002582</td>\n",
              "      <td>-0.009418</td>\n",
              "      <td>1.000000</td>\n",
              "      <td>-0.002802</td>\n",
              "      <td>-0.007442</td>\n",
              "      <td>-0.006235</td>\n",
              "      <td>-0.005653</td>\n",
              "      <td>-0.001894</td>\n",
              "      <td>-0.007049</td>\n",
              "      <td>-0.002930</td>\n",
              "      <td>-0.001152</td>\n",
              "      <td>-0.000549</td>\n",
              "      <td>-0.000956</td>\n",
              "      <td>-0.002687</td>\n",
              "      <td>0.014504</td>\n",
              "      <td>-0.001458</td>\n",
              "      <td>-0.004110</td>\n",
              "      <td>-0.009555</td>\n",
              "      <td>-0.002128</td>\n",
              "      <td>-0.015381</td>\n",
              "      <td>0.026742</td>\n",
              "      <td>-0.001157</td>\n",
              "      <td>-0.000802</td>\n",
              "      <td>0.076313</td>\n",
              "      <td>-0.001977</td>\n",
              "      <td>-0.000468</td>\n",
              "      <td>-0.002230</td>\n",
              "      <td>-0.006695</td>\n",
              "      <td>-0.001018</td>\n",
              "      <td>-0.005528</td>\n",
              "      <td>-0.001102</td>\n",
              "      <td>-0.003763</td>\n",
              "      <td>0.011693</td>\n",
              "    </tr>\n",
              "    <tr>\n",
              "      <th>tag_combinatorics</th>\n",
              "      <td>0.018861</td>\n",
              "      <td>0.052494</td>\n",
              "      <td>0.113335</td>\n",
              "      <td>0.039568</td>\n",
              "      <td>0.040443</td>\n",
              "      <td>0.030189</td>\n",
              "      <td>0.005218</td>\n",
              "      <td>0.021608</td>\n",
              "      <td>0.051316</td>\n",
              "      <td>0.052139</td>\n",
              "      <td>-0.001738</td>\n",
              "      <td>-0.006441</td>\n",
              "      <td>-0.006932</td>\n",
              "      <td>-0.013578</td>\n",
              "      <td>0.045763</td>\n",
              "      <td>-0.009349</td>\n",
              "      <td>-0.002802</td>\n",
              "      <td>1.000000</td>\n",
              "      <td>-0.030432</td>\n",
              "      <td>-0.026125</td>\n",
              "      <td>0.009698</td>\n",
              "      <td>0.011226</td>\n",
              "      <td>0.106461</td>\n",
              "      <td>0.014085</td>\n",
              "      <td>-0.007656</td>\n",
              "      <td>0.001793</td>\n",
              "      <td>0.005095</td>\n",
              "      <td>-0.017858</td>\n",
              "      <td>-0.010447</td>\n",
              "      <td>-0.009691</td>\n",
              "      <td>0.032019</td>\n",
              "      <td>-0.051234</td>\n",
              "      <td>-0.014142</td>\n",
              "      <td>-0.126818</td>\n",
              "      <td>0.087577</td>\n",
              "      <td>0.048323</td>\n",
              "      <td>-0.000368</td>\n",
              "      <td>0.076370</td>\n",
              "      <td>0.095406</td>\n",
              "      <td>-0.003109</td>\n",
              "      <td>-0.014820</td>\n",
              "      <td>-0.015441</td>\n",
              "      <td>0.040216</td>\n",
              "      <td>-0.036738</td>\n",
              "      <td>-0.007324</td>\n",
              "      <td>-0.003452</td>\n",
              "      <td>-0.003543</td>\n",
              "    </tr>\n",
              "    <tr>\n",
              "      <th>tag_constructive algorithms</th>\n",
              "      <td>-0.014904</td>\n",
              "      <td>-0.065376</td>\n",
              "      <td>0.045403</td>\n",
              "      <td>-0.043886</td>\n",
              "      <td>-0.043880</td>\n",
              "      <td>-0.023126</td>\n",
              "      <td>-0.005863</td>\n",
              "      <td>-0.017604</td>\n",
              "      <td>-0.027606</td>\n",
              "      <td>-0.025522</td>\n",
              "      <td>0.013678</td>\n",
              "      <td>0.033247</td>\n",
              "      <td>-0.018412</td>\n",
              "      <td>-0.052895</td>\n",
              "      <td>0.037275</td>\n",
              "      <td>0.037445</td>\n",
              "      <td>-0.007442</td>\n",
              "      <td>-0.030432</td>\n",
              "      <td>1.000000</td>\n",
              "      <td>-0.074556</td>\n",
              "      <td>0.002755</td>\n",
              "      <td>0.048221</td>\n",
              "      <td>-0.087213</td>\n",
              "      <td>-0.021202</td>\n",
              "      <td>-0.020336</td>\n",
              "      <td>-0.004377</td>\n",
              "      <td>0.001835</td>\n",
              "      <td>-0.037996</td>\n",
              "      <td>0.113011</td>\n",
              "      <td>0.015786</td>\n",
              "      <td>0.002195</td>\n",
              "      <td>0.061126</td>\n",
              "      <td>-0.032432</td>\n",
              "      <td>-0.202626</td>\n",
              "      <td>-0.023427</td>\n",
              "      <td>-0.020420</td>\n",
              "      <td>-0.014159</td>\n",
              "      <td>-0.020271</td>\n",
              "      <td>-0.034901</td>\n",
              "      <td>-0.008257</td>\n",
              "      <td>0.017384</td>\n",
              "      <td>0.000710</td>\n",
              "      <td>-0.010598</td>\n",
              "      <td>0.029627</td>\n",
              "      <td>-0.019453</td>\n",
              "      <td>0.037987</td>\n",
              "      <td>-0.047512</td>\n",
              "    </tr>\n",
              "    <tr>\n",
              "      <th>tag_data structures</th>\n",
              "      <td>0.078148</td>\n",
              "      <td>0.128261</td>\n",
              "      <td>0.267656</td>\n",
              "      <td>0.072668</td>\n",
              "      <td>0.073458</td>\n",
              "      <td>0.052863</td>\n",
              "      <td>0.020942</td>\n",
              "      <td>0.032899</td>\n",
              "      <td>0.113328</td>\n",
              "      <td>0.122449</td>\n",
              "      <td>-0.002842</td>\n",
              "      <td>-0.022937</td>\n",
              "      <td>-0.015426</td>\n",
              "      <td>0.194329</td>\n",
              "      <td>-0.008439</td>\n",
              "      <td>-0.086079</td>\n",
              "      <td>-0.006235</td>\n",
              "      <td>-0.026125</td>\n",
              "      <td>-0.074556</td>\n",
              "      <td>1.000000</td>\n",
              "      <td>0.003396</td>\n",
              "      <td>0.090297</td>\n",
              "      <td>0.076965</td>\n",
              "      <td>0.057185</td>\n",
              "      <td>-0.010784</td>\n",
              "      <td>-0.008113</td>\n",
              "      <td>-0.010133</td>\n",
              "      <td>0.054863</td>\n",
              "      <td>-0.012720</td>\n",
              "      <td>0.006813</td>\n",
              "      <td>0.007051</td>\n",
              "      <td>0.010215</td>\n",
              "      <td>0.122032</td>\n",
              "      <td>-0.166678</td>\n",
              "      <td>-0.107670</td>\n",
              "      <td>-0.000915</td>\n",
              "      <td>-0.011862</td>\n",
              "      <td>-0.054414</td>\n",
              "      <td>-0.008467</td>\n",
              "      <td>0.058626</td>\n",
              "      <td>-0.015818</td>\n",
              "      <td>0.129512</td>\n",
              "      <td>0.009943</td>\n",
              "      <td>-0.025930</td>\n",
              "      <td>-0.013684</td>\n",
              "      <td>0.128435</td>\n",
              "      <td>0.035041</td>\n",
              "    </tr>\n",
              "    <tr>\n",
              "      <th>tag_dfs and similar</th>\n",
              "      <td>0.051132</td>\n",
              "      <td>0.101133</td>\n",
              "      <td>0.251939</td>\n",
              "      <td>0.051997</td>\n",
              "      <td>0.052577</td>\n",
              "      <td>0.042602</td>\n",
              "      <td>0.027733</td>\n",
              "      <td>0.029879</td>\n",
              "      <td>0.110526</td>\n",
              "      <td>0.116523</td>\n",
              "      <td>-0.006542</td>\n",
              "      <td>-0.020796</td>\n",
              "      <td>0.103005</td>\n",
              "      <td>-0.052756</td>\n",
              "      <td>0.005677</td>\n",
              "      <td>-0.056043</td>\n",
              "      <td>-0.005653</td>\n",
              "      <td>0.009698</td>\n",
              "      <td>0.002755</td>\n",
              "      <td>0.003396</td>\n",
              "      <td>1.000000</td>\n",
              "      <td>0.120583</td>\n",
              "      <td>0.105161</td>\n",
              "      <td>0.372010</td>\n",
              "      <td>0.062004</td>\n",
              "      <td>-0.007355</td>\n",
              "      <td>-0.002471</td>\n",
              "      <td>-0.007875</td>\n",
              "      <td>-0.029085</td>\n",
              "      <td>0.057526</td>\n",
              "      <td>0.435935</td>\n",
              "      <td>-0.054289</td>\n",
              "      <td>0.010997</td>\n",
              "      <td>-0.229341</td>\n",
              "      <td>-0.098449</td>\n",
              "      <td>-0.011451</td>\n",
              "      <td>-0.005559</td>\n",
              "      <td>-0.058869</td>\n",
              "      <td>0.100671</td>\n",
              "      <td>-0.006272</td>\n",
              "      <td>0.114771</td>\n",
              "      <td>-0.064430</td>\n",
              "      <td>-0.013646</td>\n",
              "      <td>-0.062719</td>\n",
              "      <td>-0.001049</td>\n",
              "      <td>0.409105</td>\n",
              "      <td>-0.016154</td>\n",
              "    </tr>\n",
              "    <tr>\n",
              "      <th>tag_divide and conquer</th>\n",
              "      <td>0.019512</td>\n",
              "      <td>0.031840</td>\n",
              "      <td>0.094498</td>\n",
              "      <td>0.039375</td>\n",
              "      <td>0.039622</td>\n",
              "      <td>0.031415</td>\n",
              "      <td>0.015572</td>\n",
              "      <td>0.018046</td>\n",
              "      <td>0.070466</td>\n",
              "      <td>0.070317</td>\n",
              "      <td>-0.021006</td>\n",
              "      <td>-0.006966</td>\n",
              "      <td>-0.004685</td>\n",
              "      <td>-0.025445</td>\n",
              "      <td>0.068559</td>\n",
              "      <td>-0.042119</td>\n",
              "      <td>-0.001894</td>\n",
              "      <td>0.011226</td>\n",
              "      <td>0.048221</td>\n",
              "      <td>0.090297</td>\n",
              "      <td>0.120583</td>\n",
              "      <td>1.000000</td>\n",
              "      <td>0.068745</td>\n",
              "      <td>0.034481</td>\n",
              "      <td>-0.005174</td>\n",
              "      <td>0.024092</td>\n",
              "      <td>-0.002771</td>\n",
              "      <td>-0.012069</td>\n",
              "      <td>-0.007948</td>\n",
              "      <td>-0.006550</td>\n",
              "      <td>-0.016621</td>\n",
              "      <td>-0.028279</td>\n",
              "      <td>0.015333</td>\n",
              "      <td>-0.090375</td>\n",
              "      <td>-0.037113</td>\n",
              "      <td>-0.005196</td>\n",
              "      <td>-0.003603</td>\n",
              "      <td>-0.021197</td>\n",
              "      <td>-0.008138</td>\n",
              "      <td>-0.002101</td>\n",
              "      <td>-0.010016</td>\n",
              "      <td>0.011533</td>\n",
              "      <td>-0.004571</td>\n",
              "      <td>-0.014663</td>\n",
              "      <td>-0.004950</td>\n",
              "      <td>0.101832</td>\n",
              "      <td>-0.015350</td>\n",
              "    </tr>\n",
              "    <tr>\n",
              "      <th>tag_dp</th>\n",
              "      <td>0.076299</td>\n",
              "      <td>0.124627</td>\n",
              "      <td>0.295258</td>\n",
              "      <td>0.061799</td>\n",
              "      <td>0.063495</td>\n",
              "      <td>0.046673</td>\n",
              "      <td>0.020854</td>\n",
              "      <td>0.028587</td>\n",
              "      <td>0.107187</td>\n",
              "      <td>0.115051</td>\n",
              "      <td>-0.000393</td>\n",
              "      <td>-0.022277</td>\n",
              "      <td>-0.017440</td>\n",
              "      <td>0.048835</td>\n",
              "      <td>0.108046</td>\n",
              "      <td>0.091781</td>\n",
              "      <td>-0.007049</td>\n",
              "      <td>0.106461</td>\n",
              "      <td>-0.087213</td>\n",
              "      <td>0.076965</td>\n",
              "      <td>0.105161</td>\n",
              "      <td>0.068745</td>\n",
              "      <td>1.000000</td>\n",
              "      <td>-0.003871</td>\n",
              "      <td>-0.016620</td>\n",
              "      <td>0.001108</td>\n",
              "      <td>0.023970</td>\n",
              "      <td>0.011185</td>\n",
              "      <td>-0.037545</td>\n",
              "      <td>0.067633</td>\n",
              "      <td>-0.014656</td>\n",
              "      <td>0.063673</td>\n",
              "      <td>0.037714</td>\n",
              "      <td>-0.202416</td>\n",
              "      <td>-0.090880</td>\n",
              "      <td>0.098312</td>\n",
              "      <td>0.072644</td>\n",
              "      <td>0.015665</td>\n",
              "      <td>0.146162</td>\n",
              "      <td>-0.007821</td>\n",
              "      <td>0.004016</td>\n",
              "      <td>-0.014341</td>\n",
              "      <td>0.075630</td>\n",
              "      <td>0.004616</td>\n",
              "      <td>0.019837</td>\n",
              "      <td>0.163975</td>\n",
              "      <td>0.126590</td>\n",
              "    </tr>\n",
              "    <tr>\n",
              "      <th>tag_dsu</th>\n",
              "      <td>0.015632</td>\n",
              "      <td>0.039246</td>\n",
              "      <td>0.094242</td>\n",
              "      <td>0.014982</td>\n",
              "      <td>0.015092</td>\n",
              "      <td>0.017278</td>\n",
              "      <td>0.013010</td>\n",
              "      <td>0.012296</td>\n",
              "      <td>0.052705</td>\n",
              "      <td>0.056493</td>\n",
              "      <td>-0.001807</td>\n",
              "      <td>0.001564</td>\n",
              "      <td>0.206819</td>\n",
              "      <td>-0.034324</td>\n",
              "      <td>-0.016827</td>\n",
              "      <td>-0.047241</td>\n",
              "      <td>-0.002930</td>\n",
              "      <td>0.014085</td>\n",
              "      <td>-0.021202</td>\n",
              "      <td>0.057185</td>\n",
              "      <td>0.372010</td>\n",
              "      <td>0.034481</td>\n",
              "      <td>-0.003871</td>\n",
              "      <td>1.000000</td>\n",
              "      <td>-0.008007</td>\n",
              "      <td>-0.003813</td>\n",
              "      <td>-0.006648</td>\n",
              "      <td>-0.018676</td>\n",
              "      <td>-0.023034</td>\n",
              "      <td>0.003641</td>\n",
              "      <td>0.369275</td>\n",
              "      <td>-0.022186</td>\n",
              "      <td>0.001032</td>\n",
              "      <td>-0.135181</td>\n",
              "      <td>-0.053966</td>\n",
              "      <td>-0.008040</td>\n",
              "      <td>0.037208</td>\n",
              "      <td>-0.020061</td>\n",
              "      <td>-0.013742</td>\n",
              "      <td>-0.003251</td>\n",
              "      <td>-0.003839</td>\n",
              "      <td>-0.019019</td>\n",
              "      <td>0.000426</td>\n",
              "      <td>-0.030481</td>\n",
              "      <td>0.017459</td>\n",
              "      <td>0.043375</td>\n",
              "      <td>-0.021344</td>\n",
              "    </tr>\n",
              "    <tr>\n",
              "      <th>tag_expression parsing</th>\n",
              "      <td>0.000082</td>\n",
              "      <td>0.003061</td>\n",
              "      <td>0.028337</td>\n",
              "      <td>-0.003912</td>\n",
              "      <td>-0.003740</td>\n",
              "      <td>-0.003494</td>\n",
              "      <td>-0.001941</td>\n",
              "      <td>-0.003029</td>\n",
              "      <td>0.005342</td>\n",
              "      <td>0.002840</td>\n",
              "      <td>-0.009188</td>\n",
              "      <td>-0.002694</td>\n",
              "      <td>-0.002850</td>\n",
              "      <td>-0.015851</td>\n",
              "      <td>0.096865</td>\n",
              "      <td>0.010358</td>\n",
              "      <td>-0.001152</td>\n",
              "      <td>-0.007656</td>\n",
              "      <td>-0.020336</td>\n",
              "      <td>-0.010784</td>\n",
              "      <td>0.062004</td>\n",
              "      <td>-0.005174</td>\n",
              "      <td>-0.016620</td>\n",
              "      <td>-0.008007</td>\n",
              "      <td>1.000000</td>\n",
              "      <td>-0.001499</td>\n",
              "      <td>-0.002614</td>\n",
              "      <td>-0.007342</td>\n",
              "      <td>-0.009169</td>\n",
              "      <td>-0.003984</td>\n",
              "      <td>-0.011231</td>\n",
              "      <td>-0.023684</td>\n",
              "      <td>-0.005814</td>\n",
              "      <td>0.037824</td>\n",
              "      <td>-0.025128</td>\n",
              "      <td>-0.003161</td>\n",
              "      <td>-0.002192</td>\n",
              "      <td>-0.012894</td>\n",
              "      <td>-0.005402</td>\n",
              "      <td>-0.001278</td>\n",
              "      <td>-0.006093</td>\n",
              "      <td>-0.015542</td>\n",
              "      <td>-0.002781</td>\n",
              "      <td>-0.008639</td>\n",
              "      <td>-0.003011</td>\n",
              "      <td>-0.010283</td>\n",
              "      <td>-0.009597</td>\n",
              "    </tr>\n",
              "    <tr>\n",
              "      <th>tag_fft</th>\n",
              "      <td>0.015251</td>\n",
              "      <td>0.035049</td>\n",
              "      <td>0.054497</td>\n",
              "      <td>0.027346</td>\n",
              "      <td>0.027841</td>\n",
              "      <td>0.036571</td>\n",
              "      <td>0.005322</td>\n",
              "      <td>0.030326</td>\n",
              "      <td>0.048396</td>\n",
              "      <td>0.044788</td>\n",
              "      <td>-0.009003</td>\n",
              "      <td>-0.002018</td>\n",
              "      <td>-0.001357</td>\n",
              "      <td>-0.007754</td>\n",
              "      <td>0.108444</td>\n",
              "      <td>0.024273</td>\n",
              "      <td>-0.000549</td>\n",
              "      <td>0.001793</td>\n",
              "      <td>-0.004377</td>\n",
              "      <td>-0.008113</td>\n",
              "      <td>-0.007355</td>\n",
              "      <td>0.024092</td>\n",
              "      <td>0.001108</td>\n",
              "      <td>-0.003813</td>\n",
              "      <td>-0.001499</td>\n",
              "      <td>1.000000</td>\n",
              "      <td>-0.001244</td>\n",
              "      <td>-0.003496</td>\n",
              "      <td>-0.004366</td>\n",
              "      <td>-0.001897</td>\n",
              "      <td>-0.005348</td>\n",
              "      <td>-0.012432</td>\n",
              "      <td>-0.002768</td>\n",
              "      <td>-0.026588</td>\n",
              "      <td>0.018527</td>\n",
              "      <td>-0.001505</td>\n",
              "      <td>-0.001044</td>\n",
              "      <td>-0.006140</td>\n",
              "      <td>-0.002572</td>\n",
              "      <td>-0.000609</td>\n",
              "      <td>-0.002901</td>\n",
              "      <td>-0.008711</td>\n",
              "      <td>-0.001324</td>\n",
              "      <td>-0.007192</td>\n",
              "      <td>-0.001434</td>\n",
              "      <td>-0.004896</td>\n",
              "      <td>-0.004570</td>\n",
              "    </tr>\n",
              "    <tr>\n",
              "      <th>tag_flows</th>\n",
              "      <td>0.012510</td>\n",
              "      <td>0.067756</td>\n",
              "      <td>0.033196</td>\n",
              "      <td>0.031418</td>\n",
              "      <td>0.032268</td>\n",
              "      <td>0.034826</td>\n",
              "      <td>0.011184</td>\n",
              "      <td>0.032319</td>\n",
              "      <td>0.060110</td>\n",
              "      <td>0.056864</td>\n",
              "      <td>-0.017104</td>\n",
              "      <td>-0.003519</td>\n",
              "      <td>-0.002366</td>\n",
              "      <td>0.041706</td>\n",
              "      <td>-0.005859</td>\n",
              "      <td>-0.015112</td>\n",
              "      <td>-0.000956</td>\n",
              "      <td>0.005095</td>\n",
              "      <td>0.001835</td>\n",
              "      <td>-0.010133</td>\n",
              "      <td>-0.002471</td>\n",
              "      <td>-0.002771</td>\n",
              "      <td>0.023970</td>\n",
              "      <td>-0.006648</td>\n",
              "      <td>-0.002614</td>\n",
              "      <td>-0.001244</td>\n",
              "      <td>1.000000</td>\n",
              "      <td>-0.006096</td>\n",
              "      <td>-0.007613</td>\n",
              "      <td>0.071699</td>\n",
              "      <td>0.047922</td>\n",
              "      <td>0.004938</td>\n",
              "      <td>-0.004828</td>\n",
              "      <td>-0.046363</td>\n",
              "      <td>-0.019139</td>\n",
              "      <td>-0.002624</td>\n",
              "      <td>-0.001820</td>\n",
              "      <td>-0.010706</td>\n",
              "      <td>-0.004485</td>\n",
              "      <td>-0.001061</td>\n",
              "      <td>0.041720</td>\n",
              "      <td>-0.007620</td>\n",
              "      <td>-0.002309</td>\n",
              "      <td>-0.012541</td>\n",
              "      <td>-0.002500</td>\n",
              "      <td>-0.003032</td>\n",
              "      <td>-0.007968</td>\n",
              "    </tr>\n",
              "    <tr>\n",
              "      <th>tag_games</th>\n",
              "      <td>-0.011591</td>\n",
              "      <td>-0.009483</td>\n",
              "      <td>0.048634</td>\n",
              "      <td>0.010499</td>\n",
              "      <td>0.010194</td>\n",
              "      <td>0.009282</td>\n",
              "      <td>-0.000910</td>\n",
              "      <td>0.006164</td>\n",
              "      <td>0.016629</td>\n",
              "      <td>0.018545</td>\n",
              "      <td>0.000218</td>\n",
              "      <td>-0.009884</td>\n",
              "      <td>-0.006647</td>\n",
              "      <td>0.060275</td>\n",
              "      <td>0.021390</td>\n",
              "      <td>-0.057368</td>\n",
              "      <td>-0.002687</td>\n",
              "      <td>-0.017858</td>\n",
              "      <td>-0.037996</td>\n",
              "      <td>0.054863</td>\n",
              "      <td>-0.007875</td>\n",
              "      <td>-0.012069</td>\n",
              "      <td>0.011185</td>\n",
              "      <td>-0.018676</td>\n",
              "      <td>-0.007342</td>\n",
              "      <td>-0.003496</td>\n",
              "      <td>-0.006096</td>\n",
              "      <td>1.000000</td>\n",
              "      <td>-0.021387</td>\n",
              "      <td>-0.007867</td>\n",
              "      <td>-0.026196</td>\n",
              "      <td>0.048438</td>\n",
              "      <td>-0.013562</td>\n",
              "      <td>-0.122684</td>\n",
              "      <td>0.062883</td>\n",
              "      <td>0.008779</td>\n",
              "      <td>-0.005112</td>\n",
              "      <td>-0.020150</td>\n",
              "      <td>0.006413</td>\n",
              "      <td>-0.002981</td>\n",
              "      <td>-0.014212</td>\n",
              "      <td>0.077850</td>\n",
              "      <td>-0.006486</td>\n",
              "      <td>-0.029810</td>\n",
              "      <td>-0.007023</td>\n",
              "      <td>-0.016312</td>\n",
              "      <td>-0.022385</td>\n",
              "    </tr>\n",
              "    <tr>\n",
              "      <th>tag_geometry</th>\n",
              "      <td>-0.007803</td>\n",
              "      <td>-0.022889</td>\n",
              "      <td>0.043042</td>\n",
              "      <td>0.003555</td>\n",
              "      <td>0.003503</td>\n",
              "      <td>0.003826</td>\n",
              "      <td>0.000200</td>\n",
              "      <td>0.005056</td>\n",
              "      <td>0.006671</td>\n",
              "      <td>0.009998</td>\n",
              "      <td>0.006457</td>\n",
              "      <td>-0.012345</td>\n",
              "      <td>-0.008302</td>\n",
              "      <td>-0.037396</td>\n",
              "      <td>-0.019898</td>\n",
              "      <td>0.023900</td>\n",
              "      <td>0.014504</td>\n",
              "      <td>-0.010447</td>\n",
              "      <td>0.113011</td>\n",
              "      <td>-0.012720</td>\n",
              "      <td>-0.029085</td>\n",
              "      <td>-0.007948</td>\n",
              "      <td>-0.037545</td>\n",
              "      <td>-0.023034</td>\n",
              "      <td>-0.009169</td>\n",
              "      <td>-0.004366</td>\n",
              "      <td>-0.007613</td>\n",
              "      <td>-0.021387</td>\n",
              "      <td>1.000000</td>\n",
              "      <td>-0.011606</td>\n",
              "      <td>-0.030812</td>\n",
              "      <td>-0.007810</td>\n",
              "      <td>-0.016937</td>\n",
              "      <td>-0.122018</td>\n",
              "      <td>0.012371</td>\n",
              "      <td>-0.009207</td>\n",
              "      <td>-0.006384</td>\n",
              "      <td>-0.037563</td>\n",
              "      <td>-0.013176</td>\n",
              "      <td>-0.003723</td>\n",
              "      <td>-0.014714</td>\n",
              "      <td>0.063322</td>\n",
              "      <td>-0.008101</td>\n",
              "      <td>-0.043999</td>\n",
              "      <td>0.014821</td>\n",
              "      <td>-0.005379</td>\n",
              "      <td>-0.025261</td>\n",
              "    </tr>\n",
              "    <tr>\n",
              "      <th>tag_graph matchings</th>\n",
              "      <td>0.003683</td>\n",
              "      <td>-0.008898</td>\n",
              "      <td>0.002572</td>\n",
              "      <td>-0.004900</td>\n",
              "      <td>-0.004464</td>\n",
              "      <td>0.006850</td>\n",
              "      <td>0.001400</td>\n",
              "      <td>0.006395</td>\n",
              "      <td>0.009530</td>\n",
              "      <td>0.005538</td>\n",
              "      <td>-0.020372</td>\n",
              "      <td>-0.002921</td>\n",
              "      <td>0.318727</td>\n",
              "      <td>0.021202</td>\n",
              "      <td>-0.008191</td>\n",
              "      <td>0.005436</td>\n",
              "      <td>-0.001458</td>\n",
              "      <td>-0.009691</td>\n",
              "      <td>0.015786</td>\n",
              "      <td>0.006813</td>\n",
              "      <td>0.057526</td>\n",
              "      <td>-0.006550</td>\n",
              "      <td>0.067633</td>\n",
              "      <td>0.003641</td>\n",
              "      <td>-0.003984</td>\n",
              "      <td>-0.001897</td>\n",
              "      <td>0.071699</td>\n",
              "      <td>-0.007867</td>\n",
              "      <td>-0.011606</td>\n",
              "      <td>1.000000</td>\n",
              "      <td>0.027734</td>\n",
              "      <td>0.081365</td>\n",
              "      <td>-0.007360</td>\n",
              "      <td>-0.015261</td>\n",
              "      <td>-0.035821</td>\n",
              "      <td>-0.004001</td>\n",
              "      <td>-0.000422</td>\n",
              "      <td>-0.016322</td>\n",
              "      <td>-0.006838</td>\n",
              "      <td>0.002412</td>\n",
              "      <td>0.145300</td>\n",
              "      <td>0.006414</td>\n",
              "      <td>-0.003520</td>\n",
              "      <td>-0.015463</td>\n",
              "      <td>-0.003811</td>\n",
              "      <td>-0.005254</td>\n",
              "      <td>0.040300</td>\n",
              "    </tr>\n",
              "    <tr>\n",
              "      <th>tag_graphs</th>\n",
              "      <td>0.027154</td>\n",
              "      <td>0.047535</td>\n",
              "      <td>0.153258</td>\n",
              "      <td>0.030411</td>\n",
              "      <td>0.031046</td>\n",
              "      <td>0.033885</td>\n",
              "      <td>0.019712</td>\n",
              "      <td>0.024031</td>\n",
              "      <td>0.068522</td>\n",
              "      <td>0.069162</td>\n",
              "      <td>-0.011976</td>\n",
              "      <td>-0.015120</td>\n",
              "      <td>0.131434</td>\n",
              "      <td>-0.035831</td>\n",
              "      <td>-0.020008</td>\n",
              "      <td>0.001857</td>\n",
              "      <td>-0.004110</td>\n",
              "      <td>0.032019</td>\n",
              "      <td>0.002195</td>\n",
              "      <td>0.007051</td>\n",
              "      <td>0.435935</td>\n",
              "      <td>-0.016621</td>\n",
              "      <td>-0.014656</td>\n",
              "      <td>0.369275</td>\n",
              "      <td>-0.011231</td>\n",
              "      <td>-0.005348</td>\n",
              "      <td>0.047922</td>\n",
              "      <td>-0.026196</td>\n",
              "      <td>-0.030812</td>\n",
              "      <td>0.027734</td>\n",
              "      <td>1.000000</td>\n",
              "      <td>-0.037681</td>\n",
              "      <td>0.016377</td>\n",
              "      <td>-0.176936</td>\n",
              "      <td>-0.027322</td>\n",
              "      <td>0.001318</td>\n",
              "      <td>0.024998</td>\n",
              "      <td>-0.046008</td>\n",
              "      <td>-0.019275</td>\n",
              "      <td>-0.003081</td>\n",
              "      <td>0.250028</td>\n",
              "      <td>-0.042880</td>\n",
              "      <td>-0.006515</td>\n",
              "      <td>-0.051477</td>\n",
              "      <td>-0.010743</td>\n",
              "      <td>0.114137</td>\n",
              "      <td>-0.020663</td>\n",
              "    </tr>\n",
              "    <tr>\n",
              "      <th>tag_greedy</th>\n",
              "      <td>0.025687</td>\n",
              "      <td>-0.008886</td>\n",
              "      <td>0.116518</td>\n",
              "      <td>-0.028186</td>\n",
              "      <td>-0.027446</td>\n",
              "      <td>-0.017204</td>\n",
              "      <td>0.002860</td>\n",
              "      <td>-0.015413</td>\n",
              "      <td>-0.016028</td>\n",
              "      <td>-0.007691</td>\n",
              "      <td>0.020194</td>\n",
              "      <td>-0.011680</td>\n",
              "      <td>0.036571</td>\n",
              "      <td>0.092594</td>\n",
              "      <td>-0.045936</td>\n",
              "      <td>-0.063558</td>\n",
              "      <td>-0.009555</td>\n",
              "      <td>-0.051234</td>\n",
              "      <td>0.061126</td>\n",
              "      <td>0.010215</td>\n",
              "      <td>-0.054289</td>\n",
              "      <td>-0.028279</td>\n",
              "      <td>0.063673</td>\n",
              "      <td>-0.022186</td>\n",
              "      <td>-0.023684</td>\n",
              "      <td>-0.012432</td>\n",
              "      <td>0.004938</td>\n",
              "      <td>0.048438</td>\n",
              "      <td>-0.007810</td>\n",
              "      <td>0.081365</td>\n",
              "      <td>-0.037681</td>\n",
              "      <td>1.000000</td>\n",
              "      <td>-0.009382</td>\n",
              "      <td>-0.251545</td>\n",
              "      <td>-0.054455</td>\n",
              "      <td>-0.021388</td>\n",
              "      <td>-0.006880</td>\n",
              "      <td>0.050959</td>\n",
              "      <td>-0.039835</td>\n",
              "      <td>-0.009856</td>\n",
              "      <td>0.020517</td>\n",
              "      <td>0.254080</td>\n",
              "      <td>-0.022722</td>\n",
              "      <td>-0.006926</td>\n",
              "      <td>-0.009456</td>\n",
              "      <td>-0.014850</td>\n",
              "      <td>0.084380</td>\n",
              "    </tr>\n",
              "    <tr>\n",
              "      <th>tag_hashing</th>\n",
              "      <td>0.046919</td>\n",
              "      <td>0.052439</td>\n",
              "      <td>0.090737</td>\n",
              "      <td>0.020836</td>\n",
              "      <td>0.021739</td>\n",
              "      <td>0.011739</td>\n",
              "      <td>0.006780</td>\n",
              "      <td>0.005939</td>\n",
              "      <td>0.044268</td>\n",
              "      <td>0.046697</td>\n",
              "      <td>-0.009348</td>\n",
              "      <td>-0.007828</td>\n",
              "      <td>-0.005264</td>\n",
              "      <td>0.008893</td>\n",
              "      <td>-0.013034</td>\n",
              "      <td>0.005687</td>\n",
              "      <td>-0.002128</td>\n",
              "      <td>-0.014142</td>\n",
              "      <td>-0.032432</td>\n",
              "      <td>0.122032</td>\n",
              "      <td>0.010997</td>\n",
              "      <td>0.015333</td>\n",
              "      <td>0.037714</td>\n",
              "      <td>0.001032</td>\n",
              "      <td>-0.005814</td>\n",
              "      <td>-0.002768</td>\n",
              "      <td>-0.004828</td>\n",
              "      <td>-0.013562</td>\n",
              "      <td>-0.016937</td>\n",
              "      <td>-0.007360</td>\n",
              "      <td>0.016377</td>\n",
              "      <td>-0.009382</td>\n",
              "      <td>1.000000</td>\n",
              "      <td>-0.058250</td>\n",
              "      <td>-0.034443</td>\n",
              "      <td>-0.005838</td>\n",
              "      <td>-0.004048</td>\n",
              "      <td>-0.009336</td>\n",
              "      <td>-0.009979</td>\n",
              "      <td>-0.002361</td>\n",
              "      <td>0.002295</td>\n",
              "      <td>0.048151</td>\n",
              "      <td>0.281324</td>\n",
              "      <td>0.206608</td>\n",
              "      <td>-0.005562</td>\n",
              "      <td>-0.000095</td>\n",
              "      <td>0.010427</td>\n",
              "    </tr>\n",
              "    <tr>\n",
              "      <th>tag_implementation</th>\n",
              "      <td>-0.097583</td>\n",
              "      <td>-0.062432</td>\n",
              "      <td>-0.372230</td>\n",
              "      <td>-0.053548</td>\n",
              "      <td>-0.055293</td>\n",
              "      <td>-0.054253</td>\n",
              "      <td>-0.024117</td>\n",
              "      <td>-0.034403</td>\n",
              "      <td>-0.119003</td>\n",
              "      <td>-0.129273</td>\n",
              "      <td>-0.012844</td>\n",
              "      <td>-0.030805</td>\n",
              "      <td>-0.010380</td>\n",
              "      <td>-0.161781</td>\n",
              "      <td>-0.052080</td>\n",
              "      <td>-0.071216</td>\n",
              "      <td>-0.015381</td>\n",
              "      <td>-0.126818</td>\n",
              "      <td>-0.202626</td>\n",
              "      <td>-0.166678</td>\n",
              "      <td>-0.229341</td>\n",
              "      <td>-0.090375</td>\n",
              "      <td>-0.202416</td>\n",
              "      <td>-0.135181</td>\n",
              "      <td>0.037824</td>\n",
              "      <td>-0.026588</td>\n",
              "      <td>-0.046363</td>\n",
              "      <td>-0.122684</td>\n",
              "      <td>-0.122018</td>\n",
              "      <td>-0.015261</td>\n",
              "      <td>-0.176936</td>\n",
              "      <td>-0.251545</td>\n",
              "      <td>-0.058250</td>\n",
              "      <td>1.000000</td>\n",
              "      <td>-0.171826</td>\n",
              "      <td>-0.044987</td>\n",
              "      <td>-0.037547</td>\n",
              "      <td>-0.082511</td>\n",
              "      <td>-0.095154</td>\n",
              "      <td>-0.014129</td>\n",
              "      <td>-0.078611</td>\n",
              "      <td>-0.141247</td>\n",
              "      <td>-0.042511</td>\n",
              "      <td>0.016255</td>\n",
              "      <td>-0.041542</td>\n",
              "      <td>-0.157697</td>\n",
              "      <td>-0.107753</td>\n",
              "    </tr>\n",
              "    <tr>\n",
              "      <th>tag_math</th>\n",
              "      <td>-0.011131</td>\n",
              "      <td>-0.151956</td>\n",
              "      <td>-0.066739</td>\n",
              "      <td>-0.067544</td>\n",
              "      <td>-0.067069</td>\n",
              "      <td>-0.032076</td>\n",
              "      <td>-0.019569</td>\n",
              "      <td>-0.022702</td>\n",
              "      <td>-0.073729</td>\n",
              "      <td>-0.075872</td>\n",
              "      <td>0.011639</td>\n",
              "      <td>-0.038607</td>\n",
              "      <td>-0.026107</td>\n",
              "      <td>0.049963</td>\n",
              "      <td>-0.032699</td>\n",
              "      <td>0.094813</td>\n",
              "      <td>0.026742</td>\n",
              "      <td>0.087577</td>\n",
              "      <td>-0.023427</td>\n",
              "      <td>-0.107670</td>\n",
              "      <td>-0.098449</td>\n",
              "      <td>-0.037113</td>\n",
              "      <td>-0.090880</td>\n",
              "      <td>-0.053966</td>\n",
              "      <td>-0.025128</td>\n",
              "      <td>0.018527</td>\n",
              "      <td>-0.019139</td>\n",
              "      <td>0.062883</td>\n",
              "      <td>0.012371</td>\n",
              "      <td>-0.035821</td>\n",
              "      <td>-0.027322</td>\n",
              "      <td>-0.054455</td>\n",
              "      <td>-0.034443</td>\n",
              "      <td>-0.171826</td>\n",
              "      <td>1.000000</td>\n",
              "      <td>0.025849</td>\n",
              "      <td>0.006500</td>\n",
              "      <td>0.279182</td>\n",
              "      <td>0.016701</td>\n",
              "      <td>-0.011707</td>\n",
              "      <td>-0.042295</td>\n",
              "      <td>-0.127940</td>\n",
              "      <td>-0.025473</td>\n",
              "      <td>-0.129405</td>\n",
              "      <td>-0.012087</td>\n",
              "      <td>-0.071084</td>\n",
              "      <td>-0.059800</td>\n",
              "    </tr>\n",
              "    <tr>\n",
              "      <th>tag_matrices</th>\n",
              "      <td>0.024374</td>\n",
              "      <td>0.041947</td>\n",
              "      <td>0.057285</td>\n",
              "      <td>0.033605</td>\n",
              "      <td>0.033602</td>\n",
              "      <td>0.030317</td>\n",
              "      <td>0.011342</td>\n",
              "      <td>0.026359</td>\n",
              "      <td>0.048981</td>\n",
              "      <td>0.047856</td>\n",
              "      <td>-0.013434</td>\n",
              "      <td>-0.004255</td>\n",
              "      <td>-0.002862</td>\n",
              "      <td>0.003486</td>\n",
              "      <td>0.043264</td>\n",
              "      <td>-0.001472</td>\n",
              "      <td>-0.001157</td>\n",
              "      <td>0.048323</td>\n",
              "      <td>-0.020420</td>\n",
              "      <td>-0.000915</td>\n",
              "      <td>-0.011451</td>\n",
              "      <td>-0.005196</td>\n",
              "      <td>0.098312</td>\n",
              "      <td>-0.008040</td>\n",
              "      <td>-0.003161</td>\n",
              "      <td>-0.001505</td>\n",
              "      <td>-0.002624</td>\n",
              "      <td>0.008779</td>\n",
              "      <td>-0.009207</td>\n",
              "      <td>-0.004001</td>\n",
              "      <td>0.001318</td>\n",
              "      <td>-0.021388</td>\n",
              "      <td>-0.005838</td>\n",
              "      <td>-0.044987</td>\n",
              "      <td>0.025849</td>\n",
              "      <td>1.000000</td>\n",
              "      <td>-0.002201</td>\n",
              "      <td>-0.001314</td>\n",
              "      <td>0.024826</td>\n",
              "      <td>-0.001283</td>\n",
              "      <td>-0.006118</td>\n",
              "      <td>-0.018371</td>\n",
              "      <td>-0.002792</td>\n",
              "      <td>-0.006889</td>\n",
              "      <td>-0.003023</td>\n",
              "      <td>-0.010325</td>\n",
              "      <td>-0.009637</td>\n",
              "    </tr>\n",
              "    <tr>\n",
              "      <th>tag_meet-in-the-middle</th>\n",
              "      <td>0.017897</td>\n",
              "      <td>0.026103</td>\n",
              "      <td>0.068621</td>\n",
              "      <td>0.029306</td>\n",
              "      <td>0.030160</td>\n",
              "      <td>0.023715</td>\n",
              "      <td>0.008187</td>\n",
              "      <td>0.018881</td>\n",
              "      <td>0.036023</td>\n",
              "      <td>0.035329</td>\n",
              "      <td>-0.014454</td>\n",
              "      <td>-0.002950</td>\n",
              "      <td>-0.001984</td>\n",
              "      <td>-0.011338</td>\n",
              "      <td>0.000457</td>\n",
              "      <td>0.082086</td>\n",
              "      <td>-0.000802</td>\n",
              "      <td>-0.000368</td>\n",
              "      <td>-0.014159</td>\n",
              "      <td>-0.011862</td>\n",
              "      <td>-0.005559</td>\n",
              "      <td>-0.003603</td>\n",
              "      <td>0.072644</td>\n",
              "      <td>0.037208</td>\n",
              "      <td>-0.002192</td>\n",
              "      <td>-0.001044</td>\n",
              "      <td>-0.001820</td>\n",
              "      <td>-0.005112</td>\n",
              "      <td>-0.006384</td>\n",
              "      <td>-0.000422</td>\n",
              "      <td>0.024998</td>\n",
              "      <td>-0.006880</td>\n",
              "      <td>-0.004048</td>\n",
              "      <td>-0.037547</td>\n",
              "      <td>0.006500</td>\n",
              "      <td>-0.002201</td>\n",
              "      <td>1.000000</td>\n",
              "      <td>0.018434</td>\n",
              "      <td>-0.003761</td>\n",
              "      <td>-0.000890</td>\n",
              "      <td>-0.004242</td>\n",
              "      <td>-0.012738</td>\n",
              "      <td>-0.001936</td>\n",
              "      <td>-0.010516</td>\n",
              "      <td>-0.002096</td>\n",
              "      <td>-0.007159</td>\n",
              "      <td>-0.006682</td>\n",
              "    </tr>\n",
              "    <tr>\n",
              "      <th>tag_number theory</th>\n",
              "      <td>0.034258</td>\n",
              "      <td>-0.024058</td>\n",
              "      <td>0.039227</td>\n",
              "      <td>-0.024095</td>\n",
              "      <td>-0.023605</td>\n",
              "      <td>-0.005267</td>\n",
              "      <td>-0.006089</td>\n",
              "      <td>-0.000250</td>\n",
              "      <td>-0.006449</td>\n",
              "      <td>-0.005594</td>\n",
              "      <td>0.002139</td>\n",
              "      <td>-0.011824</td>\n",
              "      <td>-0.011675</td>\n",
              "      <td>-0.040638</td>\n",
              "      <td>-0.013795</td>\n",
              "      <td>-0.015071</td>\n",
              "      <td>0.076313</td>\n",
              "      <td>0.076370</td>\n",
              "      <td>-0.020271</td>\n",
              "      <td>-0.054414</td>\n",
              "      <td>-0.058869</td>\n",
              "      <td>-0.021197</td>\n",
              "      <td>0.015665</td>\n",
              "      <td>-0.020061</td>\n",
              "      <td>-0.012894</td>\n",
              "      <td>-0.006140</td>\n",
              "      <td>-0.010706</td>\n",
              "      <td>-0.020150</td>\n",
              "      <td>-0.037563</td>\n",
              "      <td>-0.016322</td>\n",
              "      <td>-0.046008</td>\n",
              "      <td>0.050959</td>\n",
              "      <td>-0.009336</td>\n",
              "      <td>-0.082511</td>\n",
              "      <td>0.279182</td>\n",
              "      <td>-0.001314</td>\n",
              "      <td>0.018434</td>\n",
              "      <td>1.000000</td>\n",
              "      <td>-0.002208</td>\n",
              "      <td>-0.005235</td>\n",
              "      <td>-0.024960</td>\n",
              "      <td>-0.065677</td>\n",
              "      <td>-0.011391</td>\n",
              "      <td>-0.060928</td>\n",
              "      <td>-0.012335</td>\n",
              "      <td>-0.040783</td>\n",
              "      <td>-0.010544</td>\n",
              "    </tr>\n",
              "    <tr>\n",
              "      <th>tag_probabilities</th>\n",
              "      <td>0.070773</td>\n",
              "      <td>0.047465</td>\n",
              "      <td>0.127090</td>\n",
              "      <td>0.040032</td>\n",
              "      <td>0.040332</td>\n",
              "      <td>0.025374</td>\n",
              "      <td>0.002465</td>\n",
              "      <td>0.024597</td>\n",
              "      <td>0.049262</td>\n",
              "      <td>0.050213</td>\n",
              "      <td>-0.001439</td>\n",
              "      <td>-0.007273</td>\n",
              "      <td>-0.004891</td>\n",
              "      <td>-0.026171</td>\n",
              "      <td>0.051005</td>\n",
              "      <td>0.016976</td>\n",
              "      <td>-0.001977</td>\n",
              "      <td>0.095406</td>\n",
              "      <td>-0.034901</td>\n",
              "      <td>-0.008467</td>\n",
              "      <td>0.100671</td>\n",
              "      <td>-0.008138</td>\n",
              "      <td>0.146162</td>\n",
              "      <td>-0.013742</td>\n",
              "      <td>-0.005402</td>\n",
              "      <td>-0.002572</td>\n",
              "      <td>-0.004485</td>\n",
              "      <td>0.006413</td>\n",
              "      <td>-0.013176</td>\n",
              "      <td>-0.006838</td>\n",
              "      <td>-0.019275</td>\n",
              "      <td>-0.039835</td>\n",
              "      <td>-0.009979</td>\n",
              "      <td>-0.095154</td>\n",
              "      <td>0.016701</td>\n",
              "      <td>0.024826</td>\n",
              "      <td>-0.003761</td>\n",
              "      <td>-0.002208</td>\n",
              "      <td>1.000000</td>\n",
              "      <td>-0.002193</td>\n",
              "      <td>-0.007925</td>\n",
              "      <td>-0.029094</td>\n",
              "      <td>-0.004772</td>\n",
              "      <td>-0.025923</td>\n",
              "      <td>-0.005168</td>\n",
              "      <td>0.169745</td>\n",
              "      <td>-0.013200</td>\n",
              "    </tr>\n",
              "    <tr>\n",
              "      <th>tag_schedules</th>\n",
              "      <td>-0.005844</td>\n",
              "      <td>0.004862</td>\n",
              "      <td>0.022104</td>\n",
              "      <td>0.002434</td>\n",
              "      <td>0.002554</td>\n",
              "      <td>-0.000230</td>\n",
              "      <td>-0.001968</td>\n",
              "      <td>-0.002207</td>\n",
              "      <td>-0.001601</td>\n",
              "      <td>-0.001019</td>\n",
              "      <td>0.007594</td>\n",
              "      <td>-0.001721</td>\n",
              "      <td>-0.001157</td>\n",
              "      <td>-0.006612</td>\n",
              "      <td>-0.002865</td>\n",
              "      <td>-0.001433</td>\n",
              "      <td>-0.000468</td>\n",
              "      <td>-0.003109</td>\n",
              "      <td>-0.008257</td>\n",
              "      <td>0.058626</td>\n",
              "      <td>-0.006272</td>\n",
              "      <td>-0.002101</td>\n",
              "      <td>-0.007821</td>\n",
              "      <td>-0.003251</td>\n",
              "      <td>-0.001278</td>\n",
              "      <td>-0.000609</td>\n",
              "      <td>-0.001061</td>\n",
              "      <td>-0.002981</td>\n",
              "      <td>-0.003723</td>\n",
              "      <td>0.002412</td>\n",
              "      <td>-0.003081</td>\n",
              "      <td>-0.009856</td>\n",
              "      <td>-0.002361</td>\n",
              "      <td>-0.014129</td>\n",
              "      <td>-0.011707</td>\n",
              "      <td>-0.001283</td>\n",
              "      <td>-0.000890</td>\n",
              "      <td>-0.005235</td>\n",
              "      <td>-0.002193</td>\n",
              "      <td>1.000000</td>\n",
              "      <td>-0.002474</td>\n",
              "      <td>-0.007428</td>\n",
              "      <td>-0.001129</td>\n",
              "      <td>-0.006133</td>\n",
              "      <td>-0.001223</td>\n",
              "      <td>-0.004175</td>\n",
              "      <td>-0.003897</td>\n",
              "    </tr>\n",
              "    <tr>\n",
              "      <th>tag_shortest paths</th>\n",
              "      <td>0.017974</td>\n",
              "      <td>0.027548</td>\n",
              "      <td>0.088464</td>\n",
              "      <td>0.022202</td>\n",
              "      <td>0.022401</td>\n",
              "      <td>0.031015</td>\n",
              "      <td>0.010984</td>\n",
              "      <td>0.018127</td>\n",
              "      <td>0.046626</td>\n",
              "      <td>0.043860</td>\n",
              "      <td>-0.012279</td>\n",
              "      <td>-0.008203</td>\n",
              "      <td>-0.005517</td>\n",
              "      <td>-0.013019</td>\n",
              "      <td>-0.013171</td>\n",
              "      <td>-0.046787</td>\n",
              "      <td>-0.002230</td>\n",
              "      <td>-0.014820</td>\n",
              "      <td>0.017384</td>\n",
              "      <td>-0.015818</td>\n",
              "      <td>0.114771</td>\n",
              "      <td>-0.010016</td>\n",
              "      <td>0.004016</td>\n",
              "      <td>-0.003839</td>\n",
              "      <td>-0.006093</td>\n",
              "      <td>-0.002901</td>\n",
              "      <td>0.041720</td>\n",
              "      <td>-0.014212</td>\n",
              "      <td>-0.014714</td>\n",
              "      <td>0.145300</td>\n",
              "      <td>0.250028</td>\n",
              "      <td>0.020517</td>\n",
              "      <td>0.002295</td>\n",
              "      <td>-0.078611</td>\n",
              "      <td>-0.042295</td>\n",
              "      <td>-0.006118</td>\n",
              "      <td>-0.004242</td>\n",
              "      <td>-0.024960</td>\n",
              "      <td>-0.007925</td>\n",
              "      <td>-0.002474</td>\n",
              "      <td>1.000000</td>\n",
              "      <td>-0.033775</td>\n",
              "      <td>-0.005383</td>\n",
              "      <td>-0.029237</td>\n",
              "      <td>-0.005828</td>\n",
              "      <td>0.024718</td>\n",
              "      <td>-0.009854</td>\n",
              "    </tr>\n",
              "    <tr>\n",
              "      <th>tag_sortings</th>\n",
              "      <td>0.004691</td>\n",
              "      <td>-0.025116</td>\n",
              "      <td>0.058740</td>\n",
              "      <td>-0.013503</td>\n",
              "      <td>-0.013273</td>\n",
              "      <td>-0.008746</td>\n",
              "      <td>-0.005005</td>\n",
              "      <td>-0.007752</td>\n",
              "      <td>-0.018063</td>\n",
              "      <td>-0.014731</td>\n",
              "      <td>0.004423</td>\n",
              "      <td>0.003191</td>\n",
              "      <td>-0.016565</td>\n",
              "      <td>0.095887</td>\n",
              "      <td>-0.034796</td>\n",
              "      <td>-0.075641</td>\n",
              "      <td>-0.006695</td>\n",
              "      <td>-0.015441</td>\n",
              "      <td>0.000710</td>\n",
              "      <td>0.129512</td>\n",
              "      <td>-0.064430</td>\n",
              "      <td>0.011533</td>\n",
              "      <td>-0.014341</td>\n",
              "      <td>-0.019019</td>\n",
              "      <td>-0.015542</td>\n",
              "      <td>-0.008711</td>\n",
              "      <td>-0.007620</td>\n",
              "      <td>0.077850</td>\n",
              "      <td>0.063322</td>\n",
              "      <td>0.006414</td>\n",
              "      <td>-0.042880</td>\n",
              "      <td>0.254080</td>\n",
              "      <td>0.048151</td>\n",
              "      <td>-0.141247</td>\n",
              "      <td>-0.127940</td>\n",
              "      <td>-0.018371</td>\n",
              "      <td>-0.012738</td>\n",
              "      <td>-0.065677</td>\n",
              "      <td>-0.029094</td>\n",
              "      <td>-0.007428</td>\n",
              "      <td>-0.033775</td>\n",
              "      <td>1.000000</td>\n",
              "      <td>-0.008155</td>\n",
              "      <td>-0.006478</td>\n",
              "      <td>0.002228</td>\n",
              "      <td>-0.046618</td>\n",
              "      <td>0.071536</td>\n",
              "    </tr>\n",
              "    <tr>\n",
              "      <th>tag_string suffix structures</th>\n",
              "      <td>0.035200</td>\n",
              "      <td>0.042875</td>\n",
              "      <td>0.061821</td>\n",
              "      <td>0.030620</td>\n",
              "      <td>0.031203</td>\n",
              "      <td>0.018592</td>\n",
              "      <td>0.002701</td>\n",
              "      <td>0.012039</td>\n",
              "      <td>0.040600</td>\n",
              "      <td>0.039526</td>\n",
              "      <td>-0.013331</td>\n",
              "      <td>-0.003744</td>\n",
              "      <td>-0.002518</td>\n",
              "      <td>0.034595</td>\n",
              "      <td>-0.006234</td>\n",
              "      <td>0.000100</td>\n",
              "      <td>-0.001018</td>\n",
              "      <td>0.040216</td>\n",
              "      <td>-0.010598</td>\n",
              "      <td>0.009943</td>\n",
              "      <td>-0.013646</td>\n",
              "      <td>-0.004571</td>\n",
              "      <td>0.075630</td>\n",
              "      <td>0.000426</td>\n",
              "      <td>-0.002781</td>\n",
              "      <td>-0.001324</td>\n",
              "      <td>-0.002309</td>\n",
              "      <td>-0.006486</td>\n",
              "      <td>-0.008101</td>\n",
              "      <td>-0.003520</td>\n",
              "      <td>-0.006515</td>\n",
              "      <td>-0.022722</td>\n",
              "      <td>0.281324</td>\n",
              "      <td>-0.042511</td>\n",
              "      <td>-0.025473</td>\n",
              "      <td>-0.002792</td>\n",
              "      <td>-0.001936</td>\n",
              "      <td>-0.011391</td>\n",
              "      <td>-0.004772</td>\n",
              "      <td>-0.001129</td>\n",
              "      <td>-0.005383</td>\n",
              "      <td>-0.008155</td>\n",
              "      <td>1.000000</td>\n",
              "      <td>0.132915</td>\n",
              "      <td>-0.002660</td>\n",
              "      <td>-0.006866</td>\n",
              "      <td>0.011246</td>\n",
              "    </tr>\n",
              "    <tr>\n",
              "      <th>tag_strings</th>\n",
              "      <td>-0.024534</td>\n",
              "      <td>-0.071519</td>\n",
              "      <td>-0.025973</td>\n",
              "      <td>-0.060349</td>\n",
              "      <td>-0.059579</td>\n",
              "      <td>-0.037473</td>\n",
              "      <td>-0.017555</td>\n",
              "      <td>-0.026157</td>\n",
              "      <td>-0.066508</td>\n",
              "      <td>-0.071982</td>\n",
              "      <td>-0.004478</td>\n",
              "      <td>0.001674</td>\n",
              "      <td>-0.013676</td>\n",
              "      <td>-0.022955</td>\n",
              "      <td>-0.030522</td>\n",
              "      <td>-0.012817</td>\n",
              "      <td>-0.005528</td>\n",
              "      <td>-0.036738</td>\n",
              "      <td>0.029627</td>\n",
              "      <td>-0.025930</td>\n",
              "      <td>-0.062719</td>\n",
              "      <td>-0.014663</td>\n",
              "      <td>0.004616</td>\n",
              "      <td>-0.030481</td>\n",
              "      <td>-0.008639</td>\n",
              "      <td>-0.007192</td>\n",
              "      <td>-0.012541</td>\n",
              "      <td>-0.029810</td>\n",
              "      <td>-0.043999</td>\n",
              "      <td>-0.015463</td>\n",
              "      <td>-0.051477</td>\n",
              "      <td>-0.006926</td>\n",
              "      <td>0.206608</td>\n",
              "      <td>0.016255</td>\n",
              "      <td>-0.129405</td>\n",
              "      <td>-0.006889</td>\n",
              "      <td>-0.010516</td>\n",
              "      <td>-0.060928</td>\n",
              "      <td>-0.025923</td>\n",
              "      <td>-0.006133</td>\n",
              "      <td>-0.029237</td>\n",
              "      <td>-0.006478</td>\n",
              "      <td>0.132915</td>\n",
              "      <td>1.000000</td>\n",
              "      <td>-0.014448</td>\n",
              "      <td>-0.040603</td>\n",
              "      <td>-0.033308</td>\n",
              "    </tr>\n",
              "    <tr>\n",
              "      <th>tag_ternary search</th>\n",
              "      <td>0.020138</td>\n",
              "      <td>0.013056</td>\n",
              "      <td>0.013635</td>\n",
              "      <td>0.010636</td>\n",
              "      <td>0.010761</td>\n",
              "      <td>0.005538</td>\n",
              "      <td>0.004508</td>\n",
              "      <td>0.001616</td>\n",
              "      <td>0.014872</td>\n",
              "      <td>0.016567</td>\n",
              "      <td>0.001801</td>\n",
              "      <td>0.033047</td>\n",
              "      <td>-0.002726</td>\n",
              "      <td>0.112947</td>\n",
              "      <td>-0.006750</td>\n",
              "      <td>-0.006396</td>\n",
              "      <td>-0.001102</td>\n",
              "      <td>-0.007324</td>\n",
              "      <td>-0.019453</td>\n",
              "      <td>-0.013684</td>\n",
              "      <td>-0.001049</td>\n",
              "      <td>-0.004950</td>\n",
              "      <td>0.019837</td>\n",
              "      <td>0.017459</td>\n",
              "      <td>-0.003011</td>\n",
              "      <td>-0.001434</td>\n",
              "      <td>-0.002500</td>\n",
              "      <td>-0.007023</td>\n",
              "      <td>0.014821</td>\n",
              "      <td>-0.003811</td>\n",
              "      <td>-0.010743</td>\n",
              "      <td>-0.009456</td>\n",
              "      <td>-0.005562</td>\n",
              "      <td>-0.041542</td>\n",
              "      <td>-0.012087</td>\n",
              "      <td>-0.003023</td>\n",
              "      <td>-0.002096</td>\n",
              "      <td>-0.012335</td>\n",
              "      <td>-0.005168</td>\n",
              "      <td>-0.001223</td>\n",
              "      <td>-0.005828</td>\n",
              "      <td>0.002228</td>\n",
              "      <td>-0.002660</td>\n",
              "      <td>-0.014448</td>\n",
              "      <td>1.000000</td>\n",
              "      <td>0.009977</td>\n",
              "      <td>0.002483</td>\n",
              "    </tr>\n",
              "    <tr>\n",
              "      <th>tag_trees</th>\n",
              "      <td>0.073863</td>\n",
              "      <td>0.129144</td>\n",
              "      <td>0.221700</td>\n",
              "      <td>0.059413</td>\n",
              "      <td>0.060195</td>\n",
              "      <td>0.040410</td>\n",
              "      <td>0.011950</td>\n",
              "      <td>0.022498</td>\n",
              "      <td>0.087393</td>\n",
              "      <td>0.093886</td>\n",
              "      <td>0.005383</td>\n",
              "      <td>-0.012870</td>\n",
              "      <td>-0.009310</td>\n",
              "      <td>-0.020555</td>\n",
              "      <td>0.041026</td>\n",
              "      <td>-0.057734</td>\n",
              "      <td>-0.003763</td>\n",
              "      <td>-0.003452</td>\n",
              "      <td>0.037987</td>\n",
              "      <td>0.128435</td>\n",
              "      <td>0.409105</td>\n",
              "      <td>0.101832</td>\n",
              "      <td>0.163975</td>\n",
              "      <td>0.043375</td>\n",
              "      <td>-0.010283</td>\n",
              "      <td>-0.004896</td>\n",
              "      <td>-0.003032</td>\n",
              "      <td>-0.016312</td>\n",
              "      <td>-0.005379</td>\n",
              "      <td>-0.005254</td>\n",
              "      <td>0.114137</td>\n",
              "      <td>-0.014850</td>\n",
              "      <td>-0.000095</td>\n",
              "      <td>-0.157697</td>\n",
              "      <td>-0.071084</td>\n",
              "      <td>-0.010325</td>\n",
              "      <td>-0.007159</td>\n",
              "      <td>-0.040783</td>\n",
              "      <td>0.169745</td>\n",
              "      <td>-0.004175</td>\n",
              "      <td>0.024718</td>\n",
              "      <td>-0.046618</td>\n",
              "      <td>-0.006866</td>\n",
              "      <td>-0.040603</td>\n",
              "      <td>0.009977</td>\n",
              "      <td>1.000000</td>\n",
              "      <td>-0.024091</td>\n",
              "    </tr>\n",
              "    <tr>\n",
              "      <th>tag_two pointers</th>\n",
              "      <td>0.039230</td>\n",
              "      <td>0.021806</td>\n",
              "      <td>0.083887</td>\n",
              "      <td>0.019196</td>\n",
              "      <td>0.019136</td>\n",
              "      <td>0.005729</td>\n",
              "      <td>0.006006</td>\n",
              "      <td>0.005065</td>\n",
              "      <td>0.020119</td>\n",
              "      <td>0.026652</td>\n",
              "      <td>0.016446</td>\n",
              "      <td>-0.005648</td>\n",
              "      <td>-0.008689</td>\n",
              "      <td>0.192977</td>\n",
              "      <td>-0.021514</td>\n",
              "      <td>0.033014</td>\n",
              "      <td>0.011693</td>\n",
              "      <td>-0.003543</td>\n",
              "      <td>-0.047512</td>\n",
              "      <td>0.035041</td>\n",
              "      <td>-0.016154</td>\n",
              "      <td>-0.015350</td>\n",
              "      <td>0.126590</td>\n",
              "      <td>-0.021344</td>\n",
              "      <td>-0.009597</td>\n",
              "      <td>-0.004570</td>\n",
              "      <td>-0.007968</td>\n",
              "      <td>-0.022385</td>\n",
              "      <td>-0.025261</td>\n",
              "      <td>0.040300</td>\n",
              "      <td>-0.020663</td>\n",
              "      <td>0.084380</td>\n",
              "      <td>0.010427</td>\n",
              "      <td>-0.107753</td>\n",
              "      <td>-0.059800</td>\n",
              "      <td>-0.009637</td>\n",
              "      <td>-0.006682</td>\n",
              "      <td>-0.010544</td>\n",
              "      <td>-0.013200</td>\n",
              "      <td>-0.003897</td>\n",
              "      <td>-0.009854</td>\n",
              "      <td>0.071536</td>\n",
              "      <td>0.011246</td>\n",
              "      <td>-0.033308</td>\n",
              "      <td>0.002483</td>\n",
              "      <td>-0.024091</td>\n",
              "      <td>1.000000</td>\n",
              "    </tr>\n",
              "  </tbody>\n",
              "</table>\n",
              "</div>"
            ],
            "text/plain": [
              "                               attempts_range  ...  tag_two pointers\n",
              "attempts_range                       1.000000  ...          0.039230\n",
              "level_type                           0.121232  ...          0.021806\n",
              "points                               0.155311  ...          0.083887\n",
              "submission_count                    -0.008324  ...          0.019196\n",
              "problem_solved                      -0.008210  ...          0.019136\n",
              "contribution                        -0.026407  ...          0.005729\n",
              "country                             -0.009926  ...          0.006006\n",
              "follower_count                      -0.018074  ...          0.005065\n",
              "max_rating                          -0.048669  ...          0.020119\n",
              "rating                              -0.044667  ...          0.026652\n",
              "rank                                -0.002071  ...          0.016446\n",
              "tag_*special                         0.030005  ...         -0.005648\n",
              "tag_2-sat                            0.009180  ...         -0.008689\n",
              "tag_binary search                    0.059875  ...          0.192977\n",
              "tag_bitmasks                         0.008205  ...         -0.021514\n",
              "tag_brute force                      0.005369  ...          0.033014\n",
              "tag_chinese remainder theorem        0.004770  ...          0.011693\n",
              "tag_combinatorics                    0.018861  ...         -0.003543\n",
              "tag_constructive algorithms         -0.014904  ...         -0.047512\n",
              "tag_data structures                  0.078148  ...          0.035041\n",
              "tag_dfs and similar                  0.051132  ...         -0.016154\n",
              "tag_divide and conquer               0.019512  ...         -0.015350\n",
              "tag_dp                               0.076299  ...          0.126590\n",
              "tag_dsu                              0.015632  ...         -0.021344\n",
              "tag_expression parsing               0.000082  ...         -0.009597\n",
              "tag_fft                              0.015251  ...         -0.004570\n",
              "tag_flows                            0.012510  ...         -0.007968\n",
              "tag_games                           -0.011591  ...         -0.022385\n",
              "tag_geometry                        -0.007803  ...         -0.025261\n",
              "tag_graph matchings                  0.003683  ...          0.040300\n",
              "tag_graphs                           0.027154  ...         -0.020663\n",
              "tag_greedy                           0.025687  ...          0.084380\n",
              "tag_hashing                          0.046919  ...          0.010427\n",
              "tag_implementation                  -0.097583  ...         -0.107753\n",
              "tag_math                            -0.011131  ...         -0.059800\n",
              "tag_matrices                         0.024374  ...         -0.009637\n",
              "tag_meet-in-the-middle               0.017897  ...         -0.006682\n",
              "tag_number theory                    0.034258  ...         -0.010544\n",
              "tag_probabilities                    0.070773  ...         -0.013200\n",
              "tag_schedules                       -0.005844  ...         -0.003897\n",
              "tag_shortest paths                   0.017974  ...         -0.009854\n",
              "tag_sortings                         0.004691  ...          0.071536\n",
              "tag_string suffix structures         0.035200  ...          0.011246\n",
              "tag_strings                         -0.024534  ...         -0.033308\n",
              "tag_ternary search                   0.020138  ...          0.002483\n",
              "tag_trees                            0.073863  ...         -0.024091\n",
              "tag_two pointers                     0.039230  ...          1.000000\n",
              "\n",
              "[47 rows x 47 columns]"
            ]
          },
          "metadata": {},
          "execution_count": 78
        }
      ]
    },
    {
      "cell_type": "code",
      "metadata": {
        "colab": {
          "base_uri": "https://localhost:8080/",
          "height": 693
        },
        "id": "EF2W5GKKESeX",
        "outputId": "b02c0d3b-b52c-4317-c471-92320a1df3a3"
      },
      "source": [
        "fig, ax = plt.subplots(figsize=(12,10)) \n",
        "heatmap_df=df.select_dtypes(exclude=['object'])\n",
        "heatmap_df=heatmap_df.iloc[:,0:11]\n",
        "# heatmap_df.head()\n",
        "sns.heatmap(heatmap_df.corr(), annot=True, cmap='YlGnBu', ax=ax)"
      ],
      "execution_count": 79,
      "outputs": [
        {
          "output_type": "execute_result",
          "data": {
            "text/plain": [
              "<matplotlib.axes._subplots.AxesSubplot at 0x7fa69e9a7a10>"
            ]
          },
          "metadata": {},
          "execution_count": 79
        },
        {
          "output_type": "display_data",
          "data": {
            "image/png": "[encoded data removed]",
            "text/plain": [
              "<Figure size 864x720 with 2 Axes>"
            ]
          },
          "metadata": {
            "needs_background": "light"
          }
        }
      ]
    },
    {
      "cell_type": "code",
      "metadata": {
        "colab": {
          "base_uri": "https://localhost:8080/"
        },
        "id": "sS8TGZ2DErfH",
        "outputId": "6a683f7e-34ab-4e26-fbcc-8ff1aeec1cf2"
      },
      "source": [
        "df.std()"
      ],
      "execution_count": 80,
      "outputs": [
        {
          "output_type": "execute_result",
          "data": {
            "text/plain": [
              "attempts_range                     1.073975\n",
              "level_type                         1.861967\n",
              "points                           522.146439\n",
              "submission_count                 396.788881\n",
              "problem_solved                   375.943147\n",
              "contribution                      18.883749\n",
              "country                           18.966668\n",
              "follower_count                   245.905287\n",
              "max_rating                        98.907047\n",
              "rating                           111.437481\n",
              "rank                               1.206927\n",
              "tag_*special                       0.075103\n",
              "tag_2-sat                          0.050667\n",
              "tag_binary search                  0.267698\n",
              "tag_bitmasks                       0.123814\n",
              "tag_brute force                    0.378969\n",
              "tag_chinese remainder theorem      0.020524\n",
              "tag_combinatorics                  0.133970\n",
              "tag_constructive algorithms        0.320375\n",
              "tag_data structures                0.278040\n",
              "tag_dfs and similar                0.255928\n",
              "tag_divide and conquer             0.091451\n",
              "tag_dp                             0.307120\n",
              "tag_dsu                            0.139867\n",
              "tag_expression parsing             0.055928\n",
              "tag_fft                            0.026695\n",
              "tag_flows                          0.046483\n",
              "tag_games                          0.128659\n",
              "tag_geometry                       0.159184\n",
              "tag_graph matchings                0.070659\n",
              "tag_graphs                         0.192469\n",
              "tag_greedy                         0.382523\n",
              "tag_hashing                        0.102532\n",
              "tag_implementation                 0.499996\n",
              "tag_math                           0.406558\n",
              "tag_matrices                       0.056158\n",
              "tag_meet-in-the-middle             0.039003\n",
              "tag_number theory                  0.218301\n",
              "tag_probabilities                  0.095405\n",
              "tag_schedules                      0.022768\n",
              "tag_shortest paths                 0.107334\n",
              "tag_sortings                       0.294753\n",
              "tag_string suffix structures       0.049443\n",
              "tag_strings                        0.251023\n",
              "tag_ternary search                 0.053514\n",
              "tag_trees                          0.177323\n",
              "tag_two pointers                   0.166193\n",
              "dtype: float64"
            ]
          },
          "metadata": {},
          "execution_count": 80
        }
      ]
    },
    {
      "cell_type": "code",
      "metadata": {
        "colab": {
          "base_uri": "https://localhost:8080/"
        },
        "id": "idglSDMAGuV1",
        "outputId": "17de9b52-e862-4870-c4dc-035abe080e97"
      },
      "source": [
        "df.skew()"
      ],
      "execution_count": 81,
      "outputs": [
        {
          "output_type": "execute_result",
          "data": {
            "text/plain": [
              "attempts_range                    1.915188\n",
              "level_type                        2.427905\n",
              "points                            1.248408\n",
              "submission_count                  2.837701\n",
              "problem_solved                    3.017744\n",
              "contribution                      4.492542\n",
              "country                           0.551704\n",
              "follower_count                   30.905768\n",
              "max_rating                        1.356209\n",
              "rating                            0.617473\n",
              "rank                             -0.065370\n",
              "tag_*special                     13.164104\n",
              "tag_2-sat                        19.635341\n",
              "tag_binary search                 3.155093\n",
              "tag_bitmasks                      7.825210\n",
              "tag_brute force                   1.721344\n",
              "tag_chinese remainder theorem    48.683756\n",
              "tag_combinatorics                 7.191513\n",
              "tag_constructive algorithms       2.396452\n",
              "tag_data structures               2.989287\n",
              "tag_dfs and similar               3.356735\n",
              "tag_divide and conquer           10.750471\n",
              "tag_dp                            2.569450\n",
              "tag_dsu                           6.864284\n",
              "tag_expression parsing           17.768105\n",
              "tag_fft                          37.407106\n",
              "tag_flows                        21.420421\n",
              "tag_games                         7.510878\n",
              "tag_geometry                      5.955227\n",
              "tag_graph matchings              14.010602\n",
              "tag_graphs                        4.795337\n",
              "tag_greedy                        1.683523\n",
              "tag_hashing                       9.545898\n",
              "tag_implementation                0.009478\n",
              "tag_math                          1.431804\n",
              "tag_matrices                     17.694442\n",
              "tag_meet-in-the-middle           25.561552\n",
              "tag_number theory                 4.121230\n",
              "tag_probabilities                10.289187\n",
              "tag_schedules                    43.876537\n",
              "tag_shortest paths                9.099594\n",
              "tag_sortings                      2.740518\n",
              "tag_string suffix structures     20.126512\n",
              "tag_strings                       3.445315\n",
              "tag_ternary search               18.579598\n",
              "tag_trees                         5.272943\n",
              "tag_two pointers                  5.675068\n",
              "dtype: float64"
            ]
          },
          "metadata": {},
          "execution_count": 81
        }
      ]
    },
    {
      "cell_type": "code",
      "metadata": {
        "colab": {
          "base_uri": "https://localhost:8080/"
        },
        "id": "DhVuvMsnGxFp",
        "outputId": "34742d8b-659d-4e54-8410-7b12bd61622a"
      },
      "source": [
        "df.kurt()"
      ],
      "execution_count": 82,
      "outputs": [
        {
          "output_type": "execute_result",
          "data": {
            "text/plain": [
              "attempts_range                      4.004866\n",
              "level_type                          7.810169\n",
              "points                              0.730704\n",
              "submission_count                   13.473733\n",
              "problem_solved                     15.392129\n",
              "contribution                       23.802643\n",
              "country                            -0.112283\n",
              "follower_count                   1265.690854\n",
              "max_rating                          2.202784\n",
              "rating                              0.823675\n",
              "rank                               -1.621636\n",
              "tag_*special                      171.295868\n",
              "tag_2-sat                         383.551576\n",
              "tag_binary search                   7.954713\n",
              "tag_bitmasks                       59.234680\n",
              "tag_brute force                     0.963038\n",
              "tag_chinese remainder theorem    2368.138762\n",
              "tag_combinatorics                  49.718500\n",
              "tag_constructive algorithms         3.743030\n",
              "tag_data structures                 6.935928\n",
              "tag_dfs and similar                 9.267791\n",
              "tag_divide and conquer            113.574102\n",
              "tag_dp                              4.602131\n",
              "tag_dsu                            45.118979\n",
              "tag_expression parsing            313.709636\n",
              "tag_fft                          1397.309682\n",
              "tag_flows                         456.840371\n",
              "tag_games                          54.413999\n",
              "tag_geometry                       33.465164\n",
              "tag_graph matchings               194.299494\n",
              "tag_graphs                         20.995529\n",
              "tag_greedy                          0.834261\n",
              "tag_hashing                        89.125321\n",
              "tag_implementation                 -1.999936\n",
              "tag_math                            0.050062\n",
              "tag_matrices                      311.097313\n",
              "tag_meet-in-the-middle            651.401403\n",
              "tag_number theory                  14.984733\n",
              "tag_probabilities                 103.868711\n",
              "tag_schedules                    1923.175397\n",
              "tag_shortest paths                 80.803662\n",
              "tag_sortings                        5.510508\n",
              "tag_string suffix structures      403.081699\n",
              "tag_strings                         9.870322\n",
              "tag_ternary search                343.205918\n",
              "tag_trees                          25.804265\n",
              "tag_two pointers                   30.206789\n",
              "dtype: float64"
            ]
          },
          "metadata": {},
          "execution_count": 82
        }
      ]
    },
    {
      "cell_type": "markdown",
      "metadata": {
        "id": "AFNPSfj6ifl6"
      },
      "source": [
        "# Feature Selection"
      ]
    },
    {
      "cell_type": "code",
      "metadata": {
        "colab": {
          "base_uri": "https://localhost:8080/"
        },
        "id": "MMUvrszqifKd",
        "outputId": "a542df88-2600-49b2-96f0-c3790341890d"
      },
      "source": [
        "from sklearn.feature_selection import VarianceThreshold\n",
        "\n",
        "var_threshold = VarianceThreshold(threshold=0)\n",
        "var_threshold.fit(df.select_dtypes(exclude=['object', 'datetime']))"
      ],
      "execution_count": 83,
      "outputs": [
        {
          "output_type": "execute_result",
          "data": {
            "text/plain": [
              "VarianceThreshold(threshold=0)"
            ]
          },
          "metadata": {},
          "execution_count": 83
        }
      ]
    },
    {
      "cell_type": "code",
      "metadata": {
        "colab": {
          "base_uri": "https://localhost:8080/"
        },
        "id": "eKJHhqVcjKxI",
        "outputId": "f74b5b0d-101d-45c5-fc50-9d8f5327601b"
      },
      "source": [
        "var_threshold.get_support()"
      ],
      "execution_count": 84,
      "outputs": [
        {
          "output_type": "execute_result",
          "data": {
            "text/plain": [
              "array([ True,  True,  True,  True,  True,  True,  True,  True,  True,\n",
              "        True,  True,  True,  True,  True,  True,  True,  True,  True,\n",
              "        True,  True,  True,  True,  True,  True,  True,  True,  True,\n",
              "        True,  True,  True,  True,  True,  True,  True,  True,  True,\n",
              "        True,  True,  True,  True,  True,  True,  True,  True,  True,\n",
              "        True,  True])"
            ]
          },
          "metadata": {},
          "execution_count": 84
        }
      ]
    },
    {
      "cell_type": "code",
      "metadata": {
        "colab": {
          "base_uri": "https://localhost:8080/"
        },
        "id": "LZrZmNSkjiDu",
        "outputId": "79e1be75-37f5-43c5-8a0e-427b1dec77a3"
      },
      "source": [
        "df.select_dtypes(exclude=['object', 'datetime']).columns[var_threshold.get_support()]"
      ],
      "execution_count": 85,
      "outputs": [
        {
          "output_type": "execute_result",
          "data": {
            "text/plain": [
              "Index(['attempts_range', 'level_type', 'points', 'submission_count',\n",
              "       'problem_solved', 'contribution', 'country', 'follower_count',\n",
              "       'max_rating', 'rating', 'rank', 'tag_*special', 'tag_2-sat',\n",
              "       'tag_binary search', 'tag_bitmasks', 'tag_brute force',\n",
              "       'tag_chinese remainder theorem', 'tag_combinatorics',\n",
              "       'tag_constructive algorithms', 'tag_data structures',\n",
              "       'tag_dfs and similar', 'tag_divide and conquer', 'tag_dp', 'tag_dsu',\n",
              "       'tag_expression parsing', 'tag_fft', 'tag_flows', 'tag_games',\n",
              "       'tag_geometry', 'tag_graph matchings', 'tag_graphs', 'tag_greedy',\n",
              "       'tag_hashing', 'tag_implementation', 'tag_math', 'tag_matrices',\n",
              "       'tag_meet-in-the-middle', 'tag_number theory', 'tag_probabilities',\n",
              "       'tag_schedules', 'tag_shortest paths', 'tag_sortings',\n",
              "       'tag_string suffix structures', 'tag_strings', 'tag_ternary search',\n",
              "       'tag_trees', 'tag_two pointers'],\n",
              "      dtype='object')"
            ]
          },
          "metadata": {},
          "execution_count": 85
        }
      ]
    },
    {
      "cell_type": "markdown",
      "metadata": {
        "id": "3dnOwCtySNeD"
      },
      "source": [
        "# Train Test Split"
      ]
    },
    {
      "cell_type": "code",
      "metadata": {
        "id": "3s12cHIjGyAC"
      },
      "source": [
        "X = df.drop('attempts_range', axis=1)\n",
        "y = df['attempts_range']"
      ],
      "execution_count": 86,
      "outputs": []
    },
    {
      "cell_type": "code",
      "metadata": {
        "colab": {
          "base_uri": "https://localhost:8080/"
        },
        "id": "s_9o45l0RqI4",
        "outputId": "c11b5976-68a1-401d-a1be-009886a49960"
      },
      "source": [
        "X_train, X_test, y_train, y_test = train_test_split(X, y, test_size=0.3, random_state=2)\n",
        "print(\"Length of X_train is %s\" % (len(X_train)))\n",
        "print(\"Length of X_test is %s\" % (len(X_test)))\n",
        "print(\"Length of Y_train is %s\" % (len(y_train)))\n",
        "print(\"Length of Y_test is %s\" % (len(y_test)))"
      ],
      "execution_count": 87,
      "outputs": [
        {
          "output_type": "stream",
          "name": "stdout",
          "text": [
            "Length of X_train is 107974\n",
            "Length of X_test is 46275\n",
            "Length of Y_train is 107974\n",
            "Length of Y_test is 46275\n"
          ]
        }
      ]
    },
    {
      "cell_type": "code",
      "metadata": {
        "id": "MSwUX6SRURrk"
      },
      "source": [
        "X_train = X_train.select_dtypes(exclude=['object', 'datetime'])\n",
        "X_test = X_test.select_dtypes(exclude=['object', 'datetime'])"
      ],
      "execution_count": 88,
      "outputs": []
    },
    {
      "cell_type": "markdown",
      "metadata": {
        "id": "b96byE_oI2JG"
      },
      "source": [
        "# SMOTE Analysis"
      ]
    },
    {
      "cell_type": "code",
      "metadata": {
        "colab": {
          "base_uri": "https://localhost:8080/"
        },
        "id": "Yxt41zGrSblC",
        "outputId": "6d5ca176-3015-436a-d2cc-cc9bfac2974b"
      },
      "source": [
        "#SMOTE\n",
        "from imblearn.over_sampling import SMOTE\n",
        "from collections import Counter\n",
        "\n",
        "smote = SMOTE()\n",
        "\n",
        "# fit predictor and target variable\n",
        "x_smote, y_smote = smote.fit_resample(X_train, y_train)\n",
        "\n",
        "print('Original dataset shape', Counter(y_train))\n",
        "print('Resample dataset shape', Counter(y_smote))"
      ],
      "execution_count": 89,
      "outputs": [
        {
          "output_type": "stream",
          "name": "stdout",
          "text": [
            "Original dataset shape Counter({1: 57634, 2: 32912, 3: 9867, 4: 3785, 6: 2076, 5: 1700})\n",
            "Resample dataset shape Counter({1: 57634, 2: 57634, 3: 57634, 4: 57634, 5: 57634, 6: 57634})\n"
          ]
        }
      ]
    },
    {
      "cell_type": "code",
      "metadata": {
        "colab": {
          "base_uri": "https://localhost:8080/"
        },
        "id": "cLABjFV8Tit6",
        "outputId": "e5a98e39-a72d-4302-f552-ce2e3ed80f90"
      },
      "source": [
        "print(\"Length of X_train is %s\" % (len(X_train)))\n",
        "print(\"Length of X_test is %s\" % (len(X_test)))\n",
        "print(\"Length of Y_train is %s\" % (len(y_train)))\n",
        "print(\"Length of Y_test is %s\" % (len(y_test)))"
      ],
      "execution_count": 90,
      "outputs": [
        {
          "output_type": "stream",
          "name": "stdout",
          "text": [
            "Length of X_train is 107974\n",
            "Length of X_test is 46275\n",
            "Length of Y_train is 107974\n",
            "Length of Y_test is 46275\n"
          ]
        }
      ]
    },
    {
      "cell_type": "code",
      "metadata": {
        "colab": {
          "base_uri": "https://localhost:8080/"
        },
        "id": "utLW1ZZFWFlQ",
        "outputId": "5528900c-b02b-421b-b30e-52d44ec9bfe2"
      },
      "source": [
        "print(\"Length of X_smote is %s\" % (len(x_smote)))\n",
        "print(\"Length of y_smote is %s\" % (len(y_smote)))"
      ],
      "execution_count": 91,
      "outputs": [
        {
          "output_type": "stream",
          "name": "stdout",
          "text": [
            "Length of X_smote is 345804\n",
            "Length of y_smote is 345804\n"
          ]
        }
      ]
    },
    {
      "cell_type": "code",
      "metadata": {
        "colab": {
          "base_uri": "https://localhost:8080/",
          "height": 261
        },
        "id": "dcNz4wXxWT1c",
        "outputId": "4d2aa61b-75fe-4658-e33e-833e9c311150"
      },
      "source": [
        "x_smote.head()"
      ],
      "execution_count": 92,
      "outputs": [
        {
          "output_type": "execute_result",
          "data": {
            "text/html": [
              "<div>\n",
              "<style scoped>\n",
              "    .dataframe tbody tr th:only-of-type {\n",
              "        vertical-align: middle;\n",
              "    }\n",
              "\n",
              "    .dataframe tbody tr th {\n",
              "        vertical-align: top;\n",
              "    }\n",
              "\n",
              "    .dataframe thead th {\n",
              "        text-align: right;\n",
              "    }\n",
              "</style>\n",
              "<table border=\"1\" class=\"dataframe\">\n",
              "  <thead>\n",
              "    <tr style=\"text-align: right;\">\n",
              "      <th></th>\n",
              "      <th>level_type</th>\n",
              "      <th>points</th>\n",
              "      <th>submission_count</th>\n",
              "      <th>problem_solved</th>\n",
              "      <th>contribution</th>\n",
              "      <th>country</th>\n",
              "      <th>follower_count</th>\n",
              "      <th>max_rating</th>\n",
              "      <th>rating</th>\n",
              "      <th>rank</th>\n",
              "      <th>tag_*special</th>\n",
              "      <th>tag_2-sat</th>\n",
              "      <th>tag_binary search</th>\n",
              "      <th>tag_bitmasks</th>\n",
              "      <th>tag_brute force</th>\n",
              "      <th>tag_chinese remainder theorem</th>\n",
              "      <th>tag_combinatorics</th>\n",
              "      <th>tag_constructive algorithms</th>\n",
              "      <th>tag_data structures</th>\n",
              "      <th>tag_dfs and similar</th>\n",
              "      <th>tag_divide and conquer</th>\n",
              "      <th>tag_dp</th>\n",
              "      <th>tag_dsu</th>\n",
              "      <th>tag_expression parsing</th>\n",
              "      <th>tag_fft</th>\n",
              "      <th>tag_flows</th>\n",
              "      <th>tag_games</th>\n",
              "      <th>tag_geometry</th>\n",
              "      <th>tag_graph matchings</th>\n",
              "      <th>tag_graphs</th>\n",
              "      <th>tag_greedy</th>\n",
              "      <th>tag_hashing</th>\n",
              "      <th>tag_implementation</th>\n",
              "      <th>tag_math</th>\n",
              "      <th>tag_matrices</th>\n",
              "      <th>tag_meet-in-the-middle</th>\n",
              "      <th>tag_number theory</th>\n",
              "      <th>tag_probabilities</th>\n",
              "      <th>tag_schedules</th>\n",
              "      <th>tag_shortest paths</th>\n",
              "      <th>tag_sortings</th>\n",
              "      <th>tag_string suffix structures</th>\n",
              "      <th>tag_strings</th>\n",
              "      <th>tag_ternary search</th>\n",
              "      <th>tag_trees</th>\n",
              "      <th>tag_two pointers</th>\n",
              "    </tr>\n",
              "  </thead>\n",
              "  <tbody>\n",
              "    <tr>\n",
              "      <th>0</th>\n",
              "      <td>8</td>\n",
              "      <td>500.0</td>\n",
              "      <td>349</td>\n",
              "      <td>298</td>\n",
              "      <td>0</td>\n",
              "      <td>6</td>\n",
              "      <td>17</td>\n",
              "      <td>389.908</td>\n",
              "      <td>360.378</td>\n",
              "      <td>3</td>\n",
              "      <td>0</td>\n",
              "      <td>0</td>\n",
              "      <td>0</td>\n",
              "      <td>0</td>\n",
              "      <td>0</td>\n",
              "      <td>0</td>\n",
              "      <td>0</td>\n",
              "      <td>0</td>\n",
              "      <td>0</td>\n",
              "      <td>0</td>\n",
              "      <td>0</td>\n",
              "      <td>0</td>\n",
              "      <td>0</td>\n",
              "      <td>0</td>\n",
              "      <td>0</td>\n",
              "      <td>0</td>\n",
              "      <td>0</td>\n",
              "      <td>0</td>\n",
              "      <td>0</td>\n",
              "      <td>0</td>\n",
              "      <td>0</td>\n",
              "      <td>0</td>\n",
              "      <td>1</td>\n",
              "      <td>0</td>\n",
              "      <td>0</td>\n",
              "      <td>0</td>\n",
              "      <td>0</td>\n",
              "      <td>0</td>\n",
              "      <td>0</td>\n",
              "      <td>0</td>\n",
              "      <td>0</td>\n",
              "      <td>0</td>\n",
              "      <td>0</td>\n",
              "      <td>0</td>\n",
              "      <td>0</td>\n",
              "      <td>0</td>\n",
              "    </tr>\n",
              "    <tr>\n",
              "      <th>1</th>\n",
              "      <td>2</td>\n",
              "      <td>1500.0</td>\n",
              "      <td>96</td>\n",
              "      <td>87</td>\n",
              "      <td>0</td>\n",
              "      <td>31</td>\n",
              "      <td>32</td>\n",
              "      <td>506.881</td>\n",
              "      <td>499.427</td>\n",
              "      <td>0</td>\n",
              "      <td>0</td>\n",
              "      <td>0</td>\n",
              "      <td>0</td>\n",
              "      <td>0</td>\n",
              "      <td>0</td>\n",
              "      <td>0</td>\n",
              "      <td>0</td>\n",
              "      <td>0</td>\n",
              "      <td>0</td>\n",
              "      <td>1</td>\n",
              "      <td>0</td>\n",
              "      <td>0</td>\n",
              "      <td>0</td>\n",
              "      <td>0</td>\n",
              "      <td>0</td>\n",
              "      <td>0</td>\n",
              "      <td>0</td>\n",
              "      <td>0</td>\n",
              "      <td>0</td>\n",
              "      <td>0</td>\n",
              "      <td>1</td>\n",
              "      <td>0</td>\n",
              "      <td>0</td>\n",
              "      <td>0</td>\n",
              "      <td>0</td>\n",
              "      <td>0</td>\n",
              "      <td>0</td>\n",
              "      <td>0</td>\n",
              "      <td>0</td>\n",
              "      <td>1</td>\n",
              "      <td>0</td>\n",
              "      <td>0</td>\n",
              "      <td>0</td>\n",
              "      <td>0</td>\n",
              "      <td>0</td>\n",
              "      <td>0</td>\n",
              "    </tr>\n",
              "    <tr>\n",
              "      <th>2</th>\n",
              "      <td>1</td>\n",
              "      <td>1000.0</td>\n",
              "      <td>113</td>\n",
              "      <td>86</td>\n",
              "      <td>0</td>\n",
              "      <td>5</td>\n",
              "      <td>33</td>\n",
              "      <td>307.339</td>\n",
              "      <td>245.986</td>\n",
              "      <td>1</td>\n",
              "      <td>0</td>\n",
              "      <td>0</td>\n",
              "      <td>0</td>\n",
              "      <td>0</td>\n",
              "      <td>0</td>\n",
              "      <td>0</td>\n",
              "      <td>0</td>\n",
              "      <td>0</td>\n",
              "      <td>0</td>\n",
              "      <td>0</td>\n",
              "      <td>0</td>\n",
              "      <td>0</td>\n",
              "      <td>0</td>\n",
              "      <td>1</td>\n",
              "      <td>0</td>\n",
              "      <td>0</td>\n",
              "      <td>0</td>\n",
              "      <td>0</td>\n",
              "      <td>0</td>\n",
              "      <td>0</td>\n",
              "      <td>0</td>\n",
              "      <td>0</td>\n",
              "      <td>1</td>\n",
              "      <td>0</td>\n",
              "      <td>0</td>\n",
              "      <td>0</td>\n",
              "      <td>0</td>\n",
              "      <td>0</td>\n",
              "      <td>0</td>\n",
              "      <td>0</td>\n",
              "      <td>0</td>\n",
              "      <td>0</td>\n",
              "      <td>0</td>\n",
              "      <td>0</td>\n",
              "      <td>0</td>\n",
              "      <td>0</td>\n",
              "    </tr>\n",
              "    <tr>\n",
              "      <th>3</th>\n",
              "      <td>5</td>\n",
              "      <td>500.0</td>\n",
              "      <td>438</td>\n",
              "      <td>331</td>\n",
              "      <td>0</td>\n",
              "      <td>33</td>\n",
              "      <td>9</td>\n",
              "      <td>371.273</td>\n",
              "      <td>354.931</td>\n",
              "      <td>3</td>\n",
              "      <td>0</td>\n",
              "      <td>0</td>\n",
              "      <td>0</td>\n",
              "      <td>0</td>\n",
              "      <td>0</td>\n",
              "      <td>0</td>\n",
              "      <td>0</td>\n",
              "      <td>0</td>\n",
              "      <td>0</td>\n",
              "      <td>0</td>\n",
              "      <td>0</td>\n",
              "      <td>1</td>\n",
              "      <td>0</td>\n",
              "      <td>0</td>\n",
              "      <td>0</td>\n",
              "      <td>0</td>\n",
              "      <td>0</td>\n",
              "      <td>0</td>\n",
              "      <td>0</td>\n",
              "      <td>0</td>\n",
              "      <td>1</td>\n",
              "      <td>0</td>\n",
              "      <td>0</td>\n",
              "      <td>0</td>\n",
              "      <td>0</td>\n",
              "      <td>0</td>\n",
              "      <td>0</td>\n",
              "      <td>0</td>\n",
              "      <td>0</td>\n",
              "      <td>0</td>\n",
              "      <td>0</td>\n",
              "      <td>0</td>\n",
              "      <td>0</td>\n",
              "      <td>0</td>\n",
              "      <td>1</td>\n",
              "      <td>0</td>\n",
              "    </tr>\n",
              "    <tr>\n",
              "      <th>4</th>\n",
              "      <td>2</td>\n",
              "      <td>500.0</td>\n",
              "      <td>1251</td>\n",
              "      <td>1126</td>\n",
              "      <td>1</td>\n",
              "      <td>73</td>\n",
              "      <td>28</td>\n",
              "      <td>523.796</td>\n",
              "      <td>459.862</td>\n",
              "      <td>0</td>\n",
              "      <td>0</td>\n",
              "      <td>0</td>\n",
              "      <td>0</td>\n",
              "      <td>0</td>\n",
              "      <td>1</td>\n",
              "      <td>0</td>\n",
              "      <td>0</td>\n",
              "      <td>0</td>\n",
              "      <td>0</td>\n",
              "      <td>0</td>\n",
              "      <td>0</td>\n",
              "      <td>0</td>\n",
              "      <td>0</td>\n",
              "      <td>0</td>\n",
              "      <td>0</td>\n",
              "      <td>0</td>\n",
              "      <td>0</td>\n",
              "      <td>0</td>\n",
              "      <td>0</td>\n",
              "      <td>0</td>\n",
              "      <td>0</td>\n",
              "      <td>0</td>\n",
              "      <td>1</td>\n",
              "      <td>1</td>\n",
              "      <td>0</td>\n",
              "      <td>0</td>\n",
              "      <td>0</td>\n",
              "      <td>0</td>\n",
              "      <td>0</td>\n",
              "      <td>0</td>\n",
              "      <td>0</td>\n",
              "      <td>0</td>\n",
              "      <td>0</td>\n",
              "      <td>0</td>\n",
              "      <td>0</td>\n",
              "      <td>0</td>\n",
              "    </tr>\n",
              "  </tbody>\n",
              "</table>\n",
              "</div>"
            ],
            "text/plain": [
              "   level_type  points  ...  tag_trees  tag_two pointers\n",
              "0           8   500.0  ...          0                 0\n",
              "1           2  1500.0  ...          0                 0\n",
              "2           1  1000.0  ...          0                 0\n",
              "3           5   500.0  ...          1                 0\n",
              "4           2   500.0  ...          0                 0\n",
              "\n",
              "[5 rows x 46 columns]"
            ]
          },
          "metadata": {},
          "execution_count": 92
        }
      ]
    },
    {
      "cell_type": "markdown",
      "metadata": {
        "id": "okfp6t9ZnLuX"
      },
      "source": [
        "**Under Sampling**"
      ]
    },
    {
      "cell_type": "code",
      "metadata": {
        "colab": {
          "base_uri": "https://localhost:8080/"
        },
        "id": "R0A6Qd41nK-a",
        "outputId": "36a8fe55-b551-4259-bc81-7a7217802c24"
      },
      "source": [
        "from imblearn.under_sampling import RandomUnderSampler\n",
        "\n",
        "rus = RandomUnderSampler(random_state=2, replacement=True)# fit predictor and target variable\n",
        "\n",
        "X_rus, y_rus = rus.fit_resample(X_train, y_train)\n",
        "\n",
        "print('original dataset shape:', Counter(y_train))\n",
        "print('Resample dataset shape', Counter(y_rus))"
      ],
      "execution_count": 93,
      "outputs": [
        {
          "output_type": "stream",
          "name": "stdout",
          "text": [
            "original dataset shape: Counter({1: 57634, 2: 32912, 3: 9867, 4: 3785, 6: 2076, 5: 1700})\n",
            "Resample dataset shape Counter({1: 1700, 2: 1700, 3: 1700, 4: 1700, 5: 1700, 6: 1700})\n"
          ]
        }
      ]
    },
    {
      "cell_type": "markdown",
      "metadata": {
        "id": "G17q_FtTnjzJ"
      },
      "source": [
        "**Over Sampling**"
      ]
    },
    {
      "cell_type": "code",
      "metadata": {
        "colab": {
          "base_uri": "https://localhost:8080/"
        },
        "id": "-0s9hFlMnmVA",
        "outputId": "3eabf575-6484-4987-c8dd-d6b5b0a6bd1e"
      },
      "source": [
        "from imblearn.over_sampling import RandomOverSampler\n",
        "\n",
        "ros = RandomOverSampler(random_state=2)\n",
        "\n",
        "X_ros, y_ros = ros.fit_resample(X_train, y_train)\n",
        "\n",
        "print('Original dataset shape', Counter(y_train))\n",
        "print('Resample dataset shape', Counter(y_ros))"
      ],
      "execution_count": 94,
      "outputs": [
        {
          "output_type": "stream",
          "name": "stdout",
          "text": [
            "Original dataset shape Counter({1: 57634, 2: 32912, 3: 9867, 4: 3785, 6: 2076, 5: 1700})\n",
            "Resample dataset shape Counter({1: 57634, 2: 57634, 3: 57634, 4: 57634, 5: 57634, 6: 57634})\n"
          ]
        }
      ]
    },
    {
      "cell_type": "markdown",
      "metadata": {
        "id": "9X-yhBNNaNli"
      },
      "source": [
        "# Creating Models"
      ]
    },
    {
      "cell_type": "code",
      "metadata": {
        "id": "2BkN8R2olGSp"
      },
      "source": [
        "model=[]\n",
        "accuracy=[]"
      ],
      "execution_count": 95,
      "outputs": []
    },
    {
      "cell_type": "markdown",
      "metadata": {
        "id": "E5QhLaM-jiqO"
      },
      "source": [
        "## Logistic Regression"
      ]
    },
    {
      "cell_type": "code",
      "metadata": {
        "colab": {
          "base_uri": "https://localhost:8080/"
        },
        "id": "qWOdbbnaWaGR",
        "outputId": "60f8eca9-69dd-4df0-c79b-9786ba4fd022"
      },
      "source": [
        "from sklearn.linear_model import LogisticRegression\n",
        "from sklearn import metrics\n",
        "from sklearn.metrics import classification_report\n",
        "from sklearn.model_selection import cross_val_score\n",
        "\n",
        "LogReg = LogisticRegression(random_state=2)\n",
        "LogReg.fit(X_train,y_train)\n",
        "predicted_values = LogReg.predict(X_test)\n",
        "x = metrics.accuracy_score(y_test, predicted_values)\n",
        "model.append('Logistic Regression')\n",
        "accuracy.append(x*100)\n",
        "print(classification_report(y_test, predicted_values))\n",
        "print(\"Logistic Regression's Accuracy is: \", x*100)"
      ],
      "execution_count": 96,
      "outputs": [
        {
          "output_type": "stream",
          "name": "stdout",
          "text": [
            "              precision    recall  f1-score   support\n",
            "\n",
            "           1       0.54      0.98      0.70     24846\n",
            "           2       0.35      0.04      0.07     14053\n",
            "           3       0.00      0.00      0.00      4114\n",
            "           4       0.00      0.00      0.00      1631\n",
            "           5       0.00      0.00      0.00       746\n",
            "           6       0.00      0.00      0.00       885\n",
            "\n",
            "    accuracy                           0.54     46275\n",
            "   macro avg       0.15      0.17      0.13     46275\n",
            "weighted avg       0.40      0.54      0.40     46275\n",
            "\n",
            "Logistic Regression's Accuracy is:  53.70934629929768\n"
          ]
        }
      ]
    },
    {
      "cell_type": "markdown",
      "metadata": {
        "id": "px61-ljwEuel"
      },
      "source": [
        "**The accuracy for X_train and y_train is 53.7%. The precisions for 3, 4, 5, 6 are very low because of imbalanced data**"
      ]
    },
    {
      "cell_type": "markdown",
      "metadata": {
        "id": "jTb96AC0EmKN"
      },
      "source": [
        "**Cross Validations**"
      ]
    },
    {
      "cell_type": "code",
      "metadata": {
        "colab": {
          "base_uri": "https://localhost:8080/"
        },
        "id": "LZsi_-09l1KS",
        "outputId": "ae226f32-0ffb-45f1-fee3-e9a5f88ff42a"
      },
      "source": [
        "score_LR = cross_val_score(LogReg, X.select_dtypes(exclude=['object', 'datetime']), y, cv=5)\n",
        "score_LR"
      ],
      "execution_count": 97,
      "outputs": [
        {
          "output_type": "execute_result",
          "data": {
            "text/plain": [
              "array([0.53448947, 0.53406807, 0.53640194, 0.53235008, 0.53353431])"
            ]
          },
          "metadata": {},
          "execution_count": 97
        }
      ]
    },
    {
      "cell_type": "code",
      "metadata": {
        "colab": {
          "base_uri": "https://localhost:8080/"
        },
        "id": "LEYdcEsSl41x",
        "outputId": "003d31a0-eefe-481d-d6d6-e8e86ad26492"
      },
      "source": [
        "score_LR.mean()"
      ],
      "execution_count": 98,
      "outputs": [
        {
          "output_type": "execute_result",
          "data": {
            "text/plain": [
              "0.5341687749388155"
            ]
          },
          "metadata": {},
          "execution_count": 98
        }
      ]
    },
    {
      "cell_type": "markdown",
      "metadata": {
        "id": "tdGvR-qYIDbv"
      },
      "source": [
        "**Under Sampling data**"
      ]
    },
    {
      "cell_type": "code",
      "metadata": {
        "colab": {
          "base_uri": "https://localhost:8080/"
        },
        "id": "ibGxeCT4n4zv",
        "outputId": "22768ba1-ac21-484b-b320-94711ba436a0"
      },
      "source": [
        "LogReg = LogisticRegression(random_state=2)\n",
        "LogReg.fit(X_rus,y_rus)\n",
        "predicted_values = LogReg.predict(X_test)\n",
        "x = metrics.accuracy_score(y_test, predicted_values)\n",
        "print(classification_report(y_test, predicted_values))\n",
        "print(\"Logistic Regression's Accuracy using Under Sampling values is: \", x*100)"
      ],
      "execution_count": 99,
      "outputs": [
        {
          "output_type": "stream",
          "name": "stdout",
          "text": [
            "              precision    recall  f1-score   support\n",
            "\n",
            "           1       0.59      0.58      0.59     24846\n",
            "           2       0.29      0.11      0.16     14053\n",
            "           3       0.08      0.01      0.01      4114\n",
            "           4       0.04      0.09      0.05      1631\n",
            "           5       0.03      0.19      0.05       746\n",
            "           6       0.03      0.28      0.06       885\n",
            "\n",
            "    accuracy                           0.36     46275\n",
            "   macro avg       0.18      0.21      0.15     46275\n",
            "weighted avg       0.42      0.36      0.37     46275\n",
            "\n",
            "Logistic Regression's Accuracy using Under Sampling values is:  35.73419773095624\n"
          ]
        }
      ]
    },
    {
      "cell_type": "markdown",
      "metadata": {
        "id": "ecWhIA-UIIYR"
      },
      "source": [
        "**Over Sampling data**"
      ]
    },
    {
      "cell_type": "code",
      "metadata": {
        "colab": {
          "base_uri": "https://localhost:8080/"
        },
        "id": "Nj-oWuwSoBMO",
        "outputId": "da7d5847-b4c1-4a21-e322-cfad8a2bd98b"
      },
      "source": [
        "LogReg = LogisticRegression(random_state=2)\n",
        "LogReg.fit(X_ros,y_ros)\n",
        "predicted_values = LogReg.predict(X_test)\n",
        "x = metrics.accuracy_score(y_test, predicted_values)\n",
        "print(classification_report(y_test, predicted_values))\n",
        "print(\"Logistic Regression's Accuracy using Over Sampling values is: \", x*100)"
      ],
      "execution_count": 100,
      "outputs": [
        {
          "output_type": "stream",
          "name": "stdout",
          "text": [
            "              precision    recall  f1-score   support\n",
            "\n",
            "           1       0.60      0.63      0.61     24846\n",
            "           2       0.31      0.04      0.07     14053\n",
            "           3       0.09      0.05      0.06      4114\n",
            "           4       0.04      0.11      0.06      1631\n",
            "           5       0.03      0.07      0.04       746\n",
            "           6       0.03      0.38      0.06       885\n",
            "\n",
            "    accuracy                           0.37     46275\n",
            "   macro avg       0.18      0.21      0.15     46275\n",
            "weighted avg       0.43      0.37      0.36     46275\n",
            "\n",
            "Logistic Regression's Accuracy using Over Sampling values is:  36.659103187466236\n"
          ]
        }
      ]
    },
    {
      "cell_type": "markdown",
      "metadata": {
        "id": "bS1r16SoIXE9"
      },
      "source": [
        "**SMOTE data**"
      ]
    },
    {
      "cell_type": "code",
      "metadata": {
        "colab": {
          "base_uri": "https://localhost:8080/"
        },
        "id": "O892x4dWoV3R",
        "outputId": "f19aa8f8-bc78-40e6-ced6-117d2c869bc8"
      },
      "source": [
        "LogReg = LogisticRegression(random_state=2)\n",
        "LogReg.fit(x_smote,y_smote)\n",
        "predicted_values = LogReg.predict(X_test)\n",
        "x = metrics.accuracy_score(y_test, predicted_values)\n",
        "print(classification_report(y_test, predicted_values))\n",
        "print(\"Logistic Regression's Accuracy using SMOTE is: \", x*100)"
      ],
      "execution_count": 101,
      "outputs": [
        {
          "output_type": "stream",
          "name": "stdout",
          "text": [
            "              precision    recall  f1-score   support\n",
            "\n",
            "           1       0.60      0.64      0.62     24846\n",
            "           2       0.30      0.05      0.08     14053\n",
            "           3       0.09      0.04      0.05      4114\n",
            "           4       0.04      0.04      0.04      1631\n",
            "           5       0.03      0.16      0.04       746\n",
            "           6       0.03      0.37      0.06       885\n",
            "\n",
            "    accuracy                           0.37     46275\n",
            "   macro avg       0.18      0.21      0.15     46275\n",
            "weighted avg       0.42      0.37      0.36     46275\n",
            "\n",
            "Logistic Regression's Accuracy using SMOTE is:  37.27498649378715\n"
          ]
        }
      ]
    },
    {
      "cell_type": "markdown",
      "metadata": {
        "id": "wdWIf8EsF9TX"
      },
      "source": [
        "**The accuracy for X_smote and y_smote is 37.2%. The precisions for 3, 4, 5, 6 are balanced here by the accuracy is very low compared to the imbalances LogisticRegression.**\n",
        "\n",
        "*SMOTE uses KNN algorithm to get the artificial rows so it balances the dataset yet, this dataset consists of competitive programmers who in real-life will be imbalanced*"
      ]
    },
    {
      "cell_type": "markdown",
      "metadata": {
        "id": "UsGL_0W1lMuQ"
      },
      "source": [
        "## Random Forest"
      ]
    },
    {
      "cell_type": "code",
      "metadata": {
        "colab": {
          "base_uri": "https://localhost:8080/"
        },
        "id": "z8hBo-lfkgVQ",
        "outputId": "5ca57f44-a612-4b87-f0cc-957f3fa4a9c0"
      },
      "source": [
        "from sklearn.ensemble import RandomForestClassifier\n",
        "\n",
        "RF = RandomForestClassifier(n_estimators=50, random_state=0)\n",
        "RF.fit(X_train,y_train)\n",
        "predicted_values = RF.predict(X_test)\n",
        "x = metrics.accuracy_score(y_test, predicted_values)\n",
        "accuracy.append(x*100)\n",
        "model.append('Random Forest')\n",
        "print(classification_report(y_test,predicted_values))\n",
        "print(\"RF's Accuracy is: \", x*100)"
      ],
      "execution_count": 102,
      "outputs": [
        {
          "output_type": "stream",
          "name": "stdout",
          "text": [
            "              precision    recall  f1-score   support\n",
            "\n",
            "           1       0.59      0.76      0.66     24846\n",
            "           2       0.35      0.29      0.32     14053\n",
            "           3       0.15      0.05      0.07      4114\n",
            "           4       0.07      0.02      0.03      1631\n",
            "           5       0.04      0.01      0.02       746\n",
            "           6       0.14      0.04      0.06       885\n",
            "\n",
            "    accuracy                           0.50     46275\n",
            "   macro avg       0.22      0.19      0.19     46275\n",
            "weighted avg       0.44      0.50      0.46     46275\n",
            "\n",
            "RF's Accuracy is:  50.37277147487844\n"
          ]
        }
      ]
    },
    {
      "cell_type": "code",
      "metadata": {
        "colab": {
          "base_uri": "https://localhost:8080/"
        },
        "id": "J8tPLmiBq0sv",
        "outputId": "0cdce912-d89e-4ffc-95f4-950e7defca66"
      },
      "source": [
        "score_RF = cross_val_score(RF, X.select_dtypes(exclude=['object', 'datetime']), y, cv=5)\n",
        "score_RF"
      ],
      "execution_count": 103,
      "outputs": [
        {
          "output_type": "execute_result",
          "data": {
            "text/plain": [
              "array([0.52687196, 0.50703404, 0.49024311, 0.48508914, 0.47936724])"
            ]
          },
          "metadata": {},
          "execution_count": 103
        }
      ]
    },
    {
      "cell_type": "code",
      "metadata": {
        "colab": {
          "base_uri": "https://localhost:8080/"
        },
        "id": "rnVsNmBeqWQO",
        "outputId": "c712eb21-1c12-445f-a4a9-8d670f9a78c2"
      },
      "source": [
        "score_RF.mean()"
      ],
      "execution_count": 104,
      "outputs": [
        {
          "output_type": "execute_result",
          "data": {
            "text/plain": [
              "0.49772109800480013"
            ]
          },
          "metadata": {},
          "execution_count": 104
        }
      ]
    },
    {
      "cell_type": "code",
      "metadata": {
        "colab": {
          "base_uri": "https://localhost:8080/"
        },
        "id": "VLCEkPRvo3pm",
        "outputId": "1b457640-3854-4ec1-e36b-04e6891b5564"
      },
      "source": [
        "RF = RandomForestClassifier(n_estimators=20, random_state=0)\n",
        "RF.fit(x_smote,y_smote)\n",
        "predicted_values = RF.predict(X_test)\n",
        "x = metrics.accuracy_score(y_test, predicted_values)\n",
        "print(classification_report(y_test,predicted_values))\n",
        "print(\"RF's Accuracy using SMOTE values is: \", x*100)"
      ],
      "execution_count": 105,
      "outputs": [
        {
          "output_type": "stream",
          "name": "stdout",
          "text": [
            "              precision    recall  f1-score   support\n",
            "\n",
            "           1       0.60      0.64      0.62     24846\n",
            "           2       0.34      0.33      0.33     14053\n",
            "           3       0.12      0.11      0.11      4114\n",
            "           4       0.06      0.05      0.06      1631\n",
            "           5       0.04      0.03      0.04       746\n",
            "           6       0.10      0.09      0.09       885\n",
            "\n",
            "    accuracy                           0.46     46275\n",
            "   macro avg       0.21      0.21      0.21     46275\n",
            "weighted avg       0.44      0.46      0.45     46275\n",
            "\n",
            "RF's Accuracy using SMOTE values is:  45.5602377093463\n"
          ]
        }
      ]
    },
    {
      "cell_type": "markdown",
      "metadata": {
        "id": "rB2a8v5qbiEP"
      },
      "source": [
        "## K- Nearest Neighbors"
      ]
    },
    {
      "cell_type": "code",
      "metadata": {
        "colab": {
          "base_uri": "https://localhost:8080/"
        },
        "id": "NTMGXzVSbnR4",
        "outputId": "3c1cc4c1-a018-40fe-d9ec-5e7acef2db45"
      },
      "source": [
        "from sklearn.neighbors import KNeighborsClassifier\n",
        "\n",
        "KNN = KNeighborsClassifier(n_neighbors=7)\n",
        "KNN.fit(X_train, y_train)\n",
        "predicted_values = KNN.predict(X_test)\n",
        "x = metrics.accuracy_score(y_test, predicted_values)\n",
        "accuracy.append(x*100)\n",
        "model.append('K-Nearest Neighbors')\n",
        "print(classification_report(y_test,predicted_values))\n",
        "print(\"KNN's Accuracy is: \", x*100)"
      ],
      "execution_count": 106,
      "outputs": [
        {
          "output_type": "stream",
          "name": "stdout",
          "text": [
            "              precision    recall  f1-score   support\n",
            "\n",
            "           1       0.56      0.81      0.66     24846\n",
            "           2       0.33      0.22      0.27     14053\n",
            "           3       0.13      0.02      0.04      4114\n",
            "           4       0.08      0.00      0.01      1631\n",
            "           5       0.00      0.00      0.00       746\n",
            "           6       0.13      0.00      0.01       885\n",
            "\n",
            "    accuracy                           0.51     46275\n",
            "   macro avg       0.21      0.18      0.16     46275\n",
            "weighted avg       0.42      0.51      0.44     46275\n",
            "\n",
            "KNN's Accuracy is:  50.61480280929227\n"
          ]
        }
      ]
    },
    {
      "cell_type": "code",
      "metadata": {
        "colab": {
          "base_uri": "https://localhost:8080/"
        },
        "id": "FRWtl32bdpWf",
        "outputId": "4ac21c61-5dd1-4621-cd01-48143cef90e4"
      },
      "source": [
        "KNN = KNeighborsClassifier(n_neighbors=7)\n",
        "KNN.fit(x_smote, y_smote)\n",
        "predicted_values = KNN.predict(X_test)\n",
        "x = metrics.accuracy_score(y_test, predicted_values)\n",
        "print(classification_report(y_test,predicted_values))\n",
        "print(\"KNN's Accuracy using SMOTE values is: \", x*100)"
      ],
      "execution_count": 107,
      "outputs": [
        {
          "output_type": "stream",
          "name": "stdout",
          "text": [
            "              precision    recall  f1-score   support\n",
            "\n",
            "           1       0.61      0.50      0.55     24846\n",
            "           2       0.32      0.31      0.32     14053\n",
            "           3       0.11      0.15      0.13      4114\n",
            "           4       0.05      0.09      0.06      1631\n",
            "           5       0.03      0.07      0.05       746\n",
            "           6       0.06      0.11      0.07       885\n",
            "\n",
            "    accuracy                           0.38     46275\n",
            "   macro avg       0.20      0.21      0.20     46275\n",
            "weighted avg       0.44      0.38      0.41     46275\n",
            "\n",
            "KNN's Accuracy using SMOTE values is:  38.331712587790385\n"
          ]
        }
      ]
    },
    {
      "cell_type": "markdown",
      "metadata": {
        "id": "YCBrzDSCLyz6"
      },
      "source": [
        "**Model Comparision**"
      ]
    },
    {
      "cell_type": "code",
      "metadata": {
        "colab": {
          "base_uri": "https://localhost:8080/",
          "height": 408
        },
        "id": "t2jOsTRVKeEq",
        "outputId": "45264541-f667-4a01-ea89-886ac5d8ae66"
      },
      "source": [
        "plt.figure(figsize=(8,6))\n",
        "plt.title('Accuracy Comparison')\n",
        "sns.barplot(x=model, y=accuracy, palette='Paired')"
      ],
      "execution_count": 108,
      "outputs": [
        {
          "output_type": "execute_result",
          "data": {
            "text/plain": [
              "<matplotlib.axes._subplots.AxesSubplot at 0x7fa6904f1210>"
            ]
          },
          "metadata": {},
          "execution_count": 108
        },
        {
          "output_type": "display_data",
          "data": {
            "image/png": "[encoded data removed]",
            "text/plain": [
              "<Figure size 576x432 with 1 Axes>"
            ]
          },
          "metadata": {
            "needs_background": "light"
          }
        }
      ]
    },
    {
      "cell_type": "markdown",
      "metadata": {
        "id": "g5luTGHsqZSa"
      },
      "source": [
        "#Hypothesis Testing"
      ]
    },
    {
      "cell_type": "code",
      "metadata": {
        "colab": {
          "base_uri": "https://localhost:8080/",
          "height": 261
        },
        "id": "VNw0Zn1QqYiC",
        "outputId": "f0bb2daf-dd3e-4e38-dc4b-2b1839b4ce33"
      },
      "source": [
        "df1 = df.select_dtypes(exclude=['object', 'datetime'])\n",
        "df1.head()"
      ],
      "execution_count": 109,
      "outputs": [
        {
          "output_type": "execute_result",
          "data": {
            "text/html": [
              "<div>\n",
              "<style scoped>\n",
              "    .dataframe tbody tr th:only-of-type {\n",
              "        vertical-align: middle;\n",
              "    }\n",
              "\n",
              "    .dataframe tbody tr th {\n",
              "        vertical-align: top;\n",
              "    }\n",
              "\n",
              "    .dataframe thead th {\n",
              "        text-align: right;\n",
              "    }\n",
              "</style>\n",
              "<table border=\"1\" class=\"dataframe\">\n",
              "  <thead>\n",
              "    <tr style=\"text-align: right;\">\n",
              "      <th></th>\n",
              "      <th>attempts_range</th>\n",
              "      <th>level_type</th>\n",
              "      <th>points</th>\n",
              "      <th>submission_count</th>\n",
              "      <th>problem_solved</th>\n",
              "      <th>contribution</th>\n",
              "      <th>country</th>\n",
              "      <th>follower_count</th>\n",
              "      <th>max_rating</th>\n",
              "      <th>rating</th>\n",
              "      <th>rank</th>\n",
              "      <th>tag_*special</th>\n",
              "      <th>tag_2-sat</th>\n",
              "      <th>tag_binary search</th>\n",
              "      <th>tag_bitmasks</th>\n",
              "      <th>tag_brute force</th>\n",
              "      <th>tag_chinese remainder theorem</th>\n",
              "      <th>tag_combinatorics</th>\n",
              "      <th>tag_constructive algorithms</th>\n",
              "      <th>tag_data structures</th>\n",
              "      <th>tag_dfs and similar</th>\n",
              "      <th>tag_divide and conquer</th>\n",
              "      <th>tag_dp</th>\n",
              "      <th>tag_dsu</th>\n",
              "      <th>tag_expression parsing</th>\n",
              "      <th>tag_fft</th>\n",
              "      <th>tag_flows</th>\n",
              "      <th>tag_games</th>\n",
              "      <th>tag_geometry</th>\n",
              "      <th>tag_graph matchings</th>\n",
              "      <th>tag_graphs</th>\n",
              "      <th>tag_greedy</th>\n",
              "      <th>tag_hashing</th>\n",
              "      <th>tag_implementation</th>\n",
              "      <th>tag_math</th>\n",
              "      <th>tag_matrices</th>\n",
              "      <th>tag_meet-in-the-middle</th>\n",
              "      <th>tag_number theory</th>\n",
              "      <th>tag_probabilities</th>\n",
              "      <th>tag_schedules</th>\n",
              "      <th>tag_shortest paths</th>\n",
              "      <th>tag_sortings</th>\n",
              "      <th>tag_string suffix structures</th>\n",
              "      <th>tag_strings</th>\n",
              "      <th>tag_ternary search</th>\n",
              "      <th>tag_trees</th>\n",
              "      <th>tag_two pointers</th>\n",
              "    </tr>\n",
              "  </thead>\n",
              "  <tbody>\n",
              "    <tr>\n",
              "      <th>0</th>\n",
              "      <td>1</td>\n",
              "      <td>1</td>\n",
              "      <td>1000.0</td>\n",
              "      <td>53</td>\n",
              "      <td>47</td>\n",
              "      <td>0</td>\n",
              "      <td>5</td>\n",
              "      <td>1</td>\n",
              "      <td>307.913</td>\n",
              "      <td>206.709</td>\n",
              "      <td>1</td>\n",
              "      <td>0</td>\n",
              "      <td>0</td>\n",
              "      <td>0</td>\n",
              "      <td>0</td>\n",
              "      <td>0</td>\n",
              "      <td>0</td>\n",
              "      <td>0</td>\n",
              "      <td>0</td>\n",
              "      <td>0</td>\n",
              "      <td>0</td>\n",
              "      <td>0</td>\n",
              "      <td>0</td>\n",
              "      <td>0</td>\n",
              "      <td>0</td>\n",
              "      <td>0</td>\n",
              "      <td>0</td>\n",
              "      <td>0</td>\n",
              "      <td>0</td>\n",
              "      <td>0</td>\n",
              "      <td>0</td>\n",
              "      <td>0</td>\n",
              "      <td>0</td>\n",
              "      <td>0</td>\n",
              "      <td>0</td>\n",
              "      <td>0</td>\n",
              "      <td>0</td>\n",
              "      <td>0</td>\n",
              "      <td>0</td>\n",
              "      <td>0</td>\n",
              "      <td>0</td>\n",
              "      <td>0</td>\n",
              "      <td>0</td>\n",
              "      <td>1</td>\n",
              "      <td>0</td>\n",
              "      <td>0</td>\n",
              "      <td>0</td>\n",
              "    </tr>\n",
              "    <tr>\n",
              "      <th>1</th>\n",
              "      <td>4</td>\n",
              "      <td>0</td>\n",
              "      <td>500.0</td>\n",
              "      <td>53</td>\n",
              "      <td>47</td>\n",
              "      <td>0</td>\n",
              "      <td>5</td>\n",
              "      <td>1</td>\n",
              "      <td>307.913</td>\n",
              "      <td>206.709</td>\n",
              "      <td>1</td>\n",
              "      <td>0</td>\n",
              "      <td>0</td>\n",
              "      <td>0</td>\n",
              "      <td>0</td>\n",
              "      <td>0</td>\n",
              "      <td>0</td>\n",
              "      <td>0</td>\n",
              "      <td>0</td>\n",
              "      <td>0</td>\n",
              "      <td>0</td>\n",
              "      <td>0</td>\n",
              "      <td>0</td>\n",
              "      <td>0</td>\n",
              "      <td>0</td>\n",
              "      <td>0</td>\n",
              "      <td>0</td>\n",
              "      <td>0</td>\n",
              "      <td>0</td>\n",
              "      <td>0</td>\n",
              "      <td>0</td>\n",
              "      <td>0</td>\n",
              "      <td>0</td>\n",
              "      <td>1</td>\n",
              "      <td>0</td>\n",
              "      <td>0</td>\n",
              "      <td>0</td>\n",
              "      <td>0</td>\n",
              "      <td>0</td>\n",
              "      <td>0</td>\n",
              "      <td>0</td>\n",
              "      <td>0</td>\n",
              "      <td>0</td>\n",
              "      <td>0</td>\n",
              "      <td>0</td>\n",
              "      <td>0</td>\n",
              "      <td>0</td>\n",
              "    </tr>\n",
              "    <tr>\n",
              "      <th>2</th>\n",
              "      <td>2</td>\n",
              "      <td>0</td>\n",
              "      <td>500.0</td>\n",
              "      <td>53</td>\n",
              "      <td>47</td>\n",
              "      <td>0</td>\n",
              "      <td>5</td>\n",
              "      <td>1</td>\n",
              "      <td>307.913</td>\n",
              "      <td>206.709</td>\n",
              "      <td>1</td>\n",
              "      <td>0</td>\n",
              "      <td>0</td>\n",
              "      <td>0</td>\n",
              "      <td>0</td>\n",
              "      <td>1</td>\n",
              "      <td>0</td>\n",
              "      <td>0</td>\n",
              "      <td>0</td>\n",
              "      <td>0</td>\n",
              "      <td>0</td>\n",
              "      <td>0</td>\n",
              "      <td>0</td>\n",
              "      <td>0</td>\n",
              "      <td>0</td>\n",
              "      <td>0</td>\n",
              "      <td>0</td>\n",
              "      <td>0</td>\n",
              "      <td>0</td>\n",
              "      <td>0</td>\n",
              "      <td>0</td>\n",
              "      <td>0</td>\n",
              "      <td>0</td>\n",
              "      <td>1</td>\n",
              "      <td>0</td>\n",
              "      <td>0</td>\n",
              "      <td>0</td>\n",
              "      <td>0</td>\n",
              "      <td>0</td>\n",
              "      <td>0</td>\n",
              "      <td>0</td>\n",
              "      <td>0</td>\n",
              "      <td>0</td>\n",
              "      <td>0</td>\n",
              "      <td>0</td>\n",
              "      <td>0</td>\n",
              "      <td>0</td>\n",
              "    </tr>\n",
              "    <tr>\n",
              "      <th>3</th>\n",
              "      <td>1</td>\n",
              "      <td>2</td>\n",
              "      <td>1000.0</td>\n",
              "      <td>53</td>\n",
              "      <td>47</td>\n",
              "      <td>0</td>\n",
              "      <td>5</td>\n",
              "      <td>1</td>\n",
              "      <td>307.913</td>\n",
              "      <td>206.709</td>\n",
              "      <td>1</td>\n",
              "      <td>0</td>\n",
              "      <td>0</td>\n",
              "      <td>0</td>\n",
              "      <td>0</td>\n",
              "      <td>0</td>\n",
              "      <td>0</td>\n",
              "      <td>0</td>\n",
              "      <td>0</td>\n",
              "      <td>0</td>\n",
              "      <td>0</td>\n",
              "      <td>0</td>\n",
              "      <td>0</td>\n",
              "      <td>0</td>\n",
              "      <td>0</td>\n",
              "      <td>0</td>\n",
              "      <td>0</td>\n",
              "      <td>0</td>\n",
              "      <td>0</td>\n",
              "      <td>0</td>\n",
              "      <td>0</td>\n",
              "      <td>1</td>\n",
              "      <td>0</td>\n",
              "      <td>0</td>\n",
              "      <td>0</td>\n",
              "      <td>0</td>\n",
              "      <td>0</td>\n",
              "      <td>0</td>\n",
              "      <td>0</td>\n",
              "      <td>0</td>\n",
              "      <td>0</td>\n",
              "      <td>1</td>\n",
              "      <td>0</td>\n",
              "      <td>0</td>\n",
              "      <td>0</td>\n",
              "      <td>0</td>\n",
              "      <td>0</td>\n",
              "    </tr>\n",
              "    <tr>\n",
              "      <th>4</th>\n",
              "      <td>2</td>\n",
              "      <td>0</td>\n",
              "      <td>500.0</td>\n",
              "      <td>53</td>\n",
              "      <td>47</td>\n",
              "      <td>0</td>\n",
              "      <td>5</td>\n",
              "      <td>1</td>\n",
              "      <td>307.913</td>\n",
              "      <td>206.709</td>\n",
              "      <td>1</td>\n",
              "      <td>0</td>\n",
              "      <td>0</td>\n",
              "      <td>0</td>\n",
              "      <td>0</td>\n",
              "      <td>1</td>\n",
              "      <td>0</td>\n",
              "      <td>0</td>\n",
              "      <td>1</td>\n",
              "      <td>0</td>\n",
              "      <td>0</td>\n",
              "      <td>0</td>\n",
              "      <td>0</td>\n",
              "      <td>0</td>\n",
              "      <td>0</td>\n",
              "      <td>0</td>\n",
              "      <td>0</td>\n",
              "      <td>0</td>\n",
              "      <td>0</td>\n",
              "      <td>0</td>\n",
              "      <td>0</td>\n",
              "      <td>0</td>\n",
              "      <td>0</td>\n",
              "      <td>0</td>\n",
              "      <td>1</td>\n",
              "      <td>0</td>\n",
              "      <td>0</td>\n",
              "      <td>0</td>\n",
              "      <td>0</td>\n",
              "      <td>0</td>\n",
              "      <td>0</td>\n",
              "      <td>0</td>\n",
              "      <td>0</td>\n",
              "      <td>0</td>\n",
              "      <td>0</td>\n",
              "      <td>0</td>\n",
              "      <td>0</td>\n",
              "    </tr>\n",
              "  </tbody>\n",
              "</table>\n",
              "</div>"
            ],
            "text/plain": [
              "   attempts_range  level_type  ...  tag_trees  tag_two pointers\n",
              "0               1           1  ...          0                 0\n",
              "1               4           0  ...          0                 0\n",
              "2               2           0  ...          0                 0\n",
              "3               1           2  ...          0                 0\n",
              "4               2           0  ...          0                 0\n",
              "\n",
              "[5 rows x 47 columns]"
            ]
          },
          "metadata": {},
          "execution_count": 109
        }
      ]
    },
    {
      "cell_type": "code",
      "metadata": {
        "colab": {
          "base_uri": "https://localhost:8080/",
          "height": 478
        },
        "id": "5Nmom2ppsSdJ",
        "outputId": "d12c1197-af40-44a5-8806-821219252f9a"
      },
      "source": [
        "sample_df = df1.sample(500)\n",
        "sample_df"
      ],
      "execution_count": 110,
      "outputs": [
        {
          "output_type": "execute_result",
          "data": {
            "text/html": [
              "<div>\n",
              "<style scoped>\n",
              "    .dataframe tbody tr th:only-of-type {\n",
              "        vertical-align: middle;\n",
              "    }\n",
              "\n",
              "    .dataframe tbody tr th {\n",
              "        vertical-align: top;\n",
              "    }\n",
              "\n",
              "    .dataframe thead th {\n",
              "        text-align: right;\n",
              "    }\n",
              "</style>\n",
              "<table border=\"1\" class=\"dataframe\">\n",
              "  <thead>\n",
              "    <tr style=\"text-align: right;\">\n",
              "      <th></th>\n",
              "      <th>attempts_range</th>\n",
              "      <th>level_type</th>\n",
              "      <th>points</th>\n",
              "      <th>submission_count</th>\n",
              "      <th>problem_solved</th>\n",
              "      <th>contribution</th>\n",
              "      <th>country</th>\n",
              "      <th>follower_count</th>\n",
              "      <th>max_rating</th>\n",
              "      <th>rating</th>\n",
              "      <th>rank</th>\n",
              "      <th>tag_*special</th>\n",
              "      <th>tag_2-sat</th>\n",
              "      <th>tag_binary search</th>\n",
              "      <th>tag_bitmasks</th>\n",
              "      <th>tag_brute force</th>\n",
              "      <th>tag_chinese remainder theorem</th>\n",
              "      <th>tag_combinatorics</th>\n",
              "      <th>tag_constructive algorithms</th>\n",
              "      <th>tag_data structures</th>\n",
              "      <th>tag_dfs and similar</th>\n",
              "      <th>tag_divide and conquer</th>\n",
              "      <th>tag_dp</th>\n",
              "      <th>tag_dsu</th>\n",
              "      <th>tag_expression parsing</th>\n",
              "      <th>tag_fft</th>\n",
              "      <th>tag_flows</th>\n",
              "      <th>tag_games</th>\n",
              "      <th>tag_geometry</th>\n",
              "      <th>tag_graph matchings</th>\n",
              "      <th>tag_graphs</th>\n",
              "      <th>tag_greedy</th>\n",
              "      <th>tag_hashing</th>\n",
              "      <th>tag_implementation</th>\n",
              "      <th>tag_math</th>\n",
              "      <th>tag_matrices</th>\n",
              "      <th>tag_meet-in-the-middle</th>\n",
              "      <th>tag_number theory</th>\n",
              "      <th>tag_probabilities</th>\n",
              "      <th>tag_schedules</th>\n",
              "      <th>tag_shortest paths</th>\n",
              "      <th>tag_sortings</th>\n",
              "      <th>tag_string suffix structures</th>\n",
              "      <th>tag_strings</th>\n",
              "      <th>tag_ternary search</th>\n",
              "      <th>tag_trees</th>\n",
              "      <th>tag_two pointers</th>\n",
              "    </tr>\n",
              "  </thead>\n",
              "  <tbody>\n",
              "    <tr>\n",
              "      <th>97278</th>\n",
              "      <td>1</td>\n",
              "      <td>0</td>\n",
              "      <td>500.0</td>\n",
              "      <td>89</td>\n",
              "      <td>72</td>\n",
              "      <td>0</td>\n",
              "      <td>5</td>\n",
              "      <td>21</td>\n",
              "      <td>315.940</td>\n",
              "      <td>182.339</td>\n",
              "      <td>1</td>\n",
              "      <td>0</td>\n",
              "      <td>0</td>\n",
              "      <td>0</td>\n",
              "      <td>0</td>\n",
              "      <td>0</td>\n",
              "      <td>0</td>\n",
              "      <td>0</td>\n",
              "      <td>0</td>\n",
              "      <td>0</td>\n",
              "      <td>0</td>\n",
              "      <td>0</td>\n",
              "      <td>0</td>\n",
              "      <td>0</td>\n",
              "      <td>0</td>\n",
              "      <td>0</td>\n",
              "      <td>0</td>\n",
              "      <td>0</td>\n",
              "      <td>0</td>\n",
              "      <td>0</td>\n",
              "      <td>0</td>\n",
              "      <td>0</td>\n",
              "      <td>0</td>\n",
              "      <td>1</td>\n",
              "      <td>0</td>\n",
              "      <td>0</td>\n",
              "      <td>0</td>\n",
              "      <td>0</td>\n",
              "      <td>0</td>\n",
              "      <td>0</td>\n",
              "      <td>0</td>\n",
              "      <td>0</td>\n",
              "      <td>0</td>\n",
              "      <td>0</td>\n",
              "      <td>0</td>\n",
              "      <td>0</td>\n",
              "      <td>0</td>\n",
              "    </tr>\n",
              "    <tr>\n",
              "      <th>64584</th>\n",
              "      <td>1</td>\n",
              "      <td>3</td>\n",
              "      <td>500.0</td>\n",
              "      <td>2055</td>\n",
              "      <td>1979</td>\n",
              "      <td>94</td>\n",
              "      <td>57</td>\n",
              "      <td>273</td>\n",
              "      <td>717.890</td>\n",
              "      <td>652.236</td>\n",
              "      <td>2</td>\n",
              "      <td>0</td>\n",
              "      <td>0</td>\n",
              "      <td>0</td>\n",
              "      <td>1</td>\n",
              "      <td>0</td>\n",
              "      <td>0</td>\n",
              "      <td>0</td>\n",
              "      <td>0</td>\n",
              "      <td>0</td>\n",
              "      <td>0</td>\n",
              "      <td>0</td>\n",
              "      <td>0</td>\n",
              "      <td>0</td>\n",
              "      <td>0</td>\n",
              "      <td>0</td>\n",
              "      <td>0</td>\n",
              "      <td>0</td>\n",
              "      <td>0</td>\n",
              "      <td>0</td>\n",
              "      <td>0</td>\n",
              "      <td>0</td>\n",
              "      <td>0</td>\n",
              "      <td>0</td>\n",
              "      <td>0</td>\n",
              "      <td>0</td>\n",
              "      <td>0</td>\n",
              "      <td>0</td>\n",
              "      <td>0</td>\n",
              "      <td>0</td>\n",
              "      <td>0</td>\n",
              "      <td>0</td>\n",
              "      <td>0</td>\n",
              "      <td>0</td>\n",
              "      <td>0</td>\n",
              "      <td>1</td>\n",
              "      <td>0</td>\n",
              "    </tr>\n",
              "    <tr>\n",
              "      <th>151694</th>\n",
              "      <td>1</td>\n",
              "      <td>0</td>\n",
              "      <td>500.0</td>\n",
              "      <td>288</td>\n",
              "      <td>259</td>\n",
              "      <td>0</td>\n",
              "      <td>31</td>\n",
              "      <td>11</td>\n",
              "      <td>313.647</td>\n",
              "      <td>239.106</td>\n",
              "      <td>1</td>\n",
              "      <td>0</td>\n",
              "      <td>0</td>\n",
              "      <td>0</td>\n",
              "      <td>0</td>\n",
              "      <td>0</td>\n",
              "      <td>0</td>\n",
              "      <td>0</td>\n",
              "      <td>0</td>\n",
              "      <td>0</td>\n",
              "      <td>0</td>\n",
              "      <td>0</td>\n",
              "      <td>0</td>\n",
              "      <td>0</td>\n",
              "      <td>0</td>\n",
              "      <td>0</td>\n",
              "      <td>0</td>\n",
              "      <td>0</td>\n",
              "      <td>0</td>\n",
              "      <td>0</td>\n",
              "      <td>0</td>\n",
              "      <td>0</td>\n",
              "      <td>0</td>\n",
              "      <td>1</td>\n",
              "      <td>0</td>\n",
              "      <td>0</td>\n",
              "      <td>0</td>\n",
              "      <td>0</td>\n",
              "      <td>0</td>\n",
              "      <td>0</td>\n",
              "      <td>0</td>\n",
              "      <td>1</td>\n",
              "      <td>0</td>\n",
              "      <td>0</td>\n",
              "      <td>0</td>\n",
              "      <td>0</td>\n",
              "      <td>0</td>\n",
              "    </tr>\n",
              "    <tr>\n",
              "      <th>73387</th>\n",
              "      <td>1</td>\n",
              "      <td>1</td>\n",
              "      <td>1000.0</td>\n",
              "      <td>265</td>\n",
              "      <td>235</td>\n",
              "      <td>1</td>\n",
              "      <td>14</td>\n",
              "      <td>32</td>\n",
              "      <td>472.764</td>\n",
              "      <td>452.982</td>\n",
              "      <td>3</td>\n",
              "      <td>0</td>\n",
              "      <td>0</td>\n",
              "      <td>0</td>\n",
              "      <td>0</td>\n",
              "      <td>0</td>\n",
              "      <td>0</td>\n",
              "      <td>0</td>\n",
              "      <td>0</td>\n",
              "      <td>1</td>\n",
              "      <td>0</td>\n",
              "      <td>0</td>\n",
              "      <td>1</td>\n",
              "      <td>0</td>\n",
              "      <td>0</td>\n",
              "      <td>0</td>\n",
              "      <td>0</td>\n",
              "      <td>0</td>\n",
              "      <td>0</td>\n",
              "      <td>0</td>\n",
              "      <td>0</td>\n",
              "      <td>1</td>\n",
              "      <td>0</td>\n",
              "      <td>0</td>\n",
              "      <td>0</td>\n",
              "      <td>0</td>\n",
              "      <td>0</td>\n",
              "      <td>0</td>\n",
              "      <td>0</td>\n",
              "      <td>0</td>\n",
              "      <td>0</td>\n",
              "      <td>1</td>\n",
              "      <td>0</td>\n",
              "      <td>0</td>\n",
              "      <td>0</td>\n",
              "      <td>0</td>\n",
              "      <td>0</td>\n",
              "    </tr>\n",
              "    <tr>\n",
              "      <th>11521</th>\n",
              "      <td>1</td>\n",
              "      <td>2</td>\n",
              "      <td>500.0</td>\n",
              "      <td>166</td>\n",
              "      <td>156</td>\n",
              "      <td>0</td>\n",
              "      <td>31</td>\n",
              "      <td>6</td>\n",
              "      <td>343.463</td>\n",
              "      <td>293.005</td>\n",
              "      <td>1</td>\n",
              "      <td>0</td>\n",
              "      <td>0</td>\n",
              "      <td>0</td>\n",
              "      <td>0</td>\n",
              "      <td>0</td>\n",
              "      <td>0</td>\n",
              "      <td>1</td>\n",
              "      <td>0</td>\n",
              "      <td>0</td>\n",
              "      <td>0</td>\n",
              "      <td>0</td>\n",
              "      <td>0</td>\n",
              "      <td>0</td>\n",
              "      <td>0</td>\n",
              "      <td>0</td>\n",
              "      <td>0</td>\n",
              "      <td>0</td>\n",
              "      <td>0</td>\n",
              "      <td>0</td>\n",
              "      <td>0</td>\n",
              "      <td>0</td>\n",
              "      <td>0</td>\n",
              "      <td>0</td>\n",
              "      <td>1</td>\n",
              "      <td>0</td>\n",
              "      <td>0</td>\n",
              "      <td>0</td>\n",
              "      <td>0</td>\n",
              "      <td>0</td>\n",
              "      <td>0</td>\n",
              "      <td>0</td>\n",
              "      <td>0</td>\n",
              "      <td>0</td>\n",
              "      <td>0</td>\n",
              "      <td>0</td>\n",
              "      <td>0</td>\n",
              "    </tr>\n",
              "    <tr>\n",
              "      <th>...</th>\n",
              "      <td>...</td>\n",
              "      <td>...</td>\n",
              "      <td>...</td>\n",
              "      <td>...</td>\n",
              "      <td>...</td>\n",
              "      <td>...</td>\n",
              "      <td>...</td>\n",
              "      <td>...</td>\n",
              "      <td>...</td>\n",
              "      <td>...</td>\n",
              "      <td>...</td>\n",
              "      <td>...</td>\n",
              "      <td>...</td>\n",
              "      <td>...</td>\n",
              "      <td>...</td>\n",
              "      <td>...</td>\n",
              "      <td>...</td>\n",
              "      <td>...</td>\n",
              "      <td>...</td>\n",
              "      <td>...</td>\n",
              "      <td>...</td>\n",
              "      <td>...</td>\n",
              "      <td>...</td>\n",
              "      <td>...</td>\n",
              "      <td>...</td>\n",
              "      <td>...</td>\n",
              "      <td>...</td>\n",
              "      <td>...</td>\n",
              "      <td>...</td>\n",
              "      <td>...</td>\n",
              "      <td>...</td>\n",
              "      <td>...</td>\n",
              "      <td>...</td>\n",
              "      <td>...</td>\n",
              "      <td>...</td>\n",
              "      <td>...</td>\n",
              "      <td>...</td>\n",
              "      <td>...</td>\n",
              "      <td>...</td>\n",
              "      <td>...</td>\n",
              "      <td>...</td>\n",
              "      <td>...</td>\n",
              "      <td>...</td>\n",
              "      <td>...</td>\n",
              "      <td>...</td>\n",
              "      <td>...</td>\n",
              "      <td>...</td>\n",
              "    </tr>\n",
              "    <tr>\n",
              "      <th>24523</th>\n",
              "      <td>3</td>\n",
              "      <td>0</td>\n",
              "      <td>500.0</td>\n",
              "      <td>56</td>\n",
              "      <td>41</td>\n",
              "      <td>-6</td>\n",
              "      <td>31</td>\n",
              "      <td>4</td>\n",
              "      <td>308.200</td>\n",
              "      <td>282.683</td>\n",
              "      <td>1</td>\n",
              "      <td>0</td>\n",
              "      <td>0</td>\n",
              "      <td>0</td>\n",
              "      <td>0</td>\n",
              "      <td>1</td>\n",
              "      <td>0</td>\n",
              "      <td>0</td>\n",
              "      <td>0</td>\n",
              "      <td>0</td>\n",
              "      <td>0</td>\n",
              "      <td>0</td>\n",
              "      <td>0</td>\n",
              "      <td>0</td>\n",
              "      <td>0</td>\n",
              "      <td>0</td>\n",
              "      <td>0</td>\n",
              "      <td>0</td>\n",
              "      <td>0</td>\n",
              "      <td>0</td>\n",
              "      <td>0</td>\n",
              "      <td>0</td>\n",
              "      <td>0</td>\n",
              "      <td>1</td>\n",
              "      <td>0</td>\n",
              "      <td>0</td>\n",
              "      <td>0</td>\n",
              "      <td>0</td>\n",
              "      <td>0</td>\n",
              "      <td>0</td>\n",
              "      <td>0</td>\n",
              "      <td>0</td>\n",
              "      <td>0</td>\n",
              "      <td>0</td>\n",
              "      <td>0</td>\n",
              "      <td>0</td>\n",
              "      <td>0</td>\n",
              "    </tr>\n",
              "    <tr>\n",
              "      <th>34075</th>\n",
              "      <td>1</td>\n",
              "      <td>1</td>\n",
              "      <td>750.0</td>\n",
              "      <td>70</td>\n",
              "      <td>57</td>\n",
              "      <td>0</td>\n",
              "      <td>31</td>\n",
              "      <td>11</td>\n",
              "      <td>309.346</td>\n",
              "      <td>277.810</td>\n",
              "      <td>1</td>\n",
              "      <td>0</td>\n",
              "      <td>0</td>\n",
              "      <td>0</td>\n",
              "      <td>0</td>\n",
              "      <td>0</td>\n",
              "      <td>0</td>\n",
              "      <td>0</td>\n",
              "      <td>0</td>\n",
              "      <td>0</td>\n",
              "      <td>0</td>\n",
              "      <td>0</td>\n",
              "      <td>0</td>\n",
              "      <td>0</td>\n",
              "      <td>0</td>\n",
              "      <td>0</td>\n",
              "      <td>0</td>\n",
              "      <td>0</td>\n",
              "      <td>0</td>\n",
              "      <td>0</td>\n",
              "      <td>0</td>\n",
              "      <td>0</td>\n",
              "      <td>0</td>\n",
              "      <td>1</td>\n",
              "      <td>0</td>\n",
              "      <td>0</td>\n",
              "      <td>0</td>\n",
              "      <td>0</td>\n",
              "      <td>0</td>\n",
              "      <td>0</td>\n",
              "      <td>0</td>\n",
              "      <td>0</td>\n",
              "      <td>0</td>\n",
              "      <td>1</td>\n",
              "      <td>0</td>\n",
              "      <td>0</td>\n",
              "      <td>0</td>\n",
              "    </tr>\n",
              "    <tr>\n",
              "      <th>132215</th>\n",
              "      <td>2</td>\n",
              "      <td>2</td>\n",
              "      <td>1500.0</td>\n",
              "      <td>216</td>\n",
              "      <td>194</td>\n",
              "      <td>0</td>\n",
              "      <td>31</td>\n",
              "      <td>23</td>\n",
              "      <td>341.743</td>\n",
              "      <td>295.872</td>\n",
              "      <td>1</td>\n",
              "      <td>0</td>\n",
              "      <td>0</td>\n",
              "      <td>0</td>\n",
              "      <td>0</td>\n",
              "      <td>0</td>\n",
              "      <td>0</td>\n",
              "      <td>0</td>\n",
              "      <td>0</td>\n",
              "      <td>0</td>\n",
              "      <td>0</td>\n",
              "      <td>0</td>\n",
              "      <td>1</td>\n",
              "      <td>0</td>\n",
              "      <td>0</td>\n",
              "      <td>0</td>\n",
              "      <td>0</td>\n",
              "      <td>0</td>\n",
              "      <td>0</td>\n",
              "      <td>0</td>\n",
              "      <td>0</td>\n",
              "      <td>0</td>\n",
              "      <td>0</td>\n",
              "      <td>0</td>\n",
              "      <td>0</td>\n",
              "      <td>1</td>\n",
              "      <td>0</td>\n",
              "      <td>0</td>\n",
              "      <td>0</td>\n",
              "      <td>0</td>\n",
              "      <td>0</td>\n",
              "      <td>0</td>\n",
              "      <td>0</td>\n",
              "      <td>0</td>\n",
              "      <td>0</td>\n",
              "      <td>0</td>\n",
              "      <td>0</td>\n",
              "    </tr>\n",
              "    <tr>\n",
              "      <th>28332</th>\n",
              "      <td>6</td>\n",
              "      <td>1</td>\n",
              "      <td>1000.0</td>\n",
              "      <td>169</td>\n",
              "      <td>155</td>\n",
              "      <td>0</td>\n",
              "      <td>31</td>\n",
              "      <td>6</td>\n",
              "      <td>311.927</td>\n",
              "      <td>243.119</td>\n",
              "      <td>1</td>\n",
              "      <td>0</td>\n",
              "      <td>0</td>\n",
              "      <td>0</td>\n",
              "      <td>0</td>\n",
              "      <td>0</td>\n",
              "      <td>0</td>\n",
              "      <td>0</td>\n",
              "      <td>0</td>\n",
              "      <td>0</td>\n",
              "      <td>0</td>\n",
              "      <td>0</td>\n",
              "      <td>0</td>\n",
              "      <td>0</td>\n",
              "      <td>0</td>\n",
              "      <td>0</td>\n",
              "      <td>0</td>\n",
              "      <td>0</td>\n",
              "      <td>0</td>\n",
              "      <td>0</td>\n",
              "      <td>0</td>\n",
              "      <td>1</td>\n",
              "      <td>0</td>\n",
              "      <td>0</td>\n",
              "      <td>1</td>\n",
              "      <td>0</td>\n",
              "      <td>0</td>\n",
              "      <td>1</td>\n",
              "      <td>0</td>\n",
              "      <td>0</td>\n",
              "      <td>0</td>\n",
              "      <td>0</td>\n",
              "      <td>0</td>\n",
              "      <td>0</td>\n",
              "      <td>0</td>\n",
              "      <td>0</td>\n",
              "      <td>0</td>\n",
              "    </tr>\n",
              "    <tr>\n",
              "      <th>148413</th>\n",
              "      <td>1</td>\n",
              "      <td>0</td>\n",
              "      <td>500.0</td>\n",
              "      <td>1108</td>\n",
              "      <td>1001</td>\n",
              "      <td>131</td>\n",
              "      <td>55</td>\n",
              "      <td>572</td>\n",
              "      <td>847.477</td>\n",
              "      <td>750.573</td>\n",
              "      <td>2</td>\n",
              "      <td>0</td>\n",
              "      <td>0</td>\n",
              "      <td>0</td>\n",
              "      <td>0</td>\n",
              "      <td>1</td>\n",
              "      <td>0</td>\n",
              "      <td>0</td>\n",
              "      <td>0</td>\n",
              "      <td>0</td>\n",
              "      <td>0</td>\n",
              "      <td>0</td>\n",
              "      <td>0</td>\n",
              "      <td>0</td>\n",
              "      <td>0</td>\n",
              "      <td>0</td>\n",
              "      <td>0</td>\n",
              "      <td>0</td>\n",
              "      <td>0</td>\n",
              "      <td>0</td>\n",
              "      <td>0</td>\n",
              "      <td>1</td>\n",
              "      <td>0</td>\n",
              "      <td>1</td>\n",
              "      <td>0</td>\n",
              "      <td>0</td>\n",
              "      <td>0</td>\n",
              "      <td>0</td>\n",
              "      <td>0</td>\n",
              "      <td>0</td>\n",
              "      <td>0</td>\n",
              "      <td>0</td>\n",
              "      <td>0</td>\n",
              "      <td>0</td>\n",
              "      <td>0</td>\n",
              "      <td>0</td>\n",
              "      <td>0</td>\n",
              "    </tr>\n",
              "  </tbody>\n",
              "</table>\n",
              "<p>500 rows × 47 columns</p>\n",
              "</div>"
            ],
            "text/plain": [
              "        attempts_range  level_type  ...  tag_trees  tag_two pointers\n",
              "97278                1           0  ...          0                 0\n",
              "64584                1           3  ...          1                 0\n",
              "151694               1           0  ...          0                 0\n",
              "73387                1           1  ...          0                 0\n",
              "11521                1           2  ...          0                 0\n",
              "...                ...         ...  ...        ...               ...\n",
              "24523                3           0  ...          0                 0\n",
              "34075                1           1  ...          0                 0\n",
              "132215               2           2  ...          0                 0\n",
              "28332                6           1  ...          0                 0\n",
              "148413               1           0  ...          0                 0\n",
              "\n",
              "[500 rows x 47 columns]"
            ]
          },
          "metadata": {},
          "execution_count": 110
        }
      ]
    },
    {
      "cell_type": "code",
      "metadata": {
        "colab": {
          "base_uri": "https://localhost:8080/"
        },
        "id": "ULdAqK5OtXN6",
        "outputId": "b1bf93f5-34f4-4bab-e10c-bc2cd619414e"
      },
      "source": [
        "population_mean = df1['problem_solved'].mean()\n",
        "print(\"Population Mean :\", population_mean)\n",
        "population_std = df1['problem_solved'].std()\n",
        "print(\"Population Standard Deviation :\", population_std)\n",
        "population_var = df1['problem_solved'].var()\n",
        "print(\"Population Variance :\", population_var)"
      ],
      "execution_count": 111,
      "outputs": [
        {
          "output_type": "stream",
          "name": "stdout",
          "text": [
            "Population Mean : 334.49495944868363\n",
            "Population Standard Deviation : 375.9431470417436\n",
            "Population Variance : 141333.24980765005\n"
          ]
        }
      ]
    },
    {
      "cell_type": "code",
      "metadata": {
        "colab": {
          "base_uri": "https://localhost:8080/"
        },
        "id": "xJnhaW8isbr_",
        "outputId": "64df1f13-bb4d-4ef5-9f42-53a70bd58023"
      },
      "source": [
        "sample_mean = sample_df['problem_solved'].mean()\n",
        "print(\"Sample Mean :\", sample_mean)\n",
        "sample_std = sample_df['problem_solved'].std()\n",
        "print(\"Sample Standard Deviation :\", sample_std)\n",
        "sample_var = sample_df['problem_solved'].var()\n",
        "print(\"Sample Variance :\", sample_var)"
      ],
      "execution_count": 112,
      "outputs": [
        {
          "output_type": "stream",
          "name": "stdout",
          "text": [
            "Sample Mean : 344.174\n",
            "Sample Standard Deviation : 412.3215466594967\n",
            "Sample Variance : 170009.0578396795\n"
          ]
        }
      ]
    },
    {
      "cell_type": "markdown",
      "metadata": {
        "id": "xte2Z2pbummn"
      },
      "source": [
        "## Z-test"
      ]
    },
    {
      "cell_type": "markdown",
      "metadata": {
        "id": "M4JcUb6VugqW"
      },
      "source": [
        "**A coding expert believes that the mean of the problems solved is greater than the average problems solved, which is 334.4. Assume the population standard deviation is 375.9. A random sample of 500 problems is selected, and the mean of the sample is 336.7. At α = 0.05, is there enough evidence to reject the claim?**"
      ]
    },
    {
      "cell_type": "code",
      "metadata": {
        "id": "F3i51WcStLWu"
      },
      "source": [
        "#H0 : μ = 334.4, Ha :  μ > 334.4\n",
        "n = 500\n",
        "xbar = 336.7\n",
        "mu = 334.4\n",
        "sigma = 375.9\n",
        "alpha = 0.05"
      ],
      "execution_count": 113,
      "outputs": []
    },
    {
      "cell_type": "code",
      "metadata": {
        "colab": {
          "base_uri": "https://localhost:8080/"
        },
        "id": "_Ut0lXwNwxQS",
        "outputId": "f33ea958-7ee9-4bdf-8530-0f0f5f00be56"
      },
      "source": [
        "Z_critical = abs(st.norm.ppf(alpha))\n",
        "Z_critical"
      ],
      "execution_count": 114,
      "outputs": [
        {
          "output_type": "execute_result",
          "data": {
            "text/plain": [
              "1.6448536269514729"
            ]
          },
          "metadata": {},
          "execution_count": 114
        }
      ]
    },
    {
      "cell_type": "code",
      "metadata": {
        "colab": {
          "base_uri": "https://localhost:8080/"
        },
        "id": "2LSN5pK-xZdf",
        "outputId": "f912c375-f346-4422-c816-aa1be0232491"
      },
      "source": [
        "z=(xbar-mu)/(sigma/np.sqrt(n))\n",
        "z"
      ],
      "execution_count": 115,
      "outputs": [
        {
          "output_type": "execute_result",
          "data": {
            "text/plain": [
              "0.13681714148043475"
            ]
          },
          "metadata": {},
          "execution_count": 115
        }
      ]
    },
    {
      "cell_type": "code",
      "metadata": {
        "colab": {
          "base_uri": "https://localhost:8080/"
        },
        "id": "I6JwEuC7xbZY",
        "outputId": "76aeb4d9-53b8-4438-f00d-6d5880752682"
      },
      "source": [
        "if (z < Z_critical): #Right-tailed test\n",
        "    print(\"Accept Null hypothesis\")\n",
        "else:\n",
        "    print(\"Reject Null hypothesis\")"
      ],
      "execution_count": 116,
      "outputs": [
        {
          "output_type": "stream",
          "name": "stdout",
          "text": [
            "Accept Null hypothesis\n"
          ]
        }
      ]
    },
    {
      "cell_type": "markdown",
      "metadata": {
        "id": "IxKMAUjvxoKc"
      },
      "source": [
        "## Z-Test using P-value"
      ]
    },
    {
      "cell_type": "markdown",
      "metadata": {
        "id": "iHg4ffpLx6Hj"
      },
      "source": [
        "**A coding expert believes that the mean of the problems solved is greater than the average problems solved, which is 334.4. Assume the population standard deviation is 375.9. A random sample of 500 problems is selected, and the mean of the sample is 336.7. At α = 0.05, is there enough evidence to reject the claim? Use P-value method**"
      ]
    },
    {
      "cell_type": "code",
      "metadata": {
        "id": "-NhjrRYmyYBH"
      },
      "source": [
        "#H0 : μ = 334.4, Ha :  μ > 334.4\n",
        "n = 500\n",
        "xbar = 336.7\n",
        "mu = 334.4\n",
        "sigma = 375.9\n",
        "alpha = 0.05"
      ],
      "execution_count": 117,
      "outputs": []
    },
    {
      "cell_type": "code",
      "metadata": {
        "id": "A4egARlIMKMn",
        "colab": {
          "base_uri": "https://localhost:8080/"
        },
        "outputId": "fbb827f4-2a15-4893-d598-ea097d20ea6b"
      },
      "source": [
        "z=(xbar-mu)/(sigma/np.sqrt(n))\n",
        "z"
      ],
      "execution_count": 118,
      "outputs": [
        {
          "output_type": "execute_result",
          "data": {
            "text/plain": [
              "0.13681714148043475"
            ]
          },
          "metadata": {},
          "execution_count": 118
        }
      ]
    },
    {
      "cell_type": "code",
      "metadata": {
        "id": "kggC401cMKMq",
        "colab": {
          "base_uri": "https://localhost:8080/"
        },
        "outputId": "d656fba8-787f-49d9-cb5f-4e421cd0dc6c"
      },
      "source": [
        "p_val=(1-st.norm.cdf(z))*2\n",
        "p_val"
      ],
      "execution_count": 119,
      "outputs": [
        {
          "output_type": "execute_result",
          "data": {
            "text/plain": [
              "0.891175334116848"
            ]
          },
          "metadata": {},
          "execution_count": 119
        }
      ]
    },
    {
      "cell_type": "code",
      "metadata": {
        "id": "rkI2janqMKMs",
        "colab": {
          "base_uri": "https://localhost:8080/"
        },
        "outputId": "9925cdd6-ae29-47f4-e6bf-52e6d6cd1956"
      },
      "source": [
        "if (p_val>alpha):\n",
        "    print(\"Accept Null hypothesis\")\n",
        "else:\n",
        "    print(\"Reject null hypothesis\")"
      ],
      "execution_count": 120,
      "outputs": [
        {
          "output_type": "stream",
          "name": "stdout",
          "text": [
            "Accept Null hypothesis\n"
          ]
        }
      ]
    },
    {
      "cell_type": "markdown",
      "metadata": {
        "id": "ZrD0s3LL0VCw"
      },
      "source": [
        "## t-Test"
      ]
    },
    {
      "cell_type": "code",
      "metadata": {
        "colab": {
          "base_uri": "https://localhost:8080/"
        },
        "id": "XP95HbBw0nu0",
        "outputId": "3f33663e-0383-49e6-cbf8-7487f4d9ecc6"
      },
      "source": [
        "population_mean = df1['submission_count'].mean()\n",
        "print(\"Population Mean :\", population_mean)\n",
        "population_std = df1['submission_count'].std()\n",
        "print(\"Population Standard Deviation :\", population_std)\n",
        "population_var = df1['submission_count'].var()\n",
        "print(\"Population Variance :\", population_var)"
      ],
      "execution_count": 121,
      "outputs": [
        {
          "output_type": "stream",
          "name": "stdout",
          "text": [
            "Population Mean : 370.60716763155676\n",
            "Population Standard Deviation : 396.7888814607207\n",
            "Population Variance : 157441.41645084985\n"
          ]
        }
      ]
    },
    {
      "cell_type": "code",
      "metadata": {
        "colab": {
          "base_uri": "https://localhost:8080/"
        },
        "id": "gl-W5xfm0q6Y",
        "outputId": "8c8d7012-1fbb-474e-fba5-aed53bec73eb"
      },
      "source": [
        "sample_mean = sample_df['submission_count'].mean()\n",
        "print(\"Sample Mean :\", sample_mean)\n",
        "sample_std = sample_df['submission_count'].std()\n",
        "print(\"Sample Standard Deviation :\", sample_std)\n",
        "sample_var = sample_df['submission_count'].var()\n",
        "print(\"Sample Variance :\", sample_var)"
      ],
      "execution_count": 122,
      "outputs": [
        {
          "output_type": "stream",
          "name": "stdout",
          "text": [
            "Sample Mean : 377.876\n",
            "Sample Standard Deviation : 429.0192392414105\n",
            "Sample Variance : 184057.50763927863\n"
          ]
        }
      ]
    },
    {
      "cell_type": "markdown",
      "metadata": {
        "id": "Ef_M1U3Q1NXX"
      },
      "source": [
        "**An online coding platform claims that the average submissions is 370.6. A random sample of 500 problems had a mean submission of 373.1. The sample standard deviation is 384.0. Is there enough evidence to reject the coding platform’s claim at α = 0.05? Assume the variable is normally distributed.**"
      ]
    },
    {
      "cell_type": "code",
      "metadata": {
        "id": "5NW5OnLAMKMv"
      },
      "source": [
        "#H0 : μ = 370.6 Ha : μ != 370.6\n",
        "n = 500\n",
        "degrees_of_freedom = n-1\n",
        "xbar = 373.1\n",
        "mu = 370.6\n",
        "s = 384\n",
        "alpha = 0.05"
      ],
      "execution_count": 123,
      "outputs": []
    },
    {
      "cell_type": "code",
      "metadata": {
        "colab": {
          "base_uri": "https://localhost:8080/"
        },
        "id": "OmBYCDcF06p9",
        "outputId": "20895813-ed8f-4dd9-e5de-9386fe24c804"
      },
      "source": [
        "t = (xbar-mu)/(s/np.sqrt(n))\n",
        "t"
      ],
      "execution_count": 124,
      "outputs": [
        {
          "output_type": "execute_result",
          "data": {
            "text/plain": [
              "0.14557734228514257"
            ]
          },
          "metadata": {},
          "execution_count": 124
        }
      ]
    },
    {
      "cell_type": "code",
      "metadata": {
        "colab": {
          "base_uri": "https://localhost:8080/"
        },
        "id": "gQcAPKSH2W9F",
        "outputId": "e8716992-a82e-47df-be92-a11a944f17ca"
      },
      "source": [
        "t_critical = abs(st.t.ppf(alpha/2, degrees_of_freedom))\n",
        "t_critical"
      ],
      "execution_count": 125,
      "outputs": [
        {
          "output_type": "execute_result",
          "data": {
            "text/plain": [
              "1.9647293909876653"
            ]
          },
          "metadata": {},
          "execution_count": 125
        }
      ]
    },
    {
      "cell_type": "code",
      "metadata": {
        "colab": {
          "base_uri": "https://localhost:8080/"
        },
        "id": "cOzss4rr2ZFy",
        "outputId": "bd944f33-1300-40ec-e3e1-74bf4ce43318"
      },
      "source": [
        "if (t>t_critical): \n",
        "    print(\"Accept Null hypothesis\")\n",
        "else:\n",
        "    print(\"Reject null hypothesis\")"
      ],
      "execution_count": 126,
      "outputs": [
        {
          "output_type": "stream",
          "name": "stdout",
          "text": [
            "Reject null hypothesis\n"
          ]
        }
      ]
    },
    {
      "cell_type": "markdown",
      "metadata": {
        "id": "ECXrH-tk7Qjr"
      },
      "source": [
        "## t-Test using P-value"
      ]
    },
    {
      "cell_type": "markdown",
      "metadata": {
        "id": "ugTHc_jl7Sq2"
      },
      "source": [
        "**An online coding platform claims that average submissions is greater than the average of submissions for all problems. A random sample of 500 problems has a mean of 373.1 and a standard deviation of 384. If the average submissions of all problems is 370.6, is there enough evidence to support the coding platform's claim at α = 0.05? Use P-value method**"
      ]
    },
    {
      "cell_type": "code",
      "metadata": {
        "id": "Srt2-P9HMKM6"
      },
      "source": [
        "#H0 : μ = 370.6 Ha : mu > 370.6\n",
        "n = 500\n",
        "degrees_of_freedom = n-1\n",
        "xbar = 373.1\n",
        "mu = 370.6\n",
        "s = 384\n",
        "alpha = 0.05"
      ],
      "execution_count": 127,
      "outputs": []
    },
    {
      "cell_type": "code",
      "metadata": {
        "id": "BaiXyMlCMKM9",
        "colab": {
          "base_uri": "https://localhost:8080/"
        },
        "outputId": "cedad55c-ab44-44b3-aa7f-1c87a0e8c4dd"
      },
      "source": [
        "t = (xbar-mu)/(s/np.sqrt(n))\n",
        "t"
      ],
      "execution_count": 128,
      "outputs": [
        {
          "output_type": "execute_result",
          "data": {
            "text/plain": [
              "0.14557734228514257"
            ]
          },
          "metadata": {},
          "execution_count": 128
        }
      ]
    },
    {
      "cell_type": "code",
      "metadata": {
        "id": "wSaEA6YlMKNB",
        "colab": {
          "base_uri": "https://localhost:8080/"
        },
        "outputId": "10eb3878-5540-4585-cd1c-680600130266"
      },
      "source": [
        "p_val = (1-st.t.cdf(abs(t), degrees_of_freedom))\n",
        "p_val"
      ],
      "execution_count": 129,
      "outputs": [
        {
          "output_type": "execute_result",
          "data": {
            "text/plain": [
              "0.44215692044895305"
            ]
          },
          "metadata": {},
          "execution_count": 129
        }
      ]
    },
    {
      "cell_type": "code",
      "metadata": {
        "id": "lMcXErkoMKNF",
        "colab": {
          "base_uri": "https://localhost:8080/"
        },
        "outputId": "966b2c2c-18d3-4289-cc4e-6fe798fd2f6d"
      },
      "source": [
        "if (p_val>alpha):\n",
        "    print(\"Accept Null hypothesis\")\n",
        "else:\n",
        "    print(\"Reject null hypothesis\")"
      ],
      "execution_count": 130,
      "outputs": [
        {
          "output_type": "stream",
          "name": "stdout",
          "text": [
            "Accept Null hypothesis\n"
          ]
        }
      ]
    },
    {
      "cell_type": "markdown",
      "metadata": {
        "id": "-L8qyZAY90TJ"
      },
      "source": [
        "## Chi-Square Test"
      ]
    },
    {
      "cell_type": "code",
      "metadata": {
        "colab": {
          "base_uri": "https://localhost:8080/"
        },
        "id": "nLxNlZp87jVH",
        "outputId": "970d31cf-0731-496b-a9ed-094c6ceb5613"
      },
      "source": [
        "population_mean = df1['attempts_range'].mean()\n",
        "print(\"Population Mean :\", population_mean)\n",
        "population_std = df1['attempts_range'].std()\n",
        "print(\"Population Standard Deviation :\", population_std)\n",
        "population_var = df1['attempts_range'].var()\n",
        "print(\"Population Variance :\", population_var)"
      ],
      "execution_count": 131,
      "outputs": [
        {
          "output_type": "stream",
          "name": "stdout",
          "text": [
            "Population Mean : 1.7505008136195372\n",
            "Population Standard Deviation : 1.0739748212746787\n",
            "Population Variance : 1.1534219167319781\n"
          ]
        }
      ]
    },
    {
      "cell_type": "code",
      "metadata": {
        "colab": {
          "base_uri": "https://localhost:8080/"
        },
        "id": "PUwKynaI-Aqy",
        "outputId": "517eda07-3739-4d53-c25b-b143a0bc8345"
      },
      "source": [
        "sample_mean = sample_df['attempts_range'].mean()\n",
        "print(\"Sample Mean :\", sample_mean)\n",
        "sample_std = sample_df['attempts_range'].std()\n",
        "print(\"Sample Standard Deviation :\", sample_std)\n",
        "sample_var = sample_df['attempts_range'].var()\n",
        "print(\"Sample Variance :\", sample_var)"
      ],
      "execution_count": 132,
      "outputs": [
        {
          "output_type": "stream",
          "name": "stdout",
          "text": [
            "Sample Mean : 1.646\n",
            "Sample Standard Deviation : 0.991286688399073\n",
            "Sample Variance : 0.9826492985972008\n"
          ]
        }
      ]
    },
    {
      "cell_type": "markdown",
      "metadata": {
        "id": "NvX-jToX-umS"
      },
      "source": [
        "**Competitive Programmer wishes to see if the variance of attempts taken of 500 problems is less than the variance of the population, which is 1.15. The variance of the attempts taken of 500 problems was 1.2. Test the claim at α = 0.05**"
      ]
    },
    {
      "cell_type": "code",
      "metadata": {
        "id": "ASaKHuU9MKNL"
      },
      "source": [
        "#H0 : σ2 =1.15 Ha : sigma_sq < 1.15\n",
        "n = 500\n",
        "degrees_of_freedom = n-1\n",
        "s_square = 1.2\n",
        "sigma_square = 1.15\n",
        "alpha = 0.05"
      ],
      "execution_count": 133,
      "outputs": []
    },
    {
      "cell_type": "code",
      "metadata": {
        "id": "X771MGbEMKNP",
        "colab": {
          "base_uri": "https://localhost:8080/"
        },
        "outputId": "f58e8d74-7596-4875-aac3-9b8b672fcb83"
      },
      "source": [
        "chi_square = ((n-1)*s_square)/sigma_square\n",
        "chi_square"
      ],
      "execution_count": 134,
      "outputs": [
        {
          "output_type": "execute_result",
          "data": {
            "text/plain": [
              "520.695652173913"
            ]
          },
          "metadata": {},
          "execution_count": 134
        }
      ]
    },
    {
      "cell_type": "code",
      "metadata": {
        "id": "krqtJhlaMKNS",
        "colab": {
          "base_uri": "https://localhost:8080/"
        },
        "outputId": "4b0532b5-cdb4-438b-e811-a9e2d8bc0ab4"
      },
      "source": [
        "chi_square_critical = st.chi2.ppf(alpha, degrees_of_freedom)\n",
        "chi_square_critical"
      ],
      "execution_count": 135,
      "outputs": [
        {
          "output_type": "execute_result",
          "data": {
            "text/plain": [
              "448.19882158627"
            ]
          },
          "metadata": {},
          "execution_count": 135
        }
      ]
    },
    {
      "cell_type": "code",
      "metadata": {
        "id": "G080jPb5MKNU",
        "colab": {
          "base_uri": "https://localhost:8080/"
        },
        "outputId": "4c10191d-1b81-442e-cc94-5e51757125c1"
      },
      "source": [
        "if (chi_square > chi_square_critical):\n",
        "    print(\"Accept Null hypothesis\")\n",
        "else:\n",
        "    print(\"Reject null hypothesis\")"
      ],
      "execution_count": 136,
      "outputs": [
        {
          "output_type": "stream",
          "name": "stdout",
          "text": [
            "Accept Null hypothesis\n"
          ]
        }
      ]
    },
    {
      "cell_type": "markdown",
      "metadata": {
        "id": "k0ytfoBgAmtv"
      },
      "source": [
        "## Chi-Square Test using P-Value"
      ]
    },
    {
      "cell_type": "markdown",
      "metadata": {
        "id": "TE6jJAQnBIol"
      },
      "source": [
        "**Competitive Programmer knows that the standard deviation of the attempts taken to solve a problem is 1.07. A random sample of 500 problems is selected and the standard deviation 1.09. At α = 0.05, can it be concluded that the standard deviation has changed? Use the P-value method.**"
      ]
    },
    {
      "cell_type": "code",
      "metadata": {
        "id": "d1HznzAPMKNW"
      },
      "source": [
        "#H0 : σ = 1.07  Ha : sigma != 1.07\n",
        "n = 500\n",
        "degrees_of_freedom = n-1\n",
        "s = 1.05\n",
        "sigma = 1.07\n",
        "alpha = 0.05"
      ],
      "execution_count": 137,
      "outputs": []
    },
    {
      "cell_type": "code",
      "metadata": {
        "id": "fNfwFw2QMKNZ",
        "colab": {
          "base_uri": "https://localhost:8080/"
        },
        "outputId": "39816650-a6fb-474e-f7b0-92c505044996"
      },
      "source": [
        "chi_square = ((n-1)*(s**2))/sigma**2\n",
        "chi_square"
      ],
      "execution_count": 138,
      "outputs": [
        {
          "output_type": "execute_result",
          "data": {
            "text/plain": [
              "480.5201327626867"
            ]
          },
          "metadata": {},
          "execution_count": 138
        }
      ]
    },
    {
      "cell_type": "code",
      "metadata": {
        "id": "8xi_hfVJMKNc",
        "colab": {
          "base_uri": "https://localhost:8080/"
        },
        "outputId": "352af9bb-921a-4ffd-9e61-ea46efc30236"
      },
      "source": [
        "p_val = st.chi2.cdf(chi_square, degrees_of_freedom)*2\n",
        "p_val"
      ],
      "execution_count": 139,
      "outputs": [
        {
          "output_type": "execute_result",
          "data": {
            "text/plain": [
              "0.5678773134529609"
            ]
          },
          "metadata": {},
          "execution_count": 139
        }
      ]
    },
    {
      "cell_type": "code",
      "metadata": {
        "id": "y-Ri_1GVMKNe",
        "colab": {
          "base_uri": "https://localhost:8080/"
        },
        "outputId": "a17f8da4-5172-4ff3-d5fd-4138c3668897"
      },
      "source": [
        "if (p_val>alpha):\n",
        "    print(\"Accept Null hypothesis\")\n",
        "else:\n",
        "    print(\"Reject null hypothesis\")"
      ],
      "execution_count": 140,
      "outputs": [
        {
          "output_type": "stream",
          "name": "stdout",
          "text": [
            "Accept Null hypothesis\n"
          ]
        }
      ]
    }
  ]
}