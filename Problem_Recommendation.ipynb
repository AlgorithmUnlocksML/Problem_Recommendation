{
  "nbformat": 4,
  "nbformat_minor": 0,
  "metadata": {
    "colab": {
      "name": "Problem_Recommendation.ipynb",
      "provenance": [],
      "collapsed_sections": []
    },
    "kernelspec": {
      "name": "python3",
      "display_name": "Python 3"
    },
    "language_info": {
      "name": "python"
    }
  },
  "cells": [
    {
      "cell_type": "markdown",
      "metadata": {
        "id": "TRWVIzkYhze5"
      },
      "source": [
        "# **Problem Recommendation for Online Coding Platforms**"
      ]
    },
    {
      "cell_type": "code",
      "metadata": {
        "id": "nrU0vdNwitdb"
      },
      "source": [
        "import pandas as pd\n",
        "import numpy as np\n",
        "import matplotlib.pyplot as plt\n",
        "import seaborn as sns\n",
        "%matplotlib inline\n",
        "from sklearn import preprocessing"
      ],
      "execution_count": 78,
      "outputs": []
    },
    {
      "cell_type": "code",
      "metadata": {
        "colab": {
          "base_uri": "https://localhost:8080/",
          "height": 203
        },
        "id": "BWB1gv_HjLwE",
        "outputId": "6bfd0046-0928-4ea4-a0e2-85d214bc1120"
      },
      "source": [
        "problem_df = pd.read_csv('/content/drive/MyDrive/FoDS/Project/problem_data.csv')\n",
        "problem_df.head()"
      ],
      "execution_count": 79,
      "outputs": [
        {
          "output_type": "execute_result",
          "data": {
            "text/html": [
              "<div>\n",
              "<style scoped>\n",
              "    .dataframe tbody tr th:only-of-type {\n",
              "        vertical-align: middle;\n",
              "    }\n",
              "\n",
              "    .dataframe tbody tr th {\n",
              "        vertical-align: top;\n",
              "    }\n",
              "\n",
              "    .dataframe thead th {\n",
              "        text-align: right;\n",
              "    }\n",
              "</style>\n",
              "<table border=\"1\" class=\"dataframe\">\n",
              "  <thead>\n",
              "    <tr style=\"text-align: right;\">\n",
              "      <th></th>\n",
              "      <th>problem_id</th>\n",
              "      <th>level_type</th>\n",
              "      <th>points</th>\n",
              "      <th>tags</th>\n",
              "    </tr>\n",
              "  </thead>\n",
              "  <tbody>\n",
              "    <tr>\n",
              "      <th>0</th>\n",
              "      <td>prob_3649</td>\n",
              "      <td>H</td>\n",
              "      <td>NaN</td>\n",
              "      <td>NaN</td>\n",
              "    </tr>\n",
              "    <tr>\n",
              "      <th>1</th>\n",
              "      <td>prob_6191</td>\n",
              "      <td>A</td>\n",
              "      <td>NaN</td>\n",
              "      <td>NaN</td>\n",
              "    </tr>\n",
              "    <tr>\n",
              "      <th>2</th>\n",
              "      <td>prob_2020</td>\n",
              "      <td>F</td>\n",
              "      <td>NaN</td>\n",
              "      <td>NaN</td>\n",
              "    </tr>\n",
              "    <tr>\n",
              "      <th>3</th>\n",
              "      <td>prob_313</td>\n",
              "      <td>A</td>\n",
              "      <td>500.0</td>\n",
              "      <td>greedy,implementation</td>\n",
              "    </tr>\n",
              "    <tr>\n",
              "      <th>4</th>\n",
              "      <td>prob_101</td>\n",
              "      <td>A</td>\n",
              "      <td>500.0</td>\n",
              "      <td>constructive algorithms,greedy,math</td>\n",
              "    </tr>\n",
              "  </tbody>\n",
              "</table>\n",
              "</div>"
            ],
            "text/plain": [
              "  problem_id level_type  points                                 tags\n",
              "0  prob_3649          H     NaN                                  NaN\n",
              "1  prob_6191          A     NaN                                  NaN\n",
              "2  prob_2020          F     NaN                                  NaN\n",
              "3   prob_313          A   500.0                greedy,implementation\n",
              "4   prob_101          A   500.0  constructive algorithms,greedy,math"
            ]
          },
          "metadata": {},
          "execution_count": 79
        }
      ]
    },
    {
      "cell_type": "code",
      "metadata": {
        "id": "7sQU132pENq0",
        "colab": {
          "base_uri": "https://localhost:8080/"
        },
        "outputId": "d74aadff-a75e-470e-92be-dac4966e2836"
      },
      "source": [
        "problem_df.shape"
      ],
      "execution_count": 80,
      "outputs": [
        {
          "output_type": "execute_result",
          "data": {
            "text/plain": [
              "(6544, 4)"
            ]
          },
          "metadata": {},
          "execution_count": 80
        }
      ]
    },
    {
      "cell_type": "code",
      "metadata": {
        "id": "g60Ji3qwGAEd",
        "colab": {
          "base_uri": "https://localhost:8080/"
        },
        "outputId": "3f135e37-01cc-4bdf-b486-abd4645318d7"
      },
      "source": [
        "problem_df.columns"
      ],
      "execution_count": 81,
      "outputs": [
        {
          "output_type": "execute_result",
          "data": {
            "text/plain": [
              "Index(['problem_id', 'level_type', 'points', 'tags'], dtype='object')"
            ]
          },
          "metadata": {},
          "execution_count": 81
        }
      ]
    },
    {
      "cell_type": "code",
      "metadata": {
        "id": "Y0E5zrcSiyXS",
        "colab": {
          "base_uri": "https://localhost:8080/",
          "height": 203
        },
        "outputId": "f91b89b5-980f-4210-eebe-1c8db1a3ea46"
      },
      "source": [
        "user_df = pd.read_csv('/content/drive/MyDrive/FoDS/Project/user_data.csv')\n",
        "user_df.head()"
      ],
      "execution_count": 82,
      "outputs": [
        {
          "output_type": "execute_result",
          "data": {
            "text/html": [
              "<div>\n",
              "<style scoped>\n",
              "    .dataframe tbody tr th:only-of-type {\n",
              "        vertical-align: middle;\n",
              "    }\n",
              "\n",
              "    .dataframe tbody tr th {\n",
              "        vertical-align: top;\n",
              "    }\n",
              "\n",
              "    .dataframe thead th {\n",
              "        text-align: right;\n",
              "    }\n",
              "</style>\n",
              "<table border=\"1\" class=\"dataframe\">\n",
              "  <thead>\n",
              "    <tr style=\"text-align: right;\">\n",
              "      <th></th>\n",
              "      <th>user_id</th>\n",
              "      <th>submission_count</th>\n",
              "      <th>problem_solved</th>\n",
              "      <th>contribution</th>\n",
              "      <th>country</th>\n",
              "      <th>follower_count</th>\n",
              "      <th>last_online_time_seconds</th>\n",
              "      <th>max_rating</th>\n",
              "      <th>rating</th>\n",
              "      <th>rank</th>\n",
              "      <th>registration_time_seconds</th>\n",
              "    </tr>\n",
              "  </thead>\n",
              "  <tbody>\n",
              "    <tr>\n",
              "      <th>0</th>\n",
              "      <td>user_3311</td>\n",
              "      <td>47</td>\n",
              "      <td>40</td>\n",
              "      <td>0</td>\n",
              "      <td>NaN</td>\n",
              "      <td>4</td>\n",
              "      <td>1504111645</td>\n",
              "      <td>348.337</td>\n",
              "      <td>330.849</td>\n",
              "      <td>intermediate</td>\n",
              "      <td>1466686436</td>\n",
              "    </tr>\n",
              "    <tr>\n",
              "      <th>1</th>\n",
              "      <td>user_3028</td>\n",
              "      <td>63</td>\n",
              "      <td>52</td>\n",
              "      <td>0</td>\n",
              "      <td>India</td>\n",
              "      <td>17</td>\n",
              "      <td>1498998165</td>\n",
              "      <td>405.677</td>\n",
              "      <td>339.450</td>\n",
              "      <td>intermediate</td>\n",
              "      <td>1441893325</td>\n",
              "    </tr>\n",
              "    <tr>\n",
              "      <th>2</th>\n",
              "      <td>user_2268</td>\n",
              "      <td>226</td>\n",
              "      <td>203</td>\n",
              "      <td>-8</td>\n",
              "      <td>Egypt</td>\n",
              "      <td>24</td>\n",
              "      <td>1505566052</td>\n",
              "      <td>307.339</td>\n",
              "      <td>284.404</td>\n",
              "      <td>beginner</td>\n",
              "      <td>1454267603</td>\n",
              "    </tr>\n",
              "    <tr>\n",
              "      <th>3</th>\n",
              "      <td>user_480</td>\n",
              "      <td>611</td>\n",
              "      <td>490</td>\n",
              "      <td>1</td>\n",
              "      <td>Ukraine</td>\n",
              "      <td>94</td>\n",
              "      <td>1505257499</td>\n",
              "      <td>525.803</td>\n",
              "      <td>471.330</td>\n",
              "      <td>advanced</td>\n",
              "      <td>1350720417</td>\n",
              "    </tr>\n",
              "    <tr>\n",
              "      <th>4</th>\n",
              "      <td>user_650</td>\n",
              "      <td>504</td>\n",
              "      <td>479</td>\n",
              "      <td>12</td>\n",
              "      <td>Russia</td>\n",
              "      <td>4</td>\n",
              "      <td>1496613433</td>\n",
              "      <td>548.739</td>\n",
              "      <td>486.525</td>\n",
              "      <td>advanced</td>\n",
              "      <td>1395560498</td>\n",
              "    </tr>\n",
              "  </tbody>\n",
              "</table>\n",
              "</div>"
            ],
            "text/plain": [
              "     user_id  submission_count  ...          rank  registration_time_seconds\n",
              "0  user_3311                47  ...  intermediate                 1466686436\n",
              "1  user_3028                63  ...  intermediate                 1441893325\n",
              "2  user_2268               226  ...      beginner                 1454267603\n",
              "3   user_480               611  ...      advanced                 1350720417\n",
              "4   user_650               504  ...      advanced                 1395560498\n",
              "\n",
              "[5 rows x 11 columns]"
            ]
          },
          "metadata": {},
          "execution_count": 82
        }
      ]
    },
    {
      "cell_type": "code",
      "metadata": {
        "id": "6oRbjsicHPKZ",
        "colab": {
          "base_uri": "https://localhost:8080/",
          "height": 203
        },
        "outputId": "e13e05e0-11fa-4b17-e4bc-0fedf558fac7"
      },
      "source": [
        "sub_df = pd.read_csv('/content/drive/MyDrive/FoDS/Project/submissions.csv')\n",
        "sub_df.head()"
      ],
      "execution_count": 83,
      "outputs": [
        {
          "output_type": "execute_result",
          "data": {
            "text/html": [
              "<div>\n",
              "<style scoped>\n",
              "    .dataframe tbody tr th:only-of-type {\n",
              "        vertical-align: middle;\n",
              "    }\n",
              "\n",
              "    .dataframe tbody tr th {\n",
              "        vertical-align: top;\n",
              "    }\n",
              "\n",
              "    .dataframe thead th {\n",
              "        text-align: right;\n",
              "    }\n",
              "</style>\n",
              "<table border=\"1\" class=\"dataframe\">\n",
              "  <thead>\n",
              "    <tr style=\"text-align: right;\">\n",
              "      <th></th>\n",
              "      <th>user_id</th>\n",
              "      <th>problem_id</th>\n",
              "      <th>attempts_range</th>\n",
              "    </tr>\n",
              "  </thead>\n",
              "  <tbody>\n",
              "    <tr>\n",
              "      <th>0</th>\n",
              "      <td>user_232</td>\n",
              "      <td>prob_6507</td>\n",
              "      <td>1</td>\n",
              "    </tr>\n",
              "    <tr>\n",
              "      <th>1</th>\n",
              "      <td>user_3568</td>\n",
              "      <td>prob_2994</td>\n",
              "      <td>3</td>\n",
              "    </tr>\n",
              "    <tr>\n",
              "      <th>2</th>\n",
              "      <td>user_1600</td>\n",
              "      <td>prob_5071</td>\n",
              "      <td>1</td>\n",
              "    </tr>\n",
              "    <tr>\n",
              "      <th>3</th>\n",
              "      <td>user_2256</td>\n",
              "      <td>prob_703</td>\n",
              "      <td>1</td>\n",
              "    </tr>\n",
              "    <tr>\n",
              "      <th>4</th>\n",
              "      <td>user_2321</td>\n",
              "      <td>prob_356</td>\n",
              "      <td>1</td>\n",
              "    </tr>\n",
              "  </tbody>\n",
              "</table>\n",
              "</div>"
            ],
            "text/plain": [
              "     user_id problem_id  attempts_range\n",
              "0   user_232  prob_6507               1\n",
              "1  user_3568  prob_2994               3\n",
              "2  user_1600  prob_5071               1\n",
              "3  user_2256   prob_703               1\n",
              "4  user_2321   prob_356               1"
            ]
          },
          "metadata": {},
          "execution_count": 83
        }
      ]
    },
    {
      "cell_type": "code",
      "metadata": {
        "id": "j_mCb4LbHshI",
        "colab": {
          "base_uri": "https://localhost:8080/"
        },
        "outputId": "a2a9f511-0e39-4de0-b671-805135b8b3fd"
      },
      "source": [
        "sub_df.isnull().sum()"
      ],
      "execution_count": 84,
      "outputs": [
        {
          "output_type": "execute_result",
          "data": {
            "text/plain": [
              "user_id           0\n",
              "problem_id        0\n",
              "attempts_range    0\n",
              "dtype: int64"
            ]
          },
          "metadata": {},
          "execution_count": 84
        }
      ]
    },
    {
      "cell_type": "code",
      "metadata": {
        "id": "NqyAlKe_jVDl",
        "colab": {
          "base_uri": "https://localhost:8080/"
        },
        "outputId": "b5b54843-6103-4cdd-8279-c6b0086130b0"
      },
      "source": [
        "problem_df.isnull().sum()"
      ],
      "execution_count": 85,
      "outputs": [
        {
          "output_type": "execute_result",
          "data": {
            "text/plain": [
              "problem_id       0\n",
              "level_type     133\n",
              "points        3917\n",
              "tags          3484\n",
              "dtype: int64"
            ]
          },
          "metadata": {},
          "execution_count": 85
        }
      ]
    },
    {
      "cell_type": "code",
      "metadata": {
        "id": "GBcun63rEJpa",
        "colab": {
          "base_uri": "https://localhost:8080/",
          "height": 203
        },
        "outputId": "42879e66-2675-40c9-967f-2ab9e30270d6"
      },
      "source": [
        "temp_df = sub_df.merge(problem_df, on='problem_id')\n",
        "temp_df.head()"
      ],
      "execution_count": 86,
      "outputs": [
        {
          "output_type": "execute_result",
          "data": {
            "text/html": [
              "<div>\n",
              "<style scoped>\n",
              "    .dataframe tbody tr th:only-of-type {\n",
              "        vertical-align: middle;\n",
              "    }\n",
              "\n",
              "    .dataframe tbody tr th {\n",
              "        vertical-align: top;\n",
              "    }\n",
              "\n",
              "    .dataframe thead th {\n",
              "        text-align: right;\n",
              "    }\n",
              "</style>\n",
              "<table border=\"1\" class=\"dataframe\">\n",
              "  <thead>\n",
              "    <tr style=\"text-align: right;\">\n",
              "      <th></th>\n",
              "      <th>user_id</th>\n",
              "      <th>problem_id</th>\n",
              "      <th>attempts_range</th>\n",
              "      <th>level_type</th>\n",
              "      <th>points</th>\n",
              "      <th>tags</th>\n",
              "    </tr>\n",
              "  </thead>\n",
              "  <tbody>\n",
              "    <tr>\n",
              "      <th>0</th>\n",
              "      <td>user_232</td>\n",
              "      <td>prob_6507</td>\n",
              "      <td>1</td>\n",
              "      <td>B</td>\n",
              "      <td>1000.0</td>\n",
              "      <td>strings</td>\n",
              "    </tr>\n",
              "    <tr>\n",
              "      <th>1</th>\n",
              "      <td>user_2490</td>\n",
              "      <td>prob_6507</td>\n",
              "      <td>3</td>\n",
              "      <td>B</td>\n",
              "      <td>1000.0</td>\n",
              "      <td>strings</td>\n",
              "    </tr>\n",
              "    <tr>\n",
              "      <th>2</th>\n",
              "      <td>user_684</td>\n",
              "      <td>prob_6507</td>\n",
              "      <td>3</td>\n",
              "      <td>B</td>\n",
              "      <td>1000.0</td>\n",
              "      <td>strings</td>\n",
              "    </tr>\n",
              "    <tr>\n",
              "      <th>3</th>\n",
              "      <td>user_316</td>\n",
              "      <td>prob_6507</td>\n",
              "      <td>1</td>\n",
              "      <td>B</td>\n",
              "      <td>1000.0</td>\n",
              "      <td>strings</td>\n",
              "    </tr>\n",
              "    <tr>\n",
              "      <th>4</th>\n",
              "      <td>user_779</td>\n",
              "      <td>prob_6507</td>\n",
              "      <td>1</td>\n",
              "      <td>B</td>\n",
              "      <td>1000.0</td>\n",
              "      <td>strings</td>\n",
              "    </tr>\n",
              "  </tbody>\n",
              "</table>\n",
              "</div>"
            ],
            "text/plain": [
              "     user_id problem_id  attempts_range level_type  points     tags\n",
              "0   user_232  prob_6507               1          B  1000.0  strings\n",
              "1  user_2490  prob_6507               3          B  1000.0  strings\n",
              "2   user_684  prob_6507               3          B  1000.0  strings\n",
              "3   user_316  prob_6507               1          B  1000.0  strings\n",
              "4   user_779  prob_6507               1          B  1000.0  strings"
            ]
          },
          "metadata": {},
          "execution_count": 86
        }
      ]
    },
    {
      "cell_type": "code",
      "metadata": {
        "id": "1aTtp9i0IRgq",
        "colab": {
          "base_uri": "https://localhost:8080/",
          "height": 274
        },
        "outputId": "2a5d43d9-5acc-4458-ddb0-10868271bdfd"
      },
      "source": [
        "temp_df = temp_df.merge(user_df, on='user_id')\n",
        "temp_df.head()"
      ],
      "execution_count": 87,
      "outputs": [
        {
          "output_type": "execute_result",
          "data": {
            "text/html": [
              "<div>\n",
              "<style scoped>\n",
              "    .dataframe tbody tr th:only-of-type {\n",
              "        vertical-align: middle;\n",
              "    }\n",
              "\n",
              "    .dataframe tbody tr th {\n",
              "        vertical-align: top;\n",
              "    }\n",
              "\n",
              "    .dataframe thead th {\n",
              "        text-align: right;\n",
              "    }\n",
              "</style>\n",
              "<table border=\"1\" class=\"dataframe\">\n",
              "  <thead>\n",
              "    <tr style=\"text-align: right;\">\n",
              "      <th></th>\n",
              "      <th>user_id</th>\n",
              "      <th>problem_id</th>\n",
              "      <th>attempts_range</th>\n",
              "      <th>level_type</th>\n",
              "      <th>points</th>\n",
              "      <th>tags</th>\n",
              "      <th>submission_count</th>\n",
              "      <th>problem_solved</th>\n",
              "      <th>contribution</th>\n",
              "      <th>country</th>\n",
              "      <th>follower_count</th>\n",
              "      <th>last_online_time_seconds</th>\n",
              "      <th>max_rating</th>\n",
              "      <th>rating</th>\n",
              "      <th>rank</th>\n",
              "      <th>registration_time_seconds</th>\n",
              "    </tr>\n",
              "  </thead>\n",
              "  <tbody>\n",
              "    <tr>\n",
              "      <th>0</th>\n",
              "      <td>user_232</td>\n",
              "      <td>prob_6507</td>\n",
              "      <td>1</td>\n",
              "      <td>B</td>\n",
              "      <td>1000.0</td>\n",
              "      <td>strings</td>\n",
              "      <td>53</td>\n",
              "      <td>47</td>\n",
              "      <td>0</td>\n",
              "      <td>Bangladesh</td>\n",
              "      <td>1</td>\n",
              "      <td>1503633778</td>\n",
              "      <td>307.913</td>\n",
              "      <td>206.709</td>\n",
              "      <td>beginner</td>\n",
              "      <td>1432110935</td>\n",
              "    </tr>\n",
              "    <tr>\n",
              "      <th>1</th>\n",
              "      <td>user_232</td>\n",
              "      <td>prob_5071</td>\n",
              "      <td>4</td>\n",
              "      <td>A</td>\n",
              "      <td>500.0</td>\n",
              "      <td>implementation</td>\n",
              "      <td>53</td>\n",
              "      <td>47</td>\n",
              "      <td>0</td>\n",
              "      <td>Bangladesh</td>\n",
              "      <td>1</td>\n",
              "      <td>1503633778</td>\n",
              "      <td>307.913</td>\n",
              "      <td>206.709</td>\n",
              "      <td>beginner</td>\n",
              "      <td>1432110935</td>\n",
              "    </tr>\n",
              "    <tr>\n",
              "      <th>2</th>\n",
              "      <td>user_232</td>\n",
              "      <td>prob_703</td>\n",
              "      <td>2</td>\n",
              "      <td>A</td>\n",
              "      <td>500.0</td>\n",
              "      <td>brute force,implementation</td>\n",
              "      <td>53</td>\n",
              "      <td>47</td>\n",
              "      <td>0</td>\n",
              "      <td>Bangladesh</td>\n",
              "      <td>1</td>\n",
              "      <td>1503633778</td>\n",
              "      <td>307.913</td>\n",
              "      <td>206.709</td>\n",
              "      <td>beginner</td>\n",
              "      <td>1432110935</td>\n",
              "    </tr>\n",
              "    <tr>\n",
              "      <th>3</th>\n",
              "      <td>user_232</td>\n",
              "      <td>prob_3935</td>\n",
              "      <td>1</td>\n",
              "      <td>C</td>\n",
              "      <td>1000.0</td>\n",
              "      <td>greedy,sortings</td>\n",
              "      <td>53</td>\n",
              "      <td>47</td>\n",
              "      <td>0</td>\n",
              "      <td>Bangladesh</td>\n",
              "      <td>1</td>\n",
              "      <td>1503633778</td>\n",
              "      <td>307.913</td>\n",
              "      <td>206.709</td>\n",
              "      <td>beginner</td>\n",
              "      <td>1432110935</td>\n",
              "    </tr>\n",
              "    <tr>\n",
              "      <th>4</th>\n",
              "      <td>user_232</td>\n",
              "      <td>prob_164</td>\n",
              "      <td>2</td>\n",
              "      <td>A</td>\n",
              "      <td>500.0</td>\n",
              "      <td>brute force,constructive algorithms,math</td>\n",
              "      <td>53</td>\n",
              "      <td>47</td>\n",
              "      <td>0</td>\n",
              "      <td>Bangladesh</td>\n",
              "      <td>1</td>\n",
              "      <td>1503633778</td>\n",
              "      <td>307.913</td>\n",
              "      <td>206.709</td>\n",
              "      <td>beginner</td>\n",
              "      <td>1432110935</td>\n",
              "    </tr>\n",
              "  </tbody>\n",
              "</table>\n",
              "</div>"
            ],
            "text/plain": [
              "    user_id problem_id  ...      rank registration_time_seconds\n",
              "0  user_232  prob_6507  ...  beginner                1432110935\n",
              "1  user_232  prob_5071  ...  beginner                1432110935\n",
              "2  user_232   prob_703  ...  beginner                1432110935\n",
              "3  user_232  prob_3935  ...  beginner                1432110935\n",
              "4  user_232   prob_164  ...  beginner                1432110935\n",
              "\n",
              "[5 rows x 16 columns]"
            ]
          },
          "metadata": {},
          "execution_count": 87
        }
      ]
    },
    {
      "cell_type": "code",
      "metadata": {
        "id": "WKwny2ojJevq"
      },
      "source": [
        "df = temp_df.copy()"
      ],
      "execution_count": 88,
      "outputs": []
    },
    {
      "cell_type": "code",
      "metadata": {
        "id": "dNdjn3maKr41",
        "colab": {
          "base_uri": "https://localhost:8080/"
        },
        "outputId": "1219a3f6-f2cd-4d4c-d2c8-f4f54975f1e1"
      },
      "source": [
        "df.columns"
      ],
      "execution_count": 89,
      "outputs": [
        {
          "output_type": "execute_result",
          "data": {
            "text/plain": [
              "Index(['user_id', 'problem_id', 'attempts_range', 'level_type', 'points',\n",
              "       'tags', 'submission_count', 'problem_solved', 'contribution', 'country',\n",
              "       'follower_count', 'last_online_time_seconds', 'max_rating', 'rating',\n",
              "       'rank', 'registration_time_seconds'],\n",
              "      dtype='object')"
            ]
          },
          "metadata": {},
          "execution_count": 89
        }
      ]
    },
    {
      "cell_type": "code",
      "metadata": {
        "id": "UDCRDiZUKx0i",
        "colab": {
          "base_uri": "https://localhost:8080/"
        },
        "outputId": "21ba6c3f-e125-406c-c9d9-22a12176e57e"
      },
      "source": [
        "df.shape"
      ],
      "execution_count": 90,
      "outputs": [
        {
          "output_type": "execute_result",
          "data": {
            "text/plain": [
              "(155295, 16)"
            ]
          },
          "metadata": {},
          "execution_count": 90
        }
      ]
    },
    {
      "cell_type": "code",
      "metadata": {
        "id": "ZM6o7uJCM-RS",
        "colab": {
          "base_uri": "https://localhost:8080/"
        },
        "outputId": "43ecaeeb-0654-4ec2-ea13-508b8df28870"
      },
      "source": [
        "df.dtypes"
      ],
      "execution_count": 91,
      "outputs": [
        {
          "output_type": "execute_result",
          "data": {
            "text/plain": [
              "user_id                       object\n",
              "problem_id                    object\n",
              "attempts_range                 int64\n",
              "level_type                    object\n",
              "points                       float64\n",
              "tags                          object\n",
              "submission_count               int64\n",
              "problem_solved                 int64\n",
              "contribution                   int64\n",
              "country                       object\n",
              "follower_count                 int64\n",
              "last_online_time_seconds       int64\n",
              "max_rating                   float64\n",
              "rating                       float64\n",
              "rank                          object\n",
              "registration_time_seconds      int64\n",
              "dtype: object"
            ]
          },
          "metadata": {},
          "execution_count": 91
        }
      ]
    },
    {
      "cell_type": "code",
      "metadata": {
        "id": "VQ8wkPL3Ksxt",
        "colab": {
          "base_uri": "https://localhost:8080/"
        },
        "outputId": "7caa5a3c-44da-420d-dba6-e3ae667d5693"
      },
      "source": [
        "df.isnull().sum()"
      ],
      "execution_count": 92,
      "outputs": [
        {
          "output_type": "execute_result",
          "data": {
            "text/plain": [
              "user_id                          0\n",
              "problem_id                       0\n",
              "attempts_range                   0\n",
              "level_type                     620\n",
              "points                       29075\n",
              "tags                         15427\n",
              "submission_count                 0\n",
              "problem_solved                   0\n",
              "contribution                     0\n",
              "country                      37853\n",
              "follower_count                   0\n",
              "last_online_time_seconds         0\n",
              "max_rating                       0\n",
              "rating                           0\n",
              "rank                             0\n",
              "registration_time_seconds        0\n",
              "dtype: int64"
            ]
          },
          "metadata": {},
          "execution_count": 92
        }
      ]
    },
    {
      "cell_type": "code",
      "metadata": {
        "id": "S84-D0TpK6Bj",
        "colab": {
          "base_uri": "https://localhost:8080/"
        },
        "outputId": "35f139c1-1839-469e-e67c-314fe5406fa0"
      },
      "source": [
        "df['country'].mode()[0], df['level_type'].mode()[0], df['tags'].mode()[0], df['points'].mode()[0]"
      ],
      "execution_count": 93,
      "outputs": [
        {
          "output_type": "execute_result",
          "data": {
            "text/plain": [
              "('India', 'A', 'implementation', 500.0)"
            ]
          },
          "metadata": {},
          "execution_count": 93
        }
      ]
    },
    {
      "cell_type": "code",
      "metadata": {
        "colab": {
          "base_uri": "https://localhost:8080/"
        },
        "id": "1H1bBFx3nMra",
        "outputId": "9f62de7b-0f18-4290-b204-134710a581db"
      },
      "source": [
        "df['points'].mean(), df['points'].min()"
      ],
      "execution_count": 94,
      "outputs": [
        {
          "output_type": "execute_result",
          "data": {
            "text/plain": [
              "(993.3023688797338, -1.0)"
            ]
          },
          "metadata": {},
          "execution_count": 94
        }
      ]
    },
    {
      "cell_type": "code",
      "metadata": {
        "colab": {
          "base_uri": "https://localhost:8080/",
          "height": 100
        },
        "id": "S8GBwCF2jJzR",
        "outputId": "5dfcf0b7-d590-4d3c-c37c-b18ebef741b7"
      },
      "source": [
        "df[df['points']<0]"
      ],
      "execution_count": 95,
      "outputs": [
        {
          "output_type": "execute_result",
          "data": {
            "text/html": [
              "<div>\n",
              "<style scoped>\n",
              "    .dataframe tbody tr th:only-of-type {\n",
              "        vertical-align: middle;\n",
              "    }\n",
              "\n",
              "    .dataframe tbody tr th {\n",
              "        vertical-align: top;\n",
              "    }\n",
              "\n",
              "    .dataframe thead th {\n",
              "        text-align: right;\n",
              "    }\n",
              "</style>\n",
              "<table border=\"1\" class=\"dataframe\">\n",
              "  <thead>\n",
              "    <tr style=\"text-align: right;\">\n",
              "      <th></th>\n",
              "      <th>user_id</th>\n",
              "      <th>problem_id</th>\n",
              "      <th>attempts_range</th>\n",
              "      <th>level_type</th>\n",
              "      <th>points</th>\n",
              "      <th>tags</th>\n",
              "      <th>submission_count</th>\n",
              "      <th>problem_solved</th>\n",
              "      <th>contribution</th>\n",
              "      <th>country</th>\n",
              "      <th>follower_count</th>\n",
              "      <th>last_online_time_seconds</th>\n",
              "      <th>max_rating</th>\n",
              "      <th>rating</th>\n",
              "      <th>rank</th>\n",
              "      <th>registration_time_seconds</th>\n",
              "    </tr>\n",
              "  </thead>\n",
              "  <tbody>\n",
              "    <tr>\n",
              "      <th>136378</th>\n",
              "      <td>user_1038</td>\n",
              "      <td>prob_5031</td>\n",
              "      <td>3</td>\n",
              "      <td>B</td>\n",
              "      <td>-1.0</td>\n",
              "      <td>NaN</td>\n",
              "      <td>928</td>\n",
              "      <td>888</td>\n",
              "      <td>45</td>\n",
              "      <td>Romania</td>\n",
              "      <td>229</td>\n",
              "      <td>1505579842</td>\n",
              "      <td>654.243</td>\n",
              "      <td>610.952</td>\n",
              "      <td>expert</td>\n",
              "      <td>1371299266</td>\n",
              "    </tr>\n",
              "  </tbody>\n",
              "</table>\n",
              "</div>"
            ],
            "text/plain": [
              "          user_id problem_id  ...    rank registration_time_seconds\n",
              "136378  user_1038  prob_5031  ...  expert                1371299266\n",
              "\n",
              "[1 rows x 16 columns]"
            ]
          },
          "metadata": {},
          "execution_count": 95
        }
      ]
    },
    {
      "cell_type": "code",
      "metadata": {
        "id": "-KTXLELcmzZQ"
      },
      "source": [
        "negative_points = df[df['points'] < 0].index\n",
        "df.drop(negative_points, inplace = True)"
      ],
      "execution_count": 96,
      "outputs": []
    },
    {
      "cell_type": "code",
      "metadata": {
        "colab": {
          "base_uri": "https://localhost:8080/",
          "height": 69
        },
        "id": "KjAVXkgxnFcB",
        "outputId": "d96aec99-ae64-4a9f-faeb-62ce2e8f8eb8"
      },
      "source": [
        "df[df['points']<0]"
      ],
      "execution_count": 97,
      "outputs": [
        {
          "output_type": "execute_result",
          "data": {
            "text/html": [
              "<div>\n",
              "<style scoped>\n",
              "    .dataframe tbody tr th:only-of-type {\n",
              "        vertical-align: middle;\n",
              "    }\n",
              "\n",
              "    .dataframe tbody tr th {\n",
              "        vertical-align: top;\n",
              "    }\n",
              "\n",
              "    .dataframe thead th {\n",
              "        text-align: right;\n",
              "    }\n",
              "</style>\n",
              "<table border=\"1\" class=\"dataframe\">\n",
              "  <thead>\n",
              "    <tr style=\"text-align: right;\">\n",
              "      <th></th>\n",
              "      <th>user_id</th>\n",
              "      <th>problem_id</th>\n",
              "      <th>attempts_range</th>\n",
              "      <th>level_type</th>\n",
              "      <th>points</th>\n",
              "      <th>tags</th>\n",
              "      <th>submission_count</th>\n",
              "      <th>problem_solved</th>\n",
              "      <th>contribution</th>\n",
              "      <th>country</th>\n",
              "      <th>follower_count</th>\n",
              "      <th>last_online_time_seconds</th>\n",
              "      <th>max_rating</th>\n",
              "      <th>rating</th>\n",
              "      <th>rank</th>\n",
              "      <th>registration_time_seconds</th>\n",
              "    </tr>\n",
              "  </thead>\n",
              "  <tbody>\n",
              "  </tbody>\n",
              "</table>\n",
              "</div>"
            ],
            "text/plain": [
              "Empty DataFrame\n",
              "Columns: [user_id, problem_id, attempts_range, level_type, points, tags, submission_count, problem_solved, contribution, country, follower_count, last_online_time_seconds, max_rating, rating, rank, registration_time_seconds]\n",
              "Index: []"
            ]
          },
          "metadata": {},
          "execution_count": 97
        }
      ]
    },
    {
      "cell_type": "code",
      "metadata": {
        "id": "SEUbfCC_RJsN",
        "colab": {
          "base_uri": "https://localhost:8080/"
        },
        "outputId": "235cc1b1-f252-4a6b-f021-bbb196d18e18"
      },
      "source": [
        "df['points'].mean(), df['points'].min()"
      ],
      "execution_count": 98,
      "outputs": [
        {
          "output_type": "execute_result",
          "data": {
            "text/plain": [
              "(993.3102464763625, 3.0)"
            ]
          },
          "metadata": {},
          "execution_count": 98
        }
      ]
    },
    {
      "cell_type": "code",
      "metadata": {
        "id": "qBM7kv-kR-qi"
      },
      "source": [
        "df['country'].fillna('India', inplace=True)"
      ],
      "execution_count": 99,
      "outputs": []
    },
    {
      "cell_type": "code",
      "metadata": {
        "id": "2EbFfHtPSMsM"
      },
      "source": [
        "df['level_type'].fillna('A', inplace=True)"
      ],
      "execution_count": 100,
      "outputs": []
    },
    {
      "cell_type": "code",
      "metadata": {
        "id": "02Gdk8KTST0P"
      },
      "source": [
        "df['points'].fillna(500.0, inplace=True)"
      ],
      "execution_count": 101,
      "outputs": []
    },
    {
      "cell_type": "code",
      "metadata": {
        "id": "fXzjU6b6S9HS"
      },
      "source": [
        "df['tags'].fillna(df['tags'].mode()[0], inplace=True)"
      ],
      "execution_count": 102,
      "outputs": []
    },
    {
      "cell_type": "code",
      "metadata": {
        "id": "S_KcoNLjTEj5",
        "colab": {
          "base_uri": "https://localhost:8080/"
        },
        "outputId": "bce38874-38a3-458d-ff23-ebbc314b3b72"
      },
      "source": [
        "df.isnull().sum()"
      ],
      "execution_count": 103,
      "outputs": [
        {
          "output_type": "execute_result",
          "data": {
            "text/plain": [
              "user_id                      0\n",
              "problem_id                   0\n",
              "attempts_range               0\n",
              "level_type                   0\n",
              "points                       0\n",
              "tags                         0\n",
              "submission_count             0\n",
              "problem_solved               0\n",
              "contribution                 0\n",
              "country                      0\n",
              "follower_count               0\n",
              "last_online_time_seconds     0\n",
              "max_rating                   0\n",
              "rating                       0\n",
              "rank                         0\n",
              "registration_time_seconds    0\n",
              "dtype: int64"
            ]
          },
          "metadata": {},
          "execution_count": 103
        }
      ]
    },
    {
      "cell_type": "markdown",
      "metadata": {
        "id": "u7L-XPqmw7Rl"
      },
      "source": [
        "**Checking for Outliers**"
      ]
    },
    {
      "cell_type": "code",
      "metadata": {
        "id": "dJxaX4fBMeHE",
        "colab": {
          "base_uri": "https://localhost:8080/",
          "height": 279
        },
        "outputId": "258fbdae-b392-412f-b5d5-64e44c00e4f9"
      },
      "source": [
        "sns.boxplot(x=df['points']);"
      ],
      "execution_count": 104,
      "outputs": [
        {
          "output_type": "display_data",
          "data": {
            "image/png": "[encoded data removed]",
            "text/plain": [
              "<Figure size 432x288 with 1 Axes>"
            ]
          },
          "metadata": {
            "needs_background": "light"
          }
        }
      ]
    },
    {
      "cell_type": "markdown",
      "metadata": {
        "id": "WlpcOh4rzkMZ"
      },
      "source": [
        "**Using IQR method**"
      ]
    },
    {
      "cell_type": "code",
      "metadata": {
        "colab": {
          "base_uri": "https://localhost:8080/"
        },
        "id": "EDF54P_PxLOq",
        "outputId": "4bdd420c-91d8-46b5-b42f-22f0a9dd5243"
      },
      "source": [
        "q1 = np.percentile(df['points'], 25)\n",
        "q1"
      ],
      "execution_count": 105,
      "outputs": [
        {
          "output_type": "execute_result",
          "data": {
            "text/plain": [
              "500.0"
            ]
          },
          "metadata": {},
          "execution_count": 105
        }
      ]
    },
    {
      "cell_type": "code",
      "metadata": {
        "colab": {
          "base_uri": "https://localhost:8080/"
        },
        "id": "22nllRZvx3DL",
        "outputId": "4f69fce6-0b0a-4a54-c0bc-53875be9d780"
      },
      "source": [
        "q3 = np.percentile(df['points'], 75)\n",
        "q3"
      ],
      "execution_count": 106,
      "outputs": [
        {
          "output_type": "execute_result",
          "data": {
            "text/plain": [
              "1000.0"
            ]
          },
          "metadata": {},
          "execution_count": 106
        }
      ]
    },
    {
      "cell_type": "code",
      "metadata": {
        "colab": {
          "base_uri": "https://localhost:8080/"
        },
        "id": "LlbE7Hlrx3AR",
        "outputId": "50446e46-8df8-4914-d791-4ddf84e1ec3f"
      },
      "source": [
        "iqr = q3 - q1\n",
        "iqr"
      ],
      "execution_count": 107,
      "outputs": [
        {
          "output_type": "execute_result",
          "data": {
            "text/plain": [
              "500.0"
            ]
          },
          "metadata": {},
          "execution_count": 107
        }
      ]
    },
    {
      "cell_type": "code",
      "metadata": {
        "colab": {
          "base_uri": "https://localhost:8080/"
        },
        "id": "PuemOWHxx29w",
        "outputId": "39279e6b-fbcd-41bb-e2a8-47d60b49ee71"
      },
      "source": [
        "cut_off = iqr*1.5\n",
        "lower, upper = q1 - cut_off, q3 + cut_off\n",
        "print(lower)\n",
        "print(upper)"
      ],
      "execution_count": 108,
      "outputs": [
        {
          "output_type": "stream",
          "name": "stdout",
          "text": [
            "-250.0\n",
            "1750.0\n"
          ]
        }
      ]
    },
    {
      "cell_type": "code",
      "metadata": {
        "colab": {
          "base_uri": "https://localhost:8080/"
        },
        "id": "TBLU-1Cxx24p",
        "outputId": "9d2bfded-d09c-4714-a456-8e69c0bb610a"
      },
      "source": [
        "outliers = [x for x in df['points'] if (x<lower) or (x>upper)]\n",
        "len(outliers)"
      ],
      "execution_count": 109,
      "outputs": [
        {
          "output_type": "execute_result",
          "data": {
            "text/plain": [
              "13124"
            ]
          },
          "metadata": {},
          "execution_count": 109
        }
      ]
    },
    {
      "cell_type": "markdown",
      "metadata": {
        "id": "MKKLw7gHzBDe"
      },
      "source": [
        "**Using 3 standard deviation method**"
      ]
    },
    {
      "cell_type": "code",
      "metadata": {
        "colab": {
          "base_uri": "https://localhost:8080/"
        },
        "id": "sTcxCPVux22d",
        "outputId": "dc14320a-6d0f-4504-994b-e06390443da2"
      },
      "source": [
        "mean = df['points'].mean()\n",
        "mean"
      ],
      "execution_count": 110,
      "outputs": [
        {
          "output_type": "execute_result",
          "data": {
            "text/plain": [
              "900.9499787499839"
            ]
          },
          "metadata": {},
          "execution_count": 110
        }
      ]
    },
    {
      "cell_type": "code",
      "metadata": {
        "colab": {
          "base_uri": "https://localhost:8080/"
        },
        "id": "gRbbNrVEzQVg",
        "outputId": "3a1d7c8e-cee4-4d3c-e8a2-9a48c46cb910"
      },
      "source": [
        "std = df['points'].std()\n",
        "std"
      ],
      "execution_count": 111,
      "outputs": [
        {
          "output_type": "execute_result",
          "data": {
            "text/plain": [
              "547.1329251780865"
            ]
          },
          "metadata": {},
          "execution_count": 111
        }
      ]
    },
    {
      "cell_type": "code",
      "metadata": {
        "colab": {
          "base_uri": "https://localhost:8080/"
        },
        "id": "S0PiHKvOzQSe",
        "outputId": "fd8f1215-7734-4c97-f32c-b3850991497a"
      },
      "source": [
        "cut_off = std*3\n",
        "lower, upper = mean - cut_off, mean + cut_off\n",
        "print(lower)\n",
        "print(upper)"
      ],
      "execution_count": 112,
      "outputs": [
        {
          "output_type": "stream",
          "name": "stdout",
          "text": [
            "-740.4487967842755\n",
            "2542.348754284243\n"
          ]
        }
      ]
    },
    {
      "cell_type": "code",
      "metadata": {
        "colab": {
          "base_uri": "https://localhost:8080/"
        },
        "id": "ureYwXqgzQFg",
        "outputId": "2f4ec251-d8a5-4339-dcaf-a82b6aad8ec9"
      },
      "source": [
        "outliers = [x for x in df['points'] if (x<lower) or (x>upper)]\n",
        "len(outliers)"
      ],
      "execution_count": 113,
      "outputs": [
        {
          "output_type": "execute_result",
          "data": {
            "text/plain": [
              "1045"
            ]
          },
          "metadata": {},
          "execution_count": 113
        }
      ]
    },
    {
      "cell_type": "code",
      "metadata": {
        "colab": {
          "base_uri": "https://localhost:8080/"
        },
        "id": "aJak6UWe6yLS",
        "outputId": "35001d87-da1f-45ea-b44b-f7e6285c0442"
      },
      "source": [
        "df_no_outlier = df.loc[(df['points'] > lower) & (df['points'] < upper)]\n",
        "df_no_outlier.shape"
      ],
      "execution_count": 114,
      "outputs": [
        {
          "output_type": "execute_result",
          "data": {
            "text/plain": [
              "(154249, 16)"
            ]
          },
          "metadata": {},
          "execution_count": 114
        }
      ]
    },
    {
      "cell_type": "code",
      "metadata": {
        "colab": {
          "base_uri": "https://localhost:8080/"
        },
        "id": "PRcXW8ML7bmc",
        "outputId": "ed608501-4109-481d-b532-0898981e79f2"
      },
      "source": [
        "df = df_no_outlier.copy()\n",
        "df.shape"
      ],
      "execution_count": 115,
      "outputs": [
        {
          "output_type": "execute_result",
          "data": {
            "text/plain": [
              "(154249, 16)"
            ]
          },
          "metadata": {},
          "execution_count": 115
        }
      ]
    },
    {
      "cell_type": "markdown",
      "metadata": {
        "id": "6QKONOnNzdwM"
      },
      "source": [
        "# Plots"
      ]
    },
    {
      "cell_type": "code",
      "metadata": {
        "id": "w0m11rrmTNw5",
        "colab": {
          "base_uri": "https://localhost:8080/",
          "height": 478
        },
        "outputId": "9e43ab8e-f1bb-435a-ea1f-793c480a660a"
      },
      "source": [
        "plt.figure(figsize=(10, 6))\n",
        "sns.countplot(df['level_type'])\n",
        "plt.yscale(\"log\")\n",
        "plt.title('Most problem levels')"
      ],
      "execution_count": 116,
      "outputs": [
        {
          "output_type": "stream",
          "name": "stderr",
          "text": [
            "/usr/local/lib/python3.7/dist-packages/seaborn/_decorators.py:43: FutureWarning: Pass the following variable as a keyword arg: x. From version 0.12, the only valid positional argument will be `data`, and passing other arguments without an explicit keyword will result in an error or misinterpretation.\n",
            "  FutureWarning\n"
          ]
        },
        {
          "output_type": "execute_result",
          "data": {
            "text/plain": [
              "Text(0.5, 1.0, 'Most problem levels')"
            ]
          },
          "metadata": {},
          "execution_count": 116
        },
        {
          "output_type": "display_data",
          "data": {
            "image/png": "[encoded data removed]",
            "text/plain": [
              "<Figure size 720x432 with 1 Axes>"
            ]
          },
          "metadata": {
            "needs_background": "light"
          }
        }
      ]
    },
    {
      "cell_type": "code",
      "metadata": {
        "id": "JZ8uWkIXMHyo",
        "colab": {
          "base_uri": "https://localhost:8080/",
          "height": 223
        },
        "outputId": "6ac36b97-0418-4a58-c651-66afa40d5029"
      },
      "source": [
        "level_type_df = df.groupby('level_type').sum().reset_index().sort_values(by='problem_solved', ascending=False)\n",
        "level_type_df.head()"
      ],
      "execution_count": 117,
      "outputs": [
        {
          "output_type": "execute_result",
          "data": {
            "text/html": [
              "<div>\n",
              "<style scoped>\n",
              "    .dataframe tbody tr th:only-of-type {\n",
              "        vertical-align: middle;\n",
              "    }\n",
              "\n",
              "    .dataframe tbody tr th {\n",
              "        vertical-align: top;\n",
              "    }\n",
              "\n",
              "    .dataframe thead th {\n",
              "        text-align: right;\n",
              "    }\n",
              "</style>\n",
              "<table border=\"1\" class=\"dataframe\">\n",
              "  <thead>\n",
              "    <tr style=\"text-align: right;\">\n",
              "      <th></th>\n",
              "      <th>level_type</th>\n",
              "      <th>attempts_range</th>\n",
              "      <th>points</th>\n",
              "      <th>submission_count</th>\n",
              "      <th>problem_solved</th>\n",
              "      <th>contribution</th>\n",
              "      <th>follower_count</th>\n",
              "      <th>last_online_time_seconds</th>\n",
              "      <th>max_rating</th>\n",
              "      <th>rating</th>\n",
              "      <th>registration_time_seconds</th>\n",
              "    </tr>\n",
              "  </thead>\n",
              "  <tbody>\n",
              "    <tr>\n",
              "      <th>0</th>\n",
              "      <td>A</td>\n",
              "      <td>92715</td>\n",
              "      <td>30220542.0</td>\n",
              "      <td>17040281</td>\n",
              "      <td>15147962</td>\n",
              "      <td>176244</td>\n",
              "      <td>2251119</td>\n",
              "      <td>90703216117036</td>\n",
              "      <td>2.263337e+07</td>\n",
              "      <td>1.982560e+07</td>\n",
              "      <td>86611971566494</td>\n",
              "    </tr>\n",
              "    <tr>\n",
              "      <th>1</th>\n",
              "      <td>B</td>\n",
              "      <td>71220</td>\n",
              "      <td>36621270.0</td>\n",
              "      <td>13510774</td>\n",
              "      <td>12118301</td>\n",
              "      <td>160676</td>\n",
              "      <td>1928531</td>\n",
              "      <td>60753125503284</td>\n",
              "      <td>1.592847e+07</td>\n",
              "      <td>1.439180e+07</td>\n",
              "      <td>57809257844686</td>\n",
              "    </tr>\n",
              "    <tr>\n",
              "      <th>2</th>\n",
              "      <td>C</td>\n",
              "      <td>50681</td>\n",
              "      <td>33646314.0</td>\n",
              "      <td>11112697</td>\n",
              "      <td>10098747</td>\n",
              "      <td>180666</td>\n",
              "      <td>1893861</td>\n",
              "      <td>38907498947141</td>\n",
              "      <td>1.111700e+07</td>\n",
              "      <td>1.030078e+07</td>\n",
              "      <td>36807821074263</td>\n",
              "    </tr>\n",
              "    <tr>\n",
              "      <th>3</th>\n",
              "      <td>D</td>\n",
              "      <td>27990</td>\n",
              "      <td>22458750.0</td>\n",
              "      <td>6995314</td>\n",
              "      <td>6416324</td>\n",
              "      <td>137839</td>\n",
              "      <td>1372379</td>\n",
              "      <td>20837921818744</td>\n",
              "      <td>6.406958e+06</td>\n",
              "      <td>5.988749e+06</td>\n",
              "      <td>19600078508795</td>\n",
              "    </tr>\n",
              "    <tr>\n",
              "      <th>4</th>\n",
              "      <td>E</td>\n",
              "      <td>12361</td>\n",
              "      <td>9441500.0</td>\n",
              "      <td>3387765</td>\n",
              "      <td>3125850</td>\n",
              "      <td>78801</td>\n",
              "      <td>786478</td>\n",
              "      <td>8660531144755</td>\n",
              "      <td>2.814973e+06</td>\n",
              "      <td>2.642168e+06</td>\n",
              "      <td>8108209437696</td>\n",
              "    </tr>\n",
              "  </tbody>\n",
              "</table>\n",
              "</div>"
            ],
            "text/plain": [
              "  level_type  attempts_range  ...        rating  registration_time_seconds\n",
              "0          A           92715  ...  1.982560e+07             86611971566494\n",
              "1          B           71220  ...  1.439180e+07             57809257844686\n",
              "2          C           50681  ...  1.030078e+07             36807821074263\n",
              "3          D           27990  ...  5.988749e+06             19600078508795\n",
              "4          E           12361  ...  2.642168e+06              8108209437696\n",
              "\n",
              "[5 rows x 11 columns]"
            ]
          },
          "metadata": {},
          "execution_count": 117
        }
      ]
    },
    {
      "cell_type": "code",
      "metadata": {
        "id": "g6sNIc-gQBbM",
        "colab": {
          "base_uri": "https://localhost:8080/",
          "height": 422
        },
        "outputId": "642b0a24-8285-434f-9979-80a3644068e3"
      },
      "source": [
        "plt.figure(figsize=(10, 6))\n",
        "sns.barplot(x=level_type_df['level_type'], y=level_type_df['problem_solved'])\n",
        "plt.yscale(\"log\")\n",
        "plt.title('Most solved problems')"
      ],
      "execution_count": 118,
      "outputs": [
        {
          "output_type": "execute_result",
          "data": {
            "text/plain": [
              "Text(0.5, 1.0, 'Most solved problems')"
            ]
          },
          "metadata": {},
          "execution_count": 118
        },
        {
          "output_type": "display_data",
          "data": {
            "image/png": "[encoded data removed]",
            "text/plain": [
              "<Figure size 720x432 with 1 Axes>"
            ]
          },
          "metadata": {
            "needs_background": "light"
          }
        }
      ]
    },
    {
      "cell_type": "code",
      "metadata": {
        "id": "k3JovxjOQNHL"
      },
      "source": [
        "tags = df.tags.str.split(',')"
      ],
      "execution_count": 119,
      "outputs": []
    },
    {
      "cell_type": "code",
      "metadata": {
        "id": "AbW1ErsnoLqi"
      },
      "source": [
        "tags.dropna(inplace=True)"
      ],
      "execution_count": 120,
      "outputs": []
    },
    {
      "cell_type": "code",
      "metadata": {
        "id": "VhKHe1ezoXVm"
      },
      "source": [
        "tag_list = tags.explode().to_list()"
      ],
      "execution_count": 121,
      "outputs": []
    },
    {
      "cell_type": "code",
      "metadata": {
        "id": "Jki6I7kssf4T",
        "colab": {
          "base_uri": "https://localhost:8080/"
        },
        "outputId": "95ab33fc-d875-4158-ffe5-3ba084cd5fb9"
      },
      "source": [
        "len(set(tag_list))"
      ],
      "execution_count": 122,
      "outputs": [
        {
          "output_type": "execute_result",
          "data": {
            "text/plain": [
              "36"
            ]
          },
          "metadata": {},
          "execution_count": 122
        }
      ]
    },
    {
      "cell_type": "code",
      "metadata": {
        "id": "yPlCrU0iodSa"
      },
      "source": [
        "def find_frequency(my_list):\n",
        "  d = {}\n",
        "  for item in my_list:\n",
        "    if item not in d:\n",
        "      d[item] = 1\n",
        "    else:\n",
        "      d[item] += 1\n",
        "  return d"
      ],
      "execution_count": 123,
      "outputs": []
    },
    {
      "cell_type": "code",
      "metadata": {
        "id": "G7hW8h_PseXj"
      },
      "source": [
        "tag_dict = find_frequency(tag_list)"
      ],
      "execution_count": 124,
      "outputs": []
    },
    {
      "cell_type": "code",
      "metadata": {
        "id": "--ooFuI1tb4s",
        "colab": {
          "base_uri": "https://localhost:8080/"
        },
        "outputId": "69935172-a5e9-4a71-e77d-dec67bcf6106"
      },
      "source": [
        "tag_dict"
      ],
      "execution_count": 125,
      "outputs": [
        {
          "output_type": "execute_result",
          "data": {
            "text/plain": [
              "{'*special': 875,\n",
              " '2-sat': 397,\n",
              " 'binary search': 11985,\n",
              " 'bitmasks': 2402,\n",
              " 'brute force': 26814,\n",
              " 'chinese remainder theorem': 65,\n",
              " 'combinatorics': 2820,\n",
              " 'constructive algorithms': 17912,\n",
              " 'data structures': 13024,\n",
              " 'dfs and similar': 10869,\n",
              " 'divide and conquer': 1301,\n",
              " 'dp': 16264,\n",
              " 'dsu': 3079,\n",
              " 'expression parsing': 484,\n",
              " 'fft': 110,\n",
              " 'flows': 334,\n",
              " 'games': 2597,\n",
              " 'geometry': 4013,\n",
              " 'graph matchings': 774,\n",
              " 'graphs': 5943,\n",
              " 'greedy': 27458,\n",
              " 'hashing': 1639,\n",
              " 'implementation': 76759,\n",
              " 'math': 32230,\n",
              " 'matrices': 488,\n",
              " 'meet-in-the-middle': 235,\n",
              " 'number theory': 7739,\n",
              " 'probabilities': 1417,\n",
              " 'schedules': 80,\n",
              " 'shortest paths': 1798,\n",
              " 'sortings': 14826,\n",
              " 'string suffix structures': 378,\n",
              " 'strings': 10424,\n",
              " 'ternary search': 443,\n",
              " 'trees': 5013,\n",
              " 'two pointers': 4385}"
            ]
          },
          "metadata": {},
          "execution_count": 125
        }
      ]
    },
    {
      "cell_type": "code",
      "metadata": {
        "id": "U3vjJ1dutlcs",
        "colab": {
          "base_uri": "https://localhost:8080/",
          "height": 203
        },
        "outputId": "6587e9fb-6cae-4668-cd76-1509329385ae"
      },
      "source": [
        "tag_df = pd.DataFrame(tag_dict.items(), columns=['tag', 'count'])\n",
        "tag_df.head()"
      ],
      "execution_count": 126,
      "outputs": [
        {
          "output_type": "execute_result",
          "data": {
            "text/html": [
              "<div>\n",
              "<style scoped>\n",
              "    .dataframe tbody tr th:only-of-type {\n",
              "        vertical-align: middle;\n",
              "    }\n",
              "\n",
              "    .dataframe tbody tr th {\n",
              "        vertical-align: top;\n",
              "    }\n",
              "\n",
              "    .dataframe thead th {\n",
              "        text-align: right;\n",
              "    }\n",
              "</style>\n",
              "<table border=\"1\" class=\"dataframe\">\n",
              "  <thead>\n",
              "    <tr style=\"text-align: right;\">\n",
              "      <th></th>\n",
              "      <th>tag</th>\n",
              "      <th>count</th>\n",
              "    </tr>\n",
              "  </thead>\n",
              "  <tbody>\n",
              "    <tr>\n",
              "      <th>0</th>\n",
              "      <td>strings</td>\n",
              "      <td>10424</td>\n",
              "    </tr>\n",
              "    <tr>\n",
              "      <th>1</th>\n",
              "      <td>implementation</td>\n",
              "      <td>76759</td>\n",
              "    </tr>\n",
              "    <tr>\n",
              "      <th>2</th>\n",
              "      <td>brute force</td>\n",
              "      <td>26814</td>\n",
              "    </tr>\n",
              "    <tr>\n",
              "      <th>3</th>\n",
              "      <td>greedy</td>\n",
              "      <td>27458</td>\n",
              "    </tr>\n",
              "    <tr>\n",
              "      <th>4</th>\n",
              "      <td>sortings</td>\n",
              "      <td>14826</td>\n",
              "    </tr>\n",
              "  </tbody>\n",
              "</table>\n",
              "</div>"
            ],
            "text/plain": [
              "              tag  count\n",
              "0         strings  10424\n",
              "1  implementation  76759\n",
              "2     brute force  26814\n",
              "3          greedy  27458\n",
              "4        sortings  14826"
            ]
          },
          "metadata": {},
          "execution_count": 126
        }
      ]
    },
    {
      "cell_type": "code",
      "metadata": {
        "id": "t46po2OStxDz",
        "colab": {
          "base_uri": "https://localhost:8080/",
          "height": 357
        },
        "outputId": "e9a53db6-8973-4e5c-876e-83bde468410c"
      },
      "source": [
        "tag_df.sort_values(by='count', ascending=False, inplace=True)\n",
        "tag_df.head(10)"
      ],
      "execution_count": 127,
      "outputs": [
        {
          "output_type": "execute_result",
          "data": {
            "text/html": [
              "<div>\n",
              "<style scoped>\n",
              "    .dataframe tbody tr th:only-of-type {\n",
              "        vertical-align: middle;\n",
              "    }\n",
              "\n",
              "    .dataframe tbody tr th {\n",
              "        vertical-align: top;\n",
              "    }\n",
              "\n",
              "    .dataframe thead th {\n",
              "        text-align: right;\n",
              "    }\n",
              "</style>\n",
              "<table border=\"1\" class=\"dataframe\">\n",
              "  <thead>\n",
              "    <tr style=\"text-align: right;\">\n",
              "      <th></th>\n",
              "      <th>tag</th>\n",
              "      <th>count</th>\n",
              "    </tr>\n",
              "  </thead>\n",
              "  <tbody>\n",
              "    <tr>\n",
              "      <th>1</th>\n",
              "      <td>implementation</td>\n",
              "      <td>76759</td>\n",
              "    </tr>\n",
              "    <tr>\n",
              "      <th>6</th>\n",
              "      <td>math</td>\n",
              "      <td>32230</td>\n",
              "    </tr>\n",
              "    <tr>\n",
              "      <th>3</th>\n",
              "      <td>greedy</td>\n",
              "      <td>27458</td>\n",
              "    </tr>\n",
              "    <tr>\n",
              "      <th>2</th>\n",
              "      <td>brute force</td>\n",
              "      <td>26814</td>\n",
              "    </tr>\n",
              "    <tr>\n",
              "      <th>5</th>\n",
              "      <td>constructive algorithms</td>\n",
              "      <td>17912</td>\n",
              "    </tr>\n",
              "    <tr>\n",
              "      <th>8</th>\n",
              "      <td>dp</td>\n",
              "      <td>16264</td>\n",
              "    </tr>\n",
              "    <tr>\n",
              "      <th>4</th>\n",
              "      <td>sortings</td>\n",
              "      <td>14826</td>\n",
              "    </tr>\n",
              "    <tr>\n",
              "      <th>10</th>\n",
              "      <td>data structures</td>\n",
              "      <td>13024</td>\n",
              "    </tr>\n",
              "    <tr>\n",
              "      <th>16</th>\n",
              "      <td>binary search</td>\n",
              "      <td>11985</td>\n",
              "    </tr>\n",
              "    <tr>\n",
              "      <th>7</th>\n",
              "      <td>dfs and similar</td>\n",
              "      <td>10869</td>\n",
              "    </tr>\n",
              "  </tbody>\n",
              "</table>\n",
              "</div>"
            ],
            "text/plain": [
              "                        tag  count\n",
              "1            implementation  76759\n",
              "6                      math  32230\n",
              "3                    greedy  27458\n",
              "2               brute force  26814\n",
              "5   constructive algorithms  17912\n",
              "8                        dp  16264\n",
              "4                  sortings  14826\n",
              "10          data structures  13024\n",
              "16            binary search  11985\n",
              "7           dfs and similar  10869"
            ]
          },
          "metadata": {},
          "execution_count": 127
        }
      ]
    },
    {
      "cell_type": "code",
      "metadata": {
        "id": "YX9ao9W-utY_",
        "colab": {
          "base_uri": "https://localhost:8080/",
          "height": 470
        },
        "outputId": "f591e73a-2e96-4407-b3af-e73b85ba0d83"
      },
      "source": [
        "plt.figure(figsize=(13, 6))\n",
        "sns.barplot(x=tag_df['tag'].head(12), y=tag_df['count'].head(12))\n",
        "plt.xticks(rotation=45)\n",
        "plt.show()"
      ],
      "execution_count": 128,
      "outputs": [
        {
          "output_type": "display_data",
          "data": {
            "image/png": "[encoded data removed]",
            "text/plain": [
              "<Figure size 936x432 with 1 Axes>"
            ]
          },
          "metadata": {
            "needs_background": "light"
          }
        }
      ]
    },
    {
      "cell_type": "code",
      "metadata": {
        "id": "qFA-IrgZvNdK",
        "colab": {
          "base_uri": "https://localhost:8080/",
          "height": 389
        },
        "outputId": "f26ae66a-05a6-41a6-a76c-301522d99976"
      },
      "source": [
        "plt.figure(figsize=(10, 6))\n",
        "sns.scatterplot(x=df['problem_solved'], y=df['max_rating'], hue=df['rank'], style=df['rank'], s=80)\n",
        "plt.show()"
      ],
      "execution_count": 129,
      "outputs": [
        {
          "output_type": "display_data",
          "data": {
            "image/png": "[encoded data removed]",
            "text/plain": [
              "<Figure size 720x432 with 1 Axes>"
            ]
          },
          "metadata": {
            "needs_background": "light"
          }
        }
      ]
    },
    {
      "cell_type": "code",
      "metadata": {
        "id": "7KzLQZb2z5G4",
        "colab": {
          "base_uri": "https://localhost:8080/"
        },
        "outputId": "32f66882-cfd3-436c-e90e-6667628c78d2"
      },
      "source": [
        "df['rank'].unique()"
      ],
      "execution_count": 130,
      "outputs": [
        {
          "output_type": "execute_result",
          "data": {
            "text/plain": [
              "array(['beginner', 'intermediate', 'advanced', 'expert'], dtype=object)"
            ]
          },
          "metadata": {},
          "execution_count": 130
        }
      ]
    },
    {
      "cell_type": "code",
      "metadata": {
        "id": "LBFk3ftUxvmA",
        "colab": {
          "base_uri": "https://localhost:8080/",
          "height": 223
        },
        "outputId": "9306ffe6-649c-4827-f390-00d3bd83aae9"
      },
      "source": [
        "user_df = df[df['user_id'] == 'user_233']\n",
        "user_df.head()"
      ],
      "execution_count": 131,
      "outputs": [
        {
          "output_type": "execute_result",
          "data": {
            "text/html": [
              "<div>\n",
              "<style scoped>\n",
              "    .dataframe tbody tr th:only-of-type {\n",
              "        vertical-align: middle;\n",
              "    }\n",
              "\n",
              "    .dataframe tbody tr th {\n",
              "        vertical-align: top;\n",
              "    }\n",
              "\n",
              "    .dataframe thead th {\n",
              "        text-align: right;\n",
              "    }\n",
              "</style>\n",
              "<table border=\"1\" class=\"dataframe\">\n",
              "  <thead>\n",
              "    <tr style=\"text-align: right;\">\n",
              "      <th></th>\n",
              "      <th>user_id</th>\n",
              "      <th>problem_id</th>\n",
              "      <th>attempts_range</th>\n",
              "      <th>level_type</th>\n",
              "      <th>points</th>\n",
              "      <th>tags</th>\n",
              "      <th>submission_count</th>\n",
              "      <th>problem_solved</th>\n",
              "      <th>contribution</th>\n",
              "      <th>country</th>\n",
              "      <th>follower_count</th>\n",
              "      <th>last_online_time_seconds</th>\n",
              "      <th>max_rating</th>\n",
              "      <th>rating</th>\n",
              "      <th>rank</th>\n",
              "      <th>registration_time_seconds</th>\n",
              "    </tr>\n",
              "  </thead>\n",
              "  <tbody>\n",
              "    <tr>\n",
              "      <th>43846</th>\n",
              "      <td>user_233</td>\n",
              "      <td>prob_5071</td>\n",
              "      <td>1</td>\n",
              "      <td>A</td>\n",
              "      <td>500.0</td>\n",
              "      <td>implementation</td>\n",
              "      <td>87</td>\n",
              "      <td>64</td>\n",
              "      <td>0</td>\n",
              "      <td>India</td>\n",
              "      <td>3</td>\n",
              "      <td>1505190272</td>\n",
              "      <td>321.101</td>\n",
              "      <td>255.734</td>\n",
              "      <td>beginner</td>\n",
              "      <td>1300288967</td>\n",
              "    </tr>\n",
              "    <tr>\n",
              "      <th>43847</th>\n",
              "      <td>user_233</td>\n",
              "      <td>prob_2605</td>\n",
              "      <td>1</td>\n",
              "      <td>A</td>\n",
              "      <td>500.0</td>\n",
              "      <td>brute force,graphs,math</td>\n",
              "      <td>87</td>\n",
              "      <td>64</td>\n",
              "      <td>0</td>\n",
              "      <td>India</td>\n",
              "      <td>3</td>\n",
              "      <td>1505190272</td>\n",
              "      <td>321.101</td>\n",
              "      <td>255.734</td>\n",
              "      <td>beginner</td>\n",
              "      <td>1300288967</td>\n",
              "    </tr>\n",
              "    <tr>\n",
              "      <th>43848</th>\n",
              "      <td>user_233</td>\n",
              "      <td>prob_2624</td>\n",
              "      <td>1</td>\n",
              "      <td>A</td>\n",
              "      <td>500.0</td>\n",
              "      <td>implementation</td>\n",
              "      <td>87</td>\n",
              "      <td>64</td>\n",
              "      <td>0</td>\n",
              "      <td>India</td>\n",
              "      <td>3</td>\n",
              "      <td>1505190272</td>\n",
              "      <td>321.101</td>\n",
              "      <td>255.734</td>\n",
              "      <td>beginner</td>\n",
              "      <td>1300288967</td>\n",
              "    </tr>\n",
              "    <tr>\n",
              "      <th>43849</th>\n",
              "      <td>user_233</td>\n",
              "      <td>prob_3465</td>\n",
              "      <td>2</td>\n",
              "      <td>A</td>\n",
              "      <td>500.0</td>\n",
              "      <td>implementation,sortings,strings</td>\n",
              "      <td>87</td>\n",
              "      <td>64</td>\n",
              "      <td>0</td>\n",
              "      <td>India</td>\n",
              "      <td>3</td>\n",
              "      <td>1505190272</td>\n",
              "      <td>321.101</td>\n",
              "      <td>255.734</td>\n",
              "      <td>beginner</td>\n",
              "      <td>1300288967</td>\n",
              "    </tr>\n",
              "    <tr>\n",
              "      <th>43850</th>\n",
              "      <td>user_233</td>\n",
              "      <td>prob_5781</td>\n",
              "      <td>1</td>\n",
              "      <td>A</td>\n",
              "      <td>500.0</td>\n",
              "      <td>implementation,math</td>\n",
              "      <td>87</td>\n",
              "      <td>64</td>\n",
              "      <td>0</td>\n",
              "      <td>India</td>\n",
              "      <td>3</td>\n",
              "      <td>1505190272</td>\n",
              "      <td>321.101</td>\n",
              "      <td>255.734</td>\n",
              "      <td>beginner</td>\n",
              "      <td>1300288967</td>\n",
              "    </tr>\n",
              "  </tbody>\n",
              "</table>\n",
              "</div>"
            ],
            "text/plain": [
              "        user_id problem_id  ...      rank registration_time_seconds\n",
              "43846  user_233  prob_5071  ...  beginner                1300288967\n",
              "43847  user_233  prob_2605  ...  beginner                1300288967\n",
              "43848  user_233  prob_2624  ...  beginner                1300288967\n",
              "43849  user_233  prob_3465  ...  beginner                1300288967\n",
              "43850  user_233  prob_5781  ...  beginner                1300288967\n",
              "\n",
              "[5 rows x 16 columns]"
            ]
          },
          "metadata": {},
          "execution_count": 131
        }
      ]
    },
    {
      "cell_type": "code",
      "metadata": {
        "id": "3Lyce0gQ14Gn"
      },
      "source": [
        "x_values = np.arange(0, user_df.shape[0])"
      ],
      "execution_count": 132,
      "outputs": []
    },
    {
      "cell_type": "code",
      "metadata": {
        "id": "2z7XjG6HzTtg",
        "colab": {
          "base_uri": "https://localhost:8080/",
          "height": 392
        },
        "outputId": "94a1e47f-6f9d-4d59-e6bc-b7748adf6f99"
      },
      "source": [
        "plt.figure(figsize=(10, 6))\n",
        "sns.lineplot(x=x_values, y=user_df['points'], style=user_df['rating'])"
      ],
      "execution_count": 133,
      "outputs": [
        {
          "output_type": "execute_result",
          "data": {
            "text/plain": [
              "<matplotlib.axes._subplots.AxesSubplot at 0x7fa837cd1a10>"
            ]
          },
          "metadata": {},
          "execution_count": 133
        },
        {
          "output_type": "display_data",
          "data": {
            "image/png": "[encoded data removed]",
            "text/plain": [
              "<Figure size 720x432 with 1 Axes>"
            ]
          },
          "metadata": {
            "needs_background": "light"
          }
        }
      ]
    },
    {
      "cell_type": "code",
      "metadata": {
        "id": "99u_Vfl59ma7"
      },
      "source": [
        "users_df = df['country'].value_counts().head(10)"
      ],
      "execution_count": 134,
      "outputs": []
    },
    {
      "cell_type": "code",
      "metadata": {
        "id": "w0V9rODO72KI",
        "colab": {
          "base_uri": "https://localhost:8080/",
          "height": 591
        },
        "outputId": "038a969d-0ec5-49f9-9ec0-d41a2098eb8b"
      },
      "source": [
        "plt.figure(figsize=(10, 10))\n",
        "plt.title('Country with most users')\n",
        "users_df.plot.pie(y=df.values, autopct='%1.1f%%', textprops={'fontsize': 12})\n",
        "plt.show()"
      ],
      "execution_count": 135,
      "outputs": [
        {
          "output_type": "display_data",
          "data": {
            "image/png": "[encoded data removed]",
            "text/plain": [
              "<Figure size 720x720 with 1 Axes>"
            ]
          },
          "metadata": {}
        }
      ]
    },
    {
      "cell_type": "code",
      "metadata": {
        "id": "celY6TXR4VS3"
      },
      "source": [
        "expert_df = df[df['rank']=='expert']"
      ],
      "execution_count": 136,
      "outputs": []
    },
    {
      "cell_type": "code",
      "metadata": {
        "id": "ON8ReU266zUM",
        "colab": {
          "base_uri": "https://localhost:8080/"
        },
        "outputId": "6dc9acb6-63aa-40f4-9949-08ee72901f96"
      },
      "source": [
        "expert_df['country'].value_counts()"
      ],
      "execution_count": 137,
      "outputs": [
        {
          "output_type": "execute_result",
          "data": {
            "text/plain": [
              "Russia         2156\n",
              "China           467\n",
              "Ukraine         345\n",
              "India           343\n",
              "Taiwan          329\n",
              "Poland          314\n",
              "Japan           211\n",
              "South Korea     128\n",
              "Belarus         108\n",
              "Lithuania       100\n",
              "Iran             93\n",
              "Philippines      78\n",
              "Romania          68\n",
              "Kazakhstan       62\n",
              "Croatia          52\n",
              "Finland          49\n",
              "Vietnam          48\n",
              "Malaysia         44\n",
              "Canada           44\n",
              "Name: country, dtype: int64"
            ]
          },
          "metadata": {},
          "execution_count": 137
        }
      ]
    },
    {
      "cell_type": "code",
      "metadata": {
        "id": "zS-HuodF7TZ9"
      },
      "source": [
        "exp_values = expert_df['country'].value_counts().head(10)"
      ],
      "execution_count": 138,
      "outputs": []
    },
    {
      "cell_type": "code",
      "metadata": {
        "id": "fIaXY8Or61kw",
        "colab": {
          "base_uri": "https://localhost:8080/",
          "height": 591
        },
        "outputId": "4ade029a-569e-46e1-faa6-48a2e6e0fdaf"
      },
      "source": [
        "plt.figure(figsize=(10,10))\n",
        "plt.title('Country with most experts')\n",
        "exp_values.plot.pie(y=exp_values.values, autopct='%1.1f%%', textprops={'fontsize': 14})\n",
        "plt.show()"
      ],
      "execution_count": 139,
      "outputs": [
        {
          "output_type": "display_data",
          "data": {
            "image/png": "[encoded data removed]",
            "text/plain": [
              "<Figure size 720x720 with 1 Axes>"
            ]
          },
          "metadata": {}
        }
      ]
    },
    {
      "cell_type": "markdown",
      "metadata": {
        "id": "rZupUafqHW60"
      },
      "source": [
        "**Label Encoding**"
      ]
    },
    {
      "cell_type": "code",
      "metadata": {
        "colab": {
          "base_uri": "https://localhost:8080/"
        },
        "id": "aY8B2_bqJxGn",
        "outputId": "dd9dd071-023e-4c4c-a11e-f1966e59fd6c"
      },
      "source": [
        "df['level_type'].value_counts()"
      ],
      "execution_count": 140,
      "outputs": [
        {
          "output_type": "execute_result",
          "data": {
            "text/plain": [
              "A    60336\n",
              "B    40406\n",
              "C    25869\n",
              "D    13854\n",
              "E     5757\n",
              "F     1896\n",
              "G     1454\n",
              "H     1183\n",
              "J     1015\n",
              "I      955\n",
              "K      759\n",
              "L      480\n",
              "M      227\n",
              "N       58\n",
              "Name: level_type, dtype: int64"
            ]
          },
          "metadata": {},
          "execution_count": 140
        }
      ]
    },
    {
      "cell_type": "code",
      "metadata": {
        "colab": {
          "base_uri": "https://localhost:8080/",
          "height": 203
        },
        "id": "s34Qm9wAHhb1",
        "outputId": "7f18b044-2ffa-4373-ca9e-79544bd64853"
      },
      "source": [
        "label_encoder = preprocessing.LabelEncoder()\n",
        "df['level_type']= label_encoder.fit_transform(df['level_type'])\n",
        "df[['level_type']].head()"
      ],
      "execution_count": 141,
      "outputs": [
        {
          "output_type": "execute_result",
          "data": {
            "text/html": [
              "<div>\n",
              "<style scoped>\n",
              "    .dataframe tbody tr th:only-of-type {\n",
              "        vertical-align: middle;\n",
              "    }\n",
              "\n",
              "    .dataframe tbody tr th {\n",
              "        vertical-align: top;\n",
              "    }\n",
              "\n",
              "    .dataframe thead th {\n",
              "        text-align: right;\n",
              "    }\n",
              "</style>\n",
              "<table border=\"1\" class=\"dataframe\">\n",
              "  <thead>\n",
              "    <tr style=\"text-align: right;\">\n",
              "      <th></th>\n",
              "      <th>level_type</th>\n",
              "    </tr>\n",
              "  </thead>\n",
              "  <tbody>\n",
              "    <tr>\n",
              "      <th>0</th>\n",
              "      <td>1</td>\n",
              "    </tr>\n",
              "    <tr>\n",
              "      <th>1</th>\n",
              "      <td>0</td>\n",
              "    </tr>\n",
              "    <tr>\n",
              "      <th>2</th>\n",
              "      <td>0</td>\n",
              "    </tr>\n",
              "    <tr>\n",
              "      <th>3</th>\n",
              "      <td>2</td>\n",
              "    </tr>\n",
              "    <tr>\n",
              "      <th>4</th>\n",
              "      <td>0</td>\n",
              "    </tr>\n",
              "  </tbody>\n",
              "</table>\n",
              "</div>"
            ],
            "text/plain": [
              "   level_type\n",
              "0           1\n",
              "1           0\n",
              "2           0\n",
              "3           2\n",
              "4           0"
            ]
          },
          "metadata": {},
          "execution_count": 141
        }
      ]
    },
    {
      "cell_type": "code",
      "metadata": {
        "colab": {
          "base_uri": "https://localhost:8080/",
          "height": 203
        },
        "id": "PH12JkcCJWVz",
        "outputId": "39e634ff-318c-4dfa-8256-e2af044ef76e"
      },
      "source": [
        "df[['level_type']].tail()"
      ],
      "execution_count": 142,
      "outputs": [
        {
          "output_type": "execute_result",
          "data": {
            "text/html": [
              "<div>\n",
              "<style scoped>\n",
              "    .dataframe tbody tr th:only-of-type {\n",
              "        vertical-align: middle;\n",
              "    }\n",
              "\n",
              "    .dataframe tbody tr th {\n",
              "        vertical-align: top;\n",
              "    }\n",
              "\n",
              "    .dataframe thead th {\n",
              "        text-align: right;\n",
              "    }\n",
              "</style>\n",
              "<table border=\"1\" class=\"dataframe\">\n",
              "  <thead>\n",
              "    <tr style=\"text-align: right;\">\n",
              "      <th></th>\n",
              "      <th>level_type</th>\n",
              "    </tr>\n",
              "  </thead>\n",
              "  <tbody>\n",
              "    <tr>\n",
              "      <th>155290</th>\n",
              "      <td>1</td>\n",
              "    </tr>\n",
              "    <tr>\n",
              "      <th>155291</th>\n",
              "      <td>8</td>\n",
              "    </tr>\n",
              "    <tr>\n",
              "      <th>155292</th>\n",
              "      <td>4</td>\n",
              "    </tr>\n",
              "    <tr>\n",
              "      <th>155293</th>\n",
              "      <td>2</td>\n",
              "    </tr>\n",
              "    <tr>\n",
              "      <th>155294</th>\n",
              "      <td>0</td>\n",
              "    </tr>\n",
              "  </tbody>\n",
              "</table>\n",
              "</div>"
            ],
            "text/plain": [
              "        level_type\n",
              "155290           1\n",
              "155291           8\n",
              "155292           4\n",
              "155293           2\n",
              "155294           0"
            ]
          },
          "metadata": {},
          "execution_count": 142
        }
      ]
    },
    {
      "cell_type": "markdown",
      "metadata": {
        "id": "wrvprh1pJaQx"
      },
      "source": [
        "**One-Hot Encoding**"
      ]
    },
    {
      "cell_type": "code",
      "metadata": {
        "colab": {
          "base_uri": "https://localhost:8080/"
        },
        "id": "eXln-5ihGkdp",
        "outputId": "26d708ce-8433-45cd-c1cd-fcd53eee5365"
      },
      "source": [
        "df['rank'].value_counts()"
      ],
      "execution_count": 143,
      "outputs": [
        {
          "output_type": "execute_result",
          "data": {
            "text/plain": [
              "intermediate    66216\n",
              "beginner        53134\n",
              "advanced        29860\n",
              "expert           5039\n",
              "Name: rank, dtype: int64"
            ]
          },
          "metadata": {},
          "execution_count": 143
        }
      ]
    },
    {
      "cell_type": "code",
      "metadata": {
        "colab": {
          "base_uri": "https://localhost:8080/",
          "height": 203
        },
        "id": "6ADdq-78HNn9",
        "outputId": "dadc0cb5-ffb1-4ae2-d98b-b602193e659d"
      },
      "source": [
        "df = pd.get_dummies(df, columns=['rank'], prefix='Rank')\n",
        "df.iloc[:,15:].head()"
      ],
      "execution_count": 144,
      "outputs": [
        {
          "output_type": "execute_result",
          "data": {
            "text/html": [
              "<div>\n",
              "<style scoped>\n",
              "    .dataframe tbody tr th:only-of-type {\n",
              "        vertical-align: middle;\n",
              "    }\n",
              "\n",
              "    .dataframe tbody tr th {\n",
              "        vertical-align: top;\n",
              "    }\n",
              "\n",
              "    .dataframe thead th {\n",
              "        text-align: right;\n",
              "    }\n",
              "</style>\n",
              "<table border=\"1\" class=\"dataframe\">\n",
              "  <thead>\n",
              "    <tr style=\"text-align: right;\">\n",
              "      <th></th>\n",
              "      <th>Rank_advanced</th>\n",
              "      <th>Rank_beginner</th>\n",
              "      <th>Rank_expert</th>\n",
              "      <th>Rank_intermediate</th>\n",
              "    </tr>\n",
              "  </thead>\n",
              "  <tbody>\n",
              "    <tr>\n",
              "      <th>0</th>\n",
              "      <td>0</td>\n",
              "      <td>1</td>\n",
              "      <td>0</td>\n",
              "      <td>0</td>\n",
              "    </tr>\n",
              "    <tr>\n",
              "      <th>1</th>\n",
              "      <td>0</td>\n",
              "      <td>1</td>\n",
              "      <td>0</td>\n",
              "      <td>0</td>\n",
              "    </tr>\n",
              "    <tr>\n",
              "      <th>2</th>\n",
              "      <td>0</td>\n",
              "      <td>1</td>\n",
              "      <td>0</td>\n",
              "      <td>0</td>\n",
              "    </tr>\n",
              "    <tr>\n",
              "      <th>3</th>\n",
              "      <td>0</td>\n",
              "      <td>1</td>\n",
              "      <td>0</td>\n",
              "      <td>0</td>\n",
              "    </tr>\n",
              "    <tr>\n",
              "      <th>4</th>\n",
              "      <td>0</td>\n",
              "      <td>1</td>\n",
              "      <td>0</td>\n",
              "      <td>0</td>\n",
              "    </tr>\n",
              "  </tbody>\n",
              "</table>\n",
              "</div>"
            ],
            "text/plain": [
              "   Rank_advanced  Rank_beginner  Rank_expert  Rank_intermediate\n",
              "0              0              1            0                  0\n",
              "1              0              1            0                  0\n",
              "2              0              1            0                  0\n",
              "3              0              1            0                  0\n",
              "4              0              1            0                  0"
            ]
          },
          "metadata": {},
          "execution_count": 144
        }
      ]
    },
    {
      "cell_type": "code",
      "metadata": {
        "colab": {
          "base_uri": "https://localhost:8080/",
          "height": 203
        },
        "id": "CIdd2odmKlN-",
        "outputId": "9867ae2a-d2c9-4157-efac-50d7daba02fe"
      },
      "source": [
        "df.iloc[:,15:].tail()"
      ],
      "execution_count": 145,
      "outputs": [
        {
          "output_type": "execute_result",
          "data": {
            "text/html": [
              "<div>\n",
              "<style scoped>\n",
              "    .dataframe tbody tr th:only-of-type {\n",
              "        vertical-align: middle;\n",
              "    }\n",
              "\n",
              "    .dataframe tbody tr th {\n",
              "        vertical-align: top;\n",
              "    }\n",
              "\n",
              "    .dataframe thead th {\n",
              "        text-align: right;\n",
              "    }\n",
              "</style>\n",
              "<table border=\"1\" class=\"dataframe\">\n",
              "  <thead>\n",
              "    <tr style=\"text-align: right;\">\n",
              "      <th></th>\n",
              "      <th>Rank_advanced</th>\n",
              "      <th>Rank_beginner</th>\n",
              "      <th>Rank_expert</th>\n",
              "      <th>Rank_intermediate</th>\n",
              "    </tr>\n",
              "  </thead>\n",
              "  <tbody>\n",
              "    <tr>\n",
              "      <th>155290</th>\n",
              "      <td>0</td>\n",
              "      <td>1</td>\n",
              "      <td>0</td>\n",
              "      <td>0</td>\n",
              "    </tr>\n",
              "    <tr>\n",
              "      <th>155291</th>\n",
              "      <td>0</td>\n",
              "      <td>0</td>\n",
              "      <td>0</td>\n",
              "      <td>1</td>\n",
              "    </tr>\n",
              "    <tr>\n",
              "      <th>155292</th>\n",
              "      <td>0</td>\n",
              "      <td>0</td>\n",
              "      <td>0</td>\n",
              "      <td>1</td>\n",
              "    </tr>\n",
              "    <tr>\n",
              "      <th>155293</th>\n",
              "      <td>0</td>\n",
              "      <td>0</td>\n",
              "      <td>0</td>\n",
              "      <td>1</td>\n",
              "    </tr>\n",
              "    <tr>\n",
              "      <th>155294</th>\n",
              "      <td>0</td>\n",
              "      <td>0</td>\n",
              "      <td>0</td>\n",
              "      <td>1</td>\n",
              "    </tr>\n",
              "  </tbody>\n",
              "</table>\n",
              "</div>"
            ],
            "text/plain": [
              "        Rank_advanced  Rank_beginner  Rank_expert  Rank_intermediate\n",
              "155290              0              1            0                  0\n",
              "155291              0              0            0                  1\n",
              "155292              0              0            0                  1\n",
              "155293              0              0            0                  1\n",
              "155294              0              0            0                  1"
            ]
          },
          "metadata": {},
          "execution_count": 145
        }
      ]
    },
    {
      "cell_type": "code",
      "metadata": {
        "colab": {
          "base_uri": "https://localhost:8080/",
          "height": 203
        },
        "id": "r_6wj3M5ooDQ",
        "outputId": "520a5c99-2a8c-4f26-84fd-f7981570dfa5"
      },
      "source": [
        "df['registration_time'] = pd.to_datetime(df['registration_time_seconds'], unit='s')\n",
        "df[['registration_time']].tail()"
      ],
      "execution_count": 146,
      "outputs": [
        {
          "output_type": "execute_result",
          "data": {
            "text/html": [
              "<div>\n",
              "<style scoped>\n",
              "    .dataframe tbody tr th:only-of-type {\n",
              "        vertical-align: middle;\n",
              "    }\n",
              "\n",
              "    .dataframe tbody tr th {\n",
              "        vertical-align: top;\n",
              "    }\n",
              "\n",
              "    .dataframe thead th {\n",
              "        text-align: right;\n",
              "    }\n",
              "</style>\n",
              "<table border=\"1\" class=\"dataframe\">\n",
              "  <thead>\n",
              "    <tr style=\"text-align: right;\">\n",
              "      <th></th>\n",
              "      <th>registration_time</th>\n",
              "    </tr>\n",
              "  </thead>\n",
              "  <tbody>\n",
              "    <tr>\n",
              "      <th>155290</th>\n",
              "      <td>2015-03-20 00:29:29</td>\n",
              "    </tr>\n",
              "    <tr>\n",
              "      <th>155291</th>\n",
              "      <td>2010-02-01 18:05:37</td>\n",
              "    </tr>\n",
              "    <tr>\n",
              "      <th>155292</th>\n",
              "      <td>2010-02-01 18:05:37</td>\n",
              "    </tr>\n",
              "    <tr>\n",
              "      <th>155293</th>\n",
              "      <td>2010-02-01 18:05:37</td>\n",
              "    </tr>\n",
              "    <tr>\n",
              "      <th>155294</th>\n",
              "      <td>2017-01-12 15:08:06</td>\n",
              "    </tr>\n",
              "  </tbody>\n",
              "</table>\n",
              "</div>"
            ],
            "text/plain": [
              "         registration_time\n",
              "155290 2015-03-20 00:29:29\n",
              "155291 2010-02-01 18:05:37\n",
              "155292 2010-02-01 18:05:37\n",
              "155293 2010-02-01 18:05:37\n",
              "155294 2017-01-12 15:08:06"
            ]
          },
          "metadata": {},
          "execution_count": 146
        }
      ]
    },
    {
      "cell_type": "code",
      "metadata": {
        "id": "xENdE8XGM3OY",
        "colab": {
          "base_uri": "https://localhost:8080/",
          "height": 203
        },
        "outputId": "9286e030-d038-47da-9eaa-6f4f683042e7"
      },
      "source": [
        "df['last_online'] = pd.to_datetime(df['last_online_time_seconds'], unit='s')\n",
        "df[['last_online']].tail()"
      ],
      "execution_count": 147,
      "outputs": [
        {
          "output_type": "execute_result",
          "data": {
            "text/html": [
              "<div>\n",
              "<style scoped>\n",
              "    .dataframe tbody tr th:only-of-type {\n",
              "        vertical-align: middle;\n",
              "    }\n",
              "\n",
              "    .dataframe tbody tr th {\n",
              "        vertical-align: top;\n",
              "    }\n",
              "\n",
              "    .dataframe thead th {\n",
              "        text-align: right;\n",
              "    }\n",
              "</style>\n",
              "<table border=\"1\" class=\"dataframe\">\n",
              "  <thead>\n",
              "    <tr style=\"text-align: right;\">\n",
              "      <th></th>\n",
              "      <th>last_online</th>\n",
              "    </tr>\n",
              "  </thead>\n",
              "  <tbody>\n",
              "    <tr>\n",
              "      <th>155290</th>\n",
              "      <td>2017-08-15 13:56:29</td>\n",
              "    </tr>\n",
              "    <tr>\n",
              "      <th>155291</th>\n",
              "      <td>2017-01-12 19:45:34</td>\n",
              "    </tr>\n",
              "    <tr>\n",
              "      <th>155292</th>\n",
              "      <td>2017-01-12 19:45:34</td>\n",
              "    </tr>\n",
              "    <tr>\n",
              "      <th>155293</th>\n",
              "      <td>2017-01-12 19:45:34</td>\n",
              "    </tr>\n",
              "    <tr>\n",
              "      <th>155294</th>\n",
              "      <td>2017-09-10 18:57:24</td>\n",
              "    </tr>\n",
              "  </tbody>\n",
              "</table>\n",
              "</div>"
            ],
            "text/plain": [
              "               last_online\n",
              "155290 2017-08-15 13:56:29\n",
              "155291 2017-01-12 19:45:34\n",
              "155292 2017-01-12 19:45:34\n",
              "155293 2017-01-12 19:45:34\n",
              "155294 2017-09-10 18:57:24"
            ]
          },
          "metadata": {},
          "execution_count": 147
        }
      ]
    },
    {
      "cell_type": "code",
      "metadata": {
        "colab": {
          "base_uri": "https://localhost:8080/",
          "height": 324
        },
        "id": "G_1dSZsDpdmn",
        "outputId": "7421ab56-1925-46ea-9119-e35c7626d240"
      },
      "source": [
        "df.drop(columns=['last_online_time_seconds', 'registration_time_seconds'], axis=1, inplace=True)\n",
        "df.head()"
      ],
      "execution_count": 148,
      "outputs": [
        {
          "output_type": "execute_result",
          "data": {
            "text/html": [
              "<div>\n",
              "<style scoped>\n",
              "    .dataframe tbody tr th:only-of-type {\n",
              "        vertical-align: middle;\n",
              "    }\n",
              "\n",
              "    .dataframe tbody tr th {\n",
              "        vertical-align: top;\n",
              "    }\n",
              "\n",
              "    .dataframe thead th {\n",
              "        text-align: right;\n",
              "    }\n",
              "</style>\n",
              "<table border=\"1\" class=\"dataframe\">\n",
              "  <thead>\n",
              "    <tr style=\"text-align: right;\">\n",
              "      <th></th>\n",
              "      <th>user_id</th>\n",
              "      <th>problem_id</th>\n",
              "      <th>attempts_range</th>\n",
              "      <th>level_type</th>\n",
              "      <th>points</th>\n",
              "      <th>tags</th>\n",
              "      <th>submission_count</th>\n",
              "      <th>problem_solved</th>\n",
              "      <th>contribution</th>\n",
              "      <th>country</th>\n",
              "      <th>follower_count</th>\n",
              "      <th>max_rating</th>\n",
              "      <th>rating</th>\n",
              "      <th>Rank_advanced</th>\n",
              "      <th>Rank_beginner</th>\n",
              "      <th>Rank_expert</th>\n",
              "      <th>Rank_intermediate</th>\n",
              "      <th>registration_time</th>\n",
              "      <th>last_online</th>\n",
              "    </tr>\n",
              "  </thead>\n",
              "  <tbody>\n",
              "    <tr>\n",
              "      <th>0</th>\n",
              "      <td>user_232</td>\n",
              "      <td>prob_6507</td>\n",
              "      <td>1</td>\n",
              "      <td>1</td>\n",
              "      <td>1000.0</td>\n",
              "      <td>strings</td>\n",
              "      <td>53</td>\n",
              "      <td>47</td>\n",
              "      <td>0</td>\n",
              "      <td>Bangladesh</td>\n",
              "      <td>1</td>\n",
              "      <td>307.913</td>\n",
              "      <td>206.709</td>\n",
              "      <td>0</td>\n",
              "      <td>1</td>\n",
              "      <td>0</td>\n",
              "      <td>0</td>\n",
              "      <td>2015-05-20 08:35:35</td>\n",
              "      <td>2017-08-25 04:02:58</td>\n",
              "    </tr>\n",
              "    <tr>\n",
              "      <th>1</th>\n",
              "      <td>user_232</td>\n",
              "      <td>prob_5071</td>\n",
              "      <td>4</td>\n",
              "      <td>0</td>\n",
              "      <td>500.0</td>\n",
              "      <td>implementation</td>\n",
              "      <td>53</td>\n",
              "      <td>47</td>\n",
              "      <td>0</td>\n",
              "      <td>Bangladesh</td>\n",
              "      <td>1</td>\n",
              "      <td>307.913</td>\n",
              "      <td>206.709</td>\n",
              "      <td>0</td>\n",
              "      <td>1</td>\n",
              "      <td>0</td>\n",
              "      <td>0</td>\n",
              "      <td>2015-05-20 08:35:35</td>\n",
              "      <td>2017-08-25 04:02:58</td>\n",
              "    </tr>\n",
              "    <tr>\n",
              "      <th>2</th>\n",
              "      <td>user_232</td>\n",
              "      <td>prob_703</td>\n",
              "      <td>2</td>\n",
              "      <td>0</td>\n",
              "      <td>500.0</td>\n",
              "      <td>brute force,implementation</td>\n",
              "      <td>53</td>\n",
              "      <td>47</td>\n",
              "      <td>0</td>\n",
              "      <td>Bangladesh</td>\n",
              "      <td>1</td>\n",
              "      <td>307.913</td>\n",
              "      <td>206.709</td>\n",
              "      <td>0</td>\n",
              "      <td>1</td>\n",
              "      <td>0</td>\n",
              "      <td>0</td>\n",
              "      <td>2015-05-20 08:35:35</td>\n",
              "      <td>2017-08-25 04:02:58</td>\n",
              "    </tr>\n",
              "    <tr>\n",
              "      <th>3</th>\n",
              "      <td>user_232</td>\n",
              "      <td>prob_3935</td>\n",
              "      <td>1</td>\n",
              "      <td>2</td>\n",
              "      <td>1000.0</td>\n",
              "      <td>greedy,sortings</td>\n",
              "      <td>53</td>\n",
              "      <td>47</td>\n",
              "      <td>0</td>\n",
              "      <td>Bangladesh</td>\n",
              "      <td>1</td>\n",
              "      <td>307.913</td>\n",
              "      <td>206.709</td>\n",
              "      <td>0</td>\n",
              "      <td>1</td>\n",
              "      <td>0</td>\n",
              "      <td>0</td>\n",
              "      <td>2015-05-20 08:35:35</td>\n",
              "      <td>2017-08-25 04:02:58</td>\n",
              "    </tr>\n",
              "    <tr>\n",
              "      <th>4</th>\n",
              "      <td>user_232</td>\n",
              "      <td>prob_164</td>\n",
              "      <td>2</td>\n",
              "      <td>0</td>\n",
              "      <td>500.0</td>\n",
              "      <td>brute force,constructive algorithms,math</td>\n",
              "      <td>53</td>\n",
              "      <td>47</td>\n",
              "      <td>0</td>\n",
              "      <td>Bangladesh</td>\n",
              "      <td>1</td>\n",
              "      <td>307.913</td>\n",
              "      <td>206.709</td>\n",
              "      <td>0</td>\n",
              "      <td>1</td>\n",
              "      <td>0</td>\n",
              "      <td>0</td>\n",
              "      <td>2015-05-20 08:35:35</td>\n",
              "      <td>2017-08-25 04:02:58</td>\n",
              "    </tr>\n",
              "  </tbody>\n",
              "</table>\n",
              "</div>"
            ],
            "text/plain": [
              "    user_id problem_id  ...   registration_time         last_online\n",
              "0  user_232  prob_6507  ... 2015-05-20 08:35:35 2017-08-25 04:02:58\n",
              "1  user_232  prob_5071  ... 2015-05-20 08:35:35 2017-08-25 04:02:58\n",
              "2  user_232   prob_703  ... 2015-05-20 08:35:35 2017-08-25 04:02:58\n",
              "3  user_232  prob_3935  ... 2015-05-20 08:35:35 2017-08-25 04:02:58\n",
              "4  user_232   prob_164  ... 2015-05-20 08:35:35 2017-08-25 04:02:58\n",
              "\n",
              "[5 rows x 19 columns]"
            ]
          },
          "metadata": {},
          "execution_count": 148
        }
      ]
    },
    {
      "cell_type": "code",
      "metadata": {
        "colab": {
          "base_uri": "https://localhost:8080/"
        },
        "id": "VMUxZgWzpKlj",
        "outputId": "0a3f15e6-3020-4ed0-fcc1-eece77e5225f"
      },
      "source": [
        "df.dtypes"
      ],
      "execution_count": 149,
      "outputs": [
        {
          "output_type": "execute_result",
          "data": {
            "text/plain": [
              "user_id                      object\n",
              "problem_id                   object\n",
              "attempts_range                int64\n",
              "level_type                    int64\n",
              "points                      float64\n",
              "tags                         object\n",
              "submission_count              int64\n",
              "problem_solved                int64\n",
              "contribution                  int64\n",
              "country                      object\n",
              "follower_count                int64\n",
              "max_rating                  float64\n",
              "rating                      float64\n",
              "Rank_advanced                 uint8\n",
              "Rank_beginner                 uint8\n",
              "Rank_expert                   uint8\n",
              "Rank_intermediate             uint8\n",
              "registration_time    datetime64[ns]\n",
              "last_online          datetime64[ns]\n",
              "dtype: object"
            ]
          },
          "metadata": {},
          "execution_count": 149
        }
      ]
    }
  ]
}